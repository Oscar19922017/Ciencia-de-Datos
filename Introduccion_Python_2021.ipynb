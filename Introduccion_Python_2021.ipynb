{
  "nbformat": 4,
  "nbformat_minor": 0,
  "metadata": {
    "colab": {
      "name": "Introduccion_Python_2021.ipynb",
      "provenance": [],
      "collapsed_sections": [],
      "toc_visible": true,
      "mount_file_id": "1CxrmqCN5DUuPVqSGcLu3w_WTdcMmL1wo",
      "authorship_tag": "ABX9TyPHckD7yoxTr7hLmHATz5kU",
      "include_colab_link": true
    },
    "kernelspec": {
      "name": "python3",
      "display_name": "Python 3"
    },
    "accelerator": "TPU"
  },
  "cells": [
    {
      "cell_type": "markdown",
      "metadata": {
        "id": "view-in-github",
        "colab_type": "text"
      },
      "source": [
        "<a href=\"https://colab.research.google.com/github/Oscar19922017/Ciencia-de-Datos/blob/master/Introduccion_Python_2021.ipynb\" target=\"_parent\"><img src=\"https://colab.research.google.com/assets/colab-badge.svg\" alt=\"Open In Colab\"/></a>"
      ]
    },
    {
      "cell_type": "markdown",
      "metadata": {
        "id": "undPCPQAfW7H"
      },
      "source": [
        "# **Introducccion a Python** \r\n",
        "*Oscar Gaspar - Consultor de Analitica*\r\n",
        "\r\n",
        "\"Se trata de un lenguaje de programación de alto nivel multiparadigma, ya que soporta orientación a objetos, programación imperativa y, en menor medida, programación funcional. Es un lenguaje interpretado, dinámico y multiplataforma\"\r\n",
        "\r\n",
        "Este lenguaje fue creado a principios de los noventa por Guido van Rossum en los Países Bajos.\r\n",
        "\r\n",
        "El nombre del lenguaje proviene de la afición de su creador por los humoristas británicos Monty Python.\r\n",
        "\r\n",
        "Es administrado por la Python Software Foundation. Posee una licencia de código abierto, denominada Python Software Foundation License,3​ que es compatible con la Licencia pública general de GNU a partir de la versión 2.1.1"
      ]
    },
    {
      "cell_type": "markdown",
      "metadata": {
        "id": "tr-v3faFkMox"
      },
      "source": [
        "**Python para Ciencia de datos**\r\n",
        "Según lo revelado por los resultados de una encuesta realizada por Kaggle una plataforna de científicos de datos, Python es el más usado en cuanto a lenguaje de programación, seguido de SQL y R para el tema de ciencia de Datos\r\n",
        "\r\n",
        "* Numpy :NumPy es una biblioteca de Python muy popular para el procesamiento de matrices y matrices multidimensionales de gran tamaño\r\n",
        "\r\n",
        "* Scipy : SciPy es una biblioteca muy popular entre los entusiastas del aprendizaje automático, ya que contiene diferentes módulos para optimización, álgebra lineal, integración y estadísticas.\r\n",
        "\r\n",
        "* Scikit-learn : Skikit-learn es una de las bibliotecas ML más populares para algoritmos ML clásicos. Está construido sobre dos bibliotecas básicas de Python, a saber, NumPy y SciPy. Scikit-learn admite la mayoría de los algoritmos de aprendizaje supervisados ​​y no supervisados.\r\n",
        "\r\n",
        "* TensorFlow : TensorFlow es una biblioteca de código abierto muy popular para el cómputo numérico de alto rendimiento desarrollado por el equipo de Google Brain en Google. Como su nombre lo indica, Tensorflow es un marco que implica definir y ejecutar cálculos que involucran tensores. Puede entrenar y ejecutar redes neuronales profundas que pueden usarse para desarrollar varias aplicaciones de IA\r\n",
        "\r\n",
        "* Keras : Keras es una biblioteca de Machine Learning muy popular para Python. Es una API de redes neuronales de alto nivel capaz de ejecutarse sobre TensorFlow, CNTK o Theano. Se puede ejecutar sin problemas tanto en la CPU como en la GPU. Keras hace que sea realmente para principiantes de ML construir y diseñar una red neuronal.\r\n",
        "\r\n",
        "* PyTorch : PyTorch es una biblioteca de aprendizaje automático de código abierto popular para Python basada en Torch, que es una biblioteca de aprendizaje automático de código abierto que se implementa en C con un contenedor en Lua. Tiene una amplia selección de herramientas y bibliotecas que admite la visión por computadora, el procesamiento del lenguaje natural (PNL) y muchos más programas de ML. Permite a los desarrolladores realizar cálculos en tensores con aceleración de GPU y también ayuda a crear gráficos computacionales.\r\n",
        "\r\n",
        "* Pandas : Pandas es una biblioteca de Python popular para el análisis de datos. No está directamente relacionado con el aprendizaje automático. Como sabemos, el conjunto de datos debe estar preparado antes del entrenamiento.\r\n",
        "\r\n",
        "* Matplotlib : Matpoltlib es una biblioteca Python muy popular para la visualización de datos. Al igual que Pandas, no está directamente relacionado con el aprendizaje automático. Es particularmente útil cuando un programador quiere visualizar los patrones en los datos"
      ]
    },
    {
      "cell_type": "markdown",
      "metadata": {
        "id": "ypGL9E-KnFJb"
      },
      "source": [
        "**Intalar librerias**"
      ]
    },
    {
      "cell_type": "code",
      "metadata": {
        "id": "9avXUSHofksI"
      },
      "source": [
        "#Conda install numpy # Anaconda"
      ],
      "execution_count": 1,
      "outputs": []
    },
    {
      "cell_type": "markdown",
      "metadata": {
        "id": "KTkwY7lKncN6"
      },
      "source": [
        "**cargar librerias**"
      ]
    },
    {
      "cell_type": "code",
      "metadata": {
        "id": "y-gJTC7Snizi"
      },
      "source": [
        "# forma directa\r\n",
        "import numpy\r\n",
        "import pandas\r\n",
        "import sys\r\n",
        "import os"
      ],
      "execution_count": 2,
      "outputs": []
    },
    {
      "cell_type": "code",
      "metadata": {
        "id": "pd7TYtonnsvB"
      },
      "source": [
        "# con Alias es mas util\r\n",
        "import numpy as np\r\n",
        "import pandas as pd\r\n",
        "import matplotlib as mp"
      ],
      "execution_count": 3,
      "outputs": []
    },
    {
      "cell_type": "code",
      "metadata": {
        "id": "IOEQcpfQn9qp"
      },
      "source": [
        "# Importar un modeluo espefico\r\n",
        "import matplotlib.pyplot as plt"
      ],
      "execution_count": 4,
      "outputs": []
    },
    {
      "cell_type": "code",
      "metadata": {
        "id": "hP1o_v9xoZaR"
      },
      "source": [
        "# importar funciones\r\n",
        "from random import gauss"
      ],
      "execution_count": 5,
      "outputs": []
    },
    {
      "cell_type": "markdown",
      "metadata": {
        "id": "FA7SmA0Po_6e"
      },
      "source": [
        "**Calculadora**"
      ]
    },
    {
      "cell_type": "code",
      "metadata": {
        "colab": {
          "base_uri": "https://localhost:8080/"
        },
        "id": "SZPKzPEco1iI",
        "outputId": "ee7aa3cf-b01d-463e-8fdc-0bbd1e468ed6"
      },
      "source": [
        "6+5 # suma"
      ],
      "execution_count": 6,
      "outputs": [
        {
          "output_type": "execute_result",
          "data": {
            "text/plain": [
              "11"
            ]
          },
          "metadata": {
            "tags": []
          },
          "execution_count": 6
        }
      ]
    },
    {
      "cell_type": "code",
      "metadata": {
        "colab": {
          "base_uri": "https://localhost:8080/"
        },
        "id": "wJ-ZwYZypCFh",
        "outputId": "e49ba9ca-e124-4b3e-d2b7-1dec8cb749c1"
      },
      "source": [
        "12-8 # resta"
      ],
      "execution_count": 7,
      "outputs": [
        {
          "output_type": "execute_result",
          "data": {
            "text/plain": [
              "4"
            ]
          },
          "metadata": {
            "tags": []
          },
          "execution_count": 7
        }
      ]
    },
    {
      "cell_type": "code",
      "metadata": {
        "colab": {
          "base_uri": "https://localhost:8080/"
        },
        "id": "1CzI318EpC2h",
        "outputId": "10d41821-8450-439f-cd39-c7f9392caa34"
      },
      "source": [
        "8**2 # potencia"
      ],
      "execution_count": 8,
      "outputs": [
        {
          "output_type": "execute_result",
          "data": {
            "text/plain": [
              "64"
            ]
          },
          "metadata": {
            "tags": []
          },
          "execution_count": 8
        }
      ]
    },
    {
      "cell_type": "code",
      "metadata": {
        "colab": {
          "base_uri": "https://localhost:8080/"
        },
        "id": "DQdclwPEpKog",
        "outputId": "e74962b5-bbe7-4e60-d0d8-5bce695468be"
      },
      "source": [
        "8/4 # Division"
      ],
      "execution_count": 9,
      "outputs": [
        {
          "output_type": "execute_result",
          "data": {
            "text/plain": [
              "2.0"
            ]
          },
          "metadata": {
            "tags": []
          },
          "execution_count": 9
        }
      ]
    },
    {
      "cell_type": "code",
      "metadata": {
        "colab": {
          "base_uri": "https://localhost:8080/"
        },
        "id": "3-xIHSJnpNGo",
        "outputId": "60989821-df2d-4a2f-d0ee-1aa90aa4032c"
      },
      "source": [
        "9*2 # multiplicacion"
      ],
      "execution_count": 10,
      "outputs": [
        {
          "output_type": "execute_result",
          "data": {
            "text/plain": [
              "18"
            ]
          },
          "metadata": {
            "tags": []
          },
          "execution_count": 10
        }
      ]
    },
    {
      "cell_type": "markdown",
      "metadata": {
        "id": "3dcOLC7mpSWH"
      },
      "source": [
        "**Funciones Matematicas**"
      ]
    },
    {
      "cell_type": "code",
      "metadata": {
        "id": "E4uj4uExpP2J"
      },
      "source": [
        "import math as m"
      ],
      "execution_count": 11,
      "outputs": []
    },
    {
      "cell_type": "code",
      "metadata": {
        "colab": {
          "base_uri": "https://localhost:8080/"
        },
        "id": "Yj73lf7JpepR",
        "outputId": "25e0183f-0081-4b9a-ac1a-7a7547e4cd73"
      },
      "source": [
        "m.sqrt(100)"
      ],
      "execution_count": 12,
      "outputs": [
        {
          "output_type": "execute_result",
          "data": {
            "text/plain": [
              "10.0"
            ]
          },
          "metadata": {
            "tags": []
          },
          "execution_count": 12
        }
      ]
    },
    {
      "cell_type": "markdown",
      "metadata": {
        "id": "-G8ZxFcqqHBp"
      },
      "source": [
        "**Variables en Pyhon**\r\n",
        "\r\n",
        "Variables en Pyhon\r\n",
        "¿Que es una Variable?\r\n",
        "\"En programación, una variable está formada por un espacio en el sistema de almacenaje (memoria principal de un ordenador) y un nombre simbólico (un identificador) que está asociado a dicho espacio. Ese espacio contiene una cantidad de información conocida o desconocida, es decir un valor. El nombre de la variable es la forma usual de referirse al valor almacenado\"\r\n",
        "\r\n",
        "la variables se asignan con el ="
      ]
    },
    {
      "cell_type": "markdown",
      "metadata": {
        "id": "lRjS9gHGrSSD"
      },
      "source": [
        "**Numeros**"
      ]
    },
    {
      "cell_type": "markdown",
      "metadata": {
        "id": "ll351VcNrVMv"
      },
      "source": [
        "**Enteros**"
      ]
    },
    {
      "cell_type": "code",
      "metadata": {
        "colab": {
          "base_uri": "https://localhost:8080/"
        },
        "id": "0mpOMaTlpkeB",
        "outputId": "488d1092-92f6-4c65-ee26-957e3df5fd11"
      },
      "source": [
        "a=1\r\n",
        "print(a)\r\n",
        "b=2\r\n",
        "print(b)\r\n",
        "edad=35\r\n",
        "salario=5000000\r\n"
      ],
      "execution_count": 13,
      "outputs": [
        {
          "output_type": "stream",
          "text": [
            "1\n",
            "2\n"
          ],
          "name": "stdout"
        }
      ]
    },
    {
      "cell_type": "code",
      "metadata": {
        "colab": {
          "base_uri": "https://localhost:8080/"
        },
        "id": "-r0uWaidqxsG",
        "outputId": "4111cae3-3124-4c05-a6de-8836c8f9f829"
      },
      "source": [
        "a*b"
      ],
      "execution_count": 14,
      "outputs": [
        {
          "output_type": "execute_result",
          "data": {
            "text/plain": [
              "2"
            ]
          },
          "metadata": {
            "tags": []
          },
          "execution_count": 14
        }
      ]
    },
    {
      "cell_type": "markdown",
      "metadata": {
        "id": "1G0pYYAYrXcq"
      },
      "source": [
        "**Decimal**"
      ]
    },
    {
      "cell_type": "code",
      "metadata": {
        "colab": {
          "base_uri": "https://localhost:8080/"
        },
        "id": "WWufaI-urZnx",
        "outputId": "6cf30362-f902-491a-ac10-7160d6ba3ccf"
      },
      "source": [
        "pi=3.14\r\n",
        "print(pi)# mostrar informacion"
      ],
      "execution_count": 15,
      "outputs": [
        {
          "output_type": "stream",
          "text": [
            "3.14\n"
          ],
          "name": "stdout"
        }
      ]
    },
    {
      "cell_type": "markdown",
      "metadata": {
        "id": "dltE0q3eq5-r"
      },
      "source": [
        "**Texto**"
      ]
    },
    {
      "cell_type": "code",
      "metadata": {
        "id": "OV7fm9Qbqz3f"
      },
      "source": [
        "nombre=\"oscar\"# agregan entre comillas simples o dobles\r\n",
        "apellido='gaspar'\r\n",
        "estrato=\"4\"# texto porque tiene comillas"
      ],
      "execution_count": 16,
      "outputs": []
    },
    {
      "cell_type": "markdown",
      "metadata": {
        "id": "ug3sC6sZrQM5"
      },
      "source": [
        "**Tipo de variables**"
      ]
    },
    {
      "cell_type": "code",
      "metadata": {
        "colab": {
          "base_uri": "https://localhost:8080/"
        },
        "id": "VAtlhwKiq_aP",
        "outputId": "aa8ce03c-0eb1-402d-ecfd-2b58ec025091"
      },
      "source": [
        "print(type(a))\r\n",
        "print(type(pi))\r\n",
        "print(type(apellido))"
      ],
      "execution_count": 17,
      "outputs": [
        {
          "output_type": "stream",
          "text": [
            "<class 'int'>\n",
            "<class 'float'>\n",
            "<class 'str'>\n"
          ],
          "name": "stdout"
        }
      ]
    },
    {
      "cell_type": "markdown",
      "metadata": {
        "id": "rqW9yQbdsNkU"
      },
      "source": [
        "**Cnvertir de un decimal a un entero**"
      ]
    },
    {
      "cell_type": "code",
      "metadata": {
        "colab": {
          "base_uri": "https://localhost:8080/"
        },
        "id": "EMEL7H8Ir0MW",
        "outputId": "3588aac5-44cc-4db0-bf00-9ef81991218a"
      },
      "source": [
        "int(5.25)"
      ],
      "execution_count": 18,
      "outputs": [
        {
          "output_type": "execute_result",
          "data": {
            "text/plain": [
              "5"
            ]
          },
          "metadata": {
            "tags": []
          },
          "execution_count": 18
        }
      ]
    },
    {
      "cell_type": "markdown",
      "metadata": {
        "id": "Z3HI86gksVYv"
      },
      "source": [
        "**Transformar decimal a un entero**"
      ]
    },
    {
      "cell_type": "code",
      "metadata": {
        "colab": {
          "base_uri": "https://localhost:8080/"
        },
        "id": "QSb6L9AWsUEm",
        "outputId": "68a3a063-c7d9-4094-b56e-e3de55b0651d"
      },
      "source": [
        "float(5)"
      ],
      "execution_count": 19,
      "outputs": [
        {
          "output_type": "execute_result",
          "data": {
            "text/plain": [
              "5.0"
            ]
          },
          "metadata": {
            "tags": []
          },
          "execution_count": 19
        }
      ]
    },
    {
      "cell_type": "markdown",
      "metadata": {
        "id": "RVyqSjbTsqGC"
      },
      "source": [
        "**Operaciones con cadenas de texto**"
      ]
    },
    {
      "cell_type": "code",
      "metadata": {
        "colab": {
          "base_uri": "https://localhost:8080/"
        },
        "id": "tCr1i-hMsdOu",
        "outputId": "edd23c6f-621c-421a-ee36-c4ee67a008a4"
      },
      "source": [
        "Nombre_Completo=nombre+\"-\"+apellido+\" \"\r\n",
        "print(Nombre_Completo)"
      ],
      "execution_count": 20,
      "outputs": [
        {
          "output_type": "stream",
          "text": [
            "oscar-gaspar \n"
          ],
          "name": "stdout"
        }
      ]
    },
    {
      "cell_type": "markdown",
      "metadata": {
        "id": "M3MTBZQns-Sq"
      },
      "source": [
        "repetir nombres"
      ]
    },
    {
      "cell_type": "code",
      "metadata": {
        "colab": {
          "base_uri": "https://localhost:8080/",
          "height": 35
        },
        "id": "VZBGBF85s3g6",
        "outputId": "9342946e-f5d4-41ca-ae81-1e0d4b818624"
      },
      "source": [
        "Nombre_Completo*5"
      ],
      "execution_count": 21,
      "outputs": [
        {
          "output_type": "execute_result",
          "data": {
            "application/vnd.google.colaboratory.intrinsic+json": {
              "type": "string"
            },
            "text/plain": [
              "'oscar-gaspar oscar-gaspar oscar-gaspar oscar-gaspar oscar-gaspar '"
            ]
          },
          "metadata": {
            "tags": []
          },
          "execution_count": 21
        }
      ]
    },
    {
      "cell_type": "markdown",
      "metadata": {
        "id": "tIQXPGHGtPu9"
      },
      "source": [
        "**Separar Texto**"
      ]
    },
    {
      "cell_type": "code",
      "metadata": {
        "colab": {
          "base_uri": "https://localhost:8080/",
          "height": 35
        },
        "id": "tvSgwo_vtCRt",
        "outputId": "baa74967-3e38-4a0f-e266-1305c0c2fa02"
      },
      "source": [
        "Nombre_Completo"
      ],
      "execution_count": 22,
      "outputs": [
        {
          "output_type": "execute_result",
          "data": {
            "application/vnd.google.colaboratory.intrinsic+json": {
              "type": "string"
            },
            "text/plain": [
              "'oscar-gaspar '"
            ]
          },
          "metadata": {
            "tags": []
          },
          "execution_count": 22
        }
      ]
    },
    {
      "cell_type": "code",
      "metadata": {
        "colab": {
          "base_uri": "https://localhost:8080/"
        },
        "id": "PtTyn61etW29",
        "outputId": "47df1a45-b330-43f0-a73b-34d91d6ab866"
      },
      "source": [
        "Nombre_Completo.split(\"-\")"
      ],
      "execution_count": 23,
      "outputs": [
        {
          "output_type": "execute_result",
          "data": {
            "text/plain": [
              "['oscar', 'gaspar ']"
            ]
          },
          "metadata": {
            "tags": []
          },
          "execution_count": 23
        }
      ]
    },
    {
      "cell_type": "code",
      "metadata": {
        "colab": {
          "base_uri": "https://localhost:8080/"
        },
        "id": "AxLX0kgztbnF",
        "outputId": "f7c572ee-739f-476f-bfd1-6bb7b33d41f7"
      },
      "source": [
        "# longitud\r\n",
        "len(Nombre_Completo)\r\n",
        "print(Nombre_Completo)"
      ],
      "execution_count": 24,
      "outputs": [
        {
          "output_type": "stream",
          "text": [
            "oscar-gaspar \n"
          ],
          "name": "stdout"
        }
      ]
    },
    {
      "cell_type": "markdown",
      "metadata": {
        "id": "KpfsW6Est1Md"
      },
      "source": [
        "**Espresiones y Valores boleanos**"
      ]
    },
    {
      "cell_type": "code",
      "metadata": {
        "colab": {
          "base_uri": "https://localhost:8080/"
        },
        "id": "w9FJH2vstlVc",
        "outputId": "2a1b8d2e-c278-418a-d783-2d136a9f962d"
      },
      "source": [
        "True\r\n",
        "False"
      ],
      "execution_count": 25,
      "outputs": [
        {
          "output_type": "execute_result",
          "data": {
            "text/plain": [
              "False"
            ]
          },
          "metadata": {
            "tags": []
          },
          "execution_count": 25
        }
      ]
    },
    {
      "cell_type": "code",
      "metadata": {
        "colab": {
          "base_uri": "https://localhost:8080/"
        },
        "id": "BBvKGP9lt9lV",
        "outputId": "13200b6a-d68e-42bc-b0c6-c03274eeeede"
      },
      "source": [
        "type(True)"
      ],
      "execution_count": 26,
      "outputs": [
        {
          "output_type": "execute_result",
          "data": {
            "text/plain": [
              "bool"
            ]
          },
          "metadata": {
            "tags": []
          },
          "execution_count": 26
        }
      ]
    },
    {
      "cell_type": "code",
      "metadata": {
        "colab": {
          "base_uri": "https://localhost:8080/"
        },
        "id": "xvA37ZVzuBOE",
        "outputId": "67b9e5cd-547e-45d6-d519-09c9a9065c3c"
      },
      "source": [
        "type(False)"
      ],
      "execution_count": 27,
      "outputs": [
        {
          "output_type": "execute_result",
          "data": {
            "text/plain": [
              "bool"
            ]
          },
          "metadata": {
            "tags": []
          },
          "execution_count": 27
        }
      ]
    },
    {
      "cell_type": "markdown",
      "metadata": {
        "id": "vYQtFcqBuGul"
      },
      "source": [
        "**Validacion de Expresiones Logicas**"
      ]
    },
    {
      "cell_type": "code",
      "metadata": {
        "colab": {
          "base_uri": "https://localhost:8080/"
        },
        "id": "NCX44joluE98",
        "outputId": "bea9d35f-b787-46c7-b574-e8bf43d4a4ad"
      },
      "source": [
        "5==5 # igualdad son =="
      ],
      "execution_count": 28,
      "outputs": [
        {
          "output_type": "execute_result",
          "data": {
            "text/plain": [
              "True"
            ]
          },
          "metadata": {
            "tags": []
          },
          "execution_count": 28
        }
      ]
    },
    {
      "cell_type": "code",
      "metadata": {
        "colab": {
          "base_uri": "https://localhost:8080/"
        },
        "id": "rzAQrWYUuTgk",
        "outputId": "f032c883-927a-40f9-841e-9ae92f49a5f2"
      },
      "source": [
        "5!=5 # diferente son !="
      ],
      "execution_count": 29,
      "outputs": [
        {
          "output_type": "execute_result",
          "data": {
            "text/plain": [
              "False"
            ]
          },
          "metadata": {
            "tags": []
          },
          "execution_count": 29
        }
      ]
    },
    {
      "cell_type": "code",
      "metadata": {
        "colab": {
          "base_uri": "https://localhost:8080/"
        },
        "id": "EbvjGBoCuXqk",
        "outputId": "bbb979ba-cdd8-4b5b-87db-ead5955191be"
      },
      "source": [
        "5!=3"
      ],
      "execution_count": 30,
      "outputs": [
        {
          "output_type": "execute_result",
          "data": {
            "text/plain": [
              "True"
            ]
          },
          "metadata": {
            "tags": []
          },
          "execution_count": 30
        }
      ]
    },
    {
      "cell_type": "markdown",
      "metadata": {
        "id": "6c_6SufjuetW"
      },
      "source": [
        "\r\n",
        "El operador == es uno de los operadores de comparación; los otros son:\r\n",
        "\r\n",
        "* x != y : x no es igual a y\r\n",
        "* x > y : x es mayor que y\r\n",
        "* x < y : x es menor que y\r\n",
        "* x >= y : x es mayor o igual que y\r\n",
        "* x <= y : x es menor o igual que y"
      ]
    },
    {
      "cell_type": "code",
      "metadata": {
        "colab": {
          "base_uri": "https://localhost:8080/"
        },
        "id": "EpORpNGLuaIb",
        "outputId": "fa303a28-2b21-49eb-e97b-8b31cab8d322"
      },
      "source": [
        "3<5"
      ],
      "execution_count": 31,
      "outputs": [
        {
          "output_type": "execute_result",
          "data": {
            "text/plain": [
              "True"
            ]
          },
          "metadata": {
            "tags": []
          },
          "execution_count": 31
        }
      ]
    },
    {
      "cell_type": "markdown",
      "metadata": {
        "id": "5Rl0M0OrvVSg"
      },
      "source": [
        "# **Extructuras de Control**"
      ]
    },
    {
      "cell_type": "markdown",
      "metadata": {
        "id": "AJ_SSAu0vfL3"
      },
      "source": [
        "Para escribir programas útiles, casi siempre necesitamos la capacidad de comprobar ciertas condiciones y cambiar el comportamiento del programa como corresponda. Las sentencias condicionales nos dan esta capacidad. La forma más sencilla es la sentencia if, fue la base para la programacion logica, el primer enfoque de dar instrucciones a las Maquinas"
      ]
    },
    {
      "cell_type": "markdown",
      "metadata": {
        "id": "2oP1tUiqvpXy"
      },
      "source": [
        "\r\n",
        "**If else**"
      ]
    },
    {
      "cell_type": "code",
      "metadata": {
        "id": "-BN-TVVeveRT"
      },
      "source": [
        "edad=18"
      ],
      "execution_count": 32,
      "outputs": []
    },
    {
      "cell_type": "code",
      "metadata": {
        "colab": {
          "base_uri": "https://localhost:8080/"
        },
        "id": "vgEOK50Gvu29",
        "outputId": "61d3b8da-eed2-4607-b733-4b5d0c5f1cf1"
      },
      "source": [
        "if (edad <= 18):\r\n",
        "  print(\"Es menor de edad\")\r\n",
        "else:\r\n",
        "  print(\"Mayor de Edad\")"
      ],
      "execution_count": 33,
      "outputs": [
        {
          "output_type": "stream",
          "text": [
            "Es menor de edad\n"
          ],
          "name": "stdout"
        }
      ]
    },
    {
      "cell_type": "markdown",
      "metadata": {
        "id": "GgtCYiwmwCH_"
      },
      "source": [
        "También podemos anidar if como en otros lenguajes pero recuerda la indentación"
      ]
    },
    {
      "cell_type": "code",
      "metadata": {
        "id": "HnPvuN-Ww094"
      },
      "source": [
        "edad=15"
      ],
      "execution_count": 34,
      "outputs": []
    },
    {
      "cell_type": "code",
      "metadata": {
        "colab": {
          "base_uri": "https://localhost:8080/"
        },
        "id": "38K2otvSv8qK",
        "outputId": "5c99b3af-b387-42d2-b651-cbd71150eb64"
      },
      "source": [
        "if (edad <= 18):\r\n",
        "  if (edad == 18):\r\n",
        "    print(\"edad igual a 18\")\r\n",
        "  else:\r\n",
        "    print(\"Menor que 18\")\r\n",
        "else:\r\n",
        "  print(\"Mayor de Edad\")"
      ],
      "execution_count": 35,
      "outputs": [
        {
          "output_type": "stream",
          "text": [
            "Menor que 18\n"
          ],
          "name": "stdout"
        }
      ]
    },
    {
      "cell_type": "markdown",
      "metadata": {
        "id": "rGLYJ4HTxJdU"
      },
      "source": [
        "**Funciones**\r\n",
        "Una función es una porción o bloque de código reutilizable que se encarga de realizar una determinada tarea.\" Python es un lenguaje que nos da mucha flexibilidad al momento de crear funciones, en esté tutorial se darán cuenta porque."
      ]
    },
    {
      "cell_type": "code",
      "metadata": {
        "id": "agAS-dBrwubb"
      },
      "source": [
        "# crear una funcion se hace con el comando Def\r\n",
        "# ademas necesita unos parametros\r\n",
        "def Suma_dos_Numeros(x,y):\r\n",
        "  return (x+y)"
      ],
      "execution_count": 36,
      "outputs": []
    },
    {
      "cell_type": "code",
      "metadata": {
        "colab": {
          "base_uri": "https://localhost:8080/"
        },
        "id": "6GhwpzRqx-3M",
        "outputId": "8ea08f86-e983-48d9-eb76-94cce8df84a6"
      },
      "source": [
        "Suma_dos_Numeros(8,9)"
      ],
      "execution_count": 37,
      "outputs": [
        {
          "output_type": "execute_result",
          "data": {
            "text/plain": [
              "17"
            ]
          },
          "metadata": {
            "tags": []
          },
          "execution_count": 37
        }
      ]
    },
    {
      "cell_type": "code",
      "metadata": {
        "colab": {
          "base_uri": "https://localhost:8080/"
        },
        "id": "VzFaUheyyBuh",
        "outputId": "42f7c6a2-ee70-45f9-8fd2-2f1af3d61fce"
      },
      "source": [
        "Suma_dos_Numeros(15,9)"
      ],
      "execution_count": 38,
      "outputs": [
        {
          "output_type": "execute_result",
          "data": {
            "text/plain": [
              "24"
            ]
          },
          "metadata": {
            "tags": []
          },
          "execution_count": 38
        }
      ]
    },
    {
      "cell_type": "markdown",
      "metadata": {
        "id": "9BZg8JDGyJnE"
      },
      "source": [
        "\r\n",
        "Tomar un tercer parámetro opcional. El uso printpermite la impresión de múltiples expresiones dentro de una sola celda."
      ]
    },
    {
      "cell_type": "code",
      "metadata": {
        "id": "3IXnpTaGyFYR"
      },
      "source": [
        "def Suma_dos_Numeros(x,y,Z=None):\r\n",
        "  if(Z==None):\r\n",
        "    return (x+y)\r\n",
        "  else:\r\n",
        "    return (x+y+Z)"
      ],
      "execution_count": 39,
      "outputs": []
    },
    {
      "cell_type": "code",
      "metadata": {
        "colab": {
          "base_uri": "https://localhost:8080/"
        },
        "id": "qZCqj8XdyRtg",
        "outputId": "5be5c239-b44e-4f76-9ddc-788e8e90a73a"
      },
      "source": [
        "Suma_dos_Numeros(1,3,4)"
      ],
      "execution_count": 40,
      "outputs": [
        {
          "output_type": "execute_result",
          "data": {
            "text/plain": [
              "8"
            ]
          },
          "metadata": {
            "tags": []
          },
          "execution_count": 40
        }
      ]
    },
    {
      "cell_type": "code",
      "metadata": {
        "colab": {
          "base_uri": "https://localhost:8080/"
        },
        "id": "NznrWalTylLY",
        "outputId": "20792eca-c08b-4119-b67e-9b19b9110ba8"
      },
      "source": [
        "Suma_dos_Numeros(1,3)"
      ],
      "execution_count": 41,
      "outputs": [
        {
          "output_type": "execute_result",
          "data": {
            "text/plain": [
              "4"
            ]
          },
          "metadata": {
            "tags": []
          },
          "execution_count": 41
        }
      ]
    },
    {
      "cell_type": "code",
      "metadata": {
        "id": "ccgajKwtym7v"
      },
      "source": [
        "S=Suma_dos_Numeros"
      ],
      "execution_count": 42,
      "outputs": []
    },
    {
      "cell_type": "code",
      "metadata": {
        "colab": {
          "base_uri": "https://localhost:8080/"
        },
        "id": "Sh1L15bcyuHP",
        "outputId": "9e855df1-ac68-485d-9be3-5529f305b6b1"
      },
      "source": [
        "S(1,5)"
      ],
      "execution_count": 43,
      "outputs": [
        {
          "output_type": "execute_result",
          "data": {
            "text/plain": [
              "6"
            ]
          },
          "metadata": {
            "tags": []
          },
          "execution_count": 43
        }
      ]
    },
    {
      "cell_type": "code",
      "metadata": {
        "colab": {
          "base_uri": "https://localhost:8080/"
        },
        "id": "Gyfrdj-9ywH4",
        "outputId": "fd7bcb3b-c898-4dae-8b75-61ccd46974dc"
      },
      "source": [
        "S(1,5,6)"
      ],
      "execution_count": 44,
      "outputs": [
        {
          "output_type": "execute_result",
          "data": {
            "text/plain": [
              "12"
            ]
          },
          "metadata": {
            "tags": []
          },
          "execution_count": 44
        }
      ]
    },
    {
      "cell_type": "markdown",
      "metadata": {
        "id": "hPSyoFD0y6aE"
      },
      "source": [
        "**Extructura Datos**"
      ]
    },
    {
      "cell_type": "markdown",
      "metadata": {
        "id": "i-GfDzWDy_oC"
      },
      "source": [
        "**Listas**\r\n",
        "Una lista es una estructura de datos y un tipo de dato en python con características especiales. Lo especial de las listas en Python es que nos permiten almacenar cualquier tipo de valor como enteros, cadenas y hasta otras funciones; por ejemplo:"
      ]
    },
    {
      "cell_type": "code",
      "metadata": {
        "id": "Myy1WVtUy9XX"
      },
      "source": [
        "# Lista se Crean con []\r\n",
        "Nombres=[\"Oscar\",\"Felipe\",\"Juan\",\"Fernando\",\"Paula\",\"Maria\",2021]"
      ],
      "execution_count": 45,
      "outputs": []
    },
    {
      "cell_type": "code",
      "metadata": {
        "colab": {
          "base_uri": "https://localhost:8080/"
        },
        "id": "lZagzalEzTfH",
        "outputId": "781ba906-e8d8-4592-e27f-191bb659b8f0"
      },
      "source": [
        "type(Nombres)"
      ],
      "execution_count": 46,
      "outputs": [
        {
          "output_type": "execute_result",
          "data": {
            "text/plain": [
              "list"
            ]
          },
          "metadata": {
            "tags": []
          },
          "execution_count": 46
        }
      ]
    },
    {
      "cell_type": "code",
      "metadata": {
        "colab": {
          "base_uri": "https://localhost:8080/"
        },
        "id": "xnopRBZIzZVf",
        "outputId": "003c147a-8438-4c0d-f42d-37cfe735eea2"
      },
      "source": [
        "print(Nombres)"
      ],
      "execution_count": 47,
      "outputs": [
        {
          "output_type": "stream",
          "text": [
            "['Oscar', 'Felipe', 'Juan', 'Fernando', 'Paula', 'Maria', 2021]\n"
          ],
          "name": "stdout"
        }
      ]
    },
    {
      "cell_type": "markdown",
      "metadata": {
        "id": "Nbk074rPzlVN"
      },
      "source": [
        "**Acceder a la Informacion de las listas**"
      ]
    },
    {
      "cell_type": "markdown",
      "metadata": {
        "id": "32GBzmHzzqcX"
      },
      "source": [
        "python empieza a contar las posiciones desde cero"
      ]
    },
    {
      "cell_type": "code",
      "metadata": {
        "colab": {
          "base_uri": "https://localhost:8080/",
          "height": 35
        },
        "id": "jFQVmXX-ziV3",
        "outputId": "f9ab32fd-5b6d-46e0-e07b-b794c5bbdf07"
      },
      "source": [
        "Nombres[2]"
      ],
      "execution_count": 48,
      "outputs": [
        {
          "output_type": "execute_result",
          "data": {
            "application/vnd.google.colaboratory.intrinsic+json": {
              "type": "string"
            },
            "text/plain": [
              "'Juan'"
            ]
          },
          "metadata": {
            "tags": []
          },
          "execution_count": 48
        }
      ]
    },
    {
      "cell_type": "code",
      "metadata": {
        "colab": {
          "base_uri": "https://localhost:8080/"
        },
        "id": "ZvfhBL9NzwZI",
        "outputId": "6a0951da-6761-4c25-c5f0-559071df4b2d"
      },
      "source": [
        "Nombres[-1] # para acceder a la ultima posicion"
      ],
      "execution_count": 49,
      "outputs": [
        {
          "output_type": "execute_result",
          "data": {
            "text/plain": [
              "2021"
            ]
          },
          "metadata": {
            "tags": []
          },
          "execution_count": 49
        }
      ]
    },
    {
      "cell_type": "code",
      "metadata": {
        "colab": {
          "base_uri": "https://localhost:8080/",
          "height": 35
        },
        "id": "8vrNdlW7z3Vw",
        "outputId": "e113144b-2573-4815-d90f-644ef5fbcdd0"
      },
      "source": [
        "Nombres[-2] # para acceder a la antepenultima posicion"
      ],
      "execution_count": 50,
      "outputs": [
        {
          "output_type": "execute_result",
          "data": {
            "application/vnd.google.colaboratory.intrinsic+json": {
              "type": "string"
            },
            "text/plain": [
              "'Maria'"
            ]
          },
          "metadata": {
            "tags": []
          },
          "execution_count": 50
        }
      ]
    },
    {
      "cell_type": "code",
      "metadata": {
        "id": "P_4iBHNDz-iY"
      },
      "source": [
        "## Agragar Nuevos datos con append\r\n",
        "Nombres.append(\"Universidad de Antioquia\")"
      ],
      "execution_count": 51,
      "outputs": []
    },
    {
      "cell_type": "code",
      "metadata": {
        "colab": {
          "base_uri": "https://localhost:8080/"
        },
        "id": "kzrZwPNT0PlG",
        "outputId": "5e069875-f3b5-47e4-cfb7-66da1c11020f"
      },
      "source": [
        "Nombres"
      ],
      "execution_count": 52,
      "outputs": [
        {
          "output_type": "execute_result",
          "data": {
            "text/plain": [
              "['Oscar',\n",
              " 'Felipe',\n",
              " 'Juan',\n",
              " 'Fernando',\n",
              " 'Paula',\n",
              " 'Maria',\n",
              " 2021,\n",
              " 'Universidad de Antioquia']"
            ]
          },
          "metadata": {
            "tags": []
          },
          "execution_count": 52
        }
      ]
    },
    {
      "cell_type": "markdown",
      "metadata": {
        "id": "4CQKZuOH0Yur"
      },
      "source": [
        "Agregar una lista dentro de otra lista"
      ]
    },
    {
      "cell_type": "code",
      "metadata": {
        "id": "S21key4-0RAO"
      },
      "source": [
        "Nombres.append([\"28,65,30\"])"
      ],
      "execution_count": 53,
      "outputs": []
    },
    {
      "cell_type": "code",
      "metadata": {
        "colab": {
          "base_uri": "https://localhost:8080/"
        },
        "id": "VXggYf6Y0i9O",
        "outputId": "b75d2fb4-eb89-4307-a1f5-5e524e366f54"
      },
      "source": [
        "Nombres"
      ],
      "execution_count": 54,
      "outputs": [
        {
          "output_type": "execute_result",
          "data": {
            "text/plain": [
              "['Oscar',\n",
              " 'Felipe',\n",
              " 'Juan',\n",
              " 'Fernando',\n",
              " 'Paula',\n",
              " 'Maria',\n",
              " 2021,\n",
              " 'Universidad de Antioquia',\n",
              " ['28,65,30']]"
            ]
          },
          "metadata": {
            "tags": []
          },
          "execution_count": 54
        }
      ]
    },
    {
      "cell_type": "code",
      "metadata": {
        "colab": {
          "base_uri": "https://localhost:8080/"
        },
        "id": "UCAxDL4X0k4f",
        "outputId": "06c3f56a-6860-4396-d000-1c7d5a146c67"
      },
      "source": [
        "type(Nombres[1])"
      ],
      "execution_count": 55,
      "outputs": [
        {
          "output_type": "execute_result",
          "data": {
            "text/plain": [
              "str"
            ]
          },
          "metadata": {
            "tags": []
          },
          "execution_count": 55
        }
      ]
    },
    {
      "cell_type": "code",
      "metadata": {
        "colab": {
          "base_uri": "https://localhost:8080/"
        },
        "id": "EUEADzm70rOn",
        "outputId": "2334db9b-6bc6-4dae-ae12-d1c63499f22b"
      },
      "source": [
        "type(Nombres[-1])"
      ],
      "execution_count": 56,
      "outputs": [
        {
          "output_type": "execute_result",
          "data": {
            "text/plain": [
              "list"
            ]
          },
          "metadata": {
            "tags": []
          },
          "execution_count": 56
        }
      ]
    },
    {
      "cell_type": "code",
      "metadata": {
        "colab": {
          "base_uri": "https://localhost:8080/"
        },
        "id": "Rr6zVnlB0uKX",
        "outputId": "5e4f130d-6fac-4c44-8178-045846aa1f2c"
      },
      "source": [
        "type(Nombres[6])"
      ],
      "execution_count": 57,
      "outputs": [
        {
          "output_type": "execute_result",
          "data": {
            "text/plain": [
              "int"
            ]
          },
          "metadata": {
            "tags": []
          },
          "execution_count": 57
        }
      ]
    },
    {
      "cell_type": "markdown",
      "metadata": {
        "id": "Dz_hAuTG03na"
      },
      "source": [
        "**Tuplas**"
      ]
    },
    {
      "cell_type": "markdown",
      "metadata": {
        "id": "Lj4N2_qG05l-"
      },
      "source": [
        "En Python, una tupla es un conjunto ordenado e inmutable de elementos del mismo o diferente tipo.\r\n",
        "\r\n",
        "Las tuplas se representan escribiendo los elementos entre paréntesis y separados por comas y no se pueden modificar"
      ]
    },
    {
      "cell_type": "code",
      "metadata": {
        "id": "u56rvkMc1FGc"
      },
      "source": [
        "\r\n",
        "x = (1, 'a', 2, 'b')"
      ],
      "execution_count": 58,
      "outputs": []
    },
    {
      "cell_type": "code",
      "metadata": {
        "colab": {
          "base_uri": "https://localhost:8080/"
        },
        "id": "_95eW4kI0xRH",
        "outputId": "323633e8-a91c-4c8b-b54b-44462491b394"
      },
      "source": [
        "type(x)"
      ],
      "execution_count": 59,
      "outputs": [
        {
          "output_type": "execute_result",
          "data": {
            "text/plain": [
              "tuple"
            ]
          },
          "metadata": {
            "tags": []
          },
          "execution_count": 59
        }
      ]
    },
    {
      "cell_type": "markdown",
      "metadata": {
        "id": "V23UZvYG1OF-"
      },
      "source": [
        "**Diccionarios**\r\n",
        "Un Diccionario es una estructura de datos y un tipo de dato en Python con características especiales que nos permite almacenar cualquier tipo de valor como enteros, cadenas, listas e incluso otras funciones. Estos diccionarios nos permiten además identificar cada elemento por una clave (Key).\r\n",
        "\r\n",
        "Para definir un diccionario, se encierra el listado de valores entre llaves. Las parejas de clave y valor se separan con comas, y la clave y el valor se separan con dos puntos."
      ]
    },
    {
      "cell_type": "code",
      "metadata": {
        "id": "AHueawzh1KIP"
      },
      "source": [
        "Diccionario_curso={\"Nombre\":[\"Juan\",\"Felipe\",\"Pedro\",\"Maria\",\"Diana\"],\r\n",
        "                   \"Edad\":[25,45,35,42,19],\r\n",
        "                   \"Curso\":[\"Matematica\",\"Python\",\"Algebra\",\"R\",\"Estadisticas\"]}"
      ],
      "execution_count": 60,
      "outputs": []
    },
    {
      "cell_type": "code",
      "metadata": {
        "colab": {
          "base_uri": "https://localhost:8080/"
        },
        "id": "6UNIrrEi10f_",
        "outputId": "5fd8f97b-f427-4017-8636-76400d42ae2a"
      },
      "source": [
        "Diccionario_curso"
      ],
      "execution_count": 61,
      "outputs": [
        {
          "output_type": "execute_result",
          "data": {
            "text/plain": [
              "{'Curso': ['Matematica', 'Python', 'Algebra', 'R', 'Estadisticas'],\n",
              " 'Edad': [25, 45, 35, 42, 19],\n",
              " 'Nombre': ['Juan', 'Felipe', 'Pedro', 'Maria', 'Diana']}"
            ]
          },
          "metadata": {
            "tags": []
          },
          "execution_count": 61
        }
      ]
    },
    {
      "cell_type": "code",
      "metadata": {
        "colab": {
          "base_uri": "https://localhost:8080/"
        },
        "id": "0y288hc02Fg1",
        "outputId": "a3467916-49cc-4f1d-94e5-c80dbebda486"
      },
      "source": [
        "print(Diccionario_curso[\"Nombre\"])"
      ],
      "execution_count": 62,
      "outputs": [
        {
          "output_type": "stream",
          "text": [
            "['Juan', 'Felipe', 'Pedro', 'Maria', 'Diana']\n"
          ],
          "name": "stdout"
        }
      ]
    },
    {
      "cell_type": "code",
      "metadata": {
        "colab": {
          "base_uri": "https://localhost:8080/"
        },
        "id": "jdU0C3M62OCl",
        "outputId": "b330d7a2-d654-4ff9-94f2-c079f20e2c3e"
      },
      "source": [
        "print(Diccionario_curso[\"Edad\"])"
      ],
      "execution_count": 63,
      "outputs": [
        {
          "output_type": "stream",
          "text": [
            "[25, 45, 35, 42, 19]\n"
          ],
          "name": "stdout"
        }
      ]
    },
    {
      "cell_type": "code",
      "metadata": {
        "colab": {
          "base_uri": "https://localhost:8080/"
        },
        "id": "p1tioFCu2Qvm",
        "outputId": "ba0a58e0-0aa4-4e3b-93d1-8d323b4529a9"
      },
      "source": [
        "print(Diccionario_curso[\"Curso\"])"
      ],
      "execution_count": 64,
      "outputs": [
        {
          "output_type": "stream",
          "text": [
            "['Matematica', 'Python', 'Algebra', 'R', 'Estadisticas']\n"
          ],
          "name": "stdout"
        }
      ]
    },
    {
      "cell_type": "markdown",
      "metadata": {
        "id": "6RL_u5DYeKWK"
      },
      "source": [
        "**Matrix**"
      ]
    },
    {
      "cell_type": "code",
      "metadata": {
        "id": "L-LHo535gWXO"
      },
      "source": [
        "import numpy  as np"
      ],
      "execution_count": 71,
      "outputs": []
    },
    {
      "cell_type": "code",
      "metadata": {
        "id": "VxaD2fKW2jNF"
      },
      "source": [
        "# crear una Matrix desde una lista\r\n",
        "Mi_lista=[1,2,3]"
      ],
      "execution_count": 65,
      "outputs": []
    },
    {
      "cell_type": "code",
      "metadata": {
        "colab": {
          "base_uri": "https://localhost:8080/"
        },
        "id": "HeeXGFwieqoX",
        "outputId": "cbe6d4c3-6df6-4e52-9769-ff954f129c63"
      },
      "source": [
        "type(Mi_lista)"
      ],
      "execution_count": 66,
      "outputs": [
        {
          "output_type": "execute_result",
          "data": {
            "text/plain": [
              "list"
            ]
          },
          "metadata": {
            "tags": []
          },
          "execution_count": 66
        }
      ]
    },
    {
      "cell_type": "code",
      "metadata": {
        "id": "4cxQyeSIetmv"
      },
      "source": [
        "x=np.array(Mi_lista)"
      ],
      "execution_count": 67,
      "outputs": []
    },
    {
      "cell_type": "code",
      "metadata": {
        "colab": {
          "base_uri": "https://localhost:8080/"
        },
        "id": "Y9mdw1dAe7Yq",
        "outputId": "4f44514f-deff-42a2-facf-f40afcb4401b"
      },
      "source": [
        "x"
      ],
      "execution_count": 68,
      "outputs": [
        {
          "output_type": "execute_result",
          "data": {
            "text/plain": [
              "array([1, 2, 3])"
            ]
          },
          "metadata": {
            "tags": []
          },
          "execution_count": 68
        }
      ]
    },
    {
      "cell_type": "code",
      "metadata": {
        "id": "-cL_lOMue74X"
      },
      "source": [
        "# Crear Directamente\r\n",
        "y=np.array([[1,2],[2,3]])"
      ],
      "execution_count": 73,
      "outputs": []
    },
    {
      "cell_type": "code",
      "metadata": {
        "colab": {
          "base_uri": "https://localhost:8080/"
        },
        "id": "rhiuXZidf76J",
        "outputId": "b40d6b5b-2a50-4c93-8995-8c2769799630"
      },
      "source": [
        "y"
      ],
      "execution_count": 74,
      "outputs": [
        {
          "output_type": "execute_result",
          "data": {
            "text/plain": [
              "array([[1, 2],\n",
              "       [2, 3]])"
            ]
          },
          "metadata": {
            "tags": []
          },
          "execution_count": 74
        }
      ]
    },
    {
      "cell_type": "code",
      "metadata": {
        "colab": {
          "base_uri": "https://localhost:8080/"
        },
        "id": "2PavRYuGf97I",
        "outputId": "a2854990-e469-4d3f-bf0a-30284a3516e0"
      },
      "source": [
        "# Conocer la Dimension\r\n",
        "y.shape"
      ],
      "execution_count": 75,
      "outputs": [
        {
          "output_type": "execute_result",
          "data": {
            "text/plain": [
              "(2, 2)"
            ]
          },
          "metadata": {
            "tags": []
          },
          "execution_count": 75
        }
      ]
    },
    {
      "cell_type": "markdown",
      "metadata": {
        "id": "8rFODGmGg6jF"
      },
      "source": [
        "**SERIES**"
      ]
    },
    {
      "cell_type": "code",
      "metadata": {
        "id": "rIOd7jTPhIFI"
      },
      "source": [
        "import pandas as pd"
      ],
      "execution_count": 76,
      "outputs": []
    },
    {
      "cell_type": "code",
      "metadata": {
        "id": "p979uYQjhKOZ"
      },
      "source": [
        "variables=[\"Nombre\",\"Direccion\",\"cargo\"]\r\n",
        "numeros=[1,2,3]"
      ],
      "execution_count": 79,
      "outputs": []
    },
    {
      "cell_type": "code",
      "metadata": {
        "colab": {
          "base_uri": "https://localhost:8080/"
        },
        "id": "KEtds64ohTAI",
        "outputId": "8190ace3-2135-4a05-e98b-8ea111a64ac5"
      },
      "source": [
        "pd.Series(variables)"
      ],
      "execution_count": 78,
      "outputs": [
        {
          "output_type": "execute_result",
          "data": {
            "text/plain": [
              "0       Nombre\n",
              "1    Direccion\n",
              "2        cargo\n",
              "dtype: object"
            ]
          },
          "metadata": {
            "tags": []
          },
          "execution_count": 78
        }
      ]
    },
    {
      "cell_type": "code",
      "metadata": {
        "colab": {
          "base_uri": "https://localhost:8080/"
        },
        "id": "Dr8AVV0chelZ",
        "outputId": "857a9525-9672-4d37-f4ca-24b39df84f80"
      },
      "source": [
        "pd.Series(numeros)"
      ],
      "execution_count": 80,
      "outputs": [
        {
          "output_type": "execute_result",
          "data": {
            "text/plain": [
              "0    1\n",
              "1    2\n",
              "2    3\n",
              "dtype: int64"
            ]
          },
          "metadata": {
            "tags": []
          },
          "execution_count": 80
        }
      ]
    },
    {
      "cell_type": "markdown",
      "metadata": {
        "id": "R2JzFQXSiP94"
      },
      "source": [
        "**DataFrame**"
      ]
    },
    {
      "cell_type": "code",
      "metadata": {
        "id": "hT0g-OpsiK6o"
      },
      "source": [
        "tienda1= pd.Series({\"Nombre\":\"Don Pedro\",\r\n",
        "                    \"Prodcutos\":\"Arroz\",\r\n",
        "                    \"Precio\":5000})\r\n",
        "tienda2= pd.Series({\"Nombre\":\"Peluqueria\",\r\n",
        "                    \"Prodcutos\":\"Gomina\",\r\n",
        "                    \"Precio\":2000})\r\n",
        "tienda3= pd.Series({\"Nombre\":\"Carniceria\",\r\n",
        "                    \"Prodcutos\":\"Mondongo\",\r\n",
        "                    \"Precio\":8000})"
      ],
      "execution_count": 82,
      "outputs": []
    },
    {
      "cell_type": "code",
      "metadata": {
        "id": "9ZF4Y7MqjHPn"
      },
      "source": [
        "df_tiendas=pd.DataFrame([tienda1,tienda2,tienda3],index=[\"tienda1\",\"tienda2\",\"tienda3\"])"
      ],
      "execution_count": 83,
      "outputs": []
    },
    {
      "cell_type": "code",
      "metadata": {
        "colab": {
          "base_uri": "https://localhost:8080/",
          "height": 141
        },
        "id": "dGPQhBuvj69q",
        "outputId": "3fe16de4-39f1-4be5-e410-96c9fc839473"
      },
      "source": [
        "df_tiendas # Muestra todo"
      ],
      "execution_count": 84,
      "outputs": [
        {
          "output_type": "execute_result",
          "data": {
            "text/html": [
              "<div>\n",
              "<style scoped>\n",
              "    .dataframe tbody tr th:only-of-type {\n",
              "        vertical-align: middle;\n",
              "    }\n",
              "\n",
              "    .dataframe tbody tr th {\n",
              "        vertical-align: top;\n",
              "    }\n",
              "\n",
              "    .dataframe thead th {\n",
              "        text-align: right;\n",
              "    }\n",
              "</style>\n",
              "<table border=\"1\" class=\"dataframe\">\n",
              "  <thead>\n",
              "    <tr style=\"text-align: right;\">\n",
              "      <th></th>\n",
              "      <th>Nombre</th>\n",
              "      <th>Prodcutos</th>\n",
              "      <th>Precio</th>\n",
              "    </tr>\n",
              "  </thead>\n",
              "  <tbody>\n",
              "    <tr>\n",
              "      <th>tienda1</th>\n",
              "      <td>Don Pedro</td>\n",
              "      <td>Arroz</td>\n",
              "      <td>5000</td>\n",
              "    </tr>\n",
              "    <tr>\n",
              "      <th>tienda2</th>\n",
              "      <td>Peluqueria</td>\n",
              "      <td>Gomina</td>\n",
              "      <td>2000</td>\n",
              "    </tr>\n",
              "    <tr>\n",
              "      <th>tienda3</th>\n",
              "      <td>Carniceria</td>\n",
              "      <td>Mondongo</td>\n",
              "      <td>8000</td>\n",
              "    </tr>\n",
              "  </tbody>\n",
              "</table>\n",
              "</div>"
            ],
            "text/plain": [
              "             Nombre Prodcutos  Precio\n",
              "tienda1   Don Pedro     Arroz    5000\n",
              "tienda2  Peluqueria    Gomina    2000\n",
              "tienda3  Carniceria  Mondongo    8000"
            ]
          },
          "metadata": {
            "tags": []
          },
          "execution_count": 84
        }
      ]
    },
    {
      "cell_type": "markdown",
      "metadata": {
        "id": "twV0jrk1j_kP"
      },
      "source": [
        "**Dimension**"
      ]
    },
    {
      "cell_type": "code",
      "metadata": {
        "colab": {
          "base_uri": "https://localhost:8080/"
        },
        "id": "vRTVAMn6j8rZ",
        "outputId": "48db9b38-f38d-44a1-84d2-3b6a4d3b517e"
      },
      "source": [
        "df_tiendas.shape"
      ],
      "execution_count": 85,
      "outputs": [
        {
          "output_type": "execute_result",
          "data": {
            "text/plain": [
              "(3, 3)"
            ]
          },
          "metadata": {
            "tags": []
          },
          "execution_count": 85
        }
      ]
    },
    {
      "cell_type": "markdown",
      "metadata": {
        "id": "ZrJxZaZ-kFsm"
      },
      "source": [
        "**Variables**"
      ]
    },
    {
      "cell_type": "code",
      "metadata": {
        "colab": {
          "base_uri": "https://localhost:8080/"
        },
        "id": "q77YWWmokC0a",
        "outputId": "849ce08c-28a2-4a1c-f228-09e6aaa8edaa"
      },
      "source": [
        "df_tiendas.columns"
      ],
      "execution_count": 86,
      "outputs": [
        {
          "output_type": "execute_result",
          "data": {
            "text/plain": [
              "Index(['Nombre', 'Prodcutos', 'Precio'], dtype='object')"
            ]
          },
          "metadata": {
            "tags": []
          },
          "execution_count": 86
        }
      ]
    },
    {
      "cell_type": "markdown",
      "metadata": {
        "id": "bP6PWaBZkSPh"
      },
      "source": [
        "**Variables**"
      ]
    },
    {
      "cell_type": "code",
      "metadata": {
        "colab": {
          "base_uri": "https://localhost:8080/"
        },
        "id": "xT41HsQTkJJA",
        "outputId": "f2e69c0e-23e5-4e47-d8cd-54cc176d534b"
      },
      "source": [
        "df_tiendas.info()"
      ],
      "execution_count": 87,
      "outputs": [
        {
          "output_type": "stream",
          "text": [
            "<class 'pandas.core.frame.DataFrame'>\n",
            "Index: 3 entries, tienda1 to tienda3\n",
            "Data columns (total 3 columns):\n",
            " #   Column     Non-Null Count  Dtype \n",
            "---  ------     --------------  ----- \n",
            " 0   Nombre     3 non-null      object\n",
            " 1   Prodcutos  3 non-null      object\n",
            " 2   Precio     3 non-null      int64 \n",
            "dtypes: int64(1), object(2)\n",
            "memory usage: 96.0+ bytes\n"
          ],
          "name": "stdout"
        }
      ]
    },
    {
      "cell_type": "markdown",
      "metadata": {
        "id": "YbLVe5m0km_I"
      },
      "source": [
        "**Encabezado**"
      ]
    },
    {
      "cell_type": "code",
      "metadata": {
        "colab": {
          "base_uri": "https://localhost:8080/",
          "height": 141
        },
        "id": "jwml7KHakW3Q",
        "outputId": "25f45772-4844-4d40-eea9-df7f27d9f407"
      },
      "source": [
        "df_tiendas.head(3)"
      ],
      "execution_count": 90,
      "outputs": [
        {
          "output_type": "execute_result",
          "data": {
            "text/html": [
              "<div>\n",
              "<style scoped>\n",
              "    .dataframe tbody tr th:only-of-type {\n",
              "        vertical-align: middle;\n",
              "    }\n",
              "\n",
              "    .dataframe tbody tr th {\n",
              "        vertical-align: top;\n",
              "    }\n",
              "\n",
              "    .dataframe thead th {\n",
              "        text-align: right;\n",
              "    }\n",
              "</style>\n",
              "<table border=\"1\" class=\"dataframe\">\n",
              "  <thead>\n",
              "    <tr style=\"text-align: right;\">\n",
              "      <th></th>\n",
              "      <th>Nombre</th>\n",
              "      <th>Prodcutos</th>\n",
              "      <th>Precio</th>\n",
              "    </tr>\n",
              "  </thead>\n",
              "  <tbody>\n",
              "    <tr>\n",
              "      <th>tienda1</th>\n",
              "      <td>Don Pedro</td>\n",
              "      <td>Arroz</td>\n",
              "      <td>5000</td>\n",
              "    </tr>\n",
              "    <tr>\n",
              "      <th>tienda2</th>\n",
              "      <td>Peluqueria</td>\n",
              "      <td>Gomina</td>\n",
              "      <td>2000</td>\n",
              "    </tr>\n",
              "    <tr>\n",
              "      <th>tienda3</th>\n",
              "      <td>Carniceria</td>\n",
              "      <td>Mondongo</td>\n",
              "      <td>8000</td>\n",
              "    </tr>\n",
              "  </tbody>\n",
              "</table>\n",
              "</div>"
            ],
            "text/plain": [
              "             Nombre Prodcutos  Precio\n",
              "tienda1   Don Pedro     Arroz    5000\n",
              "tienda2  Peluqueria    Gomina    2000\n",
              "tienda3  Carniceria  Mondongo    8000"
            ]
          },
          "metadata": {
            "tags": []
          },
          "execution_count": 90
        }
      ]
    },
    {
      "cell_type": "markdown",
      "metadata": {
        "id": "-ew5_6y_ksqs"
      },
      "source": [
        "**Colas**"
      ]
    },
    {
      "cell_type": "code",
      "metadata": {
        "colab": {
          "base_uri": "https://localhost:8080/",
          "height": 79
        },
        "id": "-DPUrR0fkoyD",
        "outputId": "4dd80ef4-2b37-42cf-fd92-03ea56dcf131"
      },
      "source": [
        "df_tiendas.tail(1)"
      ],
      "execution_count": 92,
      "outputs": [
        {
          "output_type": "execute_result",
          "data": {
            "text/html": [
              "<div>\n",
              "<style scoped>\n",
              "    .dataframe tbody tr th:only-of-type {\n",
              "        vertical-align: middle;\n",
              "    }\n",
              "\n",
              "    .dataframe tbody tr th {\n",
              "        vertical-align: top;\n",
              "    }\n",
              "\n",
              "    .dataframe thead th {\n",
              "        text-align: right;\n",
              "    }\n",
              "</style>\n",
              "<table border=\"1\" class=\"dataframe\">\n",
              "  <thead>\n",
              "    <tr style=\"text-align: right;\">\n",
              "      <th></th>\n",
              "      <th>Nombre</th>\n",
              "      <th>Prodcutos</th>\n",
              "      <th>Precio</th>\n",
              "    </tr>\n",
              "  </thead>\n",
              "  <tbody>\n",
              "    <tr>\n",
              "      <th>tienda3</th>\n",
              "      <td>Carniceria</td>\n",
              "      <td>Mondongo</td>\n",
              "      <td>8000</td>\n",
              "    </tr>\n",
              "  </tbody>\n",
              "</table>\n",
              "</div>"
            ],
            "text/plain": [
              "             Nombre Prodcutos  Precio\n",
              "tienda3  Carniceria  Mondongo    8000"
            ]
          },
          "metadata": {
            "tags": []
          },
          "execution_count": 92
        }
      ]
    },
    {
      "cell_type": "markdown",
      "metadata": {
        "id": "GjJKCt0ik6Xl"
      },
      "source": [
        "**COnsultar**"
      ]
    },
    {
      "cell_type": "code",
      "metadata": {
        "colab": {
          "base_uri": "https://localhost:8080/"
        },
        "id": "s07uyrGSkwXx",
        "outputId": "120ab2ce-6433-4e57-c00b-6536b9acf045"
      },
      "source": [
        "df_tiendas.loc[\"tienda2\",\"Precio\"]"
      ],
      "execution_count": 95,
      "outputs": [
        {
          "output_type": "execute_result",
          "data": {
            "text/plain": [
              "2000"
            ]
          },
          "metadata": {
            "tags": []
          },
          "execution_count": 95
        }
      ]
    },
    {
      "cell_type": "markdown",
      "metadata": {
        "id": "wSiiiyyGleQs"
      },
      "source": [
        "**Transponer Filas Y columnas**"
      ]
    },
    {
      "cell_type": "code",
      "metadata": {
        "id": "6wsfPIEXlBz5"
      },
      "source": [
        "df_T=df_tiendas.T"
      ],
      "execution_count": 97,
      "outputs": []
    },
    {
      "cell_type": "code",
      "metadata": {
        "colab": {
          "base_uri": "https://localhost:8080/",
          "height": 141
        },
        "id": "vMRQfqfEoXXl",
        "outputId": "0b5bca2f-bf5c-41f8-9ec7-22527e9ea50e"
      },
      "source": [
        "df_T"
      ],
      "execution_count": 98,
      "outputs": [
        {
          "output_type": "execute_result",
          "data": {
            "text/html": [
              "<div>\n",
              "<style scoped>\n",
              "    .dataframe tbody tr th:only-of-type {\n",
              "        vertical-align: middle;\n",
              "    }\n",
              "\n",
              "    .dataframe tbody tr th {\n",
              "        vertical-align: top;\n",
              "    }\n",
              "\n",
              "    .dataframe thead th {\n",
              "        text-align: right;\n",
              "    }\n",
              "</style>\n",
              "<table border=\"1\" class=\"dataframe\">\n",
              "  <thead>\n",
              "    <tr style=\"text-align: right;\">\n",
              "      <th></th>\n",
              "      <th>tienda1</th>\n",
              "      <th>tienda2</th>\n",
              "      <th>tienda3</th>\n",
              "    </tr>\n",
              "  </thead>\n",
              "  <tbody>\n",
              "    <tr>\n",
              "      <th>Nombre</th>\n",
              "      <td>Don Pedro</td>\n",
              "      <td>Peluqueria</td>\n",
              "      <td>Carniceria</td>\n",
              "    </tr>\n",
              "    <tr>\n",
              "      <th>Prodcutos</th>\n",
              "      <td>Arroz</td>\n",
              "      <td>Gomina</td>\n",
              "      <td>Mondongo</td>\n",
              "    </tr>\n",
              "    <tr>\n",
              "      <th>Precio</th>\n",
              "      <td>5000</td>\n",
              "      <td>2000</td>\n",
              "      <td>8000</td>\n",
              "    </tr>\n",
              "  </tbody>\n",
              "</table>\n",
              "</div>"
            ],
            "text/plain": [
              "             tienda1     tienda2     tienda3\n",
              "Nombre     Don Pedro  Peluqueria  Carniceria\n",
              "Prodcutos      Arroz      Gomina    Mondongo\n",
              "Precio          5000        2000        8000"
            ]
          },
          "metadata": {
            "tags": []
          },
          "execution_count": 98
        }
      ]
    },
    {
      "cell_type": "code",
      "metadata": {
        "colab": {
          "base_uri": "https://localhost:8080/",
          "height": 141
        },
        "id": "uKzkXmmDodcL",
        "outputId": "051fc2f5-c5bc-4025-dab4-e50ffaf644a4"
      },
      "source": [
        "df_tiendas"
      ],
      "execution_count": 99,
      "outputs": [
        {
          "output_type": "execute_result",
          "data": {
            "text/html": [
              "<div>\n",
              "<style scoped>\n",
              "    .dataframe tbody tr th:only-of-type {\n",
              "        vertical-align: middle;\n",
              "    }\n",
              "\n",
              "    .dataframe tbody tr th {\n",
              "        vertical-align: top;\n",
              "    }\n",
              "\n",
              "    .dataframe thead th {\n",
              "        text-align: right;\n",
              "    }\n",
              "</style>\n",
              "<table border=\"1\" class=\"dataframe\">\n",
              "  <thead>\n",
              "    <tr style=\"text-align: right;\">\n",
              "      <th></th>\n",
              "      <th>Nombre</th>\n",
              "      <th>Prodcutos</th>\n",
              "      <th>Precio</th>\n",
              "    </tr>\n",
              "  </thead>\n",
              "  <tbody>\n",
              "    <tr>\n",
              "      <th>tienda1</th>\n",
              "      <td>Don Pedro</td>\n",
              "      <td>Arroz</td>\n",
              "      <td>5000</td>\n",
              "    </tr>\n",
              "    <tr>\n",
              "      <th>tienda2</th>\n",
              "      <td>Peluqueria</td>\n",
              "      <td>Gomina</td>\n",
              "      <td>2000</td>\n",
              "    </tr>\n",
              "    <tr>\n",
              "      <th>tienda3</th>\n",
              "      <td>Carniceria</td>\n",
              "      <td>Mondongo</td>\n",
              "      <td>8000</td>\n",
              "    </tr>\n",
              "  </tbody>\n",
              "</table>\n",
              "</div>"
            ],
            "text/plain": [
              "             Nombre Prodcutos  Precio\n",
              "tienda1   Don Pedro     Arroz    5000\n",
              "tienda2  Peluqueria    Gomina    2000\n",
              "tienda3  Carniceria  Mondongo    8000"
            ]
          },
          "metadata": {
            "tags": []
          },
          "execution_count": 99
        }
      ]
    },
    {
      "cell_type": "markdown",
      "metadata": {
        "id": "EXYEg-XVo9XO"
      },
      "source": [
        "/content/drive/MyDrive/DATA SCIENCE/ASESORIAS/Juan Felipe y Juan Fernando/Análisis Descriptivo y Exploratorio/INSUMOS\r\n"
      ]
    },
    {
      "cell_type": "markdown",
      "metadata": {
        "id": "EBTpZYtfqZgp"
      },
      "source": [
        "**Exportar Excel**"
      ]
    },
    {
      "cell_type": "code",
      "metadata": {
        "id": "RIpOo7MbofRq"
      },
      "source": [
        "df_tiendas.to_excel(\"/content/drive/MyDrive/DATA SCIENCE/ASESORIAS/Juan Felipe y Juan Fernando/Análisis Descriptivo y Exploratorio/INSUMOS/df1.xlsx\",\r\n",
        "                    index=False,sheet_name=\"Tiendas\")"
      ],
      "execution_count": 103,
      "outputs": []
    },
    {
      "cell_type": "markdown",
      "metadata": {
        "id": "sEmKM-EyqerO"
      },
      "source": [
        "**Importar datos desde Excel**"
      ]
    },
    {
      "cell_type": "code",
      "metadata": {
        "id": "_KHfrMypqLNk"
      },
      "source": [
        "tiendas=pd.read_excel(\"/content/drive/MyDrive/DATA SCIENCE/ASESORIAS/Juan Felipe y Juan Fernando/Análisis Descriptivo y Exploratorio/INSUMOS/df1.xlsx\",\r\n",
        "                      sheet_name=\"Tiendas\")"
      ],
      "execution_count": 108,
      "outputs": []
    },
    {
      "cell_type": "code",
      "metadata": {
        "colab": {
          "base_uri": "https://localhost:8080/"
        },
        "id": "lAQ1bH7Pq4XD",
        "outputId": "aeeb6daf-b9b5-4af5-bf6d-3c3b51b00e76"
      },
      "source": [
        "type(tiendas)"
      ],
      "execution_count": 109,
      "outputs": [
        {
          "output_type": "execute_result",
          "data": {
            "text/plain": [
              "pandas.core.frame.DataFrame"
            ]
          },
          "metadata": {
            "tags": []
          },
          "execution_count": 109
        }
      ]
    },
    {
      "cell_type": "code",
      "metadata": {
        "colab": {
          "base_uri": "https://localhost:8080/",
          "height": 141
        },
        "id": "B5eEh5D7q7Zb",
        "outputId": "f335c9e8-88ed-4abe-a7b0-a4bfd33d6a84"
      },
      "source": [
        "tiendas"
      ],
      "execution_count": 110,
      "outputs": [
        {
          "output_type": "execute_result",
          "data": {
            "text/html": [
              "<div>\n",
              "<style scoped>\n",
              "    .dataframe tbody tr th:only-of-type {\n",
              "        vertical-align: middle;\n",
              "    }\n",
              "\n",
              "    .dataframe tbody tr th {\n",
              "        vertical-align: top;\n",
              "    }\n",
              "\n",
              "    .dataframe thead th {\n",
              "        text-align: right;\n",
              "    }\n",
              "</style>\n",
              "<table border=\"1\" class=\"dataframe\">\n",
              "  <thead>\n",
              "    <tr style=\"text-align: right;\">\n",
              "      <th></th>\n",
              "      <th>Nombre</th>\n",
              "      <th>Prodcutos</th>\n",
              "      <th>Precio</th>\n",
              "    </tr>\n",
              "  </thead>\n",
              "  <tbody>\n",
              "    <tr>\n",
              "      <th>0</th>\n",
              "      <td>Don Pedro</td>\n",
              "      <td>Arroz</td>\n",
              "      <td>5000</td>\n",
              "    </tr>\n",
              "    <tr>\n",
              "      <th>1</th>\n",
              "      <td>Peluqueria</td>\n",
              "      <td>Gomina</td>\n",
              "      <td>2000</td>\n",
              "    </tr>\n",
              "    <tr>\n",
              "      <th>2</th>\n",
              "      <td>Carniceria</td>\n",
              "      <td>Mondongo</td>\n",
              "      <td>8000</td>\n",
              "    </tr>\n",
              "  </tbody>\n",
              "</table>\n",
              "</div>"
            ],
            "text/plain": [
              "       Nombre Prodcutos  Precio\n",
              "0   Don Pedro     Arroz    5000\n",
              "1  Peluqueria    Gomina    2000\n",
              "2  Carniceria  Mondongo    8000"
            ]
          },
          "metadata": {
            "tags": []
          },
          "execution_count": 110
        }
      ]
    },
    {
      "cell_type": "code",
      "metadata": {
        "id": "6EZ2fXfQq8NK"
      },
      "source": [
        ""
      ],
      "execution_count": null,
      "outputs": []
    },
    {
      "cell_type": "code",
      "metadata": {
        "id": "WZIBQKxLrUFe"
      },
      "source": [
        "\r\n"
      ],
      "execution_count": null,
      "outputs": []
    }
  ]
}