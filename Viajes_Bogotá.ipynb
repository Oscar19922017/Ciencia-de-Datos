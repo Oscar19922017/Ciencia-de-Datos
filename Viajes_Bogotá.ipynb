{
  "nbformat": 4,
  "nbformat_minor": 0,
  "metadata": {
    "colab": {
      "name": "Viajes_Bogotá.ipynb",
      "provenance": [],
      "collapsed_sections": [],
      "toc_visible": true,
      "authorship_tag": "ABX9TyNFBl2CMOUH1/4KoGbyQNnK",
      "include_colab_link": true
    },
    "kernelspec": {
      "name": "python3",
      "display_name": "Python 3"
    }
  },
  "cells": [
    {
      "cell_type": "markdown",
      "metadata": {
        "id": "view-in-github",
        "colab_type": "text"
      },
      "source": [
        "<a href=\"https://colab.research.google.com/github/Oscar19922017/Ciencia-de-Datos/blob/master/Viajes_Bogot%C3%A1.ipynb\" target=\"_parent\"><img src=\"https://colab.research.google.com/assets/colab-badge.svg\" alt=\"Open In Colab\"/></a>"
      ]
    },
    {
      "cell_type": "markdown",
      "metadata": {
        "id": "CMwZxISBsCSX"
      },
      "source": [
        "**Modelos no Supervisados**"
      ]
    },
    {
      "cell_type": "code",
      "metadata": {
        "id": "icGEDsLZsGpw"
      },
      "source": [
        "import pandas as pd\r\n",
        "import numpy as np\r\n",
        "from sklearn.preprocessing import StandardScaler\r\n",
        "from sklearn.cluster import KMeans\r\n",
        "import matplotlib.pyplot as plt"
      ],
      "execution_count": 23,
      "outputs": []
    },
    {
      "cell_type": "markdown",
      "metadata": {
        "id": "LmFVgteUsWwu"
      },
      "source": [
        "**Subir datos**"
      ]
    },
    {
      "cell_type": "code",
      "metadata": {
        "id": "HiVheTe0sTw9"
      },
      "source": [
        "df=pd.read_csv(r\"Viajes.csv\")"
      ],
      "execution_count": 24,
      "outputs": []
    },
    {
      "cell_type": "code",
      "metadata": {
        "colab": {
          "base_uri": "https://localhost:8080/",
          "height": 166
        },
        "id": "UaQzgoLtsyGw",
        "outputId": "defefe41-7814-41a0-fca1-aec16e3d9e66"
      },
      "source": [
        "df.head(4)"
      ],
      "execution_count": 25,
      "outputs": [
        {
          "output_type": "execute_result",
          "data": {
            "text/html": [
              "<div>\n",
              "<style scoped>\n",
              "    .dataframe tbody tr th:only-of-type {\n",
              "        vertical-align: middle;\n",
              "    }\n",
              "\n",
              "    .dataframe tbody tr th {\n",
              "        vertical-align: top;\n",
              "    }\n",
              "\n",
              "    .dataframe thead th {\n",
              "        text-align: right;\n",
              "    }\n",
              "</style>\n",
              "<table border=\"1\" class=\"dataframe\">\n",
              "  <thead>\n",
              "    <tr style=\"text-align: right;\">\n",
              "      <th></th>\n",
              "      <th>fecha</th>\n",
              "      <th>GEO_1</th>\n",
              "      <th>GEO_2</th>\n",
              "      <th>Distancia_Km</th>\n",
              "      <th>Tiempo_A</th>\n",
              "    </tr>\n",
              "  </thead>\n",
              "  <tbody>\n",
              "    <tr>\n",
              "      <th>0</th>\n",
              "      <td>2019011936260</td>\n",
              "      <td>4.7246682,-74.0241998</td>\n",
              "      <td>4.65556449,-74.07458744</td>\n",
              "      <td>15.914</td>\n",
              "      <td>1.235278</td>\n",
              "    </tr>\n",
              "    <tr>\n",
              "      <th>1</th>\n",
              "      <td>2019091630910</td>\n",
              "      <td>4.6511427,-74.1463712</td>\n",
              "      <td>4.7109886,-74.072092</td>\n",
              "      <td>14.868</td>\n",
              "      <td>0.266944</td>\n",
              "    </tr>\n",
              "    <tr>\n",
              "      <th>2</th>\n",
              "      <td>2019061835152</td>\n",
              "      <td>4.71938952,-74.03346117</td>\n",
              "      <td>4.66880272,-74.07795599</td>\n",
              "      <td>9.140</td>\n",
              "      <td>0.955278</td>\n",
              "    </tr>\n",
              "    <tr>\n",
              "      <th>3</th>\n",
              "      <td>2019071223754</td>\n",
              "      <td>4.75547918,-74.1156075</td>\n",
              "      <td>4.720736,-74.05435</td>\n",
              "      <td>12.270</td>\n",
              "      <td>2.268611</td>\n",
              "    </tr>\n",
              "  </tbody>\n",
              "</table>\n",
              "</div>"
            ],
            "text/plain": [
              "           fecha                    GEO_1  ... Distancia_Km  Tiempo_A\n",
              "0  2019011936260    4.7246682,-74.0241998  ...       15.914  1.235278\n",
              "1  2019091630910    4.6511427,-74.1463712  ...       14.868  0.266944\n",
              "2  2019061835152  4.71938952,-74.03346117  ...        9.140  0.955278\n",
              "3  2019071223754   4.75547918,-74.1156075  ...       12.270  2.268611\n",
              "\n",
              "[4 rows x 5 columns]"
            ]
          },
          "metadata": {
            "tags": []
          },
          "execution_count": 25
        }
      ]
    },
    {
      "cell_type": "markdown",
      "metadata": {
        "id": "A3l7iIgCs8DT"
      },
      "source": [
        "**Dimension de BD**"
      ]
    },
    {
      "cell_type": "code",
      "metadata": {
        "colab": {
          "base_uri": "https://localhost:8080/"
        },
        "id": "Xb16jjyHs0IX",
        "outputId": "01591f7b-3aee-4e28-a001-d8218b0ee36c"
      },
      "source": [
        "df.shape"
      ],
      "execution_count": 26,
      "outputs": [
        {
          "output_type": "execute_result",
          "data": {
            "text/plain": [
              "(9872, 5)"
            ]
          },
          "metadata": {
            "tags": []
          },
          "execution_count": 26
        }
      ]
    },
    {
      "cell_type": "code",
      "metadata": {
        "colab": {
          "base_uri": "https://localhost:8080/"
        },
        "id": "RW4m0LM2tEmW",
        "outputId": "fc512c14-c8ec-4cb1-dfa6-7063cb484c2c"
      },
      "source": [
        "df.info()"
      ],
      "execution_count": 27,
      "outputs": [
        {
          "output_type": "stream",
          "text": [
            "<class 'pandas.core.frame.DataFrame'>\n",
            "RangeIndex: 9872 entries, 0 to 9871\n",
            "Data columns (total 5 columns):\n",
            " #   Column        Non-Null Count  Dtype  \n",
            "---  ------        --------------  -----  \n",
            " 0   fecha         9872 non-null   object \n",
            " 1   GEO_1         9872 non-null   object \n",
            " 2   GEO_2         9872 non-null   object \n",
            " 3   Distancia_Km  9872 non-null   float64\n",
            " 4   Tiempo_A      9872 non-null   float64\n",
            "dtypes: float64(2), object(3)\n",
            "memory usage: 385.8+ KB\n"
          ],
          "name": "stdout"
        }
      ]
    },
    {
      "cell_type": "markdown",
      "metadata": {
        "id": "QDGlPLUVudSu"
      },
      "source": [
        "**Separamos coordenadas**"
      ]
    },
    {
      "cell_type": "code",
      "metadata": {
        "id": "b6T6MReIuL-o"
      },
      "source": [
        "nueva=df[\"GEO_1\"].str.split(\",\",n=1,expand =True)\r\n",
        "nueva.columns=[\"lat1\",\"log1\"]\r\n",
        "nueva1=df[\"GEO_2\"].str.split(\",\",n=1,expand =True)\r\n",
        "nueva1.columns=[\"lat2\",\"log2\"]"
      ],
      "execution_count": 28,
      "outputs": []
    },
    {
      "cell_type": "code",
      "metadata": {
        "id": "ipf0-xeKu64F"
      },
      "source": [
        "df1=df[[\"fecha\",\"Distancia_Km\",\"Tiempo_A\"]]"
      ],
      "execution_count": 29,
      "outputs": []
    },
    {
      "cell_type": "code",
      "metadata": {
        "colab": {
          "base_uri": "https://localhost:8080/",
          "height": 106
        },
        "id": "9_2kjeKpu8aT",
        "outputId": "57120e8b-3d00-46b3-aa8d-d693bc73db24"
      },
      "source": [
        "df1.head(2)"
      ],
      "execution_count": 30,
      "outputs": [
        {
          "output_type": "execute_result",
          "data": {
            "text/html": [
              "<div>\n",
              "<style scoped>\n",
              "    .dataframe tbody tr th:only-of-type {\n",
              "        vertical-align: middle;\n",
              "    }\n",
              "\n",
              "    .dataframe tbody tr th {\n",
              "        vertical-align: top;\n",
              "    }\n",
              "\n",
              "    .dataframe thead th {\n",
              "        text-align: right;\n",
              "    }\n",
              "</style>\n",
              "<table border=\"1\" class=\"dataframe\">\n",
              "  <thead>\n",
              "    <tr style=\"text-align: right;\">\n",
              "      <th></th>\n",
              "      <th>fecha</th>\n",
              "      <th>Distancia_Km</th>\n",
              "      <th>Tiempo_A</th>\n",
              "    </tr>\n",
              "  </thead>\n",
              "  <tbody>\n",
              "    <tr>\n",
              "      <th>0</th>\n",
              "      <td>2019011936260</td>\n",
              "      <td>15.914</td>\n",
              "      <td>1.235278</td>\n",
              "    </tr>\n",
              "    <tr>\n",
              "      <th>1</th>\n",
              "      <td>2019091630910</td>\n",
              "      <td>14.868</td>\n",
              "      <td>0.266944</td>\n",
              "    </tr>\n",
              "  </tbody>\n",
              "</table>\n",
              "</div>"
            ],
            "text/plain": [
              "           fecha  Distancia_Km  Tiempo_A\n",
              "0  2019011936260        15.914  1.235278\n",
              "1  2019091630910        14.868  0.266944"
            ]
          },
          "metadata": {
            "tags": []
          },
          "execution_count": 30
        }
      ]
    },
    {
      "cell_type": "code",
      "metadata": {
        "id": "sPRKrckuwA8k"
      },
      "source": [
        "df=pd.concat([df1,nueva,nueva1],axis=1)"
      ],
      "execution_count": 31,
      "outputs": []
    },
    {
      "cell_type": "code",
      "metadata": {
        "colab": {
          "base_uri": "https://localhost:8080/",
          "height": 195
        },
        "id": "Kbg09IAZwKtz",
        "outputId": "0b2d0749-ed85-4efc-8313-344f0a3a9a5e"
      },
      "source": [
        "df.head(5)"
      ],
      "execution_count": 32,
      "outputs": [
        {
          "output_type": "execute_result",
          "data": {
            "text/html": [
              "<div>\n",
              "<style scoped>\n",
              "    .dataframe tbody tr th:only-of-type {\n",
              "        vertical-align: middle;\n",
              "    }\n",
              "\n",
              "    .dataframe tbody tr th {\n",
              "        vertical-align: top;\n",
              "    }\n",
              "\n",
              "    .dataframe thead th {\n",
              "        text-align: right;\n",
              "    }\n",
              "</style>\n",
              "<table border=\"1\" class=\"dataframe\">\n",
              "  <thead>\n",
              "    <tr style=\"text-align: right;\">\n",
              "      <th></th>\n",
              "      <th>fecha</th>\n",
              "      <th>Distancia_Km</th>\n",
              "      <th>Tiempo_A</th>\n",
              "      <th>lat1</th>\n",
              "      <th>log1</th>\n",
              "      <th>lat2</th>\n",
              "      <th>log2</th>\n",
              "    </tr>\n",
              "  </thead>\n",
              "  <tbody>\n",
              "    <tr>\n",
              "      <th>0</th>\n",
              "      <td>2019011936260</td>\n",
              "      <td>15.914</td>\n",
              "      <td>1.235278</td>\n",
              "      <td>4.7246682</td>\n",
              "      <td>-74.0241998</td>\n",
              "      <td>4.65556449</td>\n",
              "      <td>-74.07458744</td>\n",
              "    </tr>\n",
              "    <tr>\n",
              "      <th>1</th>\n",
              "      <td>2019091630910</td>\n",
              "      <td>14.868</td>\n",
              "      <td>0.266944</td>\n",
              "      <td>4.6511427</td>\n",
              "      <td>-74.1463712</td>\n",
              "      <td>4.7109886</td>\n",
              "      <td>-74.072092</td>\n",
              "    </tr>\n",
              "    <tr>\n",
              "      <th>2</th>\n",
              "      <td>2019061835152</td>\n",
              "      <td>9.140</td>\n",
              "      <td>0.955278</td>\n",
              "      <td>4.71938952</td>\n",
              "      <td>-74.03346117</td>\n",
              "      <td>4.66880272</td>\n",
              "      <td>-74.07795599</td>\n",
              "    </tr>\n",
              "    <tr>\n",
              "      <th>3</th>\n",
              "      <td>2019071223754</td>\n",
              "      <td>12.270</td>\n",
              "      <td>2.268611</td>\n",
              "      <td>4.75547918</td>\n",
              "      <td>-74.1156075</td>\n",
              "      <td>4.720736</td>\n",
              "      <td>-74.05435</td>\n",
              "    </tr>\n",
              "    <tr>\n",
              "      <th>4</th>\n",
              "      <td>2019110920498</td>\n",
              "      <td>15.914</td>\n",
              "      <td>1.325833</td>\n",
              "      <td>4.7246682</td>\n",
              "      <td>-74.0241998</td>\n",
              "      <td>4.65556449</td>\n",
              "      <td>-74.07458744</td>\n",
              "    </tr>\n",
              "  </tbody>\n",
              "</table>\n",
              "</div>"
            ],
            "text/plain": [
              "           fecha  Distancia_Km  ...        lat2          log2\n",
              "0  2019011936260        15.914  ...  4.65556449  -74.07458744\n",
              "1  2019091630910        14.868  ...   4.7109886    -74.072092\n",
              "2  2019061835152         9.140  ...  4.66880272  -74.07795599\n",
              "3  2019071223754        12.270  ...    4.720736     -74.05435\n",
              "4  2019110920498        15.914  ...  4.65556449  -74.07458744\n",
              "\n",
              "[5 rows x 7 columns]"
            ]
          },
          "metadata": {
            "tags": []
          },
          "execution_count": 32
        }
      ]
    },
    {
      "cell_type": "code",
      "metadata": {
        "colab": {
          "base_uri": "https://localhost:8080/"
        },
        "id": "wGCxvTTVwMmC",
        "outputId": "d4ca2588-cb41-4896-833d-c6cfb5dbdbc3"
      },
      "source": [
        "df.info()"
      ],
      "execution_count": 33,
      "outputs": [
        {
          "output_type": "stream",
          "text": [
            "<class 'pandas.core.frame.DataFrame'>\n",
            "RangeIndex: 9872 entries, 0 to 9871\n",
            "Data columns (total 7 columns):\n",
            " #   Column        Non-Null Count  Dtype  \n",
            "---  ------        --------------  -----  \n",
            " 0   fecha         9872 non-null   object \n",
            " 1   Distancia_Km  9872 non-null   float64\n",
            " 2   Tiempo_A      9872 non-null   float64\n",
            " 3   lat1          9872 non-null   object \n",
            " 4   log1          9872 non-null   object \n",
            " 5   lat2          9872 non-null   object \n",
            " 6   log2          9872 non-null   object \n",
            "dtypes: float64(2), object(5)\n",
            "memory usage: 540.0+ KB\n"
          ],
          "name": "stdout"
        }
      ]
    },
    {
      "cell_type": "markdown",
      "metadata": {
        "id": "IlL3l8AewcyG"
      },
      "source": [
        "**Recodificar Variables**"
      ]
    },
    {
      "cell_type": "code",
      "metadata": {
        "id": "3ctUj6-uwWWj"
      },
      "source": [
        "df[\"lat1\"]=df[\"lat1\"].astype(float)\r\n",
        "df[\"lat2\"]=df[\"lat2\"].astype(float)\r\n",
        "df[\"log1\"]=df[\"log1\"].astype(float)\r\n",
        "df[\"log2\"]=df[\"log2\"].astype(float)"
      ],
      "execution_count": 34,
      "outputs": []
    },
    {
      "cell_type": "code",
      "metadata": {
        "colab": {
          "base_uri": "https://localhost:8080/"
        },
        "id": "C97kmiNVwmjh",
        "outputId": "5befe4fc-c703-4b35-9412-4704a54a4520"
      },
      "source": [
        "df.info()"
      ],
      "execution_count": 36,
      "outputs": [
        {
          "output_type": "stream",
          "text": [
            "<class 'pandas.core.frame.DataFrame'>\n",
            "RangeIndex: 9872 entries, 0 to 9871\n",
            "Data columns (total 7 columns):\n",
            " #   Column        Non-Null Count  Dtype  \n",
            "---  ------        --------------  -----  \n",
            " 0   fecha         9872 non-null   object \n",
            " 1   Distancia_Km  9872 non-null   float64\n",
            " 2   Tiempo_A      9872 non-null   float64\n",
            " 3   lat1          9872 non-null   float64\n",
            " 4   log1          9872 non-null   float64\n",
            " 5   lat2          9872 non-null   float64\n",
            " 6   log2          9872 non-null   float64\n",
            "dtypes: float64(6), object(1)\n",
            "memory usage: 540.0+ KB\n"
          ],
          "name": "stdout"
        }
      ]
    },
    {
      "cell_type": "markdown",
      "metadata": {
        "id": "gCG8sRRbw969"
      },
      "source": [
        "**Modelo No Supervisado K-Means**"
      ]
    },
    {
      "cell_type": "code",
      "metadata": {
        "id": "6iYipsaCw8in"
      },
      "source": [
        ""
      ],
      "execution_count": null,
      "outputs": []
    }
  ]
}