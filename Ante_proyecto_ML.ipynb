{
  "nbformat": 4,
  "nbformat_minor": 0,
  "metadata": {
    "colab": {
      "name": "Ante_proyecto_ML.ipynb",
      "provenance": [],
      "toc_visible": true,
      "mount_file_id": "1u27JYWo_qmaHiCZoKQlmEKnx6QuV3Ks6",
      "authorship_tag": "ABX9TyPhS9Dgpm8l63H8cu7rEHNM",
      "include_colab_link": true
    },
    "kernelspec": {
      "name": "python3",
      "display_name": "Python 3"
    },
    "language_info": {
      "name": "python"
    }
  },
  "cells": [
    {
      "cell_type": "markdown",
      "metadata": {
        "id": "view-in-github",
        "colab_type": "text"
      },
      "source": [
        "<a href=\"https://colab.research.google.com/github/Oscar19922017/Ciencia-de-Datos/blob/master/Ante_proyecto_ML.ipynb\" target=\"_parent\"><img src=\"https://colab.research.google.com/assets/colab-badge.svg\" alt=\"Open In Colab\"/></a>"
      ]
    },
    {
      "cell_type": "markdown",
      "metadata": {
        "id": "H6PKConGCvy9"
      },
      "source": [
        "# 1) **Contexto del Problema**\n",
        "\n",
        "La mayoría de nosotros conoce a alguien que luchó contra el cáncer de mama, o al menos escuchó sobre las luchas que enfrentan los pacientes que luchan contra el cáncer de mama. El cáncer de mama es el cáncer más frecuente entre las mujeres y afecta a 2,1 millones de mujeres cada año. El cáncer de mama causa el mayor número de muertes relacionadas con el cáncer entre las mujeres. Solo en 2018, se estima que 627.000 mujeres murieron de cáncer de mama.\n",
        "\n",
        "La parte más importante de un proceso de toma de decisiones clínicas en pacientes con cáncer, en general, es la estimación precisa del pronóstico y la duración de la supervivencia. Las pacientes con cáncer de mama con la misma etapa de la enfermedad y las mismas características clínicas pueden tener diferentes respuestas al tratamiento y supervivencia general, pero ¿por qué?\n",
        "\n",
        "Los cánceres están asociados con anomalías genéticas. La expresión genética mide el nivel de actividad genética en un tejido y proporciona información sobre sus actividades complejas. La comparación de los genes expresados ​​en tejido normal y enfermo puede aportar una mejor comprensión del pronóstico y los resultados del cáncer. El uso de técnicas de aprendizaje automático en datos genéticos tiene el potencial de proporcionar la estimación correcta del tiempo de supervivencia y puede evitar procedimientos quirúrgicos y de tratamiento innecesarios.\n",
        "\n",
        "Objetivo:\n",
        "\n",
        "*Predecir la supervivencia del cáncer de mama utilizando modelos de aprendizaje automático con datos clínicos y perfiles de expresión génica.\n",
        "Agrupación de genes*\n",
        "\n",
        "https://www.kaggle.com/raghadalharbi/breast-cancer-gene-expression-profiles-metabric"
      ]
    },
    {
      "cell_type": "markdown",
      "metadata": {
        "id": "MEw4DwbrEGhY"
      },
      "source": [
        "# **2 Descripción de los Datos**\n",
        "\n",
        "La base de datos del Consorcio Internacional de Taxonomía Molecular del Cáncer de Mama (METABRIC) es un proyecto de Canadá-Reino Unido que contiene datos de secuenciación específicos de 1.980 muestras de cáncer de mama primario. Los datos clínicos y genómicos se descargaron de cBioPortal.\n",
        "\n",
        "El conjunto de datos fue recopilado por el profesor Carlos Caldas del Cambridge Research Institute y el profesor Sam Aparicio del British Columbia Cancer Center en Canadá y publicado en Nature Communications (Pereira et al., 2016). También apareció en varios artículos, incluidos Nature y otros:\n",
        "\n",
        "* Associations between genomic stratification of breast cancer and centrally reviewed tumor pathology in the METABRIC cohort\n",
        "https://www.nature.com/articles/s41523-018-0056-8\n",
        "\n",
        "* Predicting Outcomes of Hormone and Chemotherapy in the Molecular Taxonomy of Breast Cancer International Consortium (METABRIC) Study by Biochemically-inspired Machine Learning https://www.ncbi.nlm.nih.gov/pmc/articles/PMC5461908/\n",
        "\n",
        "Atributos clínicos en el conjunto de datos:"
      ]
    },
    {
      "cell_type": "markdown",
      "metadata": {
        "id": "z74aGvHaJXwT"
      },
      "source": [
        ""
      ]
    },
    {
      "cell_type": "markdown",
      "metadata": {
        "id": "NIj8m_LfFMTA"
      },
      "source": [
        "## **Importar Base de Datos**"
      ]
    },
    {
      "cell_type": "code",
      "metadata": {
        "id": "TUs2fbcvEuWl"
      },
      "source": [
        "import numpy as np # Matemetias y Matrices\n",
        "import pandas as pd # para BD\n",
        "import matplotlib.pyplot as plt # Graficas\n",
        "import seaborn as sns # Graficas estadisticas\n",
        "from scipy.stats import shapiro # Pruebas Estadisticas\n",
        "from scipy.stats import chi2_contingency # Pruebas de Independencia para Tablas de contingencia\n",
        "### Modelación de Machine Learning\n",
        "from sklearn.model_selection import train_test_split # Para dividir nuesntra BD en entrenamiento y Test\n",
        "import statsmodels.api as sm\n",
        "from scipy.stats import normaltest"
      ],
      "execution_count": 2,
      "outputs": []
    },
    {
      "cell_type": "code",
      "metadata": {
        "colab": {
          "base_uri": "https://localhost:8080/"
        },
        "id": "O5pQHuGnEuTF",
        "outputId": "03d80d5c-1801-4b8d-ab1c-3a7c1f7f2685"
      },
      "source": [
        "df=pd.read_csv(\"/content/drive/MyDrive/DATA SCIENCE/ASESORIAS/Especializacion_Analitica/METABRIC_RNA_Mutation.csv\")\n",
        "df1=pd.read_csv(\"/content/drive/MyDrive/DATA SCIENCE/ASESORIAS/Especializacion_Analitica/Breast Cancer METABRIC.csv\")"
      ],
      "execution_count": 27,
      "outputs": [
        {
          "output_type": "stream",
          "name": "stderr",
          "text": [
            "/usr/local/lib/python3.7/dist-packages/IPython/core/interactiveshell.py:2718: DtypeWarning: Columns (678,688,690,692) have mixed types.Specify dtype option on import or set low_memory=False.\n",
            "  interactivity=interactivity, compiler=compiler, result=result)\n"
          ]
        }
      ]
    },
    {
      "cell_type": "code",
      "metadata": {
        "colab": {
          "base_uri": "https://localhost:8080/"
        },
        "id": "JiRPipEeCx42",
        "outputId": "d9dc1d34-bf49-4b9c-da82-4bd141b1b5e3"
      },
      "source": [
        "print(df.shape)\n",
        "print(df1.shape)"
      ],
      "execution_count": 28,
      "outputs": [
        {
          "output_type": "stream",
          "name": "stdout",
          "text": [
            "(1904, 693)\n",
            "(2509, 34)\n"
          ]
        }
      ]
    },
    {
      "cell_type": "code",
      "metadata": {
        "colab": {
          "base_uri": "https://localhost:8080/",
          "height": 209
        },
        "id": "vhWXgN9kGTdN",
        "outputId": "a73e2d42-ed46-4773-ba0a-e0e38cd6458c"
      },
      "source": [
        "df.head(2)"
      ],
      "execution_count": 29,
      "outputs": [
        {
          "output_type": "execute_result",
          "data": {
            "text/html": [
              "<div>\n",
              "<style scoped>\n",
              "    .dataframe tbody tr th:only-of-type {\n",
              "        vertical-align: middle;\n",
              "    }\n",
              "\n",
              "    .dataframe tbody tr th {\n",
              "        vertical-align: top;\n",
              "    }\n",
              "\n",
              "    .dataframe thead th {\n",
              "        text-align: right;\n",
              "    }\n",
              "</style>\n",
              "<table border=\"1\" class=\"dataframe\">\n",
              "  <thead>\n",
              "    <tr style=\"text-align: right;\">\n",
              "      <th></th>\n",
              "      <th>patient_id</th>\n",
              "      <th>age_at_diagnosis</th>\n",
              "      <th>type_of_breast_surgery</th>\n",
              "      <th>cancer_type</th>\n",
              "      <th>cancer_type_detailed</th>\n",
              "      <th>cellularity</th>\n",
              "      <th>chemotherapy</th>\n",
              "      <th>pam50_+_claudin-low_subtype</th>\n",
              "      <th>cohort</th>\n",
              "      <th>er_status_measured_by_ihc</th>\n",
              "      <th>er_status</th>\n",
              "      <th>neoplasm_histologic_grade</th>\n",
              "      <th>her2_status_measured_by_snp6</th>\n",
              "      <th>her2_status</th>\n",
              "      <th>tumor_other_histologic_subtype</th>\n",
              "      <th>hormone_therapy</th>\n",
              "      <th>inferred_menopausal_state</th>\n",
              "      <th>integrative_cluster</th>\n",
              "      <th>primary_tumor_laterality</th>\n",
              "      <th>lymph_nodes_examined_positive</th>\n",
              "      <th>mutation_count</th>\n",
              "      <th>nottingham_prognostic_index</th>\n",
              "      <th>oncotree_code</th>\n",
              "      <th>overall_survival_months</th>\n",
              "      <th>overall_survival</th>\n",
              "      <th>pr_status</th>\n",
              "      <th>radio_therapy</th>\n",
              "      <th>3-gene_classifier_subtype</th>\n",
              "      <th>tumor_size</th>\n",
              "      <th>tumor_stage</th>\n",
              "      <th>death_from_cancer</th>\n",
              "      <th>brca1</th>\n",
              "      <th>brca2</th>\n",
              "      <th>palb2</th>\n",
              "      <th>pten</th>\n",
              "      <th>tp53</th>\n",
              "      <th>atm</th>\n",
              "      <th>cdh1</th>\n",
              "      <th>chek2</th>\n",
              "      <th>nbn</th>\n",
              "      <th>...</th>\n",
              "      <th>gpr32_mut</th>\n",
              "      <th>kras_mut</th>\n",
              "      <th>nf2_mut</th>\n",
              "      <th>chek2_mut</th>\n",
              "      <th>ldlrap1_mut</th>\n",
              "      <th>clrn2_mut</th>\n",
              "      <th>acvrl1_mut</th>\n",
              "      <th>agtr2_mut</th>\n",
              "      <th>cdkn2a_mut</th>\n",
              "      <th>ctnna1_mut</th>\n",
              "      <th>magea8_mut</th>\n",
              "      <th>prr16_mut</th>\n",
              "      <th>dtwd2_mut</th>\n",
              "      <th>akt2_mut</th>\n",
              "      <th>braf_mut</th>\n",
              "      <th>foxo1_mut</th>\n",
              "      <th>nt5e_mut</th>\n",
              "      <th>ccnd3_mut</th>\n",
              "      <th>nr3c1_mut</th>\n",
              "      <th>prkg1_mut</th>\n",
              "      <th>tbl1xr1_mut</th>\n",
              "      <th>frmd3_mut</th>\n",
              "      <th>smad2_mut</th>\n",
              "      <th>sgcd_mut</th>\n",
              "      <th>spaca1_mut</th>\n",
              "      <th>rasgef1b_mut</th>\n",
              "      <th>hist1h2bc_mut</th>\n",
              "      <th>nr2f1_mut</th>\n",
              "      <th>klrg1_mut</th>\n",
              "      <th>mbl2_mut</th>\n",
              "      <th>mtap_mut</th>\n",
              "      <th>ppp2cb_mut</th>\n",
              "      <th>smarcd1_mut</th>\n",
              "      <th>nras_mut</th>\n",
              "      <th>ndfip1_mut</th>\n",
              "      <th>hras_mut</th>\n",
              "      <th>prps2_mut</th>\n",
              "      <th>smarcb1_mut</th>\n",
              "      <th>stmn2_mut</th>\n",
              "      <th>siah1_mut</th>\n",
              "    </tr>\n",
              "  </thead>\n",
              "  <tbody>\n",
              "    <tr>\n",
              "      <th>0</th>\n",
              "      <td>0</td>\n",
              "      <td>75.65</td>\n",
              "      <td>MASTECTOMY</td>\n",
              "      <td>Breast Cancer</td>\n",
              "      <td>Breast Invasive Ductal Carcinoma</td>\n",
              "      <td>NaN</td>\n",
              "      <td>0</td>\n",
              "      <td>claudin-low</td>\n",
              "      <td>1.0</td>\n",
              "      <td>Positve</td>\n",
              "      <td>Positive</td>\n",
              "      <td>3.0</td>\n",
              "      <td>NEUTRAL</td>\n",
              "      <td>Negative</td>\n",
              "      <td>Ductal/NST</td>\n",
              "      <td>1</td>\n",
              "      <td>Post</td>\n",
              "      <td>4ER+</td>\n",
              "      <td>Right</td>\n",
              "      <td>10.0</td>\n",
              "      <td>NaN</td>\n",
              "      <td>6.044</td>\n",
              "      <td>IDC</td>\n",
              "      <td>140.500000</td>\n",
              "      <td>1</td>\n",
              "      <td>Negative</td>\n",
              "      <td>1</td>\n",
              "      <td>ER-/HER2-</td>\n",
              "      <td>22.0</td>\n",
              "      <td>2.0</td>\n",
              "      <td>Living</td>\n",
              "      <td>-1.399</td>\n",
              "      <td>-0.5738</td>\n",
              "      <td>-1.6217</td>\n",
              "      <td>1.4524</td>\n",
              "      <td>0.3504</td>\n",
              "      <td>1.1517</td>\n",
              "      <td>0.0348</td>\n",
              "      <td>0.1266</td>\n",
              "      <td>-0.8361</td>\n",
              "      <td>...</td>\n",
              "      <td>0</td>\n",
              "      <td>0</td>\n",
              "      <td>0</td>\n",
              "      <td>0</td>\n",
              "      <td>0</td>\n",
              "      <td>0</td>\n",
              "      <td>0</td>\n",
              "      <td>0</td>\n",
              "      <td>0</td>\n",
              "      <td>0</td>\n",
              "      <td>0</td>\n",
              "      <td>0</td>\n",
              "      <td>0</td>\n",
              "      <td>0</td>\n",
              "      <td>0</td>\n",
              "      <td>0</td>\n",
              "      <td>0</td>\n",
              "      <td>0</td>\n",
              "      <td>0</td>\n",
              "      <td>0</td>\n",
              "      <td>0</td>\n",
              "      <td>0</td>\n",
              "      <td>0</td>\n",
              "      <td>0</td>\n",
              "      <td>0</td>\n",
              "      <td>0</td>\n",
              "      <td>0</td>\n",
              "      <td>0</td>\n",
              "      <td>0</td>\n",
              "      <td>0</td>\n",
              "      <td>0</td>\n",
              "      <td>0</td>\n",
              "      <td>0</td>\n",
              "      <td>0</td>\n",
              "      <td>0</td>\n",
              "      <td>0</td>\n",
              "      <td>0</td>\n",
              "      <td>0</td>\n",
              "      <td>0</td>\n",
              "      <td>0</td>\n",
              "    </tr>\n",
              "    <tr>\n",
              "      <th>1</th>\n",
              "      <td>2</td>\n",
              "      <td>43.19</td>\n",
              "      <td>BREAST CONSERVING</td>\n",
              "      <td>Breast Cancer</td>\n",
              "      <td>Breast Invasive Ductal Carcinoma</td>\n",
              "      <td>High</td>\n",
              "      <td>0</td>\n",
              "      <td>LumA</td>\n",
              "      <td>1.0</td>\n",
              "      <td>Positve</td>\n",
              "      <td>Positive</td>\n",
              "      <td>3.0</td>\n",
              "      <td>NEUTRAL</td>\n",
              "      <td>Negative</td>\n",
              "      <td>Ductal/NST</td>\n",
              "      <td>1</td>\n",
              "      <td>Pre</td>\n",
              "      <td>4ER+</td>\n",
              "      <td>Right</td>\n",
              "      <td>0.0</td>\n",
              "      <td>2.0</td>\n",
              "      <td>4.020</td>\n",
              "      <td>IDC</td>\n",
              "      <td>84.633333</td>\n",
              "      <td>1</td>\n",
              "      <td>Positive</td>\n",
              "      <td>1</td>\n",
              "      <td>ER+/HER2- High Prolif</td>\n",
              "      <td>10.0</td>\n",
              "      <td>1.0</td>\n",
              "      <td>Living</td>\n",
              "      <td>-1.380</td>\n",
              "      <td>0.2777</td>\n",
              "      <td>-1.2154</td>\n",
              "      <td>0.5296</td>\n",
              "      <td>-0.0136</td>\n",
              "      <td>-0.2659</td>\n",
              "      <td>1.3594</td>\n",
              "      <td>0.7961</td>\n",
              "      <td>0.5419</td>\n",
              "      <td>...</td>\n",
              "      <td>0</td>\n",
              "      <td>0</td>\n",
              "      <td>0</td>\n",
              "      <td>0</td>\n",
              "      <td>0</td>\n",
              "      <td>0</td>\n",
              "      <td>0</td>\n",
              "      <td>0</td>\n",
              "      <td>0</td>\n",
              "      <td>0</td>\n",
              "      <td>0</td>\n",
              "      <td>0</td>\n",
              "      <td>0</td>\n",
              "      <td>0</td>\n",
              "      <td>0</td>\n",
              "      <td>0</td>\n",
              "      <td>0</td>\n",
              "      <td>0</td>\n",
              "      <td>0</td>\n",
              "      <td>0</td>\n",
              "      <td>0</td>\n",
              "      <td>0</td>\n",
              "      <td>0</td>\n",
              "      <td>0</td>\n",
              "      <td>0</td>\n",
              "      <td>0</td>\n",
              "      <td>0</td>\n",
              "      <td>0</td>\n",
              "      <td>0</td>\n",
              "      <td>0</td>\n",
              "      <td>0</td>\n",
              "      <td>0</td>\n",
              "      <td>0</td>\n",
              "      <td>0</td>\n",
              "      <td>0</td>\n",
              "      <td>0</td>\n",
              "      <td>0</td>\n",
              "      <td>0</td>\n",
              "      <td>0</td>\n",
              "      <td>0</td>\n",
              "    </tr>\n",
              "  </tbody>\n",
              "</table>\n",
              "<p>2 rows × 693 columns</p>\n",
              "</div>"
            ],
            "text/plain": [
              "   patient_id  age_at_diagnosis  ... stmn2_mut siah1_mut\n",
              "0           0             75.65  ...         0         0\n",
              "1           2             43.19  ...         0         0\n",
              "\n",
              "[2 rows x 693 columns]"
            ]
          },
          "metadata": {},
          "execution_count": 29
        }
      ]
    },
    {
      "cell_type": "code",
      "metadata": {
        "colab": {
          "base_uri": "https://localhost:8080/",
          "height": 284
        },
        "id": "tuxDcU8qGVNz",
        "outputId": "50f354e9-f5e7-4475-9c28-960f1b633ae4"
      },
      "source": [
        "df1.head(2)"
      ],
      "execution_count": 30,
      "outputs": [
        {
          "output_type": "execute_result",
          "data": {
            "text/html": [
              "<div>\n",
              "<style scoped>\n",
              "    .dataframe tbody tr th:only-of-type {\n",
              "        vertical-align: middle;\n",
              "    }\n",
              "\n",
              "    .dataframe tbody tr th {\n",
              "        vertical-align: top;\n",
              "    }\n",
              "\n",
              "    .dataframe thead th {\n",
              "        text-align: right;\n",
              "    }\n",
              "</style>\n",
              "<table border=\"1\" class=\"dataframe\">\n",
              "  <thead>\n",
              "    <tr style=\"text-align: right;\">\n",
              "      <th></th>\n",
              "      <th>Patient ID</th>\n",
              "      <th>Age at Diagnosis</th>\n",
              "      <th>Type of Breast Surgery</th>\n",
              "      <th>Cancer Type</th>\n",
              "      <th>Cancer Type Detailed</th>\n",
              "      <th>Cellularity</th>\n",
              "      <th>Chemotherapy</th>\n",
              "      <th>Pam50 + Claudin-low subtype</th>\n",
              "      <th>Cohort</th>\n",
              "      <th>ER status measured by IHC</th>\n",
              "      <th>ER Status</th>\n",
              "      <th>Neoplasm Histologic Grade</th>\n",
              "      <th>HER2 status measured by SNP6</th>\n",
              "      <th>HER2 Status</th>\n",
              "      <th>Tumor Other Histologic Subtype</th>\n",
              "      <th>Hormone Therapy</th>\n",
              "      <th>Inferred Menopausal State</th>\n",
              "      <th>Integrative Cluster</th>\n",
              "      <th>Primary Tumor Laterality</th>\n",
              "      <th>Lymph nodes examined positive</th>\n",
              "      <th>Mutation Count</th>\n",
              "      <th>Nottingham prognostic index</th>\n",
              "      <th>Oncotree Code</th>\n",
              "      <th>Overall Survival (Months)</th>\n",
              "      <th>Overall Survival Status</th>\n",
              "      <th>PR Status</th>\n",
              "      <th>Radio Therapy</th>\n",
              "      <th>Relapse Free Status (Months)</th>\n",
              "      <th>Relapse Free Status</th>\n",
              "      <th>Sex</th>\n",
              "      <th>3-Gene classifier subtype</th>\n",
              "      <th>Tumor Size</th>\n",
              "      <th>Tumor Stage</th>\n",
              "      <th>Patient's Vital Status</th>\n",
              "    </tr>\n",
              "  </thead>\n",
              "  <tbody>\n",
              "    <tr>\n",
              "      <th>0</th>\n",
              "      <td>MB-0000</td>\n",
              "      <td>75.65</td>\n",
              "      <td>Mastectomy</td>\n",
              "      <td>Breast Cancer</td>\n",
              "      <td>Breast Invasive Ductal Carcinoma</td>\n",
              "      <td>NaN</td>\n",
              "      <td>No</td>\n",
              "      <td>claudin-low</td>\n",
              "      <td>1.0</td>\n",
              "      <td>Positve</td>\n",
              "      <td>Positive</td>\n",
              "      <td>3.0</td>\n",
              "      <td>Neutral</td>\n",
              "      <td>Negative</td>\n",
              "      <td>Ductal/NST</td>\n",
              "      <td>Yes</td>\n",
              "      <td>Post</td>\n",
              "      <td>4ER+</td>\n",
              "      <td>Right</td>\n",
              "      <td>10.0</td>\n",
              "      <td>NaN</td>\n",
              "      <td>6.044</td>\n",
              "      <td>IDC</td>\n",
              "      <td>140.500000</td>\n",
              "      <td>Living</td>\n",
              "      <td>Negative</td>\n",
              "      <td>Yes</td>\n",
              "      <td>138.65</td>\n",
              "      <td>Not Recurred</td>\n",
              "      <td>Female</td>\n",
              "      <td>ER-/HER2-</td>\n",
              "      <td>22.0</td>\n",
              "      <td>2.0</td>\n",
              "      <td>Living</td>\n",
              "    </tr>\n",
              "    <tr>\n",
              "      <th>1</th>\n",
              "      <td>MB-0002</td>\n",
              "      <td>43.19</td>\n",
              "      <td>Breast Conserving</td>\n",
              "      <td>Breast Cancer</td>\n",
              "      <td>Breast Invasive Ductal Carcinoma</td>\n",
              "      <td>High</td>\n",
              "      <td>No</td>\n",
              "      <td>LumA</td>\n",
              "      <td>1.0</td>\n",
              "      <td>Positve</td>\n",
              "      <td>Positive</td>\n",
              "      <td>3.0</td>\n",
              "      <td>Neutral</td>\n",
              "      <td>Negative</td>\n",
              "      <td>Ductal/NST</td>\n",
              "      <td>Yes</td>\n",
              "      <td>Pre</td>\n",
              "      <td>4ER+</td>\n",
              "      <td>Right</td>\n",
              "      <td>0.0</td>\n",
              "      <td>2.0</td>\n",
              "      <td>4.020</td>\n",
              "      <td>IDC</td>\n",
              "      <td>84.633333</td>\n",
              "      <td>Living</td>\n",
              "      <td>Positive</td>\n",
              "      <td>Yes</td>\n",
              "      <td>83.52</td>\n",
              "      <td>Not Recurred</td>\n",
              "      <td>Female</td>\n",
              "      <td>ER+/HER2- High Prolif</td>\n",
              "      <td>10.0</td>\n",
              "      <td>1.0</td>\n",
              "      <td>Living</td>\n",
              "    </tr>\n",
              "  </tbody>\n",
              "</table>\n",
              "</div>"
            ],
            "text/plain": [
              "  Patient ID  Age at Diagnosis  ... Tumor Stage Patient's Vital Status\n",
              "0    MB-0000             75.65  ...         2.0                 Living\n",
              "1    MB-0002             43.19  ...         1.0                 Living\n",
              "\n",
              "[2 rows x 34 columns]"
            ]
          },
          "metadata": {},
          "execution_count": 30
        }
      ]
    },
    {
      "cell_type": "code",
      "metadata": {
        "colab": {
          "base_uri": "https://localhost:8080/"
        },
        "id": "jxNlokLwIq9a",
        "outputId": "83e8128d-766e-412d-c428-049d2fa992ae"
      },
      "source": [
        "df.columns"
      ],
      "execution_count": 31,
      "outputs": [
        {
          "output_type": "execute_result",
          "data": {
            "text/plain": [
              "Index(['patient_id', 'age_at_diagnosis', 'type_of_breast_surgery',\n",
              "       'cancer_type', 'cancer_type_detailed', 'cellularity', 'chemotherapy',\n",
              "       'pam50_+_claudin-low_subtype', 'cohort', 'er_status_measured_by_ihc',\n",
              "       ...\n",
              "       'mtap_mut', 'ppp2cb_mut', 'smarcd1_mut', 'nras_mut', 'ndfip1_mut',\n",
              "       'hras_mut', 'prps2_mut', 'smarcb1_mut', 'stmn2_mut', 'siah1_mut'],\n",
              "      dtype='object', length=693)"
            ]
          },
          "metadata": {},
          "execution_count": 31
        }
      ]
    },
    {
      "cell_type": "code",
      "metadata": {
        "colab": {
          "base_uri": "https://localhost:8080/"
        },
        "id": "FS0IjRqGKeHx",
        "outputId": "579fb066-486c-4e0c-cc02-94e2c1065603"
      },
      "source": [
        "df1.columns"
      ],
      "execution_count": 32,
      "outputs": [
        {
          "output_type": "execute_result",
          "data": {
            "text/plain": [
              "Index(['Patient ID', 'Age at Diagnosis', 'Type of Breast Surgery',\n",
              "       'Cancer Type', 'Cancer Type Detailed', 'Cellularity', 'Chemotherapy',\n",
              "       'Pam50 + Claudin-low subtype', 'Cohort', 'ER status measured by IHC',\n",
              "       'ER Status', 'Neoplasm Histologic Grade',\n",
              "       'HER2 status measured by SNP6', 'HER2 Status',\n",
              "       'Tumor Other Histologic Subtype', 'Hormone Therapy',\n",
              "       'Inferred Menopausal State', 'Integrative Cluster',\n",
              "       'Primary Tumor Laterality', 'Lymph nodes examined positive',\n",
              "       'Mutation Count', 'Nottingham prognostic index', 'Oncotree Code',\n",
              "       'Overall Survival (Months)', 'Overall Survival Status', 'PR Status',\n",
              "       'Radio Therapy', 'Relapse Free Status (Months)', 'Relapse Free Status',\n",
              "       'Sex', '3-Gene classifier subtype', 'Tumor Size', 'Tumor Stage',\n",
              "       'Patient's Vital Status'],\n",
              "      dtype='object')"
            ]
          },
          "metadata": {},
          "execution_count": 32
        }
      ]
    },
    {
      "cell_type": "markdown",
      "metadata": {
        "id": "Og7HSjfiKmCn"
      },
      "source": [
        "## **Diccionario de Variables**\n",
        "\n",
        "* patient_id\n",
        "* ageatdiagnosis\n",
        "* typeofbreast_surgery\n",
        "* cancer_type\n",
        "* cancertypedetailed\n",
        "* cellularity\n",
        "* chemotherapy\n",
        "* pam50+claudin-low_subtype\n",
        "* cohort\n",
        "* erstatusmeasuredbyihc\n",
        "* er_status\n",
        "* neoplasmhistologicgrade\n",
        "* her2statusmeasuredbysnp6\n",
        "* her2_status\n",
        "* tumorotherhistologic_subtype\n",
        "* hormone_therapy\n",
        "* inferredmenopausalstate\n",
        "* integrative_cluster\n",
        "* primarytumorlaterality\n",
        "* lymphnodesexamined_positive\n",
        "* mutation_count\n",
        "* nottinghamprognosticindex\n",
        "* oncotree_code\n",
        "* overallsurvivalmonths\n",
        "* overall_survival\n",
        "* pr_status\n",
        "* radio_therapy\n",
        "* 3-geneclassifiersubtype\n",
        "* tumor_size\n",
        "* tumor_stage\n",
        "* deathfromcancer"
      ]
    },
    {
      "cell_type": "markdown",
      "metadata": {
        "id": "1UiXBvRBMR_c"
      },
      "source": [
        "Atributos genéticos en el conjunto de datos:\n",
        "La parte genética del conjunto de datos contiene la puntuación z de los niveles de ARNm para 331 genes y la mutación para 175 genes.\n",
        "\n",
        "Desde CBioPortal:\n",
        "\n",
        "¿Qué son los ARNm?\n",
        "Las moléculas de ADN unidas a cada portaobjetos actúan como sondas para detectar la expresión génica, que también se conoce como transcriptoma o el conjunto de transcripciones de ARN mensajero (ARNm) expresadas por un grupo de genes. Para realizar un análisis de microarrays, las moléculas de ARNm se recolectan típicamente tanto de una muestra experimental como de una muestra de referencia.\n",
        "\n",
        "¿Qué son las puntuaciones Z de ARNm?\n",
        "Para los datos de expresión de ARNm, se realizan los cálculos de la expresión relativa de un gen individual y un tumor a la distribución de expresión del gen en una población de referencia. Esa población de referencia son todas las muestras del estudio. El valor devuelto indica el número de desviaciones estándar de la media de expresión en la población de referencia (puntuación Z). Esta medida es útil para determinar si un gen está regulado hacia arriba o hacia abajo en relación con las muestras normales o con todas las demás muestras tumorales.\n",
        "\n",
        "The formula is :\n",
        "\n",
        "z = (expression in tumor sample - mean expression in reference sample) / standard deviation of expression in reference sample"
      ]
    },
    {
      "cell_type": "code",
      "metadata": {
        "id": "7aNF9uUlKhHw"
      },
      "source": [
        ""
      ],
      "execution_count": null,
      "outputs": []
    }
  ]
}