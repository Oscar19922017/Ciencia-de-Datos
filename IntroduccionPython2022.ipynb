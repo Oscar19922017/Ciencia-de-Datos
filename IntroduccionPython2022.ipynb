{
  "nbformat": 4,
  "nbformat_minor": 0,
  "metadata": {
    "colab": {
      "name": "IntroduccionPython.ipynb",
      "provenance": [],
      "mount_file_id": "1qZ4S3dIIRDMpb25Y1IDKMKh-n-g6IIH4",
      "authorship_tag": "ABX9TyMSgQmoB0nWked/ANPepi8F",
      "include_colab_link": true
    },
    "kernelspec": {
      "name": "python3",
      "display_name": "Python 3"
    },
    "language_info": {
      "name": "python"
    }
  },
  "cells": [
    {
      "cell_type": "markdown",
      "metadata": {
        "id": "view-in-github",
        "colab_type": "text"
      },
      "source": [
        "<a href=\"https://colab.research.google.com/github/Oscar19922017/Ciencia-de-Datos/blob/master/IntroduccionPython2022.ipynb\" target=\"_parent\"><img src=\"https://colab.research.google.com/assets/colab-badge.svg\" alt=\"Open In Colab\"/></a>"
      ]
    },
    {
      "cell_type": "markdown",
      "source": [
        "# **Introducción a Python**\n",
        "\n",
        "\"Se trata de un lenguaje de programación de alto nivel multiparadigma, ya que soporta orientación a objetos, programación imperativa y, en menor medida, programación funcional. Es un lenguaje interpretado, dinámico y multiplataforma\"\n",
        "\n",
        "**Python para Ciencia de Datos**\n",
        "\n",
        "Según lo revelado por los resultados de una encuesta realizada por Kaggle una plataforna de científicos de datos, Python es el más usado en cuanto a lenguaje de programación, seguido de SQL y R para el tema de ciencia de Datos\n",
        "\n",
        "\n",
        "\n",
        "\n",
        "\n",
        "\n",
        "\n",
        "\n"
      ],
      "metadata": {
        "id": "KS6FdAaz1E6I"
      }
    },
    {
      "cell_type": "markdown",
      "source": [
        "## **Librerias para Ciencia de Datos**\n",
        "* Numpy :NumPy es una biblioteca de Python muy popular para el procesamiento de matrices y matrices multidimensionales de gran tamaño\n",
        "* Pandas : Pandas es una biblioteca de Python popular para el análisis de datos. No está directamente relacionado con el aprendizaje automático. Como sabemos, el conjunto de datos debe estar preparado antes del entrenamiento.\n",
        "* Matplotlib : Matpoltlib es una biblioteca Python muy popular para la visualización de datos. Al igual que Pandas, no está directamente relacionado con el aprendizaje automático. Es particularmente útil cuando un programador quiere visualizar los patrones en los datos\n",
        "* Scipy : SciPy es una biblioteca muy popular entre los entusiastas del aprendizaje automático, ya que contiene diferentes módulos para optimización, álgebra lineal, integración y estadísticas.\n",
        "* Scikit-learn : Skikit-learn es una de las bibliotecas ML más populares para algoritmos ML clásicos. Está construido sobre dos bibliotecas básicas de Python, a saber, NumPy y SciPy. Scikit-learn admite la mayoría de los algoritmos de aprendizaje supervisados ​​y no supervisados.\n",
        "* Keras : Keras es una biblioteca de Machine Learning muy popular para Python. Es una API de redes neuronales de alto nivel capaz de ejecutarse sobre TensorFlow, CNTK o Theano. Se puede ejecutar sin problemas tanto en la CPU como en la GPU. Keras hace que sea realmente para principiantes de ML construir y diseñar una red neuronal.\n",
        "* TensorFlow : TensorFlow es una biblioteca de código abierto muy popular para el cómputo numérico de alto rendimiento desarrollado por el equipo de Google Brain en Google. Como su nombre lo indica, Tensorflow es un marco que implica definir y ejecutar cálculos que involucran tensores. Puede entrenar y ejecutar redes neuronales profundas que pueden usarse para desarrollar varias aplicaciones de IA\n",
        "* Statsmodels es un módulo de Python que proporciona clases y funciones para la estimación de muchos modelos estadísticos diferentes, así como para realizar pruebas estadísticas y exploración de datos estadísticos. \n",
        "* Seaborn : Seaborn es una biblioteca de visualización de datos de Python basada en matplotlib . Proporciona una interfaz de alto nivel para dibujar gráficos estadísticos atractivos e informativos."
      ],
      "metadata": {
        "id": "hmjUy1dK4RJp"
      }
    },
    {
      "cell_type": "markdown",
      "source": [
        "**Importar Libreria**"
      ],
      "metadata": {
        "id": "NdcLFYqT6KcF"
      }
    },
    {
      "cell_type": "code",
      "source": [
        "# Importar de forma directa\n",
        "import numpy# matrices\n",
        "import pandas# depurar datos\n",
        "import matplotlib # graficos\n",
        "import os # carpteas\n",
        "import sklearn"
      ],
      "metadata": {
        "id": "w_0g8ios1KAW"
      },
      "execution_count": 116,
      "outputs": []
    },
    {
      "cell_type": "markdown",
      "source": [
        "**Installar Librerias**"
      ],
      "metadata": {
        "id": "pphRMTS66cla"
      }
    },
    {
      "cell_type": "code",
      "source": [
        "# colab \n",
        "#!pip install numpy\n",
        "# Anaconda\n",
        "#pip install numpy\n",
        "#!pip install numpy\n",
        "# anaconda comando conda\n",
        "# conda install pandas\n",
        "#conda install sklearn"
      ],
      "metadata": {
        "id": "zzKUjTBZ6Uqk"
      },
      "execution_count": 117,
      "outputs": []
    },
    {
      "cell_type": "code",
      "source": [
        "## Importamos con Alias\n",
        "import pandas as pd\n",
        "import numpy as np"
      ],
      "metadata": {
        "id": "wL0p4s5c6ky8"
      },
      "execution_count": 118,
      "outputs": []
    },
    {
      "cell_type": "markdown",
      "source": [
        "# **Primeros Pasos con Python**"
      ],
      "metadata": {
        "id": "4xlf5Fy59HG_"
      }
    },
    {
      "cell_type": "markdown",
      "source": [
        "**Calculadora**"
      ],
      "metadata": {
        "id": "gfxae-TE9LT2"
      }
    },
    {
      "cell_type": "code",
      "source": [
        "# suma\n",
        "print(f'La suma de dos numero: {6+5}')\n",
        "print(f'La suma de otros dos numeros es: {5+8}')\n",
        "# dividr\n",
        "print(8/2)\n",
        "# Resta\n",
        "print(8-5)\n",
        "# Multiplica\n",
        "print(8*5)"
      ],
      "metadata": {
        "colab": {
          "base_uri": "https://localhost:8080/"
        },
        "id": "A1T10WB28Klz",
        "outputId": "2a4a9576-2327-4ef2-a403-fb271bc75c67"
      },
      "execution_count": 119,
      "outputs": [
        {
          "output_type": "stream",
          "name": "stdout",
          "text": [
            "La suma de dos numero: 11\n",
            "La suma de otros dos numeros es: 13\n",
            "4.0\n",
            "3\n",
            "40\n"
          ]
        }
      ]
    },
    {
      "cell_type": "markdown",
      "source": [
        "## **Variables en Pyhon**\n",
        "\n",
        "¿Que es una Variable?\n",
        "\"En programación, una variable está formada por un espacio en el sistema de almacenaje (memoria principal de un ordenador) y un nombre simbólico (un identificador) que está asociado a dicho espacio. Ese espacio contiene una cantidad de información conocida o desconocida, es decir un valor. El nombre de la variable es la forma usual de referirse al valor almacenad\"\n",
        "\n",
        "Tipos de Variables: Enteros, flotantes, cadenas de caracteres, boleanos, bytes, complejos"
      ],
      "metadata": {
        "id": "g0IWIWN19_aZ"
      }
    },
    {
      "cell_type": "code",
      "source": [
        "Edad=28 # declarando con ="
      ],
      "metadata": {
        "id": "oBG2ABJm-P_v"
      },
      "execution_count": 120,
      "outputs": []
    },
    {
      "cell_type": "code",
      "source": [
        "print(f'Muestreme la edad del cliente: {Edad}')"
      ],
      "metadata": {
        "colab": {
          "base_uri": "https://localhost:8080/"
        },
        "id": "Yr1heG8D-gm-",
        "outputId": "aa16d303-9d6a-44f2-d13c-c91740572c88"
      },
      "execution_count": 121,
      "outputs": [
        {
          "output_type": "stream",
          "name": "stdout",
          "text": [
            "Muestreme la edad del cliente: 28\n"
          ]
        }
      ]
    },
    {
      "cell_type": "code",
      "source": [
        "Edad=21\n",
        "print(f'Muestreme la edad del cliente: {Edad}')"
      ],
      "metadata": {
        "colab": {
          "base_uri": "https://localhost:8080/"
        },
        "id": "YRJa_1UN-lr9",
        "outputId": "fa4fe194-3953-4723-ae81-6b9b49712735"
      },
      "execution_count": 122,
      "outputs": [
        {
          "output_type": "stream",
          "name": "stdout",
          "text": [
            "Muestreme la edad del cliente: 21\n"
          ]
        }
      ]
    },
    {
      "cell_type": "code",
      "source": [
        "type(Edad)"
      ],
      "metadata": {
        "colab": {
          "base_uri": "https://localhost:8080/"
        },
        "id": "WvcfiYUZ-uX-",
        "outputId": "6ce8f55c-afd6-4e2a-9e58-50d15fae2209"
      },
      "execution_count": 123,
      "outputs": [
        {
          "output_type": "execute_result",
          "data": {
            "text/plain": [
              "int"
            ]
          },
          "metadata": {},
          "execution_count": 123
        }
      ]
    },
    {
      "cell_type": "code",
      "source": [
        "Edad=\"21\" # tipo string en python en comillas simples o dobles\n",
        "type(Edad)"
      ],
      "metadata": {
        "colab": {
          "base_uri": "https://localhost:8080/"
        },
        "id": "SPLBkqsI-2qV",
        "outputId": "6937154d-e614-4890-fa57-766b9717ed54"
      },
      "execution_count": 124,
      "outputs": [
        {
          "output_type": "execute_result",
          "data": {
            "text/plain": [
              "str"
            ]
          },
          "metadata": {},
          "execution_count": 124
        }
      ]
    },
    {
      "cell_type": "code",
      "source": [
        "Edad='21' # tipo string en python en comillas simples o dobles\n",
        "type(Edad)"
      ],
      "metadata": {
        "colab": {
          "base_uri": "https://localhost:8080/"
        },
        "id": "NnDWgCJP-6NF",
        "outputId": "49357ab0-3cc2-4460-e778-dacffb347bed"
      },
      "execution_count": 125,
      "outputs": [
        {
          "output_type": "execute_result",
          "data": {
            "text/plain": [
              "str"
            ]
          },
          "metadata": {},
          "execution_count": 125
        }
      ]
    },
    {
      "cell_type": "code",
      "source": [
        "Edad=21.0\n",
        "type(Edad)"
      ],
      "metadata": {
        "colab": {
          "base_uri": "https://localhost:8080/"
        },
        "id": "N3NtidDD_D91",
        "outputId": "8aaf105c-9186-4dac-9f5f-90b113dc1854"
      },
      "execution_count": 126,
      "outputs": [
        {
          "output_type": "execute_result",
          "data": {
            "text/plain": [
              "float"
            ]
          },
          "metadata": {},
          "execution_count": 126
        }
      ]
    },
    {
      "cell_type": "code",
      "source": [
        "Edad=int(Edad) # convertir de decimal a entera"
      ],
      "metadata": {
        "id": "JBkrxaTm_XKW"
      },
      "execution_count": 127,
      "outputs": []
    },
    {
      "cell_type": "code",
      "source": [
        "float(Edad) # Int a decimal"
      ],
      "metadata": {
        "colab": {
          "base_uri": "https://localhost:8080/"
        },
        "id": "3cUCZhf0_b5V",
        "outputId": "401786c3-190c-44ac-d4e9-35bd73a88d61"
      },
      "execution_count": 128,
      "outputs": [
        {
          "output_type": "execute_result",
          "data": {
            "text/plain": [
              "21.0"
            ]
          },
          "metadata": {},
          "execution_count": 128
        }
      ]
    },
    {
      "cell_type": "code",
      "source": [
        "##\n",
        "Nombre=\"Luis\"\n",
        "Apellido= \"Carmona\""
      ],
      "metadata": {
        "id": "xVfLKvi9_ijs"
      },
      "execution_count": 129,
      "outputs": []
    },
    {
      "cell_type": "code",
      "source": [
        "type(Nombre)"
      ],
      "metadata": {
        "colab": {
          "base_uri": "https://localhost:8080/"
        },
        "id": "yVfFngjr_1Rc",
        "outputId": "e3139a83-7b96-4234-d891-50795861ad12"
      },
      "execution_count": 130,
      "outputs": [
        {
          "output_type": "execute_result",
          "data": {
            "text/plain": [
              "str"
            ]
          },
          "metadata": {},
          "execution_count": 130
        }
      ]
    },
    {
      "cell_type": "code",
      "source": [
        "type(Apellido)"
      ],
      "metadata": {
        "colab": {
          "base_uri": "https://localhost:8080/"
        },
        "id": "fTjOBPzS_3uM",
        "outputId": "2451d2d6-5120-4cc6-e858-2f78bcfe2803"
      },
      "execution_count": 131,
      "outputs": [
        {
          "output_type": "execute_result",
          "data": {
            "text/plain": [
              "str"
            ]
          },
          "metadata": {},
          "execution_count": 131
        }
      ]
    },
    {
      "cell_type": "code",
      "source": [
        "# cuando es styring se concantena con +\n",
        "NombreCompleto=Nombre + \" \" + Apellido\n",
        "print(NombreCompleto)"
      ],
      "metadata": {
        "colab": {
          "base_uri": "https://localhost:8080/"
        },
        "id": "gwehtlHq_5d0",
        "outputId": "f696201e-9c1e-4e84-db87-2b696e9ef60c"
      },
      "execution_count": 132,
      "outputs": [
        {
          "output_type": "stream",
          "name": "stdout",
          "text": [
            "Luis Carmona\n"
          ]
        }
      ]
    },
    {
      "cell_type": "markdown",
      "source": [
        "**Separar texto**"
      ],
      "metadata": {
        "id": "HZ_aF8CIAT0u"
      }
    },
    {
      "cell_type": "code",
      "source": [
        "NombreCompleto.split(\" \")"
      ],
      "metadata": {
        "colab": {
          "base_uri": "https://localhost:8080/"
        },
        "id": "tTfrJ7SyAXvn",
        "outputId": "894d0141-1228-4f7d-9df3-5e644c54e712"
      },
      "execution_count": 133,
      "outputs": [
        {
          "output_type": "execute_result",
          "data": {
            "text/plain": [
              "['Luis', 'Carmona']"
            ]
          },
          "metadata": {},
          "execution_count": 133
        }
      ]
    },
    {
      "cell_type": "code",
      "source": [
        "Edad1=15\n",
        "Edad2=25"
      ],
      "metadata": {
        "id": "4z221kn-ADOM"
      },
      "execution_count": 134,
      "outputs": []
    },
    {
      "cell_type": "code",
      "source": [
        "Edad1+Edad2"
      ],
      "metadata": {
        "colab": {
          "base_uri": "https://localhost:8080/"
        },
        "id": "dYmVqM-pANLU",
        "outputId": "a029d464-df6e-4cda-bd38-073cc2c622e2"
      },
      "execution_count": 135,
      "outputs": [
        {
          "output_type": "execute_result",
          "data": {
            "text/plain": [
              "40"
            ]
          },
          "metadata": {},
          "execution_count": 135
        }
      ]
    },
    {
      "cell_type": "code",
      "source": [
        "SI=True\n",
        "type(SI)"
      ],
      "metadata": {
        "colab": {
          "base_uri": "https://localhost:8080/"
        },
        "id": "BN-8azlcA_hI",
        "outputId": "f35f503c-87c0-4e72-a238-f774adf3ab1a"
      },
      "execution_count": 136,
      "outputs": [
        {
          "output_type": "execute_result",
          "data": {
            "text/plain": [
              "bool"
            ]
          },
          "metadata": {},
          "execution_count": 136
        }
      ]
    },
    {
      "cell_type": "markdown",
      "source": [
        "## **Listas**\n",
        "\n",
        "Una lista en Python es una estructura de datos formada por una secuencia ordenada de objetos"
      ],
      "metadata": {
        "id": "aM-CaAIIAh6A"
      }
    },
    {
      "cell_type": "code",
      "source": [
        "# se crea con []\n",
        "Nombres=[\"Oscar\",\"Luis\",\"Hugo\",\"Javier\",\"Carlos\"]"
      ],
      "metadata": {
        "id": "sPEABoVGAOrk"
      },
      "execution_count": 137,
      "outputs": []
    },
    {
      "cell_type": "code",
      "source": [
        "print(Nombres)"
      ],
      "metadata": {
        "colab": {
          "base_uri": "https://localhost:8080/"
        },
        "id": "KRKv0sbPBU7b",
        "outputId": "03d02437-7610-464d-a53c-0c4a044dc387"
      },
      "execution_count": 138,
      "outputs": [
        {
          "output_type": "stream",
          "name": "stdout",
          "text": [
            "['Oscar', 'Luis', 'Hugo', 'Javier', 'Carlos']\n"
          ]
        }
      ]
    },
    {
      "cell_type": "code",
      "source": [
        "## Agrgar otro nombre\n",
        "Nombres.append(\"Daniel\")"
      ],
      "metadata": {
        "id": "um4gk_uuBYqS"
      },
      "execution_count": 139,
      "outputs": []
    },
    {
      "cell_type": "code",
      "source": [
        "print(Nombres)"
      ],
      "metadata": {
        "colab": {
          "base_uri": "https://localhost:8080/"
        },
        "id": "2fzjir1wBcfz",
        "outputId": "e7db5d09-5b38-48db-e7e9-de02cf6d8fc2"
      },
      "execution_count": 140,
      "outputs": [
        {
          "output_type": "stream",
          "name": "stdout",
          "text": [
            "['Oscar', 'Luis', 'Hugo', 'Javier', 'Carlos', 'Daniel']\n"
          ]
        }
      ]
    },
    {
      "cell_type": "code",
      "source": [
        "Nombres[1]"
      ],
      "metadata": {
        "colab": {
          "base_uri": "https://localhost:8080/",
          "height": 35
        },
        "id": "YcgBbrVfBomj",
        "outputId": "6a185f53-1fe4-434f-cc9f-d45554614512"
      },
      "execution_count": 141,
      "outputs": [
        {
          "output_type": "execute_result",
          "data": {
            "application/vnd.google.colaboratory.intrinsic+json": {
              "type": "string"
            },
            "text/plain": [
              "'Luis'"
            ]
          },
          "metadata": {},
          "execution_count": 141
        }
      ]
    },
    {
      "cell_type": "code",
      "source": [
        "Nombres[0]"
      ],
      "metadata": {
        "colab": {
          "base_uri": "https://localhost:8080/",
          "height": 35
        },
        "id": "1A-wKMQFCEjq",
        "outputId": "2ca8927e-5139-4c30-c108-0ea29daca98a"
      },
      "execution_count": 142,
      "outputs": [
        {
          "output_type": "execute_result",
          "data": {
            "application/vnd.google.colaboratory.intrinsic+json": {
              "type": "string"
            },
            "text/plain": [
              "'Oscar'"
            ]
          },
          "metadata": {},
          "execution_count": 142
        }
      ]
    },
    {
      "cell_type": "code",
      "source": [
        "len(Nombres)"
      ],
      "metadata": {
        "colab": {
          "base_uri": "https://localhost:8080/"
        },
        "id": "-jJT1ylACGuq",
        "outputId": "0d225e95-efec-45d6-bb8f-4f6b2fba93df"
      },
      "execution_count": 143,
      "outputs": [
        {
          "output_type": "execute_result",
          "data": {
            "text/plain": [
              "6"
            ]
          },
          "metadata": {},
          "execution_count": 143
        }
      ]
    },
    {
      "cell_type": "code",
      "source": [
        "# 6 posiciones\n",
        "# 6 datos"
      ],
      "metadata": {
        "id": "GtKKmeX8CMBq"
      },
      "execution_count": 144,
      "outputs": []
    },
    {
      "cell_type": "code",
      "source": [
        "Nombres[len(Nombres)-1] # al ultimo dato"
      ],
      "metadata": {
        "colab": {
          "base_uri": "https://localhost:8080/",
          "height": 35
        },
        "id": "LgJ4tTKkCYii",
        "outputId": "84b3a453-75dc-40bf-fe62-4401d1e448bd"
      },
      "execution_count": 145,
      "outputs": [
        {
          "output_type": "execute_result",
          "data": {
            "application/vnd.google.colaboratory.intrinsic+json": {
              "type": "string"
            },
            "text/plain": [
              "'Daniel'"
            ]
          },
          "metadata": {},
          "execution_count": 145
        }
      ]
    },
    {
      "cell_type": "code",
      "source": [
        "# acceder al ultimo\n",
        "Nombres[-1]"
      ],
      "metadata": {
        "colab": {
          "base_uri": "https://localhost:8080/",
          "height": 35
        },
        "id": "DWtqWcXnCaaJ",
        "outputId": "906e8647-8f14-4471-90c1-85f78c3af279"
      },
      "execution_count": 146,
      "outputs": [
        {
          "output_type": "execute_result",
          "data": {
            "application/vnd.google.colaboratory.intrinsic+json": {
              "type": "string"
            },
            "text/plain": [
              "'Daniel'"
            ]
          },
          "metadata": {},
          "execution_count": 146
        }
      ]
    },
    {
      "cell_type": "code",
      "source": [
        "ListaMixta=[\"daniel\",23,25,0.23,False]"
      ],
      "metadata": {
        "id": "qVj-M0NGCoMB"
      },
      "execution_count": 153,
      "outputs": []
    },
    {
      "cell_type": "code",
      "source": [
        "ListaMixta.remove(\"daniel\") # Eliminar Registro"
      ],
      "metadata": {
        "id": "AE81-xx4GdEN"
      },
      "execution_count": 156,
      "outputs": []
    },
    {
      "cell_type": "code",
      "source": [
        "ListaMixta"
      ],
      "metadata": {
        "colab": {
          "base_uri": "https://localhost:8080/"
        },
        "id": "I8wzWoPhGwdF",
        "outputId": "c7ce9a47-5461-457f-ed75-fb8b5398d130"
      },
      "execution_count": 157,
      "outputs": [
        {
          "output_type": "execute_result",
          "data": {
            "text/plain": [
              "[25, 0.23, False]"
            ]
          },
          "metadata": {},
          "execution_count": 157
        }
      ]
    },
    {
      "cell_type": "code",
      "source": [
        "versiones_plone = [4, 2.5, 5, 3.6, 2.1, 6]"
      ],
      "metadata": {
        "id": "nn0bywMxHUg0"
      },
      "execution_count": 158,
      "outputs": []
    },
    {
      "cell_type": "code",
      "source": [
        "# ordenar\n",
        "versiones_plone.sort()"
      ],
      "metadata": {
        "id": "C3SNOimmH418"
      },
      "execution_count": 159,
      "outputs": []
    },
    {
      "cell_type": "code",
      "source": [
        "versiones_plone"
      ],
      "metadata": {
        "colab": {
          "base_uri": "https://localhost:8080/"
        },
        "id": "fZwwsmNNH90b",
        "outputId": "df67dfe0-0196-487b-86f2-452ac322da82"
      },
      "execution_count": 160,
      "outputs": [
        {
          "output_type": "execute_result",
          "data": {
            "text/plain": [
              "[2.1, 2.5, 3.6, 4, 5, 6]"
            ]
          },
          "metadata": {},
          "execution_count": 160
        }
      ]
    },
    {
      "cell_type": "code",
      "source": [
        "# Reverse\n",
        "versiones_plone.sort(reverse=True)"
      ],
      "metadata": {
        "id": "PLzINiGuH_9z"
      },
      "execution_count": 161,
      "outputs": []
    },
    {
      "cell_type": "code",
      "source": [
        "versiones_plone"
      ],
      "metadata": {
        "colab": {
          "base_uri": "https://localhost:8080/"
        },
        "id": "AOAjOS6jIHzb",
        "outputId": "ff651a3d-bd00-4299-8de0-16e58cb9632f"
      },
      "execution_count": 162,
      "outputs": [
        {
          "output_type": "execute_result",
          "data": {
            "text/plain": [
              "[6, 5, 4, 3.6, 2.5, 2.1]"
            ]
          },
          "metadata": {},
          "execution_count": 162
        }
      ]
    },
    {
      "cell_type": "code",
      "source": [
        "# Insertar con posicion\n",
        "versiones_plone.insert(1,8)"
      ],
      "metadata": {
        "id": "UsHwUPmrII7r"
      },
      "execution_count": 164,
      "outputs": []
    },
    {
      "cell_type": "code",
      "source": [
        "versiones_plone"
      ],
      "metadata": {
        "colab": {
          "base_uri": "https://localhost:8080/"
        },
        "id": "J3a2lIPWIcg6",
        "outputId": "54a76c94-d191-408f-e3bc-e5fcb36bfe21"
      },
      "execution_count": 165,
      "outputs": [
        {
          "output_type": "execute_result",
          "data": {
            "text/plain": [
              "[6, 8, 5, 4, 3.6, 2.5, 2.1]"
            ]
          },
          "metadata": {},
          "execution_count": 165
        }
      ]
    },
    {
      "cell_type": "code",
      "source": [
        "versiones_plone[0:3] # Acceder"
      ],
      "metadata": {
        "colab": {
          "base_uri": "https://localhost:8080/"
        },
        "id": "rLHFMIrQIfkT",
        "outputId": "b8fd4a35-7b71-459f-b2f7-fb937baf88bb"
      },
      "execution_count": 168,
      "outputs": [
        {
          "output_type": "execute_result",
          "data": {
            "text/plain": [
              "[6, 8, 5]"
            ]
          },
          "metadata": {},
          "execution_count": 168
        }
      ]
    },
    {
      "cell_type": "markdown",
      "source": [
        "## **Diccionarios**\n",
        "Un Diccionario es una estructura de datos y un tipo de dato en Python con características especiales que nos permite almacenar cualquier tipo de valor como enteros, cadenas, listas e incluso otras funciones. Estos diccionarios nos permiten además identificar cada elemento por una clave (Key).\n",
        "\n",
        "Para definir un diccionario, se encierra el listado de valores entre llaves. Las parejas de clave y valor se separan con comas, y la clave y el valor se separan con dos puntos."
      ],
      "metadata": {
        "id": "CAcUkhEmI-bN"
      }
    },
    {
      "cell_type": "code",
      "source": [
        "## {}, Lista []\n",
        "Estudiantes={ \"Nombre\" :\"Carlos\",\"Edad\":35,\"Cursos\":[\"IntroduccionPython\",\"Estadistica\",\"SQL\"]}"
      ],
      "metadata": {
        "id": "qEZ459xiI4ED"
      },
      "execution_count": 173,
      "outputs": []
    },
    {
      "cell_type": "code",
      "source": [
        "print(Estudiantes[\"Nombre\"])"
      ],
      "metadata": {
        "colab": {
          "base_uri": "https://localhost:8080/"
        },
        "id": "uhuvdGl5JinT",
        "outputId": "2b25d026-181f-4498-ea1e-ed1085fc0db7"
      },
      "execution_count": 171,
      "outputs": [
        {
          "output_type": "stream",
          "name": "stdout",
          "text": [
            "Carlos\n"
          ]
        }
      ]
    },
    {
      "cell_type": "code",
      "source": [
        "print(Estudiantes[\"Edad\"])"
      ],
      "metadata": {
        "colab": {
          "base_uri": "https://localhost:8080/"
        },
        "id": "z5PhE2oqJkoq",
        "outputId": "eaaaf34c-fac6-4c02-8b00-9f2d8bf77f50"
      },
      "execution_count": 172,
      "outputs": [
        {
          "output_type": "stream",
          "name": "stdout",
          "text": [
            "35\n"
          ]
        }
      ]
    },
    {
      "cell_type": "code",
      "source": [
        "print(Estudiantes[\"Cursos\"])"
      ],
      "metadata": {
        "colab": {
          "base_uri": "https://localhost:8080/"
        },
        "id": "YbSyUDG5JxzK",
        "outputId": "790e8913-73bf-48d9-ba7c-4fdc0cae5311"
      },
      "execution_count": 174,
      "outputs": [
        {
          "output_type": "stream",
          "name": "stdout",
          "text": [
            "['IntroduccionPython', 'Estadistica', 'SQL']\n"
          ]
        }
      ]
    },
    {
      "cell_type": "code",
      "source": [
        "Estudiantes.keys()"
      ],
      "metadata": {
        "colab": {
          "base_uri": "https://localhost:8080/"
        },
        "id": "6O4nFKO8J1e6",
        "outputId": "7c075a57-0252-4242-c99e-c40104a2ebe0"
      },
      "execution_count": 175,
      "outputs": [
        {
          "output_type": "execute_result",
          "data": {
            "text/plain": [
              "dict_keys(['Nombre', 'Edad', 'Cursos'])"
            ]
          },
          "metadata": {},
          "execution_count": 175
        }
      ]
    },
    {
      "cell_type": "code",
      "source": [
        "Estudiantes.values()"
      ],
      "metadata": {
        "colab": {
          "base_uri": "https://localhost:8080/"
        },
        "id": "Bookw-v0J6lK",
        "outputId": "283ebbea-0ce1-4a1d-b0b8-25518ddc1a6c"
      },
      "execution_count": 176,
      "outputs": [
        {
          "output_type": "execute_result",
          "data": {
            "text/plain": [
              "dict_values(['Carlos', 35, ['IntroduccionPython', 'Estadistica', 'SQL']])"
            ]
          },
          "metadata": {},
          "execution_count": 176
        }
      ]
    },
    {
      "cell_type": "code",
      "source": [
        "deportes={\"Futbol\":\"Inglaterra\",\n",
        "          \"Tekondo\": \"Japon\",\n",
        "          \"FutbolAmericano\":\"USA\"}"
      ],
      "metadata": {
        "id": "AU3MkHHiJ9V6"
      },
      "execution_count": 178,
      "outputs": []
    },
    {
      "cell_type": "code",
      "source": [
        "deportes"
      ],
      "metadata": {
        "colab": {
          "base_uri": "https://localhost:8080/"
        },
        "id": "Z4jMDHDJK1za",
        "outputId": "4ed966e4-9b5e-4387-f7b2-c2b0c5938fa3"
      },
      "execution_count": 179,
      "outputs": [
        {
          "output_type": "execute_result",
          "data": {
            "text/plain": [
              "{'Futbol': 'Inglaterra', 'FutbolAmericano': 'USA', 'Tekondo': 'Japon'}"
            ]
          },
          "metadata": {},
          "execution_count": 179
        }
      ]
    },
    {
      "cell_type": "code",
      "source": [
        "## Series de Pandas"
      ],
      "metadata": {
        "id": "5a5ey3UmK49J"
      },
      "execution_count": 180,
      "outputs": []
    },
    {
      "cell_type": "markdown",
      "source": [
        "**SERIES**\n",
        "\n",
        "Series es la estructura de datos para una sola columna de una DataFrame, no solo conceptualmente, sino que literalmente, es decir, los datos de una DataFrame se almacenan en la memoria como una colección de Series."
      ],
      "metadata": {
        "id": "Vw7Ic21UL8Zp"
      }
    },
    {
      "cell_type": "code",
      "source": [
        "# convertir una diccionario en una serie\n",
        "SerieDeportes=pd.Series(deportes)\n",
        "SerieDeportes"
      ],
      "metadata": {
        "colab": {
          "base_uri": "https://localhost:8080/"
        },
        "id": "OAXHbkQAK84U",
        "outputId": "07b82554-f084-4e5e-d8f0-067cb7b8c0d7"
      },
      "execution_count": 182,
      "outputs": [
        {
          "output_type": "execute_result",
          "data": {
            "text/plain": [
              "Futbol             Inglaterra\n",
              "Tekondo                 Japon\n",
              "FutbolAmericano           USA\n",
              "dtype: object"
            ]
          },
          "metadata": {},
          "execution_count": 182
        }
      ]
    },
    {
      "cell_type": "code",
      "source": [
        "## Acceder\n",
        "SerieDeportes.iloc[2]"
      ],
      "metadata": {
        "colab": {
          "base_uri": "https://localhost:8080/",
          "height": 35
        },
        "id": "xPI9wpBaLS9h",
        "outputId": "7daae3aa-0c33-4740-d4b6-4d38bbe70bc4"
      },
      "execution_count": 186,
      "outputs": [
        {
          "output_type": "execute_result",
          "data": {
            "application/vnd.google.colaboratory.intrinsic+json": {
              "type": "string"
            },
            "text/plain": [
              "'USA'"
            ]
          },
          "metadata": {},
          "execution_count": 186
        }
      ]
    },
    {
      "cell_type": "code",
      "source": [
        "## Aceder con nombres\n",
        "SerieDeportes.loc[\"Futbol\"]"
      ],
      "metadata": {
        "colab": {
          "base_uri": "https://localhost:8080/",
          "height": 35
        },
        "id": "Yp0RXWnPLnsw",
        "outputId": "6349f9bf-b396-4288-8b7f-f43e82005922"
      },
      "execution_count": 187,
      "outputs": [
        {
          "output_type": "execute_result",
          "data": {
            "application/vnd.google.colaboratory.intrinsic+json": {
              "type": "string"
            },
            "text/plain": [
              "'Inglaterra'"
            ]
          },
          "metadata": {},
          "execution_count": 187
        }
      ]
    },
    {
      "cell_type": "markdown",
      "source": [
        "**DataFrame**\n",
        "\n",
        "El DataFrame es una estructura de 2 dimensiones etiquetada donde podemos almacenar datos de diferentes tipos. DataFrame es similar a una tabla SQL o una hoja de cálculo de Excel."
      ],
      "metadata": {
        "id": "v4rE5OclMIse"
      }
    },
    {
      "cell_type": "code",
      "source": [
        "# diccionarios seran series, seran Data frame"
      ],
      "metadata": {
        "id": "wHDyMOe5Ly2h"
      },
      "execution_count": 188,
      "outputs": []
    },
    {
      "cell_type": "code",
      "source": [
        "Cliente1={\"Nombre\":\"Juan\",\"Salario\":5000000,\"Edad\":35}\n",
        "Cliente2={\"Nombre\":\"Ana\",\"Salario\":6000000,\"Edad\":25}\n",
        "Cliente3={\"Nombre\":\"Camilo\",\"Salario\":15000000,\"Edad\":55}"
      ],
      "metadata": {
        "id": "m9lYbpyMMUBn"
      },
      "execution_count": 189,
      "outputs": []
    },
    {
      "cell_type": "code",
      "source": [
        "Cliente1_Serie=pd.Series(Cliente1)\n",
        "Cliente2_Serie=pd.Series(Cliente2)\n",
        "Cliente3_Serie=pd.Series(Cliente3)"
      ],
      "metadata": {
        "id": "89HRersqMuz_"
      },
      "execution_count": 190,
      "outputs": []
    },
    {
      "cell_type": "code",
      "source": [
        "BaseClientes=pd.DataFrame([Cliente1_Serie,Cliente2_Serie,Cliente3_Serie])"
      ],
      "metadata": {
        "id": "OTU1pcybM_03"
      },
      "execution_count": 194,
      "outputs": []
    },
    {
      "cell_type": "code",
      "source": [
        "BaseClientes"
      ],
      "metadata": {
        "colab": {
          "base_uri": "https://localhost:8080/",
          "height": 143
        },
        "id": "Ms0QXcxRNBXI",
        "outputId": "357ae3c8-36c7-4193-d2af-d0e3cc44af45"
      },
      "execution_count": 195,
      "outputs": [
        {
          "output_type": "execute_result",
          "data": {
            "text/html": [
              "\n",
              "  <div id=\"df-c364e713-5b51-4c17-ac13-1ab1839ccff6\">\n",
              "    <div class=\"colab-df-container\">\n",
              "      <div>\n",
              "<style scoped>\n",
              "    .dataframe tbody tr th:only-of-type {\n",
              "        vertical-align: middle;\n",
              "    }\n",
              "\n",
              "    .dataframe tbody tr th {\n",
              "        vertical-align: top;\n",
              "    }\n",
              "\n",
              "    .dataframe thead th {\n",
              "        text-align: right;\n",
              "    }\n",
              "</style>\n",
              "<table border=\"1\" class=\"dataframe\">\n",
              "  <thead>\n",
              "    <tr style=\"text-align: right;\">\n",
              "      <th></th>\n",
              "      <th>Nombre</th>\n",
              "      <th>Salario</th>\n",
              "      <th>Edad</th>\n",
              "    </tr>\n",
              "  </thead>\n",
              "  <tbody>\n",
              "    <tr>\n",
              "      <th>0</th>\n",
              "      <td>Juan</td>\n",
              "      <td>5000000</td>\n",
              "      <td>35</td>\n",
              "    </tr>\n",
              "    <tr>\n",
              "      <th>1</th>\n",
              "      <td>Ana</td>\n",
              "      <td>6000000</td>\n",
              "      <td>25</td>\n",
              "    </tr>\n",
              "    <tr>\n",
              "      <th>2</th>\n",
              "      <td>Camilo</td>\n",
              "      <td>15000000</td>\n",
              "      <td>55</td>\n",
              "    </tr>\n",
              "  </tbody>\n",
              "</table>\n",
              "</div>\n",
              "      <button class=\"colab-df-convert\" onclick=\"convertToInteractive('df-c364e713-5b51-4c17-ac13-1ab1839ccff6')\"\n",
              "              title=\"Convert this dataframe to an interactive table.\"\n",
              "              style=\"display:none;\">\n",
              "        \n",
              "  <svg xmlns=\"http://www.w3.org/2000/svg\" height=\"24px\"viewBox=\"0 0 24 24\"\n",
              "       width=\"24px\">\n",
              "    <path d=\"M0 0h24v24H0V0z\" fill=\"none\"/>\n",
              "    <path d=\"M18.56 5.44l.94 2.06.94-2.06 2.06-.94-2.06-.94-.94-2.06-.94 2.06-2.06.94zm-11 1L8.5 8.5l.94-2.06 2.06-.94-2.06-.94L8.5 2.5l-.94 2.06-2.06.94zm10 10l.94 2.06.94-2.06 2.06-.94-2.06-.94-.94-2.06-.94 2.06-2.06.94z\"/><path d=\"M17.41 7.96l-1.37-1.37c-.4-.4-.92-.59-1.43-.59-.52 0-1.04.2-1.43.59L10.3 9.45l-7.72 7.72c-.78.78-.78 2.05 0 2.83L4 21.41c.39.39.9.59 1.41.59.51 0 1.02-.2 1.41-.59l7.78-7.78 2.81-2.81c.8-.78.8-2.07 0-2.86zM5.41 20L4 18.59l7.72-7.72 1.47 1.35L5.41 20z\"/>\n",
              "  </svg>\n",
              "      </button>\n",
              "      \n",
              "  <style>\n",
              "    .colab-df-container {\n",
              "      display:flex;\n",
              "      flex-wrap:wrap;\n",
              "      gap: 12px;\n",
              "    }\n",
              "\n",
              "    .colab-df-convert {\n",
              "      background-color: #E8F0FE;\n",
              "      border: none;\n",
              "      border-radius: 50%;\n",
              "      cursor: pointer;\n",
              "      display: none;\n",
              "      fill: #1967D2;\n",
              "      height: 32px;\n",
              "      padding: 0 0 0 0;\n",
              "      width: 32px;\n",
              "    }\n",
              "\n",
              "    .colab-df-convert:hover {\n",
              "      background-color: #E2EBFA;\n",
              "      box-shadow: 0px 1px 2px rgba(60, 64, 67, 0.3), 0px 1px 3px 1px rgba(60, 64, 67, 0.15);\n",
              "      fill: #174EA6;\n",
              "    }\n",
              "\n",
              "    [theme=dark] .colab-df-convert {\n",
              "      background-color: #3B4455;\n",
              "      fill: #D2E3FC;\n",
              "    }\n",
              "\n",
              "    [theme=dark] .colab-df-convert:hover {\n",
              "      background-color: #434B5C;\n",
              "      box-shadow: 0px 1px 3px 1px rgba(0, 0, 0, 0.15);\n",
              "      filter: drop-shadow(0px 1px 2px rgba(0, 0, 0, 0.3));\n",
              "      fill: #FFFFFF;\n",
              "    }\n",
              "  </style>\n",
              "\n",
              "      <script>\n",
              "        const buttonEl =\n",
              "          document.querySelector('#df-c364e713-5b51-4c17-ac13-1ab1839ccff6 button.colab-df-convert');\n",
              "        buttonEl.style.display =\n",
              "          google.colab.kernel.accessAllowed ? 'block' : 'none';\n",
              "\n",
              "        async function convertToInteractive(key) {\n",
              "          const element = document.querySelector('#df-c364e713-5b51-4c17-ac13-1ab1839ccff6');\n",
              "          const dataTable =\n",
              "            await google.colab.kernel.invokeFunction('convertToInteractive',\n",
              "                                                     [key], {});\n",
              "          if (!dataTable) return;\n",
              "\n",
              "          const docLinkHtml = 'Like what you see? Visit the ' +\n",
              "            '<a target=\"_blank\" href=https://colab.research.google.com/notebooks/data_table.ipynb>data table notebook</a>'\n",
              "            + ' to learn more about interactive tables.';\n",
              "          element.innerHTML = '';\n",
              "          dataTable['output_type'] = 'display_data';\n",
              "          await google.colab.output.renderOutput(dataTable, element);\n",
              "          const docLink = document.createElement('div');\n",
              "          docLink.innerHTML = docLinkHtml;\n",
              "          element.appendChild(docLink);\n",
              "        }\n",
              "      </script>\n",
              "    </div>\n",
              "  </div>\n",
              "  "
            ],
            "text/plain": [
              "   Nombre   Salario  Edad\n",
              "0    Juan   5000000    35\n",
              "1     Ana   6000000    25\n",
              "2  Camilo  15000000    55"
            ]
          },
          "metadata": {},
          "execution_count": 195
        }
      ]
    },
    {
      "cell_type": "markdown",
      "source": [
        "**Exportar a Excel**"
      ],
      "metadata": {
        "id": "Sx6dNduPNSc-"
      }
    },
    {
      "cell_type": "code",
      "source": [
        "BaseClientes.to_excel(\"/content/drive/MyDrive/Diplomado_2022_01/IntroduccionPython2022/Insumos/BD.xlsx\",\n",
        "                      index=False)"
      ],
      "metadata": {
        "id": "GQIwpOeeNOrv"
      },
      "execution_count": 197,
      "outputs": []
    },
    {
      "cell_type": "code",
      "source": [
        ""
      ],
      "metadata": {
        "id": "-hc6iB3MNsL-"
      },
      "execution_count": null,
      "outputs": []
    }
  ]
}