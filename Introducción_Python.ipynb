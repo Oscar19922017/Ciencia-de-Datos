{
  "nbformat": 4,
  "nbformat_minor": 0,
  "metadata": {
    "colab": {
      "name": "Introducción_Python.ipynb",
      "provenance": [],
      "mount_file_id": "1iYQVcQ4Tk3b37hZm-2sYZAhlOs0vuM40",
      "authorship_tag": "ABX9TyM4hJAd4AxodTho8hWI1gf/",
      "include_colab_link": true
    },
    "kernelspec": {
      "name": "python3",
      "display_name": "Python 3"
    },
    "language_info": {
      "name": "python"
    }
  },
  "cells": [
    {
      "cell_type": "markdown",
      "metadata": {
        "id": "view-in-github",
        "colab_type": "text"
      },
      "source": [
        "<a href=\"https://colab.research.google.com/github/Oscar19922017/Ciencia-de-Datos/blob/master/Introducci%C3%B3n_Python.ipynb\" target=\"_parent\"><img src=\"https://colab.research.google.com/assets/colab-badge.svg\" alt=\"Open In Colab\"/></a>"
      ]
    },
    {
      "cell_type": "markdown",
      "metadata": {
        "id": "M2tD2KzsNjet"
      },
      "source": [
        "# **Introducción a Python**\n",
        "\n",
        "Python es un lenguaje de programacion, de alto nivel\n",
        "\n",
        "<img src=\"https://cosasdedevs.com/media/sections/images/python.png\" width=200, align=\"right\">\n",
        "\n",
        "* Librerias\n",
        "* Operaciones Basicas\n",
        "* Extructuras de Control\n",
        "* Tipos Datos\n",
        "* Importar y Exportar Archivos"
      ]
    },
    {
      "cell_type": "markdown",
      "metadata": {
        "id": "WNdBynJVVqVu"
      },
      "source": [
        "## **Librerias**\n",
        "* Numpy: es una libreria para calculo matematico y matricial\n",
        "* Pandas: Usada para depuracion de Base de datos\n",
        "* Scikit-Learn: Para Entrenar Modelos de ML\n",
        "* TensorFlow: Para entrenar Redes Neuronales\n",
        "*  Keras: Usada para redes Neuronales\n",
        "* Matplolib: Usada para Graficas\n",
        "* Scipy: para Pruebas estadisticas\n"
      ]
    },
    {
      "cell_type": "markdown",
      "metadata": {
        "id": "IxCFE0LhWyAc"
      },
      "source": [
        "### **Instalar Librerias**"
      ]
    },
    {
      "cell_type": "code",
      "metadata": {
        "id": "DCmnUr7AW94z"
      },
      "source": [
        "#Instalar con Conda\n",
        "#conda install numpy\n",
        "\n",
        "#comando Pip para instalar librerias\n",
        "#pip install numpy"
      ],
      "execution_count": 7,
      "outputs": []
    },
    {
      "cell_type": "code",
      "metadata": {
        "id": "d0ded8dwXFP_"
      },
      "source": [
        "### Llamando las librerias de forma directa\n",
        "import numpy\n",
        "import pandas "
      ],
      "execution_count": 11,
      "outputs": []
    },
    {
      "cell_type": "code",
      "metadata": {
        "id": "Rxddde57Xujc"
      },
      "source": [
        "## Es una Buena importar con alias\n",
        "import numpy as np\n",
        "import pandas as pd"
      ],
      "execution_count": 13,
      "outputs": []
    },
    {
      "cell_type": "code",
      "metadata": {
        "id": "M2yY7XoVX7FN"
      },
      "source": [
        " #!pip install numpy"
      ],
      "execution_count": 17,
      "outputs": []
    },
    {
      "cell_type": "markdown",
      "metadata": {
        "id": "4jj0aRmtYeP8"
      },
      "source": [
        "## **Operaciones Basicas**\n",
        "\n",
        "* Calculadora(suma,resta)"
      ]
    },
    {
      "cell_type": "code",
      "metadata": {
        "colab": {
          "base_uri": "https://localhost:8080/"
        },
        "id": "k7zpYqLSYNiK",
        "outputId": "874251b7-d7aa-4593-a494-573c4b30733a"
      },
      "source": [
        "# Suma\n",
        "8+9"
      ],
      "execution_count": 18,
      "outputs": [
        {
          "output_type": "execute_result",
          "data": {
            "text/plain": [
              "17"
            ]
          },
          "metadata": {},
          "execution_count": 18
        }
      ]
    },
    {
      "cell_type": "code",
      "metadata": {
        "colab": {
          "base_uri": "https://localhost:8080/"
        },
        "id": "GFP3WdO6YrvJ",
        "outputId": "07fc7628-b98b-4208-9428-8f7742d9fe98"
      },
      "source": [
        "#Resta\n",
        "10-8"
      ],
      "execution_count": 19,
      "outputs": [
        {
          "output_type": "execute_result",
          "data": {
            "text/plain": [
              "2"
            ]
          },
          "metadata": {},
          "execution_count": 19
        }
      ]
    },
    {
      "cell_type": "code",
      "metadata": {
        "colab": {
          "base_uri": "https://localhost:8080/"
        },
        "id": "d5QDTDXNYvkp",
        "outputId": "f2c8bdb7-361e-4913-f9cb-58d11a8c711a"
      },
      "source": [
        "# Multiplicacion\n",
        "8*2"
      ],
      "execution_count": 20,
      "outputs": [
        {
          "output_type": "execute_result",
          "data": {
            "text/plain": [
              "16"
            ]
          },
          "metadata": {},
          "execution_count": 20
        }
      ]
    },
    {
      "cell_type": "code",
      "metadata": {
        "colab": {
          "base_uri": "https://localhost:8080/"
        },
        "id": "Ew2T8OBuY2QR",
        "outputId": "23337bad-d913-4bf5-82b5-bf10037c217a"
      },
      "source": [
        "# Division\n",
        "8/2"
      ],
      "execution_count": 21,
      "outputs": [
        {
          "output_type": "execute_result",
          "data": {
            "text/plain": [
              "4.0"
            ]
          },
          "metadata": {},
          "execution_count": 21
        }
      ]
    },
    {
      "cell_type": "markdown",
      "metadata": {
        "id": "lS9QWBJXZgI1"
      },
      "source": [
        "### **Variables**"
      ]
    },
    {
      "cell_type": "code",
      "metadata": {
        "id": "m0XNmHRdY6IY"
      },
      "source": [
        "edad=28 # Tipo Numerica Entera\n",
        "pip=3.14 # Tipo Numerica Decimal"
      ],
      "execution_count": 40,
      "outputs": []
    },
    {
      "cell_type": "code",
      "metadata": {
        "id": "GMU8NOs7Znv-"
      },
      "source": [
        "Nombre=\"Oscar\" # Tipo Texto, string"
      ],
      "execution_count": 41,
      "outputs": []
    },
    {
      "cell_type": "code",
      "metadata": {
        "colab": {
          "base_uri": "https://localhost:8080/"
        },
        "id": "bmx7se5gZ0s_",
        "outputId": "a0d340a8-1574-4b2b-eee2-05ba95ed45c4"
      },
      "source": [
        "# mostrar el contenido de la variable\n",
        "print(edad)\n",
        "print(Nombre)"
      ],
      "execution_count": 42,
      "outputs": [
        {
          "output_type": "stream",
          "name": "stdout",
          "text": [
            "28\n",
            "Oscar\n"
          ]
        }
      ]
    },
    {
      "cell_type": "code",
      "metadata": {
        "colab": {
          "base_uri": "https://localhost:8080/"
        },
        "id": "jgtEoypLZ7WW",
        "outputId": "09478f4c-1557-47d4-f5bf-a88a3f3629ed"
      },
      "source": [
        "# tipo de variable\n",
        "print(type(edad))\n",
        "print(type(pip))\n",
        "print(type(Nombre))"
      ],
      "execution_count": 43,
      "outputs": [
        {
          "output_type": "stream",
          "name": "stdout",
          "text": [
            "<class 'int'>\n",
            "<class 'float'>\n",
            "<class 'str'>\n"
          ]
        }
      ]
    },
    {
      "cell_type": "code",
      "metadata": {
        "colab": {
          "base_uri": "https://localhost:8080/"
        },
        "id": "133qW4ytaRtt",
        "outputId": "b2b62a97-fc14-4cb5-a793-6553802e216d"
      },
      "source": [
        "# Solicitar informacion\n",
        "Nombre=input(\"Ingrese Su Nombre Por favor\")\n",
        "Salario=int(input(\"Ingrese su Salario Por Favor\"))"
      ],
      "execution_count": 52,
      "outputs": [
        {
          "name": "stdout",
          "output_type": "stream",
          "text": [
            "Ingrese Su Nombre Por favorOscar\n",
            "Ingrese su Salario Por Favor2000000\n"
          ]
        }
      ]
    },
    {
      "cell_type": "code",
      "metadata": {
        "colab": {
          "base_uri": "https://localhost:8080/"
        },
        "id": "qMghZXIYbJ8J",
        "outputId": "196b7941-e6c2-48dc-90ba-f6d16f652d4c"
      },
      "source": [
        "print(Nombre)\n",
        "print(Salario)"
      ],
      "execution_count": 53,
      "outputs": [
        {
          "output_type": "stream",
          "name": "stdout",
          "text": [
            "Oscar\n",
            "2000000\n"
          ]
        }
      ]
    },
    {
      "cell_type": "code",
      "metadata": {
        "colab": {
          "base_uri": "https://localhost:8080/"
        },
        "id": "c0rO7-S3bqFc",
        "outputId": "72282fe2-00c8-4d5e-f7a6-ee3060b545f0"
      },
      "source": [
        "Salario/2"
      ],
      "execution_count": 54,
      "outputs": [
        {
          "output_type": "execute_result",
          "data": {
            "text/plain": [
              "1000000.0"
            ]
          },
          "metadata": {},
          "execution_count": 54
        }
      ]
    },
    {
      "cell_type": "code",
      "metadata": {
        "colab": {
          "base_uri": "https://localhost:8080/"
        },
        "id": "N2ZZSuJCbOUS",
        "outputId": "07322af0-80d0-4f6f-8629-7b8a87b2112a"
      },
      "source": [
        "type(Salario)"
      ],
      "execution_count": 55,
      "outputs": [
        {
          "output_type": "execute_result",
          "data": {
            "text/plain": [
              "int"
            ]
          },
          "metadata": {},
          "execution_count": 55
        }
      ]
    },
    {
      "cell_type": "code",
      "metadata": {
        "id": "4R0KfZa9baXT"
      },
      "source": [
        ""
      ],
      "execution_count": null,
      "outputs": []
    }
  ]
}