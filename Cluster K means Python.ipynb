{
 "cells": [
  {
   "cell_type": "markdown",
   "metadata": {},
   "source": [
    "**Importamos Datos**"
   ]
  },
  {
   "cell_type": "code",
   "execution_count": 1,
   "metadata": {},
   "outputs": [],
   "source": [
    "# Importar Librerias\n",
    "import numpy as np\n",
    "import pandas as pd\n",
    "import matplotlib.pyplot as plt\n",
    "import seaborn as sns\n",
    "import os\n",
    "%matplotlib inline"
   ]
  },
  {
   "cell_type": "markdown",
   "metadata": {},
   "source": [
    "* **Importamos la base de datos df_dep, que es el resultado de la depuración de los datos, el código que genera la depuración se llama depuración y se encuentra en esta carpeta.**\n",
    "\n",
    "* **También importamos la Base de Datos GEO; la cual contiene las coordenadas geográficas que utilizaremos para graficar en un mapa la ubicación de los países.**\n",
    "\n",
    "* **Las bases de datos se encuentran en la carpeta Insumos.**\n"
   ]
  },
  {
   "cell_type": "code",
   "execution_count": 2,
   "metadata": {},
   "outputs": [],
   "source": [
    "geo = pd.read_excel(r\"D:\\Usuarios\\oscagaal\\Documents\\Introduccion a la Ciencia de Datos\\Insumos\\GEO.xlsx\")\n",
    "df = pd.read_csv(r\"D:\\Usuarios\\oscagaal\\Documents\\Introduccion a la Ciencia de Datos\\Insumos\\df_dep.csv\")"
   ]
  },
  {
   "cell_type": "code",
   "execution_count": 3,
   "metadata": {},
   "outputs": [],
   "source": [
    "#pip install statsmodels"
   ]
  },
  {
   "cell_type": "markdown",
   "metadata": {},
   "source": [
    "**Visualizamos los 5 primeros registros**"
   ]
  },
  {
   "cell_type": "code",
   "execution_count": 4,
   "metadata": {},
   "outputs": [
    {
     "data": {
      "text/html": [
       "<div>\n",
       "<style scoped>\n",
       "    .dataframe tbody tr th:only-of-type {\n",
       "        vertical-align: middle;\n",
       "    }\n",
       "\n",
       "    .dataframe tbody tr th {\n",
       "        vertical-align: top;\n",
       "    }\n",
       "\n",
       "    .dataframe thead th {\n",
       "        text-align: right;\n",
       "    }\n",
       "</style>\n",
       "<table border=\"1\" class=\"dataframe\">\n",
       "  <thead>\n",
       "    <tr style=\"text-align: right;\">\n",
       "      <th></th>\n",
       "      <th>Country</th>\n",
       "      <th>lat</th>\n",
       "      <th>log</th>\n",
       "    </tr>\n",
       "  </thead>\n",
       "  <tbody>\n",
       "    <tr>\n",
       "      <th>0</th>\n",
       "      <td>Argentina</td>\n",
       "      <td>-38.416097</td>\n",
       "      <td>-63.616672</td>\n",
       "    </tr>\n",
       "    <tr>\n",
       "      <th>1</th>\n",
       "      <td>Australia</td>\n",
       "      <td>-25.274398</td>\n",
       "      <td>133.775136</td>\n",
       "    </tr>\n",
       "    <tr>\n",
       "      <th>2</th>\n",
       "      <td>Austria</td>\n",
       "      <td>47.516231</td>\n",
       "      <td>14.550072</td>\n",
       "    </tr>\n",
       "    <tr>\n",
       "      <th>3</th>\n",
       "      <td>Belgium</td>\n",
       "      <td>50.503887</td>\n",
       "      <td>4.469936</td>\n",
       "    </tr>\n",
       "    <tr>\n",
       "      <th>4</th>\n",
       "      <td>Brazil</td>\n",
       "      <td>-14.235004</td>\n",
       "      <td>-51.925280</td>\n",
       "    </tr>\n",
       "  </tbody>\n",
       "</table>\n",
       "</div>"
      ],
      "text/plain": [
       "     Country        lat         log\n",
       "0  Argentina -38.416097  -63.616672\n",
       "1  Australia -25.274398  133.775136\n",
       "2    Austria  47.516231   14.550072\n",
       "3    Belgium  50.503887    4.469936\n",
       "4     Brazil -14.235004  -51.925280"
      ]
     },
     "execution_count": 4,
     "metadata": {},
     "output_type": "execute_result"
    }
   ],
   "source": [
    "geo.head(5)"
   ]
  },
  {
   "cell_type": "code",
   "execution_count": 5,
   "metadata": {},
   "outputs": [
    {
     "data": {
      "text/html": [
       "<div>\n",
       "<style scoped>\n",
       "    .dataframe tbody tr th:only-of-type {\n",
       "        vertical-align: middle;\n",
       "    }\n",
       "\n",
       "    .dataframe tbody tr th {\n",
       "        vertical-align: top;\n",
       "    }\n",
       "\n",
       "    .dataframe thead th {\n",
       "        text-align: right;\n",
       "    }\n",
       "</style>\n",
       "<table border=\"1\" class=\"dataframe\">\n",
       "  <thead>\n",
       "    <tr style=\"text-align: right;\">\n",
       "      <th></th>\n",
       "      <th>Country</th>\n",
       "      <th>GDP_Latest</th>\n",
       "      <th>Industrial Product</th>\n",
       "      <th>CPI</th>\n",
       "      <th>Unemployment</th>\n",
       "      <th>current_account</th>\n",
       "      <th>budget balance</th>\n",
       "      <th>short rates</th>\n",
       "      <th>long rates</th>\n",
       "      <th>Año</th>\n",
       "      <th>Continente</th>\n",
       "    </tr>\n",
       "  </thead>\n",
       "  <tbody>\n",
       "    <tr>\n",
       "      <th>0</th>\n",
       "      <td>United States</td>\n",
       "      <td>3.0</td>\n",
       "      <td>4.0</td>\n",
       "      <td>1.9</td>\n",
       "      <td>4.0</td>\n",
       "      <td>-2.4</td>\n",
       "      <td>-3.8</td>\n",
       "      <td>2.70</td>\n",
       "      <td>2.66</td>\n",
       "      <td>2019</td>\n",
       "      <td>Norte America</td>\n",
       "    </tr>\n",
       "    <tr>\n",
       "      <th>1</th>\n",
       "      <td>United States</td>\n",
       "      <td>2.3</td>\n",
       "      <td>-5.5</td>\n",
       "      <td>1.5</td>\n",
       "      <td>4.4</td>\n",
       "      <td>-2.1</td>\n",
       "      <td>-12.3</td>\n",
       "      <td>1.11</td>\n",
       "      <td>0.65</td>\n",
       "      <td>2020</td>\n",
       "      <td>Norte America</td>\n",
       "    </tr>\n",
       "    <tr>\n",
       "      <th>2</th>\n",
       "      <td>China</td>\n",
       "      <td>6.4</td>\n",
       "      <td>5.7</td>\n",
       "      <td>1.9</td>\n",
       "      <td>3.8</td>\n",
       "      <td>0.3</td>\n",
       "      <td>-3.9</td>\n",
       "      <td>2.90</td>\n",
       "      <td>2.91</td>\n",
       "      <td>2019</td>\n",
       "      <td>Asia</td>\n",
       "    </tr>\n",
       "    <tr>\n",
       "      <th>3</th>\n",
       "      <td>China</td>\n",
       "      <td>-6.8</td>\n",
       "      <td>-1.1</td>\n",
       "      <td>4.3</td>\n",
       "      <td>3.6</td>\n",
       "      <td>1.8</td>\n",
       "      <td>-5.5</td>\n",
       "      <td>1.39</td>\n",
       "      <td>2.00</td>\n",
       "      <td>2020</td>\n",
       "      <td>Asia</td>\n",
       "    </tr>\n",
       "    <tr>\n",
       "      <th>4</th>\n",
       "      <td>Japan</td>\n",
       "      <td>0.0</td>\n",
       "      <td>-1.9</td>\n",
       "      <td>0.3</td>\n",
       "      <td>2.4</td>\n",
       "      <td>3.7</td>\n",
       "      <td>-3.5</td>\n",
       "      <td>0.00</td>\n",
       "      <td>0.00</td>\n",
       "      <td>2019</td>\n",
       "      <td>Asia</td>\n",
       "    </tr>\n",
       "  </tbody>\n",
       "</table>\n",
       "</div>"
      ],
      "text/plain": [
       "         Country  GDP_Latest  Industrial Product  CPI  Unemployment  \\\n",
       "0  United States         3.0                 4.0  1.9           4.0   \n",
       "1  United States         2.3                -5.5  1.5           4.4   \n",
       "2          China         6.4                 5.7  1.9           3.8   \n",
       "3          China        -6.8                -1.1  4.3           3.6   \n",
       "4          Japan         0.0                -1.9  0.3           2.4   \n",
       "\n",
       "   current_account  budget balance  short rates  long rates   Año  \\\n",
       "0             -2.4            -3.8         2.70        2.66  2019   \n",
       "1             -2.1           -12.3         1.11        0.65  2020   \n",
       "2              0.3            -3.9         2.90        2.91  2019   \n",
       "3              1.8            -5.5         1.39        2.00  2020   \n",
       "4              3.7            -3.5         0.00        0.00  2019   \n",
       "\n",
       "      Continente  \n",
       "0  Norte America  \n",
       "1  Norte America  \n",
       "2           Asia  \n",
       "3           Asia  \n",
       "4           Asia  "
      ]
     },
     "execution_count": 5,
     "metadata": {},
     "output_type": "execute_result"
    }
   ],
   "source": [
    "df.head(5)"
   ]
  },
  {
   "cell_type": "markdown",
   "metadata": {},
   "source": [
    "**Realizamos un cruce de bases de datos para tener las coordenadas en la base principal df**"
   ]
  },
  {
   "cell_type": "code",
   "execution_count": 6,
   "metadata": {},
   "outputs": [],
   "source": [
    "df = pd.merge(df,geo, how=\"inner\",left_on=\"Country\",right_on='Country')"
   ]
  },
  {
   "cell_type": "code",
   "execution_count": 7,
   "metadata": {},
   "outputs": [
    {
     "data": {
      "text/html": [
       "<div>\n",
       "<style scoped>\n",
       "    .dataframe tbody tr th:only-of-type {\n",
       "        vertical-align: middle;\n",
       "    }\n",
       "\n",
       "    .dataframe tbody tr th {\n",
       "        vertical-align: top;\n",
       "    }\n",
       "\n",
       "    .dataframe thead th {\n",
       "        text-align: right;\n",
       "    }\n",
       "</style>\n",
       "<table border=\"1\" class=\"dataframe\">\n",
       "  <thead>\n",
       "    <tr style=\"text-align: right;\">\n",
       "      <th></th>\n",
       "      <th>Country</th>\n",
       "      <th>GDP_Latest</th>\n",
       "      <th>Industrial Product</th>\n",
       "      <th>CPI</th>\n",
       "      <th>Unemployment</th>\n",
       "      <th>current_account</th>\n",
       "      <th>budget balance</th>\n",
       "      <th>short rates</th>\n",
       "      <th>long rates</th>\n",
       "      <th>Año</th>\n",
       "      <th>Continente</th>\n",
       "      <th>lat</th>\n",
       "      <th>log</th>\n",
       "    </tr>\n",
       "  </thead>\n",
       "  <tbody>\n",
       "    <tr>\n",
       "      <th>0</th>\n",
       "      <td>United States</td>\n",
       "      <td>3.0</td>\n",
       "      <td>4.0</td>\n",
       "      <td>1.9</td>\n",
       "      <td>4.0</td>\n",
       "      <td>-2.4</td>\n",
       "      <td>-3.8</td>\n",
       "      <td>2.70</td>\n",
       "      <td>2.66</td>\n",
       "      <td>2019</td>\n",
       "      <td>Norte America</td>\n",
       "      <td>37.09024</td>\n",
       "      <td>-95.712891</td>\n",
       "    </tr>\n",
       "    <tr>\n",
       "      <th>1</th>\n",
       "      <td>United States</td>\n",
       "      <td>2.3</td>\n",
       "      <td>-5.5</td>\n",
       "      <td>1.5</td>\n",
       "      <td>4.4</td>\n",
       "      <td>-2.1</td>\n",
       "      <td>-12.3</td>\n",
       "      <td>1.11</td>\n",
       "      <td>0.65</td>\n",
       "      <td>2020</td>\n",
       "      <td>Norte America</td>\n",
       "      <td>37.09024</td>\n",
       "      <td>-95.712891</td>\n",
       "    </tr>\n",
       "  </tbody>\n",
       "</table>\n",
       "</div>"
      ],
      "text/plain": [
       "         Country  GDP_Latest  Industrial Product  CPI  Unemployment  \\\n",
       "0  United States         3.0                 4.0  1.9           4.0   \n",
       "1  United States         2.3                -5.5  1.5           4.4   \n",
       "\n",
       "   current_account  budget balance  short rates  long rates   Año  \\\n",
       "0             -2.4            -3.8         2.70        2.66  2019   \n",
       "1             -2.1           -12.3         1.11        0.65  2020   \n",
       "\n",
       "      Continente       lat        log  \n",
       "0  Norte America  37.09024 -95.712891  \n",
       "1  Norte America  37.09024 -95.712891  "
      ]
     },
     "execution_count": 7,
     "metadata": {},
     "output_type": "execute_result"
    }
   ],
   "source": [
    "df.head(2)\n"
   ]
  },
  {
   "cell_type": "markdown",
   "metadata": {},
   "source": [
    "**Creamos un filtro a través de un input, que le permite al usuario elegir el año de análisis**"
   ]
  },
  {
   "cell_type": "code",
   "execution_count": 8,
   "metadata": {},
   "outputs": [
    {
     "name": "stdin",
     "output_type": "stream",
     "text": [
      "Ingre el Año de Analisis 2019\n"
     ]
    },
    {
     "data": {
      "text/html": [
       "<div>\n",
       "<style scoped>\n",
       "    .dataframe tbody tr th:only-of-type {\n",
       "        vertical-align: middle;\n",
       "    }\n",
       "\n",
       "    .dataframe tbody tr th {\n",
       "        vertical-align: top;\n",
       "    }\n",
       "\n",
       "    .dataframe thead th {\n",
       "        text-align: right;\n",
       "    }\n",
       "</style>\n",
       "<table border=\"1\" class=\"dataframe\">\n",
       "  <thead>\n",
       "    <tr style=\"text-align: right;\">\n",
       "      <th></th>\n",
       "      <th>GDP_Latest</th>\n",
       "      <th>Industrial Product</th>\n",
       "      <th>CPI</th>\n",
       "      <th>Unemployment</th>\n",
       "      <th>current_account</th>\n",
       "      <th>budget balance</th>\n",
       "      <th>short rates</th>\n",
       "      <th>long rates</th>\n",
       "      <th>Año</th>\n",
       "      <th>lat</th>\n",
       "      <th>log</th>\n",
       "    </tr>\n",
       "  </thead>\n",
       "  <tbody>\n",
       "    <tr>\n",
       "      <th>count</th>\n",
       "      <td>44.000000</td>\n",
       "      <td>44.000000</td>\n",
       "      <td>44.000000</td>\n",
       "      <td>44.000000</td>\n",
       "      <td>44.000000</td>\n",
       "      <td>44.000000</td>\n",
       "      <td>44.000000</td>\n",
       "      <td>44.000000</td>\n",
       "      <td>44.0</td>\n",
       "      <td>44.000000</td>\n",
       "      <td>44.000000</td>\n",
       "    </tr>\n",
       "    <tr>\n",
       "      <th>mean</th>\n",
       "      <td>2.636818</td>\n",
       "      <td>0.638636</td>\n",
       "      <td>3.293182</td>\n",
       "      <td>5.484091</td>\n",
       "      <td>1.377273</td>\n",
       "      <td>-1.365909</td>\n",
       "      <td>3.380227</td>\n",
       "      <td>3.282955</td>\n",
       "      <td>2019.0</td>\n",
       "      <td>28.036366</td>\n",
       "      <td>26.931555</td>\n",
       "    </tr>\n",
       "    <tr>\n",
       "      <th>std</th>\n",
       "      <td>1.922334</td>\n",
       "      <td>5.124869</td>\n",
       "      <td>7.377414</td>\n",
       "      <td>3.440115</td>\n",
       "      <td>4.884854</td>\n",
       "      <td>2.515713</td>\n",
       "      <td>7.136498</td>\n",
       "      <td>3.282879</td>\n",
       "      <td>0.0</td>\n",
       "      <td>29.822360</td>\n",
       "      <td>70.211058</td>\n",
       "    </tr>\n",
       "    <tr>\n",
       "      <th>min</th>\n",
       "      <td>-3.500000</td>\n",
       "      <td>-18.000000</td>\n",
       "      <td>0.200000</td>\n",
       "      <td>0.000000</td>\n",
       "      <td>-6.000000</td>\n",
       "      <td>-7.100000</td>\n",
       "      <td>0.000000</td>\n",
       "      <td>0.000000</td>\n",
       "      <td>2019.0</td>\n",
       "      <td>-40.900557</td>\n",
       "      <td>-106.346771</td>\n",
       "    </tr>\n",
       "    <tr>\n",
       "      <th>25%</th>\n",
       "      <td>1.675000</td>\n",
       "      <td>-1.600000</td>\n",
       "      <td>0.975000</td>\n",
       "      <td>3.550000</td>\n",
       "      <td>-2.400000</td>\n",
       "      <td>-2.775000</td>\n",
       "      <td>0.000000</td>\n",
       "      <td>0.862500</td>\n",
       "      <td>2019.0</td>\n",
       "      <td>11.686460</td>\n",
       "      <td>-3.514285</td>\n",
       "    </tr>\n",
       "    <tr>\n",
       "      <th>50%</th>\n",
       "      <td>2.400000</td>\n",
       "      <td>1.100000</td>\n",
       "      <td>1.900000</td>\n",
       "      <td>4.750000</td>\n",
       "      <td>0.400000</td>\n",
       "      <td>-1.600000</td>\n",
       "      <td>1.390000</td>\n",
       "      <td>2.115000</td>\n",
       "      <td>2019.0</td>\n",
       "      <td>39.018977</td>\n",
       "      <td>18.894319</td>\n",
       "    </tr>\n",
       "    <tr>\n",
       "      <th>75%</th>\n",
       "      <td>3.050000</td>\n",
       "      <td>2.725000</td>\n",
       "      <td>2.600000</td>\n",
       "      <td>6.175000</td>\n",
       "      <td>3.175000</td>\n",
       "      <td>-0.100000</td>\n",
       "      <td>3.675000</td>\n",
       "      <td>4.360000</td>\n",
       "      <td>2019.0</td>\n",
       "      <td>49.989091</td>\n",
       "      <td>101.238347</td>\n",
       "    </tr>\n",
       "    <tr>\n",
       "      <th>max</th>\n",
       "      <td>7.120000</td>\n",
       "      <td>15.000000</td>\n",
       "      <td>47.100000</td>\n",
       "      <td>18.000000</td>\n",
       "      <td>17.900000</td>\n",
       "      <td>7.000000</td>\n",
       "      <td>41.000000</td>\n",
       "      <td>14.000000</td>\n",
       "      <td>2019.0</td>\n",
       "      <td>61.924110</td>\n",
       "      <td>174.885971</td>\n",
       "    </tr>\n",
       "  </tbody>\n",
       "</table>\n",
       "</div>"
      ],
      "text/plain": [
       "       GDP_Latest  Industrial Product        CPI  Unemployment  \\\n",
       "count   44.000000           44.000000  44.000000     44.000000   \n",
       "mean     2.636818            0.638636   3.293182      5.484091   \n",
       "std      1.922334            5.124869   7.377414      3.440115   \n",
       "min     -3.500000          -18.000000   0.200000      0.000000   \n",
       "25%      1.675000           -1.600000   0.975000      3.550000   \n",
       "50%      2.400000            1.100000   1.900000      4.750000   \n",
       "75%      3.050000            2.725000   2.600000      6.175000   \n",
       "max      7.120000           15.000000  47.100000     18.000000   \n",
       "\n",
       "       current_account  budget balance  short rates  long rates     Año  \\\n",
       "count        44.000000       44.000000    44.000000   44.000000    44.0   \n",
       "mean          1.377273       -1.365909     3.380227    3.282955  2019.0   \n",
       "std           4.884854        2.515713     7.136498    3.282879     0.0   \n",
       "min          -6.000000       -7.100000     0.000000    0.000000  2019.0   \n",
       "25%          -2.400000       -2.775000     0.000000    0.862500  2019.0   \n",
       "50%           0.400000       -1.600000     1.390000    2.115000  2019.0   \n",
       "75%           3.175000       -0.100000     3.675000    4.360000  2019.0   \n",
       "max          17.900000        7.000000    41.000000   14.000000  2019.0   \n",
       "\n",
       "             lat         log  \n",
       "count  44.000000   44.000000  \n",
       "mean   28.036366   26.931555  \n",
       "std    29.822360   70.211058  \n",
       "min   -40.900557 -106.346771  \n",
       "25%    11.686460   -3.514285  \n",
       "50%    39.018977   18.894319  \n",
       "75%    49.989091  101.238347  \n",
       "max    61.924110  174.885971  "
      ]
     },
     "execution_count": 8,
     "metadata": {},
     "output_type": "execute_result"
    }
   ],
   "source": [
    " Año = int(input(\"Ingre el Año de Analisis\"))\n",
    "df_Año = df[df[\"Año\"]==Año]\n",
    "\n",
    "df[df[\"Año\"]==2019].describe() # resumen estadistico filtrado por ek input"
   ]
  },
  {
   "cell_type": "markdown",
   "metadata": {},
   "source": [
    "**Creamos una visualización con un Mapa utilizando la librería Folium Mapa**"
   ]
  },
  {
   "cell_type": "code",
   "execution_count": 9,
   "metadata": {},
   "outputs": [],
   "source": [
    "import folium\n",
    "from folium.plugins import MarkerCluster"
   ]
  },
  {
   "cell_type": "code",
   "execution_count": 10,
   "metadata": {},
   "outputs": [
    {
     "data": {
      "text/html": [
       "<div style=\"width:100%;\"><div style=\"position:relative;width:100%;height:0;padding-bottom:60%;\"><span style=\"color:#565656\">Make this Notebook Trusted to load map: File -> Trust Notebook</span><iframe src=\"about:blank\" style=\"position:absolute;width:100%;height:100%;left:0;top:0;border:none !important;\" data-html=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 onload=\"this.contentDocument.open();this.contentDocument.write(atob(this.getAttribute('data-html')));this.contentDocument.close();\" allowfullscreen webkitallowfullscreen mozallowfullscreen></iframe></div></div>"
      ],
      "text/plain": [
       "<folium.folium.Map at 0x229a685d808>"
      ]
     },
     "execution_count": 10,
     "metadata": {},
     "output_type": "execute_result"
    }
   ],
   "source": [
    "world_map = folium.Map(tiles=\"OpenStreetMap\")\n",
    "marker_cluster= MarkerCluster().add_to(world_map)\n",
    "for i in range(len(df_Año)):\n",
    "        lat = df_Año.iloc[i][\"lat\"]\n",
    "        long = df_Año.iloc[i][\"log\"]\n",
    "        radius=5\n",
    "        pupup_text=\"\"\"Country : {}<br>\n",
    "                     GDP : {}<br>\"\"\"\n",
    "        pupup_text= pupup_text.format(df_Año.iloc[i][\"Country\"],df_Año.iloc[i][\"GDP_Latest\"])\n",
    "        folium.CircleMarker(location=[lat,long],radius=radius,pupup=pupup_text, fill=True).add_to(marker_cluster)\n",
    "world_map"
   ]
  },
  {
   "cell_type": "markdown",
   "metadata": {},
   "source": [
    "**Análisis  de variables numéricas**\n",
    "\n",
    "**¿Qué es un valor atípico?**\n",
    "\n",
    "\"Un valor atípico es una observación extrañamente grande o pequeña. Los valores atípicos pueden tener un efecto desproporcionado en los resultados estadísticos, como la media, lo que puede conducir a interpretaciones engañosas. Por ejemplo, un conjunto de datos incluye los valores: 1, 2, 3, y 34. El valor medio, 10, que es mayor que la mayoría de los datos (1, 2, 3), se ve muy afectado por el punto extremo de los datos: 34. En este caso, el valor medio hace que parezca que los valores de los datos son más altos de lo que realmente son. Es necesario investigar los valores atípicos, porque pueden proporcionar información útil sobre los datos o el proceso. Con frecuencia, la manera más fácil de identificar los valores atípicos es graficando los datos.\""
   ]
  },
  {
   "cell_type": "markdown",
   "metadata": {},
   "source": [
    "### Uso de gráficas Univariadas para identificar valores atípicos "
   ]
  },
  {
   "cell_type": "markdown",
   "metadata": {},
   "source": [
    "**Variable GDP_Latest**"
   ]
  },
  {
   "cell_type": "markdown",
   "metadata": {},
   "source": [
    "**Revisamos la distribución de los datos con un histograma**"
   ]
  },
  {
   "cell_type": "code",
   "execution_count": 11,
   "metadata": {},
   "outputs": [
    {
     "data": {
      "image/png": "[encoded data removed]",
      "text/plain": [
       "<Figure size 288x216 with 1 Axes>"
      ]
     },
     "metadata": {
      "needs_background": "light"
     },
     "output_type": "display_data"
    }
   ],
   "source": [
    "plt.figure(figsize=(4,3))\n",
    "plt.hist(df_Año['GDP_Latest'])\n",
    "plt.show()"
   ]
  },
  {
   "cell_type": "markdown",
   "metadata": {},
   "source": [
    "**Revisamos la distribución de los datos con un grafico de puntos**"
   ]
  },
  {
   "cell_type": "code",
   "execution_count": 12,
   "metadata": {},
   "outputs": [
    {
     "data": {
      "image/png": "[encoded data removed]",
      "text/plain": [
       "<Figure size 648x216 with 1 Axes>"
      ]
     },
     "metadata": {
      "needs_background": "light"
     },
     "output_type": "display_data"
    }
   ],
   "source": [
    "plt.figure(figsize=(9,3))\n",
    "plt.plot(df_Año['GDP_Latest'],\".\",color=\"darkblue\")\n",
    "plt.show()"
   ]
  },
  {
   "cell_type": "markdown",
   "metadata": {},
   "source": [
    "Esta gráfica de dispersión muestra un posible valor atípico inferior"
   ]
  },
  {
   "cell_type": "markdown",
   "metadata": {},
   "source": [
    "**Revisamos la distribución de los datos con un boxplot**"
   ]
  },
  {
   "cell_type": "code",
   "execution_count": 13,
   "metadata": {},
   "outputs": [
    {
     "name": "stdout",
     "output_type": "stream",
     "text": [
      "AxesSubplot(0.125,0.125;0.775x0.755)\n"
     ]
    },
    {
     "data": {
      "image/png": "[encoded data removed]",
      "text/plain": [
       "<Figure size 432x288 with 1 Axes>"
      ]
     },
     "metadata": {
      "needs_background": "light"
     },
     "output_type": "display_data"
    }
   ],
   "source": [
    "print(sns.boxplot(x=df_Año['GDP_Latest']))"
   ]
  },
  {
   "cell_type": "markdown",
   "metadata": {},
   "source": [
    "En las gráficas de caja,python usa un símbolo de asterisco (*) para identificar los valores atípicos. Estos valores atípicos son observaciones que están a por lo menos 1.5 veces el rango intercuartil (Q3 – Q1) del borde de la caja.\n",
    "\n",
    "En algunos casos, se debe examinar más de un tipo de gráfica, porque los valores atípicos que se observan claramente en una gráfica pueden no ser tan obvios en otra gráfica. La gráfica de caja y el histograma utilizan los mismos datos. El valor atípico es obvio en la gráfica de caja, pero no tan obvio en el histograma\n",
    "\n",
    "**Causas comunes de los valores atípicos**\n",
    "\n",
    "Causa: Acciones posibles\n",
    "\n",
    "* Error de entrada de datos:Corregir el error y volver a analizar los datos.\n",
    "* Problema del proceso: Investigar el proceso para determinar la causa del valor atípico.\n",
    "* Factor faltante: Determinar si no se consideró un factor que afecta el proceso.\n",
    "* Probabilidad aleatoria: Investigar el proceso y el valor atípico para determinar si este se produjo en virtud de las probabilidades; realice el análisis con y sin el valor atípico para ver su impacto en los resultados."
   ]
  },
  {
   "cell_type": "markdown",
   "metadata": {},
   "source": [
    "**Excluir atípicos con rango intercuartil**"
   ]
  },
  {
   "cell_type": "code",
   "execution_count": 14,
   "metadata": {},
   "outputs": [],
   "source": [
    "q1, q3 = np.percentile(df_Año['GDP_Latest'],[25,75])"
   ]
  },
  {
   "cell_type": "code",
   "execution_count": 15,
   "metadata": {},
   "outputs": [],
   "source": [
    "iqr = q3 - q1 # Rango Intercuanqil"
   ]
  },
  {
   "cell_type": "code",
   "execution_count": 16,
   "metadata": {},
   "outputs": [],
   "source": [
    "# Encuentra el límite inferior y superior\n",
    "lower_bound = q1 -(1.5 * iqr) \n",
    "upper_bound = q3 +(1.5 * iqr)"
   ]
  },
  {
   "cell_type": "code",
   "execution_count": 17,
   "metadata": {},
   "outputs": [
    {
     "data": {
      "text/plain": [
       "-0.3875000000000002"
      ]
     },
     "execution_count": 17,
     "metadata": {},
     "output_type": "execute_result"
    }
   ],
   "source": [
    "lower_bound "
   ]
  },
  {
   "cell_type": "code",
   "execution_count": 18,
   "metadata": {},
   "outputs": [
    {
     "data": {
      "text/plain": [
       "5.1125"
      ]
     },
     "execution_count": 18,
     "metadata": {},
     "output_type": "execute_result"
    }
   ],
   "source": [
    "upper_bound "
   ]
  },
  {
   "cell_type": "markdown",
   "metadata": {},
   "source": [
    "**Graficamos el Limite superior e inferior**"
   ]
  },
  {
   "cell_type": "code",
   "execution_count": 19,
   "metadata": {},
   "outputs": [
    {
     "data": {
      "image/png": "[encoded data removed]",
      "text/plain": [
       "<Figure size 648x216 with 1 Axes>"
      ]
     },
     "metadata": {
      "needs_background": "light"
     },
     "output_type": "display_data"
    }
   ],
   "source": [
    "plt.figure(figsize=(9,3))\n",
    "plt.plot(df_Año['GDP_Latest'] ,\".\",color=\"darkblue\")\n",
    "plt.axhline(y=upper_bound ,color=\"r\",linestyle=\"-\")\n",
    "plt.axhline(y=lower_bound ,color=\"r\",linestyle=\"-\")\n",
    "plt.show()"
   ]
  },
  {
   "cell_type": "markdown",
   "metadata": {},
   "source": [
    "**Paises con un tasas de crecimiento en PIB muy grandes**"
   ]
  },
  {
   "cell_type": "code",
   "execution_count": 20,
   "metadata": {},
   "outputs": [
    {
     "data": {
      "text/html": [
       "<div>\n",
       "<style scoped>\n",
       "    .dataframe tbody tr th:only-of-type {\n",
       "        vertical-align: middle;\n",
       "    }\n",
       "\n",
       "    .dataframe tbody tr th {\n",
       "        vertical-align: top;\n",
       "    }\n",
       "\n",
       "    .dataframe thead th {\n",
       "        text-align: right;\n",
       "    }\n",
       "</style>\n",
       "<table border=\"1\" class=\"dataframe\">\n",
       "  <thead>\n",
       "    <tr style=\"text-align: right;\">\n",
       "      <th></th>\n",
       "      <th>Country</th>\n",
       "      <th>GDP_Latest</th>\n",
       "      <th>Industrial Product</th>\n",
       "      <th>CPI</th>\n",
       "      <th>Unemployment</th>\n",
       "      <th>current_account</th>\n",
       "      <th>budget balance</th>\n",
       "      <th>short rates</th>\n",
       "      <th>long rates</th>\n",
       "      <th>Año</th>\n",
       "      <th>Continente</th>\n",
       "      <th>lat</th>\n",
       "      <th>log</th>\n",
       "    </tr>\n",
       "  </thead>\n",
       "  <tbody>\n",
       "    <tr>\n",
       "      <th>2</th>\n",
       "      <td>China</td>\n",
       "      <td>6.40</td>\n",
       "      <td>5.7</td>\n",
       "      <td>1.9</td>\n",
       "      <td>3.8</td>\n",
       "      <td>0.3</td>\n",
       "      <td>-3.9</td>\n",
       "      <td>2.90</td>\n",
       "      <td>2.91</td>\n",
       "      <td>2019</td>\n",
       "      <td>Asia</td>\n",
       "      <td>35.861660</td>\n",
       "      <td>104.195397</td>\n",
       "    </tr>\n",
       "    <tr>\n",
       "      <th>42</th>\n",
       "      <td>Poland</td>\n",
       "      <td>5.70</td>\n",
       "      <td>2.7</td>\n",
       "      <td>1.1</td>\n",
       "      <td>5.8</td>\n",
       "      <td>-0.5</td>\n",
       "      <td>-0.9</td>\n",
       "      <td>1.52</td>\n",
       "      <td>2.72</td>\n",
       "      <td>2019</td>\n",
       "      <td>Europa</td>\n",
       "      <td>51.919438</td>\n",
       "      <td>19.145136</td>\n",
       "    </tr>\n",
       "    <tr>\n",
       "      <th>56</th>\n",
       "      <td>India</td>\n",
       "      <td>7.10</td>\n",
       "      <td>0.5</td>\n",
       "      <td>2.2</td>\n",
       "      <td>7.1</td>\n",
       "      <td>-2.7</td>\n",
       "      <td>-3.6</td>\n",
       "      <td>6.38</td>\n",
       "      <td>7.52</td>\n",
       "      <td>2019</td>\n",
       "      <td>Asia</td>\n",
       "      <td>20.593684</td>\n",
       "      <td>78.962880</td>\n",
       "    </tr>\n",
       "    <tr>\n",
       "      <th>58</th>\n",
       "      <td>Indonesia</td>\n",
       "      <td>5.20</td>\n",
       "      <td>1.5</td>\n",
       "      <td>2.8</td>\n",
       "      <td>5.3</td>\n",
       "      <td>-2.8</td>\n",
       "      <td>-1.9</td>\n",
       "      <td>7.37</td>\n",
       "      <td>7.90</td>\n",
       "      <td>2019</td>\n",
       "      <td>Asia</td>\n",
       "      <td>-0.789275</td>\n",
       "      <td>113.921327</td>\n",
       "    </tr>\n",
       "    <tr>\n",
       "      <th>70</th>\n",
       "      <td>Vietnam</td>\n",
       "      <td>7.12</td>\n",
       "      <td>7.9</td>\n",
       "      <td>2.6</td>\n",
       "      <td>2.2</td>\n",
       "      <td>1.8</td>\n",
       "      <td>-6.1</td>\n",
       "      <td>5.00</td>\n",
       "      <td>4.87</td>\n",
       "      <td>2019</td>\n",
       "      <td>Asia</td>\n",
       "      <td>14.058324</td>\n",
       "      <td>108.277199</td>\n",
       "    </tr>\n",
       "  </tbody>\n",
       "</table>\n",
       "</div>"
      ],
      "text/plain": [
       "      Country  GDP_Latest  Industrial Product  CPI  Unemployment  \\\n",
       "2       China        6.40                 5.7  1.9           3.8   \n",
       "42     Poland        5.70                 2.7  1.1           5.8   \n",
       "56      India        7.10                 0.5  2.2           7.1   \n",
       "58  Indonesia        5.20                 1.5  2.8           5.3   \n",
       "70    Vietnam        7.12                 7.9  2.6           2.2   \n",
       "\n",
       "    current_account  budget balance  short rates  long rates   Año Continente  \\\n",
       "2               0.3            -3.9         2.90        2.91  2019       Asia   \n",
       "42             -0.5            -0.9         1.52        2.72  2019     Europa   \n",
       "56             -2.7            -3.6         6.38        7.52  2019       Asia   \n",
       "58             -2.8            -1.9         7.37        7.90  2019       Asia   \n",
       "70              1.8            -6.1         5.00        4.87  2019       Asia   \n",
       "\n",
       "          lat         log  \n",
       "2   35.861660  104.195397  \n",
       "42  51.919438   19.145136  \n",
       "56  20.593684   78.962880  \n",
       "58  -0.789275  113.921327  \n",
       "70  14.058324  108.277199  "
      ]
     },
     "execution_count": 20,
     "metadata": {},
     "output_type": "execute_result"
    }
   ],
   "source": [
    "df_Año[df_Año['GDP_Latest'] > upper_bound ]"
   ]
  },
  {
   "cell_type": "markdown",
   "metadata": {},
   "source": [
    "**Paises con Tasas de crecimiento en PIB Negativas en este caso, paises en crisis**"
   ]
  },
  {
   "cell_type": "code",
   "execution_count": 21,
   "metadata": {},
   "outputs": [
    {
     "data": {
      "text/html": [
       "<div>\n",
       "<style scoped>\n",
       "    .dataframe tbody tr th:only-of-type {\n",
       "        vertical-align: middle;\n",
       "    }\n",
       "\n",
       "    .dataframe tbody tr th {\n",
       "        vertical-align: top;\n",
       "    }\n",
       "\n",
       "    .dataframe thead th {\n",
       "        text-align: right;\n",
       "    }\n",
       "</style>\n",
       "<table border=\"1\" class=\"dataframe\">\n",
       "  <thead>\n",
       "    <tr style=\"text-align: right;\">\n",
       "      <th></th>\n",
       "      <th>Country</th>\n",
       "      <th>GDP_Latest</th>\n",
       "      <th>Industrial Product</th>\n",
       "      <th>CPI</th>\n",
       "      <th>Unemployment</th>\n",
       "      <th>current_account</th>\n",
       "      <th>budget balance</th>\n",
       "      <th>short rates</th>\n",
       "      <th>long rates</th>\n",
       "      <th>Año</th>\n",
       "      <th>Continente</th>\n",
       "      <th>lat</th>\n",
       "      <th>log</th>\n",
       "    </tr>\n",
       "  </thead>\n",
       "  <tbody>\n",
       "    <tr>\n",
       "      <th>72</th>\n",
       "      <td>Argentina</td>\n",
       "      <td>-3.5</td>\n",
       "      <td>-7.1</td>\n",
       "      <td>47.1</td>\n",
       "      <td>9.0</td>\n",
       "      <td>-6.0</td>\n",
       "      <td>-5.5</td>\n",
       "      <td>41.0</td>\n",
       "      <td>11.0</td>\n",
       "      <td>2019</td>\n",
       "      <td>America del Sur</td>\n",
       "      <td>-38.416097</td>\n",
       "      <td>-63.616672</td>\n",
       "    </tr>\n",
       "  </tbody>\n",
       "</table>\n",
       "</div>"
      ],
      "text/plain": [
       "      Country  GDP_Latest  Industrial Product   CPI  Unemployment  \\\n",
       "72  Argentina        -3.5                -7.1  47.1           9.0   \n",
       "\n",
       "    current_account  budget balance  short rates  long rates   Año  \\\n",
       "72             -6.0            -5.5         41.0        11.0  2019   \n",
       "\n",
       "         Continente        lat        log  \n",
       "72  America del Sur -38.416097 -63.616672  "
      ]
     },
     "execution_count": 21,
     "metadata": {},
     "output_type": "execute_result"
    }
   ],
   "source": [
    " df_Año[df_Año['GDP_Latest']  < lower_bound ]"
   ]
  },
  {
   "cell_type": "markdown",
   "metadata": {},
   "source": [
    "**Datos sin atípicos**"
   ]
  },
  {
   "cell_type": "code",
   "execution_count": 22,
   "metadata": {},
   "outputs": [],
   "source": [
    "sin_atip = df_Año[(df_Año['GDP_Latest']> lower_bound ) & (df_Año['GDP_Latest']<upper_bound)]\n"
   ]
  },
  {
   "cell_type": "code",
   "execution_count": 23,
   "metadata": {},
   "outputs": [
    {
     "data": {
      "text/plain": [
       "2.31578947368421"
      ]
     },
     "execution_count": 23,
     "metadata": {},
     "output_type": "execute_result"
    }
   ],
   "source": [
    "sin_atip['GDP_Latest'].mean()"
   ]
  },
  {
   "cell_type": "code",
   "execution_count": 24,
   "metadata": {},
   "outputs": [
    {
     "data": {
      "text/plain": [
       "2.6368181818181817"
      ]
     },
     "execution_count": 24,
     "metadata": {},
     "output_type": "execute_result"
    }
   ],
   "source": [
    "df_Año['GDP_Latest'].mean()"
   ]
  },
  {
   "cell_type": "markdown",
   "metadata": {},
   "source": [
    "El promedio sin atípicos es de 2.3 mientras que con atípicos el promedio es de 2.6, en este caso vemos que los atípicos inflan el promedio en 3 puntos porcentuales."
   ]
  },
  {
   "cell_type": "markdown",
   "metadata": {},
   "source": [
    "**Es importante recordar que estamos en un enfoque de estimación puntual, es interesante también identificar los intervalos de confianza, en el que podamos movernos en la estimación.**\n",
    "\n",
    "**Además, realizar una prueba de bondad de ajuste para determinar si los datos son normales, y si no son normales ¿cuál es la verdadera distribución de los datos?  ¿cómo podríamos aproximarnos al parámetro real de la población? en este caso ¿cuál es crecimiento promedio de la economía mundial? todas estas preguntas las iremos respondiendo más adelante.\n",
    "Feliz semana**\n"
   ]
  },
  {
   "cell_type": "markdown",
   "metadata": {},
   "source": [
    "**Test Normal**"
   ]
  },
  {
   "cell_type": "code",
   "execution_count": 25,
   "metadata": {},
   "outputs": [
    {
     "data": {
      "image/png": "[encoded data removed]",
      "text/plain": [
       "<Figure size 432x288 with 1 Axes>"
      ]
     },
     "execution_count": 25,
     "metadata": {},
     "output_type": "execute_result"
    },
    {
     "data": {
      "image/png": "[encoded data removed]",
      "text/plain": [
       "<Figure size 432x288 with 1 Axes>"
      ]
     },
     "metadata": {
      "needs_background": "light"
     },
     "output_type": "display_data"
    }
   ],
   "source": [
    "from statsmodels.graphics.gofplots import qqplot\n",
    "qqplot(sin_atip['GDP_Latest'],line=\"s\")"
   ]
  },
  {
   "cell_type": "markdown",
   "metadata": {},
   "source": [
    "**Test Normal Kolmogorov**"
   ]
  },
  {
   "cell_type": "code",
   "execution_count": 26,
   "metadata": {},
   "outputs": [],
   "source": [
    "from scipy import stats\n",
    "pib= sin_atip['GDP_Latest']"
   ]
  },
  {
   "cell_type": "code",
   "execution_count": 27,
   "metadata": {},
   "outputs": [
    {
     "data": {
      "text/plain": [
       "2.31578947368421"
      ]
     },
     "execution_count": 27,
     "metadata": {},
     "output_type": "execute_result"
    }
   ],
   "source": [
    "media,desviacion = stats.norm.fit(pib)\n",
    "media"
   ]
  },
  {
   "cell_type": "code",
   "execution_count": 28,
   "metadata": {},
   "outputs": [],
   "source": [
    "d,pvalor = stats.kstest(pib,\"norm\",args=(media,desviacion))"
   ]
  },
  {
   "cell_type": "code",
   "execution_count": 29,
   "metadata": {},
   "outputs": [
    {
     "data": {
      "text/plain": [
       "0.5324490547931816"
      ]
     },
     "execution_count": 29,
     "metadata": {},
     "output_type": "execute_result"
    }
   ],
   "source": [
    "pvalor"
   ]
  },
  {
   "cell_type": "markdown",
   "metadata": {},
   "source": [
    "H0: La muestra proviene de una distribución normal.\n",
    "\n",
    "H1: La muestra no proviene de una distribución normal.\n",
    "\n",
    "alfa = 0.05\n",
    "\n",
    "SI p < alfa , se rechaza normlidad "
   ]
  },
  {
   "cell_type": "markdown",
   "metadata": {},
   "source": [
    "**Shapiro**"
   ]
  },
  {
   "cell_type": "code",
   "execution_count": 30,
   "metadata": {},
   "outputs": [],
   "source": [
    "stat,p_valor = stats.shapiro(pib)"
   ]
  },
  {
   "cell_type": "code",
   "execution_count": 31,
   "metadata": {},
   "outputs": [
    {
     "data": {
      "text/plain": [
       "0.0715477243065834"
      ]
     },
     "execution_count": 31,
     "metadata": {},
     "output_type": "execute_result"
    }
   ],
   "source": [
    "p_valor"
   ]
  },
  {
   "cell_type": "markdown",
   "metadata": {},
   "source": [
    "**Remuestreo Por Boostrap**"
   ]
  },
  {
   "cell_type": "code",
   "execution_count": 32,
   "metadata": {},
   "outputs": [],
   "source": [
    "from random import sample\n",
    "import math"
   ]
  },
  {
   "cell_type": "code",
   "execution_count": 33,
   "metadata": {},
   "outputs": [
    {
     "data": {
      "text/plain": [
       "(38, 13)"
      ]
     },
     "execution_count": 33,
     "metadata": {},
     "output_type": "execute_result"
    }
   ],
   "source": [
    "df_Inicial = sin_atip\n",
    "df_Inicial.shape"
   ]
  },
  {
   "cell_type": "code",
   "execution_count": 34,
   "metadata": {},
   "outputs": [
    {
     "data": {
      "text/plain": [
       "2.31578947368421"
      ]
     },
     "execution_count": 34,
     "metadata": {},
     "output_type": "execute_result"
    }
   ],
   "source": [
    "p_inicial = pib.mean()\n",
    "p_inicial"
   ]
  },
  {
   "cell_type": "code",
   "execution_count": 35,
   "metadata": {},
   "outputs": [
    {
     "data": {
      "text/html": [
       "<div>\n",
       "<style scoped>\n",
       "    .dataframe tbody tr th:only-of-type {\n",
       "        vertical-align: middle;\n",
       "    }\n",
       "\n",
       "    .dataframe tbody tr th {\n",
       "        vertical-align: top;\n",
       "    }\n",
       "\n",
       "    .dataframe thead th {\n",
       "        text-align: right;\n",
       "    }\n",
       "</style>\n",
       "<table border=\"1\" class=\"dataframe\">\n",
       "  <thead>\n",
       "    <tr style=\"text-align: right;\">\n",
       "      <th></th>\n",
       "      <th>Country</th>\n",
       "      <th>GDP_Latest</th>\n",
       "      <th>Industrial Product</th>\n",
       "      <th>CPI</th>\n",
       "      <th>Unemployment</th>\n",
       "      <th>current_account</th>\n",
       "      <th>budget balance</th>\n",
       "      <th>short rates</th>\n",
       "      <th>long rates</th>\n",
       "      <th>Año</th>\n",
       "      <th>Continente</th>\n",
       "      <th>lat</th>\n",
       "      <th>log</th>\n",
       "    </tr>\n",
       "  </thead>\n",
       "  <tbody>\n",
       "    <tr>\n",
       "      <th>0</th>\n",
       "      <td>United States</td>\n",
       "      <td>3.0</td>\n",
       "      <td>4.0</td>\n",
       "      <td>1.9</td>\n",
       "      <td>4.0</td>\n",
       "      <td>-2.4</td>\n",
       "      <td>-3.8</td>\n",
       "      <td>2.70</td>\n",
       "      <td>2.66</td>\n",
       "      <td>2019</td>\n",
       "      <td>Norte America</td>\n",
       "      <td>37.090240</td>\n",
       "      <td>-95.712891</td>\n",
       "    </tr>\n",
       "    <tr>\n",
       "      <th>4</th>\n",
       "      <td>Japan</td>\n",
       "      <td>0.0</td>\n",
       "      <td>-1.9</td>\n",
       "      <td>0.3</td>\n",
       "      <td>2.4</td>\n",
       "      <td>3.7</td>\n",
       "      <td>-3.5</td>\n",
       "      <td>0.00</td>\n",
       "      <td>0.00</td>\n",
       "      <td>2019</td>\n",
       "      <td>Asia</td>\n",
       "      <td>36.204824</td>\n",
       "      <td>138.252924</td>\n",
       "    </tr>\n",
       "    <tr>\n",
       "      <th>6</th>\n",
       "      <td>Britain</td>\n",
       "      <td>1.3</td>\n",
       "      <td>-0.8</td>\n",
       "      <td>2.1</td>\n",
       "      <td>4.0</td>\n",
       "      <td>-3.9</td>\n",
       "      <td>-1.3</td>\n",
       "      <td>0.88</td>\n",
       "      <td>1.23</td>\n",
       "      <td>2019</td>\n",
       "      <td>Europa</td>\n",
       "      <td>55.378052</td>\n",
       "      <td>-3.435973</td>\n",
       "    </tr>\n",
       "    <tr>\n",
       "      <th>8</th>\n",
       "      <td>Canada</td>\n",
       "      <td>2.1</td>\n",
       "      <td>1.8</td>\n",
       "      <td>2.0</td>\n",
       "      <td>5.8</td>\n",
       "      <td>-2.8</td>\n",
       "      <td>-2.2</td>\n",
       "      <td>2.10</td>\n",
       "      <td>1.88</td>\n",
       "      <td>2019</td>\n",
       "      <td>Norte America</td>\n",
       "      <td>56.130366</td>\n",
       "      <td>-106.346771</td>\n",
       "    </tr>\n",
       "    <tr>\n",
       "      <th>10</th>\n",
       "      <td>Austria</td>\n",
       "      <td>2.2</td>\n",
       "      <td>1.0</td>\n",
       "      <td>1.9</td>\n",
       "      <td>4.7</td>\n",
       "      <td>2.1</td>\n",
       "      <td>-0.2</td>\n",
       "      <td>0.00</td>\n",
       "      <td>0.33</td>\n",
       "      <td>2019</td>\n",
       "      <td>Europa</td>\n",
       "      <td>47.516231</td>\n",
       "      <td>14.550072</td>\n",
       "    </tr>\n",
       "  </tbody>\n",
       "</table>\n",
       "</div>"
      ],
      "text/plain": [
       "          Country  GDP_Latest  Industrial Product  CPI  Unemployment  \\\n",
       "0   United States         3.0                 4.0  1.9           4.0   \n",
       "4           Japan         0.0                -1.9  0.3           2.4   \n",
       "6         Britain         1.3                -0.8  2.1           4.0   \n",
       "8          Canada         2.1                 1.8  2.0           5.8   \n",
       "10        Austria         2.2                 1.0  1.9           4.7   \n",
       "\n",
       "    current_account  budget balance  short rates  long rates   Año  \\\n",
       "0              -2.4            -3.8         2.70        2.66  2019   \n",
       "4               3.7            -3.5         0.00        0.00  2019   \n",
       "6              -3.9            -1.3         0.88        1.23  2019   \n",
       "8              -2.8            -2.2         2.10        1.88  2019   \n",
       "10              2.1            -0.2         0.00        0.33  2019   \n",
       "\n",
       "       Continente        lat         log  \n",
       "0   Norte America  37.090240  -95.712891  \n",
       "4            Asia  36.204824  138.252924  \n",
       "6          Europa  55.378052   -3.435973  \n",
       "8   Norte America  56.130366 -106.346771  \n",
       "10         Europa  47.516231   14.550072  "
      ]
     },
     "execution_count": 35,
     "metadata": {},
     "output_type": "execute_result"
    }
   ],
   "source": [
    "df_Inicial.head()"
   ]
  },
  {
   "cell_type": "code",
   "execution_count": 36,
   "metadata": {},
   "outputs": [],
   "source": [
    "bins= np.arange(0.12,1)\n",
    "Muestra=df_Inicial.sample(n=35,replace=False)\n"
   ]
  },
  {
   "cell_type": "code",
   "execution_count": 37,
   "metadata": {},
   "outputs": [
    {
     "data": {
      "image/png": "[encoded data removed]",
      "text/plain": [
       "<Figure size 288x216 with 1 Axes>"
      ]
     },
     "metadata": {
      "needs_background": "light"
     },
     "output_type": "display_data"
    }
   ],
   "source": [
    "plt.figure(figsize=(4,3))\n",
    "plt.hist(Muestra[\"GDP_Latest\"])\n",
    "plt.show()"
   ]
  },
  {
   "cell_type": "code",
   "execution_count": 38,
   "metadata": {},
   "outputs": [],
   "source": [
    "media_muestra = Muestra[\"GDP_Latest\"].mean()"
   ]
  },
  {
   "cell_type": "code",
   "execution_count": 39,
   "metadata": {},
   "outputs": [
    {
     "data": {
      "text/plain": [
       "2.325714285714286"
      ]
     },
     "execution_count": 39,
     "metadata": {},
     "output_type": "execute_result"
    }
   ],
   "source": [
    "media_muestra"
   ]
  },
  {
   "cell_type": "markdown",
   "metadata": {},
   "source": [
    "## **Remuestreo**\n",
    "* *Permiten obtener conclusiones acerca de una población usando muestras extraídas de una muestra aleatoria que fue extraída de una población*\n",
    "\n",
    "* *Se caracterizan porque no requieren suposiciones sobre la población.*\n",
    "* *El número de Remuestreo es muy grande por lo que se necesita del cálculo intensivo computacional para el desarrollo.*\n",
    "\n",
    "<img src=\"remuestreo.png\" width=300, align = \"center\">\n",
    "\n",
    "### Técnicas comunes de remuestreo:\n",
    "* *Bootstrapping*\n",
    "* *Jackknifing*\n",
    "* *Pruebas de permutación.*\n",
    "\n",
    "\n",
    "### 1) Método Bootstrap\n",
    "\n",
    "* *El bootstrapping (o bootstrap) es un método de remuestreo propuesto por Bradley Efron en 1979.*\n",
    "\n",
    "\n",
    "* *Es un método de remuestreo mediante muestreo independiente con reemplazo de datos de muestra existentes con el mismo tamaño de muestra n, y realizando inferencia entre estos datos remuestreados.*\n",
    "\n",
    "<img src=\"https://miro.medium.com/max/1926/1*iH5w0MBdiOlxDOCX6nmqqw.png\" width=400, align = \"center\">\n",
    "\n",
    "\n",
    "### Ventajas\n",
    "* *Como la población es desconocida, el verdadero error en una muestra estadística contra su valor poblacional es desconocido. En las re-muestras de bootstrap, la 'población' es de hecho la muestra, y esto se conoce; por lo tanto, se puede medir la calidad de la inferencia de la muestra \"verdadera\" a partir de datos remuestreados*\n",
    "\n",
    "\n",
    "* *No es exigente al cumplimiento de supuestos teóricos para su aplicación*\n",
    "\n",
    "\n",
    "* Resulta Muy intuitivo\n",
    "\n",
    "### Desventajas\n",
    "\n",
    "* Mayor recurso de Maquina\n",
    "\n",
    "* Cuando se cumplen los supuestos del enfoque Frecuentista. el remuestreo puede ser menos eficiente"
   ]
  },
  {
   "cell_type": "markdown",
   "metadata": {},
   "source": [
    "**Aplicacion del Boostrap**\n",
    "\n",
    "Como sabemos, el procedimiento de muestreo se puede replicar tomando muestras de la muestra\n",
    "\n",
    "Ahora replicamos el proceso de arranque 10.000 veces. La matriz sample_median contiene las medianas de las 10,000 muestras de bootstrap. Tenga en cuenta que el código tarda más en ejecutarse que nuestro código anterior. ¡Tiene mucho remuestreo que hacer!"
   ]
  },
  {
   "cell_type": "code",
   "execution_count": 40,
   "metadata": {},
   "outputs": [],
   "source": [
    "sample_medias= []\n",
    "\n",
    "for i in range(10000):\n",
    "    sample_n = Muestra.sample(n=500,replace=True)\n",
    "    sample_medias.append(sample_n[\"GDP_Latest\"].mean())"
   ]
  },
  {
   "cell_type": "code",
   "execution_count": 41,
   "metadata": {},
   "outputs": [
    {
     "data": {
      "text/plain": [
       "2.32612214"
      ]
     },
     "execution_count": 41,
     "metadata": {},
     "output_type": "execute_result"
    }
   ],
   "source": [
    "R_M = np.mean(sample_medias)\n",
    "R_M \n"
   ]
  },
  {
   "cell_type": "code",
   "execution_count": 42,
   "metadata": {},
   "outputs": [
    {
     "data": {
      "text/plain": [
       "2.31578947368421"
      ]
     },
     "execution_count": 42,
     "metadata": {},
     "output_type": "execute_result"
    }
   ],
   "source": [
    "p_inicial"
   ]
  },
  {
   "cell_type": "markdown",
   "metadata": {},
   "source": [
    "**El Bootstrap: Distribución empírica de la media de la muestra**\n"
   ]
  },
  {
   "cell_type": "code",
   "execution_count": 43,
   "metadata": {},
   "outputs": [
    {
     "data": {
      "text/plain": [
       "<matplotlib.collections.PathCollection at 0x229a702d5c8>"
      ]
     },
     "execution_count": 43,
     "metadata": {},
     "output_type": "execute_result"
    },
    {
     "data": {
      "image/png": "[encoded data removed]",
      "text/plain": [
       "<Figure size 432x288 with 1 Axes>"
      ]
     },
     "metadata": {
      "needs_background": "light"
     },
     "output_type": "display_data"
    }
   ],
   "source": [
    "plt.hist(sample_medias)\n",
    "plt.scatter(p_inicial,0,color=\"red\",s=40)\n",
    "plt.scatter(R_M,0,color=\"green\",s=30)"
   ]
  },
  {
   "cell_type": "code",
   "execution_count": 44,
   "metadata": {},
   "outputs": [],
   "source": [
    "import statsmodels.stats.api as sms"
   ]
  },
  {
   "cell_type": "code",
   "execution_count": 45,
   "metadata": {},
   "outputs": [
    {
     "data": {
      "text/plain": [
       "(2.325121022726289, 2.3271232572737115)"
      ]
     },
     "execution_count": 45,
     "metadata": {},
     "output_type": "execute_result"
    }
   ],
   "source": [
    "sms.DescrStatsW(sample_medias).tconfint_mean()"
   ]
  },
  {
   "cell_type": "markdown",
   "metadata": {},
   "source": [
    "¿Las estimaciones capturan el parámetro?\n",
    "\n",
    "¿Con qué frecuencia el histograma empírico de las medianas muestreadas se asienta firmemente sobre el punto rojo y no solo roza el punto con sus colas? Para responder a esto, debemos definir \"sentarse firmemente\". Supongamos que significa \"el 95% en promedio de las medias muestreadas contiene el punto rojo\".\n",
    "\n",
    "Estos son los dos extremos del intervalo \"95% medio\" de las medias remuestreadas:"
   ]
  },
  {
   "cell_type": "markdown",
   "metadata": {},
   "source": [
    "## **Visualizacion de Agrupacion de paises por variables**"
   ]
  },
  {
   "cell_type": "code",
   "execution_count": 46,
   "metadata": {},
   "outputs": [
    {
     "data": {
      "text/html": [
       "<div>\n",
       "<style scoped>\n",
       "    .dataframe tbody tr th:only-of-type {\n",
       "        vertical-align: middle;\n",
       "    }\n",
       "\n",
       "    .dataframe tbody tr th {\n",
       "        vertical-align: top;\n",
       "    }\n",
       "\n",
       "    .dataframe thead th {\n",
       "        text-align: right;\n",
       "    }\n",
       "</style>\n",
       "<table border=\"1\" class=\"dataframe\">\n",
       "  <thead>\n",
       "    <tr style=\"text-align: right;\">\n",
       "      <th></th>\n",
       "      <th>Country</th>\n",
       "      <th>GDP_Latest</th>\n",
       "      <th>Industrial Product</th>\n",
       "      <th>CPI</th>\n",
       "      <th>Unemployment</th>\n",
       "      <th>current_account</th>\n",
       "      <th>budget balance</th>\n",
       "      <th>short rates</th>\n",
       "      <th>long rates</th>\n",
       "      <th>Año</th>\n",
       "      <th>Continente</th>\n",
       "      <th>lat</th>\n",
       "      <th>log</th>\n",
       "    </tr>\n",
       "  </thead>\n",
       "  <tbody>\n",
       "    <tr>\n",
       "      <th>0</th>\n",
       "      <td>United States</td>\n",
       "      <td>3.0</td>\n",
       "      <td>4.0</td>\n",
       "      <td>1.9</td>\n",
       "      <td>4.0</td>\n",
       "      <td>-2.4</td>\n",
       "      <td>-3.8</td>\n",
       "      <td>2.7</td>\n",
       "      <td>2.66</td>\n",
       "      <td>2019</td>\n",
       "      <td>Norte America</td>\n",
       "      <td>37.09024</td>\n",
       "      <td>-95.712891</td>\n",
       "    </tr>\n",
       "    <tr>\n",
       "      <th>2</th>\n",
       "      <td>China</td>\n",
       "      <td>6.4</td>\n",
       "      <td>5.7</td>\n",
       "      <td>1.9</td>\n",
       "      <td>3.8</td>\n",
       "      <td>0.3</td>\n",
       "      <td>-3.9</td>\n",
       "      <td>2.9</td>\n",
       "      <td>2.91</td>\n",
       "      <td>2019</td>\n",
       "      <td>Asia</td>\n",
       "      <td>35.86166</td>\n",
       "      <td>104.195397</td>\n",
       "    </tr>\n",
       "  </tbody>\n",
       "</table>\n",
       "</div>"
      ],
      "text/plain": [
       "         Country  GDP_Latest  Industrial Product  CPI  Unemployment  \\\n",
       "0  United States         3.0                 4.0  1.9           4.0   \n",
       "2          China         6.4                 5.7  1.9           3.8   \n",
       "\n",
       "   current_account  budget balance  short rates  long rates   Año  \\\n",
       "0             -2.4            -3.8          2.7        2.66  2019   \n",
       "2              0.3            -3.9          2.9        2.91  2019   \n",
       "\n",
       "      Continente       lat         log  \n",
       "0  Norte America  37.09024  -95.712891  \n",
       "2           Asia  35.86166  104.195397  "
      ]
     },
     "execution_count": 46,
     "metadata": {},
     "output_type": "execute_result"
    }
   ],
   "source": [
    "df = df_Año\n",
    "df.head(2)"
   ]
  },
  {
   "cell_type": "markdown",
   "metadata": {},
   "source": [
    "**Segun su ubocacion geografica**"
   ]
  },
  {
   "cell_type": "code",
   "execution_count": 47,
   "metadata": {},
   "outputs": [
    {
     "data": {
      "image/png": "[encoded data removed]",
      "text/plain": [
       "<Figure size 432x288 with 1 Axes>"
      ]
     },
     "metadata": {
      "needs_background": "light"
     },
     "output_type": "display_data"
    }
   ],
   "source": [
    "import matplotlib.pyplot as plt\n",
    "\n",
    "x = df[\"lat\"].to_numpy()\n",
    "y = df[\"log\"].to_numpy()\n",
    "\n",
    "# Genero 20 ids para los puntos\n",
    "ids = df[\"Country\"].to_numpy().astype(\"str\")\n",
    "plt.scatter(x, y)\n",
    "plt.xlabel(\"lat\")\n",
    "plt.ylabel(\"lot\")\n",
    "\n",
    "# Etiquetar los puntos\n",
    "for i, txt in enumerate(ids):\n",
    "    plt.annotate(str(txt), (x[i],y[i]))\n",
    "\n",
    "plt.show()"
   ]
  },
  {
   "cell_type": "markdown",
   "metadata": {},
   "source": [
    "**Segun tasas de interes y desempleo**"
   ]
  },
  {
   "cell_type": "code",
   "execution_count": 48,
   "metadata": {},
   "outputs": [
    {
     "data": {
      "image/png": "[encoded data removed]",
      "text/plain": [
       "<Figure size 432x288 with 1 Axes>"
      ]
     },
     "metadata": {
      "needs_background": "light"
     },
     "output_type": "display_data"
    }
   ],
   "source": [
    "import matplotlib.pyplot as plt\n",
    "\n",
    "x = df[\"short rates\"].to_numpy()\n",
    "y = df[\"Unemployment\"].to_numpy()\n",
    "\n",
    "# Genero 20 ids para los puntos\n",
    "ids = df[\"Country\"].to_numpy().astype(\"str\")\n",
    "plt.scatter(x, y)\n",
    "plt.xlabel(\"short rates\")\n",
    "plt.ylabel(\"Unemployment\")\n",
    "\n",
    "# Etiquetar los puntos\n",
    "for i, txt in enumerate(ids):\n",
    "    plt.annotate(str(txt), (x[i],y[i]))\n",
    "\n",
    "plt.show()"
   ]
  },
  {
   "cell_type": "markdown",
   "metadata": {},
   "source": [
    "**Segun Inflacion y PIB**"
   ]
  },
  {
   "cell_type": "code",
   "execution_count": 49,
   "metadata": {},
   "outputs": [
    {
     "data": {
      "image/png": "[encoded data removed]",
      "text/plain": [
       "<Figure size 432x288 with 1 Axes>"
      ]
     },
     "metadata": {
      "needs_background": "light"
     },
     "output_type": "display_data"
    }
   ],
   "source": [
    "x = df[\"GDP_Latest\"].to_numpy()\n",
    "y = df[\"CPI\"].to_numpy()\n",
    "\n",
    "# Genero 20 ids para los puntos\n",
    "ids = df[\"Country\"].to_numpy().astype(\"str\")\n",
    "plt.scatter(x, y)\n",
    "plt.xlabel(\"GDP_Latest\")\n",
    "plt.ylabel(\"CPI\")\n",
    "\n",
    "# Etiquetar los puntos\n",
    "for i, txt in enumerate(ids):\n",
    "    plt.annotate(str(txt), (x[i],y[i]))\n",
    "\n",
    "plt.show()"
   ]
  },
  {
   "cell_type": "markdown",
   "metadata": {},
   "source": [
    "**Podemos ver que los países se empiezan a mover o agruparse diferentes de acuerdo con las variables económicas, la posición geográfica no implica que un país sea igual en términos económicos con sus vecinos,\n",
    "En la próxima sesión vamos a encontrar esos grupos de países similares en términos economicos por medio de algoritmos de machine learning no supervisados.**\n"
   ]
  },
  {
   "cell_type": "markdown",
   "metadata": {},
   "source": [
    "# **Agrupación por Clúster K Means.**\n",
    "\n",
    "\n",
    "El algoritmo trabaja iterativamente para asignar a cada “punto” (las filas de nuestro conjunto de entrada forman una coordenada) uno de los “K” grupos basado en sus características. Son agrupados en base a la similitud de sus features (las columnas). Como resultado de ejecutar el algoritmo tendremos:\n",
    "\n",
    "* Los “centroids” de cada grupo que serán unas “coordenadas” de cada uno de los K conjuntos que se utilizarán para poder etiquetar nuevas muestras.\n",
    "\n",
    "* Etiquetas para el conjunto de datos de entrenamiento. Cada etiqueta perteneciente a uno de los K grupos formados.\n",
    "\n",
    "Los grupos se van definiendo de manera “orgánica”, es decir que se va ajustando su posición en cada iteración del proceso, hasta que converge el algoritmo. Una vez hallados los centroids deberemos analizarlos para ver cuales son sus características únicas, frente a la de los otros grupos. Estos grupos son las etiquetas que genera el algoritmo.\n"
   ]
  },
  {
   "cell_type": "markdown",
   "metadata": {},
   "source": [
    "**Escalando Variables**"
   ]
  },
  {
   "cell_type": "code",
   "execution_count": 50,
   "metadata": {},
   "outputs": [],
   "source": [
    "from sklearn.preprocessing import StandardScaler"
   ]
  },
  {
   "cell_type": "code",
   "execution_count": 51,
   "metadata": {},
   "outputs": [
    {
     "data": {
      "text/html": [
       "<div>\n",
       "<style scoped>\n",
       "    .dataframe tbody tr th:only-of-type {\n",
       "        vertical-align: middle;\n",
       "    }\n",
       "\n",
       "    .dataframe tbody tr th {\n",
       "        vertical-align: top;\n",
       "    }\n",
       "\n",
       "    .dataframe thead th {\n",
       "        text-align: right;\n",
       "    }\n",
       "</style>\n",
       "<table border=\"1\" class=\"dataframe\">\n",
       "  <thead>\n",
       "    <tr style=\"text-align: right;\">\n",
       "      <th></th>\n",
       "      <th>Country</th>\n",
       "      <th>GDP_Latest</th>\n",
       "      <th>Industrial Product</th>\n",
       "      <th>CPI</th>\n",
       "      <th>Unemployment</th>\n",
       "      <th>current_account</th>\n",
       "      <th>budget balance</th>\n",
       "      <th>short rates</th>\n",
       "      <th>long rates</th>\n",
       "      <th>Año</th>\n",
       "      <th>Continente</th>\n",
       "      <th>lat</th>\n",
       "      <th>log</th>\n",
       "    </tr>\n",
       "  </thead>\n",
       "  <tbody>\n",
       "    <tr>\n",
       "      <th>0</th>\n",
       "      <td>United States</td>\n",
       "      <td>3.0</td>\n",
       "      <td>4.0</td>\n",
       "      <td>1.9</td>\n",
       "      <td>4.0</td>\n",
       "      <td>-2.4</td>\n",
       "      <td>-3.8</td>\n",
       "      <td>2.70</td>\n",
       "      <td>2.66</td>\n",
       "      <td>2019</td>\n",
       "      <td>Norte America</td>\n",
       "      <td>37.090240</td>\n",
       "      <td>-95.712891</td>\n",
       "    </tr>\n",
       "    <tr>\n",
       "      <th>2</th>\n",
       "      <td>China</td>\n",
       "      <td>6.4</td>\n",
       "      <td>5.7</td>\n",
       "      <td>1.9</td>\n",
       "      <td>3.8</td>\n",
       "      <td>0.3</td>\n",
       "      <td>-3.9</td>\n",
       "      <td>2.90</td>\n",
       "      <td>2.91</td>\n",
       "      <td>2019</td>\n",
       "      <td>Asia</td>\n",
       "      <td>35.861660</td>\n",
       "      <td>104.195397</td>\n",
       "    </tr>\n",
       "    <tr>\n",
       "      <th>4</th>\n",
       "      <td>Japan</td>\n",
       "      <td>0.0</td>\n",
       "      <td>-1.9</td>\n",
       "      <td>0.3</td>\n",
       "      <td>2.4</td>\n",
       "      <td>3.7</td>\n",
       "      <td>-3.5</td>\n",
       "      <td>0.00</td>\n",
       "      <td>0.00</td>\n",
       "      <td>2019</td>\n",
       "      <td>Asia</td>\n",
       "      <td>36.204824</td>\n",
       "      <td>138.252924</td>\n",
       "    </tr>\n",
       "    <tr>\n",
       "      <th>6</th>\n",
       "      <td>Britain</td>\n",
       "      <td>1.3</td>\n",
       "      <td>-0.8</td>\n",
       "      <td>2.1</td>\n",
       "      <td>4.0</td>\n",
       "      <td>-3.9</td>\n",
       "      <td>-1.3</td>\n",
       "      <td>0.88</td>\n",
       "      <td>1.23</td>\n",
       "      <td>2019</td>\n",
       "      <td>Europa</td>\n",
       "      <td>55.378052</td>\n",
       "      <td>-3.435973</td>\n",
       "    </tr>\n",
       "    <tr>\n",
       "      <th>8</th>\n",
       "      <td>Canada</td>\n",
       "      <td>2.1</td>\n",
       "      <td>1.8</td>\n",
       "      <td>2.0</td>\n",
       "      <td>5.8</td>\n",
       "      <td>-2.8</td>\n",
       "      <td>-2.2</td>\n",
       "      <td>2.10</td>\n",
       "      <td>1.88</td>\n",
       "      <td>2019</td>\n",
       "      <td>Norte America</td>\n",
       "      <td>56.130366</td>\n",
       "      <td>-106.346771</td>\n",
       "    </tr>\n",
       "  </tbody>\n",
       "</table>\n",
       "</div>"
      ],
      "text/plain": [
       "         Country  GDP_Latest  Industrial Product  CPI  Unemployment  \\\n",
       "0  United States         3.0                 4.0  1.9           4.0   \n",
       "2          China         6.4                 5.7  1.9           3.8   \n",
       "4          Japan         0.0                -1.9  0.3           2.4   \n",
       "6        Britain         1.3                -0.8  2.1           4.0   \n",
       "8         Canada         2.1                 1.8  2.0           5.8   \n",
       "\n",
       "   current_account  budget balance  short rates  long rates   Año  \\\n",
       "0             -2.4            -3.8         2.70        2.66  2019   \n",
       "2              0.3            -3.9         2.90        2.91  2019   \n",
       "4              3.7            -3.5         0.00        0.00  2019   \n",
       "6             -3.9            -1.3         0.88        1.23  2019   \n",
       "8             -2.8            -2.2         2.10        1.88  2019   \n",
       "\n",
       "      Continente        lat         log  \n",
       "0  Norte America  37.090240  -95.712891  \n",
       "2           Asia  35.861660  104.195397  \n",
       "4           Asia  36.204824  138.252924  \n",
       "6         Europa  55.378052   -3.435973  \n",
       "8  Norte America  56.130366 -106.346771  "
      ]
     },
     "execution_count": 51,
     "metadata": {},
     "output_type": "execute_result"
    }
   ],
   "source": [
    "df.head()"
   ]
  },
  {
   "cell_type": "code",
   "execution_count": 52,
   "metadata": {},
   "outputs": [
    {
     "data": {
      "text/plain": [
       "array([[ 1.91111780e-01,  6.63475369e-01, -1.91027449e-01,\n",
       "        -4.36394870e-01, -7.82201924e-01, -9.78741152e-01,\n",
       "        -9.64186372e-02],\n",
       "       [ 1.98024334e+00,  9.99026130e-01, -1.91027449e-01,\n",
       "        -4.95204592e-01, -2.23082859e-01, -1.01895087e+00,\n",
       "        -6.80696894e-02],\n",
       "       [-1.38753371e+00, -5.01083156e-01, -4.10412970e-01,\n",
       "        -9.06872647e-01,  4.80993000e-01, -8.58111991e-01,\n",
       "        -4.79129432e-01],\n",
       "       [-7.03453998e-01, -2.83962075e-01, -1.63604259e-01,\n",
       "        -4.36394870e-01, -1.09282363e+00,  2.65018613e-02,\n",
       "        -3.54394062e-01],\n",
       "       [-2.82481867e-01,  2.29233207e-01, -1.77315854e-01,\n",
       "         9.28926293e-02, -8.65034378e-01, -3.35385624e-01,\n",
       "        -1.81465481e-01],\n",
       "       [-2.29860351e-01,  7.13269666e-02, -1.91027449e-01,\n",
       "        -2.30560843e-01,  1.49663184e-01,  4.68808787e-01,\n",
       "        -4.79129432e-01],\n",
       "       [-7.56075514e-01,  3.67401168e-01, -1.77315854e-01,\n",
       "         4.67804608e-03, -1.81666632e-01,  1.47131023e-01,\n",
       "        -4.79129432e-01],\n",
       "       [-1.77238835e-01,  5.25307408e-01, -2.87008614e-01,\n",
       "        -2.47268150e-02, -5.54412675e-01,  2.27550464e-01,\n",
       "        -4.79129432e-01],\n",
       "       [-9.13940063e-01, -4.02391755e-01, -2.87008614e-01,\n",
       "         1.06325304e+00, -4.50872108e-01, -4.96224506e-01,\n",
       "        -4.79129432e-01],\n",
       "       [-7.56075514e-01, -9.15587037e-01, -2.18450639e-01,\n",
       "        -6.42228898e-01,  1.26790131e+00,  1.11216432e+00,\n",
       "        -4.79129432e-01],\n",
       "       [-1.24617318e-01,  9.10652467e-02, -3.69278185e-01,\n",
       "         3.68028568e+00, -6.78661356e-01,  5.09018508e-01,\n",
       "        -4.79129432e-01],\n",
       "       [ 1.19092059e+00, -3.67894625e+00, -3.55566589e-01,\n",
       "        -5.41316761e-02,  1.88914472e+00,  5.09018508e-01,\n",
       "        -4.79129432e-01],\n",
       "       [-1.33491219e+00, -1.21166124e+00, -3.28143399e-01,\n",
       "         1.32789679e+00,  2.53203751e-01, -2.14756462e-01,\n",
       "        -4.79129432e-01],\n",
       "       [-1.24617318e-01, -9.55063597e-01, -1.77315854e-01,\n",
       "        -3.18775426e-01,  1.84772849e+00,  1.03174487e+00,\n",
       "        -4.79129432e-01],\n",
       "       [-2.82481867e-01, -1.85270674e-01, -3.96701375e-01,\n",
       "         3.57536379e-01, -3.88747767e-01,  2.67760185e-01,\n",
       "        -4.79129432e-01],\n",
       "       [ 1.03305604e+00,  4.85830848e-01, -1.77315854e-01,\n",
       "        -1.42346259e-01, -5.54412675e-01,  2.67760185e-01,\n",
       "        -4.79129432e-01],\n",
       "       [-1.24617318e-01, -9.55063597e-01, -3.14431804e-01,\n",
       "         2.50409124e+00, -7.81260646e-02, -5.36434226e-01,\n",
       "        -4.79129432e-01],\n",
       "       [-1.24617318e-01, -4.22130035e-01, -1.77315854e-01,\n",
       "        -9.65682369e-01, -1.19542292e-01,  9.51325434e-01,\n",
       "        -1.97057402e-01],\n",
       "       [-1.24617318e-01,  2.83468618e+00, -2.73297019e-01,\n",
       "        -4.95204592e-01,  9.77987724e-01,  3.88389346e-01,\n",
       "        -4.79129432e-01],\n",
       "       [ 1.19092059e+00,  8.21381610e-01, -8.13346887e-02,\n",
       "        -5.54014314e-01,  4.70638943e-03, -4.96224506e-01,\n",
       "        -4.57867721e-01],\n",
       "       [-4.92967933e-01, -6.19512836e-01, -2.64883086e-02,\n",
       "        -4.95204592e-01,  1.26790131e+00,  3.36390867e+00,\n",
       "        -3.00531061e-01],\n",
       "       [ 1.61189272e+00,  4.06877728e-01, -3.00720209e-01,\n",
       "         9.28926293e-02, -3.88747767e-01,  1.87340743e-01,\n",
       "        -2.63677429e-01],\n",
       "       [-5.98210965e-01,  2.88448047e-01,  2.34031997e-01,\n",
       "        -2.01155981e-01,  1.08152829e+00,  1.63489068e+00,\n",
       "         5.83956110e-01],\n",
       "       [-4.92967933e-01,  3.87139448e-01, -1.77315854e-01,\n",
       "         1.51702351e-01,  1.70371297e-01,  9.11115713e-01,\n",
       "        -4.79129432e-01],\n",
       "       [-1.24617318e-01,  1.50280087e-01, -3.69278185e-01,\n",
       "        -9.06872647e-01,  1.70277170e+00,  9.11115713e-01,\n",
       "        -4.79129432e-01],\n",
       "       [-5.45589449e-01, -1.40904404e+00,  2.29077125e+00,\n",
       "         1.62194541e+00, -1.21707231e+00, -2.14756462e-01,\n",
       "         2.92274430e+00],\n",
       "       [ 8.58687471e-02,  4.26616008e-01, -2.04739044e-01,\n",
       "        -1.42346259e-01, -7.82201924e-01,  3.07969905e-01,\n",
       "        -1.89970165e-01],\n",
       "       [ 1.38490263e-01,  9.10652467e-02, -9.50462838e-02,\n",
       "        -7.89253203e-01,  3.36036205e-01,  1.35342264e+00,\n",
       "        -2.38163376e-01],\n",
       "       [ 2.34859395e+00, -2.73644337e-02, -1.49892664e-01,\n",
       "         4.75155823e-01, -8.44326264e-01, -8.98321711e-01,\n",
       "         4.25202002e-01],\n",
       "       [ 1.34878514e+00,  1.70018367e-01, -6.76230937e-02,\n",
       "        -5.41316761e-02, -8.65034378e-01, -2.14756462e-01,\n",
       "         5.65529294e-01],\n",
       "       [ 9.27813008e-01,  5.45045688e-01, -4.24124565e-01,\n",
       "        -6.42228898e-01,  1.70371297e-01, -9.38531432e-01,\n",
       "         3.96563122e-02],\n",
       "       [ 3.32472308e-02, -7.62615367e-03, -1.91027449e-01,\n",
       "        -3.48180287e-01, -9.89283059e-01,  1.35342264e+00,\n",
       "        -2.08396981e-01],\n",
       "       [-2.29860351e-01,  4.06877728e-01, -3.82989780e-01,\n",
       "        -9.65682369e-01,  3.42154512e+00,  3.48179626e-01,\n",
       "        -4.79129432e-01],\n",
       "       [ 2.96354812e-01,  1.89756647e-01, -3.41854994e-01,\n",
       "        -6.12824036e-01,  7.70906589e-01,  6.69857390e-01,\n",
       "        -2.15484218e-01],\n",
       "       [ 3.48976329e-01,  3.18504065e-02, -4.10412970e-01,\n",
       "        -1.34794556e+00,  1.14365263e+00, -6.57063388e-01,\n",
       "        -2.38163376e-01],\n",
       "       [ 2.35911825e+00,  1.43326829e+00, -9.50462838e-02,\n",
       "        -9.65682369e-01,  8.75388434e-02, -1.90356472e+00,\n",
       "         2.29594262e-01],\n",
       "       [-3.22928678e+00, -1.52747372e+00,  6.00661351e+00,\n",
       "         1.03384818e+00, -1.52769401e+00, -1.66230640e+00,\n",
       "         5.33240486e+00],\n",
       "       [-7.03453998e-01, -8.36633917e-01,  6.94928567e-02,\n",
       "         1.62194541e+00, -4.50872108e-01, -2.30566193e+00,\n",
       "         4.29454344e-01],\n",
       "       [ 8.58687471e-02,  7.13269666e-02, -2.04739044e-01,\n",
       "         3.57536379e-01, -8.02910037e-01, -2.54966183e-01,\n",
       "        -4.06839615e-01],\n",
       "       [-1.93742856e-02,  8.01643329e-01, -2.64883086e-02,\n",
       "         1.23968221e+00, -9.47866832e-01, -4.15805065e-01,\n",
       "         1.58721893e-01],\n",
       "       [-4.40346416e-01, -6.19512836e-01,  1.51762427e-01,\n",
       "        -5.54014314e-01, -6.37245129e-01, -4.56014785e-01,\n",
       "         7.37040428e-01],\n",
       "       [-1.77238835e-01,  2.24253778e+00, -1.63604259e-01,\n",
       "         6.34877682e-02, -7.40785697e-01, -4.15805065e-01,\n",
       "         4.81609965e-02],\n",
       "       [ 1.38490263e-01, -3.03700355e-01, -3.41854994e-01,\n",
       "        -3.48180287e-01,  6.68307299e-02, -6.57063388e-01,\n",
       "        -4.45110695e-01],\n",
       "       [-8.08697031e-01,  1.30541807e-01,  1.65474022e-01,\n",
       "        -1.61258931e+00, -9.27158718e-01, -1.01895087e+00,\n",
       "         5.34345451e-01]])"
      ]
     },
     "execution_count": 52,
     "metadata": {},
     "output_type": "execute_result"
    }
   ],
   "source": [
    "X = df.iloc[:,1:8]\n",
    "Clus_dataSet = StandardScaler().fit_transform(X)\n",
    "Clus_dataSet"
   ]
  },
  {
   "cell_type": "markdown",
   "metadata": {},
   "source": [
    "**Modelando**"
   ]
  },
  {
   "cell_type": "code",
   "execution_count": 53,
   "metadata": {},
   "outputs": [
    {
     "name": "stderr",
     "output_type": "stream",
     "text": [
      "D:\\Usuarios\\OSCAGAAl\\Anaconda3\\envs\\PROYECTOS_SURA\\lib\\site-packages\\sklearn\\utils\\deprecation.py:143: FutureWarning: The sklearn.datasets.samples_generator module is  deprecated in version 0.22 and will be removed in version 0.24. The corresponding classes / functions should instead be imported from sklearn.datasets. Anything that cannot be imported from sklearn.datasets is now part of the private API.\n",
      "  warnings.warn(message, FutureWarning)\n"
     ]
    }
   ],
   "source": [
    "import random \n",
    "import numpy as np \n",
    "import matplotlib.pyplot as plt \n",
    "from sklearn.cluster import KMeans \n",
    "from sklearn.datasets.samples_generator import make_blobs \n",
    "%matplotlib inline"
   ]
  },
  {
   "cell_type": "markdown",
   "metadata": {},
   "source": [
    "**Selección del número óptimo de Clusters**\n",
    "\n",
    "Uno de los problemas que nos encontramos a la hora de aplicar alguno de los métodos de Clustering (K-means o EM) es la elección del número de Clusters. No existe un criterio objetivo ni ampliamente válido para la elección de un número óptimo de Clusters; pero tenemos que tener en cuenta, que una mala elección de los mismos puede dar lugar a realizar agrupaciones de datos muy heterogéneos (pocos Clusters); o datos, que siendo muy similares unos a otros los agrupemos en Clusters diferentes (muchos Clusters)."
   ]
  },
  {
   "cell_type": "code",
   "execution_count": 62,
   "metadata": {},
   "outputs": [
    {
     "data": {
      "image/png": "[encoded data removed]",
      "text/plain": [
       "<Figure size 432x288 with 1 Axes>"
      ]
     },
     "metadata": {
      "needs_background": "light"
     },
     "output_type": "display_data"
    }
   ],
   "source": [
    "from sklearn.cluster import KMeans\n",
    "wcss = []\n",
    "for i in range(1, 11):\n",
    "    kmeans = KMeans(n_clusters = i, init = 'k-means++', random_state = 42)\n",
    "    kmeans.fit(X)\n",
    "    wcss.append(kmeans.inertia_)\n",
    "\n",
    "# Grafica de la suma de las distancias\n",
    "plt.plot(range(1, 11), wcss)\n",
    "plt.title('The Elbow Method')\n",
    "plt.xlabel('Number of clusters')\n",
    "plt.ylabel('WCSS')\n",
    "plt.show()\n"
   ]
  },
  {
   "cell_type": "code",
   "execution_count": 64,
   "metadata": {},
   "outputs": [
    {
     "name": "stdout",
     "output_type": "stream",
     "text": [
      "[0 0 2 0 0 0 0 0 0 2 0 2 2 2 0 0 0 0 0 0 2 0 2 0 2 1 0 0 0 0 0 0 2 2 2 0 1\n",
      " 0 0 0 0 0 0 0]\n"
     ]
    }
   ],
   "source": [
    "clusterNum = 3\n",
    "k_means = KMeans(init = \"k-means++\", n_clusters = clusterNum, n_init = 12)\n",
    "k_means.fit(X)\n",
    "labels = k_means.labels_\n",
    "print(labels)"
   ]
  },
  {
   "cell_type": "code",
   "execution_count": 65,
   "metadata": {},
   "outputs": [
    {
     "data": {
      "text/html": [
       "<div>\n",
       "<style scoped>\n",
       "    .dataframe tbody tr th:only-of-type {\n",
       "        vertical-align: middle;\n",
       "    }\n",
       "\n",
       "    .dataframe tbody tr th {\n",
       "        vertical-align: top;\n",
       "    }\n",
       "\n",
       "    .dataframe thead th {\n",
       "        text-align: right;\n",
       "    }\n",
       "</style>\n",
       "<table border=\"1\" class=\"dataframe\">\n",
       "  <thead>\n",
       "    <tr style=\"text-align: right;\">\n",
       "      <th></th>\n",
       "      <th>Country</th>\n",
       "      <th>GDP_Latest</th>\n",
       "      <th>Industrial Product</th>\n",
       "      <th>CPI</th>\n",
       "      <th>Unemployment</th>\n",
       "      <th>current_account</th>\n",
       "      <th>budget balance</th>\n",
       "      <th>short rates</th>\n",
       "      <th>long rates</th>\n",
       "      <th>Año</th>\n",
       "      <th>Continente</th>\n",
       "      <th>lat</th>\n",
       "      <th>log</th>\n",
       "      <th>Clus_km</th>\n",
       "    </tr>\n",
       "  </thead>\n",
       "  <tbody>\n",
       "    <tr>\n",
       "      <th>0</th>\n",
       "      <td>United States</td>\n",
       "      <td>3.0</td>\n",
       "      <td>4.0</td>\n",
       "      <td>1.9</td>\n",
       "      <td>4.0</td>\n",
       "      <td>-2.4</td>\n",
       "      <td>-3.8</td>\n",
       "      <td>2.70</td>\n",
       "      <td>2.66</td>\n",
       "      <td>2019</td>\n",
       "      <td>Norte America</td>\n",
       "      <td>37.090240</td>\n",
       "      <td>-95.712891</td>\n",
       "      <td>0</td>\n",
       "    </tr>\n",
       "    <tr>\n",
       "      <th>2</th>\n",
       "      <td>China</td>\n",
       "      <td>6.4</td>\n",
       "      <td>5.7</td>\n",
       "      <td>1.9</td>\n",
       "      <td>3.8</td>\n",
       "      <td>0.3</td>\n",
       "      <td>-3.9</td>\n",
       "      <td>2.90</td>\n",
       "      <td>2.91</td>\n",
       "      <td>2019</td>\n",
       "      <td>Asia</td>\n",
       "      <td>35.861660</td>\n",
       "      <td>104.195397</td>\n",
       "      <td>0</td>\n",
       "    </tr>\n",
       "    <tr>\n",
       "      <th>4</th>\n",
       "      <td>Japan</td>\n",
       "      <td>0.0</td>\n",
       "      <td>-1.9</td>\n",
       "      <td>0.3</td>\n",
       "      <td>2.4</td>\n",
       "      <td>3.7</td>\n",
       "      <td>-3.5</td>\n",
       "      <td>0.00</td>\n",
       "      <td>0.00</td>\n",
       "      <td>2019</td>\n",
       "      <td>Asia</td>\n",
       "      <td>36.204824</td>\n",
       "      <td>138.252924</td>\n",
       "      <td>2</td>\n",
       "    </tr>\n",
       "    <tr>\n",
       "      <th>6</th>\n",
       "      <td>Britain</td>\n",
       "      <td>1.3</td>\n",
       "      <td>-0.8</td>\n",
       "      <td>2.1</td>\n",
       "      <td>4.0</td>\n",
       "      <td>-3.9</td>\n",
       "      <td>-1.3</td>\n",
       "      <td>0.88</td>\n",
       "      <td>1.23</td>\n",
       "      <td>2019</td>\n",
       "      <td>Europa</td>\n",
       "      <td>55.378052</td>\n",
       "      <td>-3.435973</td>\n",
       "      <td>0</td>\n",
       "    </tr>\n",
       "    <tr>\n",
       "      <th>8</th>\n",
       "      <td>Canada</td>\n",
       "      <td>2.1</td>\n",
       "      <td>1.8</td>\n",
       "      <td>2.0</td>\n",
       "      <td>5.8</td>\n",
       "      <td>-2.8</td>\n",
       "      <td>-2.2</td>\n",
       "      <td>2.10</td>\n",
       "      <td>1.88</td>\n",
       "      <td>2019</td>\n",
       "      <td>Norte America</td>\n",
       "      <td>56.130366</td>\n",
       "      <td>-106.346771</td>\n",
       "      <td>0</td>\n",
       "    </tr>\n",
       "  </tbody>\n",
       "</table>\n",
       "</div>"
      ],
      "text/plain": [
       "         Country  GDP_Latest  Industrial Product  CPI  Unemployment  \\\n",
       "0  United States         3.0                 4.0  1.9           4.0   \n",
       "2          China         6.4                 5.7  1.9           3.8   \n",
       "4          Japan         0.0                -1.9  0.3           2.4   \n",
       "6        Britain         1.3                -0.8  2.1           4.0   \n",
       "8         Canada         2.1                 1.8  2.0           5.8   \n",
       "\n",
       "   current_account  budget balance  short rates  long rates   Año  \\\n",
       "0             -2.4            -3.8         2.70        2.66  2019   \n",
       "2              0.3            -3.9         2.90        2.91  2019   \n",
       "4              3.7            -3.5         0.00        0.00  2019   \n",
       "6             -3.9            -1.3         0.88        1.23  2019   \n",
       "8             -2.8            -2.2         2.10        1.88  2019   \n",
       "\n",
       "      Continente        lat         log  Clus_km  \n",
       "0  Norte America  37.090240  -95.712891        0  \n",
       "2           Asia  35.861660  104.195397        0  \n",
       "4           Asia  36.204824  138.252924        2  \n",
       "6         Europa  55.378052   -3.435973        0  \n",
       "8  Norte America  56.130366 -106.346771        0  "
      ]
     },
     "execution_count": 65,
     "metadata": {},
     "output_type": "execute_result"
    }
   ],
   "source": [
    "df[\"Clus_km\"] = labels\n",
    "df.head(5)"
   ]
  },
  {
   "cell_type": "code",
   "execution_count": 66,
   "metadata": {},
   "outputs": [
    {
     "data": {
      "text/html": [
       "<div>\n",
       "<style scoped>\n",
       "    .dataframe tbody tr th:only-of-type {\n",
       "        vertical-align: middle;\n",
       "    }\n",
       "\n",
       "    .dataframe tbody tr th {\n",
       "        vertical-align: top;\n",
       "    }\n",
       "\n",
       "    .dataframe thead th {\n",
       "        text-align: right;\n",
       "    }\n",
       "</style>\n",
       "<table border=\"1\" class=\"dataframe\">\n",
       "  <thead>\n",
       "    <tr style=\"text-align: right;\">\n",
       "      <th></th>\n",
       "      <th>GDP_Latest</th>\n",
       "      <th>Industrial Product</th>\n",
       "      <th>CPI</th>\n",
       "      <th>Unemployment</th>\n",
       "      <th>current_account</th>\n",
       "      <th>budget balance</th>\n",
       "      <th>short rates</th>\n",
       "      <th>long rates</th>\n",
       "      <th>Año</th>\n",
       "      <th>lat</th>\n",
       "      <th>log</th>\n",
       "    </tr>\n",
       "    <tr>\n",
       "      <th>Clus_km</th>\n",
       "      <th></th>\n",
       "      <th></th>\n",
       "      <th></th>\n",
       "      <th></th>\n",
       "      <th></th>\n",
       "      <th></th>\n",
       "      <th></th>\n",
       "      <th></th>\n",
       "      <th></th>\n",
       "      <th></th>\n",
       "      <th></th>\n",
       "    </tr>\n",
       "  </thead>\n",
       "  <tbody>\n",
       "    <tr>\n",
       "      <th>0</th>\n",
       "      <td>3.065161</td>\n",
       "      <td>2.232258</td>\n",
       "      <td>1.996774</td>\n",
       "      <td>5.754839</td>\n",
       "      <td>-0.551613</td>\n",
       "      <td>-1.845161</td>\n",
       "      <td>2.303548</td>\n",
       "      <td>3.193871</td>\n",
       "      <td>2019</td>\n",
       "      <td>25.400548</td>\n",
       "      <td>18.253594</td>\n",
       "    </tr>\n",
       "    <tr>\n",
       "      <th>1</th>\n",
       "      <td>-0.950000</td>\n",
       "      <td>-6.800000</td>\n",
       "      <td>33.550000</td>\n",
       "      <td>10.000000</td>\n",
       "      <td>-5.250000</td>\n",
       "      <td>-3.700000</td>\n",
       "      <td>32.500000</td>\n",
       "      <td>12.500000</td>\n",
       "      <td>2019</td>\n",
       "      <td>0.273824</td>\n",
       "      <td>-14.186675</td>\n",
       "    </tr>\n",
       "    <tr>\n",
       "      <th>2</th>\n",
       "      <td>2.081818</td>\n",
       "      <td>-2.500000</td>\n",
       "      <td>1.445455</td>\n",
       "      <td>3.900000</td>\n",
       "      <td>8.018182</td>\n",
       "      <td>0.409091</td>\n",
       "      <td>1.120000</td>\n",
       "      <td>1.858182</td>\n",
       "      <td>2019</td>\n",
       "      <td>40.512318</td>\n",
       "      <td>58.863671</td>\n",
       "    </tr>\n",
       "  </tbody>\n",
       "</table>\n",
       "</div>"
      ],
      "text/plain": [
       "         GDP_Latest  Industrial Product        CPI  Unemployment  \\\n",
       "Clus_km                                                            \n",
       "0          3.065161            2.232258   1.996774      5.754839   \n",
       "1         -0.950000           -6.800000  33.550000     10.000000   \n",
       "2          2.081818           -2.500000   1.445455      3.900000   \n",
       "\n",
       "         current_account  budget balance  short rates  long rates   Año  \\\n",
       "Clus_km                                                                   \n",
       "0              -0.551613       -1.845161     2.303548    3.193871  2019   \n",
       "1              -5.250000       -3.700000    32.500000   12.500000  2019   \n",
       "2               8.018182        0.409091     1.120000    1.858182  2019   \n",
       "\n",
       "               lat        log  \n",
       "Clus_km                        \n",
       "0        25.400548  18.253594  \n",
       "1         0.273824 -14.186675  \n",
       "2        40.512318  58.863671  "
      ]
     },
     "execution_count": 66,
     "metadata": {},
     "output_type": "execute_result"
    }
   ],
   "source": [
    "df.groupby('Clus_km').mean()"
   ]
  },
  {
   "cell_type": "code",
   "execution_count": 58,
   "metadata": {},
   "outputs": [],
   "source": [
    "centroides = k_means.cluster_centers_\n",
    "etiquetas = k_means.labels_"
   ]
  },
  {
   "cell_type": "code",
   "execution_count": 60,
   "metadata": {},
   "outputs": [
    {
     "data": {
      "text/plain": [
       "array([[ 3.07066667,  2.27      ,  1.97666667,  5.85333333, -0.67      ,\n",
       "        -1.97333333,  2.32366667],\n",
       "       [-3.5       , -7.1       , 47.1       ,  9.        , -6.        ,\n",
       "        -5.5       , 41.        ],\n",
       "       [ 2.15      , -2.2       ,  1.54166667,  3.80833333,  7.6       ,\n",
       "         0.54166667,  1.16833333],\n",
       "       [ 1.6       , -6.5       , 20.        , 11.        , -4.5       ,\n",
       "        -1.9       , 24.        ]])"
      ]
     },
     "execution_count": 60,
     "metadata": {},
     "output_type": "execute_result"
    }
   ],
   "source": [
    "centroides "
   ]
  },
  {
   "cell_type": "code",
   "execution_count": 61,
   "metadata": {},
   "outputs": [
    {
     "data": {
      "text/plain": [
       "array([0, 0, 2, 0, 0, 0, 0, 0, 0, 2, 0, 2, 2, 2, 0, 0, 0, 0, 0, 0, 2, 0,\n",
       "       2, 0, 2, 3, 0, 2, 0, 0, 0, 0, 2, 2, 2, 0, 1, 0, 0, 0, 0, 0, 0, 0])"
      ]
     },
     "execution_count": 61,
     "metadata": {},
     "output_type": "execute_result"
    }
   ],
   "source": [
    "etiquetas"
   ]
  },
  {
   "cell_type": "markdown",
   "metadata": {},
   "source": [
    "**Visualizando**"
   ]
  },
  {
   "cell_type": "code",
   "execution_count": 67,
   "metadata": {},
   "outputs": [
    {
     "data": {
      "text/plain": [
       "<matplotlib.collections.PathCollection at 0x229a9e99e48>"
      ]
     },
     "execution_count": 67,
     "metadata": {},
     "output_type": "execute_result"
    },
    {
     "data": {
      "image/png": "[encoded data removed]",
      "text/plain": [
       "<Figure size 432x288 with 1 Axes>"
      ]
     },
     "metadata": {
      "needs_background": "light"
     },
     "output_type": "display_data"
    }
   ],
   "source": [
    "plt.scatter(df.iloc[:, 1], df.iloc[:, 2], marker='.', c=df[\"Clus_km\"], s=50, cmap='viridis')"
   ]
  },
  {
   "cell_type": "code",
   "execution_count": null,
   "metadata": {},
   "outputs": [],
   "source": []
  }
 ],
 "metadata": {
  "kernelspec": {
   "display_name": "Python 3",
   "language": "python",
   "name": "python3"
  },
  "language_info": {
   "codemirror_mode": {
    "name": "ipython",
    "version": 3
   },
   "file_extension": ".py",
   "mimetype": "text/x-python",
   "name": "python",
   "nbconvert_exporter": "python",
   "pygments_lexer": "ipython3",
   "version": "3.7.7"
  }
 },
 "nbformat": 4,
 "nbformat_minor": 4
}
