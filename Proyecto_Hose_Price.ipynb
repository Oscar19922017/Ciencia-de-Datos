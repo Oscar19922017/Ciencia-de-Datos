{
  "nbformat": 4,
  "nbformat_minor": 0,
  "metadata": {
    "accelerator": "TPU",
    "colab": {
      "name": "Proyecto_Hose_Price.ipynb",
      "provenance": [],
      "collapsed_sections": [],
      "include_colab_link": true
    },
    "kernelspec": {
      "display_name": "Python 3",
      "language": "python",
      "name": "python3"
    },
    "language_info": {
      "codemirror_mode": {
        "name": "ipython",
        "version": 3
      },
      "file_extension": ".py",
      "mimetype": "text/x-python",
      "name": "python",
      "nbconvert_exporter": "python",
      "pygments_lexer": "ipython3",
      "version": "3.7.7"
    }
  },
  "cells": [
    {
      "cell_type": "markdown",
      "metadata": {
        "id": "view-in-github",
        "colab_type": "text"
      },
      "source": [
        "<a href=\"https://colab.research.google.com/github/Oscar19922017/Ciencia-de-Datos/blob/master/Proyecto_Hose_Price.ipynb\" target=\"_parent\"><img src=\"https://colab.research.google.com/assets/colab-badge.svg\" alt=\"Open In Colab\"/></a>"
      ]
    },
    {
      "cell_type": "markdown",
      "metadata": {
        "id": "qG3mQoOM6ibn"
      },
      "source": [
        "# **1) Contexto del Problema**\n",
        "\n",
        "Pídale a un comprador de vivienda que describa la casa de sus sueños, y probablemente no comenzará con la altura del techo del sótano o la proximidad a un ferrocarril de este a oeste. Pero el conjunto de datos de esta competencia en el patio de recreo demuestra que influye mucho más en las negociaciones de precios que el número de dormitorios o una valla blanca.\n",
        "\n",
        "Con 79 variables explicativas que describen (casi) todos los aspectos de las viviendas residenciales en Ames, Iowa, esta competencia lo desafía a predecir el precio final de cada casa.\n",
        "\n",
        "El conjunto de datos de Ames Vivienda fue compilado por Dean De Cock para su uso en la educación científica de datos. Es una alternativa increíble para los científicos de datos que buscan una versión modernizada y ampliada del conjunto de datos de Boston Housing que se cita a menudo.\n",
        "http://jse.amstat.org/v19n3/decock.pdf"
      ]
    },
    {
      "cell_type": "markdown",
      "metadata": {
        "id": "0prNMyuM73q7"
      },
      "source": [
        "# **2) Conocimiento de Datos** "
      ]
    },
    {
      "cell_type": "markdown",
      "metadata": {
        "id": "dM16Nt5j8KR-"
      },
      "source": [
        "**Importar Librerias**"
      ]
    },
    {
      "cell_type": "code",
      "metadata": {
        "id": "NtslEAYk8Hui"
      },
      "source": [
        "import numpy as np # Calculos Matematicos\n",
        "import pandas as pd # Depuracion de Datos\n",
        "import matplotlib.pyplot as plt # Graficos Estadisticos\n",
        "import seaborn as sns # Graficos Estadisticos\n",
        "from scipy.stats import  shapiro # Pruebas de Hipotesis \n",
        "from scipy.stats import chi2_contingency # Pruebas Hipotesis\n",
        "\n",
        "# Modelacion es Ml\n",
        "from sklearn.model_selection import train_test_split # Dividir la data en entraniemo y prueba"
      ],
      "execution_count": 296,
      "outputs": []
    },
    {
      "cell_type": "markdown",
      "metadata": {
        "id": "eFnBEJqD9Ft7"
      },
      "source": [
        "**Importar los datos**\n",
        "\n",
        "Descripciones de archivos:\n",
        "\n",
        "* train.csv : el conjunto de entrenamiento\n",
        "* test.csv : el conjunto Activo\n",
        "* data_description.txt : descripción completa de cada columna, originalmente preparada por Dean De Cock pero ligeramente editada para que coincida con los nombres de columna utilizados aquí"
      ]
    },
    {
      "cell_type": "code",
      "metadata": {
        "id": "Qop0dPmk7-gx"
      },
      "source": [
        "# Historia \n",
        "df = pd.read_csv(\"/content/drive/MyDrive/Diplomado_2021_01/Análisis Descriptivo y Exploratorio/Insumos/House_Price/train.csv\")\n",
        "# Casas Activas, para predecir su precio\n",
        "df_1 = pd.read_csv(\"/content/drive/MyDrive/Diplomado_2021_01/Análisis Descriptivo y Exploratorio/Insumos/House_Price/test.csv\")"
      ],
      "execution_count": 297,
      "outputs": []
    },
    {
      "cell_type": "code",
      "metadata": {
        "colab": {
          "base_uri": "https://localhost:8080/"
        },
        "id": "nz7XSE5C6Xno",
        "outputId": "992bf409-f142-4445-ceb6-2956913383c2"
      },
      "source": [
        "from google.colab import drive\n",
        "drive.mount('/content/drive')"
      ],
      "execution_count": 298,
      "outputs": [
        {
          "output_type": "stream",
          "text": [
            "Drive already mounted at /content/drive; to attempt to forcibly remount, call drive.mount(\"/content/drive\", force_remount=True).\n"
          ],
          "name": "stdout"
        }
      ]
    },
    {
      "cell_type": "markdown",
      "metadata": {
        "id": "NC4fxw02-KHV"
      },
      "source": [
        "**Revisamos los Datos**"
      ]
    },
    {
      "cell_type": "markdown",
      "metadata": {
        "id": "bk3UQLmz-PLd"
      },
      "source": [
        "**Dimension de la Data H**"
      ]
    },
    {
      "cell_type": "code",
      "metadata": {
        "colab": {
          "base_uri": "https://localhost:8080/"
        },
        "id": "Z2r3hP7N-H1x",
        "outputId": "860d05e3-6bb6-40f5-a064-bdac171caa94"
      },
      "source": [
        "df.shape"
      ],
      "execution_count": 299,
      "outputs": [
        {
          "output_type": "execute_result",
          "data": {
            "text/plain": [
              "(1460, 81)"
            ]
          },
          "metadata": {
            "tags": []
          },
          "execution_count": 299
        }
      ]
    },
    {
      "cell_type": "markdown",
      "metadata": {
        "id": "1GWiifLR-b2y"
      },
      "source": [
        "**Dimension Data Activa**"
      ]
    },
    {
      "cell_type": "code",
      "metadata": {
        "colab": {
          "base_uri": "https://localhost:8080/"
        },
        "id": "QwNkqX04-TOQ",
        "outputId": "b0892377-6f3f-4988-bf39-f9c9ac48d2d3"
      },
      "source": [
        "df_1.shape"
      ],
      "execution_count": 300,
      "outputs": [
        {
          "output_type": "execute_result",
          "data": {
            "text/plain": [
              "(1459, 80)"
            ]
          },
          "metadata": {
            "tags": []
          },
          "execution_count": 300
        }
      ]
    },
    {
      "cell_type": "markdown",
      "metadata": {
        "id": "da3wNUBy-xG-"
      },
      "source": [
        "**Extructura**"
      ]
    },
    {
      "cell_type": "code",
      "metadata": {
        "colab": {
          "base_uri": "https://localhost:8080/",
          "height": 224
        },
        "id": "WVUjRoyM-rSp",
        "outputId": "bbc46981-0f61-486a-b8c0-5d6cce150758"
      },
      "source": [
        "df.head(5)"
      ],
      "execution_count": 301,
      "outputs": [
        {
          "output_type": "execute_result",
          "data": {
            "text/html": [
              "<div>\n",
              "<style scoped>\n",
              "    .dataframe tbody tr th:only-of-type {\n",
              "        vertical-align: middle;\n",
              "    }\n",
              "\n",
              "    .dataframe tbody tr th {\n",
              "        vertical-align: top;\n",
              "    }\n",
              "\n",
              "    .dataframe thead th {\n",
              "        text-align: right;\n",
              "    }\n",
              "</style>\n",
              "<table border=\"1\" class=\"dataframe\">\n",
              "  <thead>\n",
              "    <tr style=\"text-align: right;\">\n",
              "      <th></th>\n",
              "      <th>Id</th>\n",
              "      <th>MSSubClass</th>\n",
              "      <th>MSZoning</th>\n",
              "      <th>LotFrontage</th>\n",
              "      <th>LotArea</th>\n",
              "      <th>Street</th>\n",
              "      <th>Alley</th>\n",
              "      <th>LotShape</th>\n",
              "      <th>LandContour</th>\n",
              "      <th>Utilities</th>\n",
              "      <th>LotConfig</th>\n",
              "      <th>LandSlope</th>\n",
              "      <th>Neighborhood</th>\n",
              "      <th>Condition1</th>\n",
              "      <th>Condition2</th>\n",
              "      <th>BldgType</th>\n",
              "      <th>HouseStyle</th>\n",
              "      <th>OverallQual</th>\n",
              "      <th>OverallCond</th>\n",
              "      <th>YearBuilt</th>\n",
              "      <th>YearRemodAdd</th>\n",
              "      <th>RoofStyle</th>\n",
              "      <th>RoofMatl</th>\n",
              "      <th>Exterior1st</th>\n",
              "      <th>Exterior2nd</th>\n",
              "      <th>MasVnrType</th>\n",
              "      <th>MasVnrArea</th>\n",
              "      <th>ExterQual</th>\n",
              "      <th>ExterCond</th>\n",
              "      <th>Foundation</th>\n",
              "      <th>BsmtQual</th>\n",
              "      <th>BsmtCond</th>\n",
              "      <th>BsmtExposure</th>\n",
              "      <th>BsmtFinType1</th>\n",
              "      <th>BsmtFinSF1</th>\n",
              "      <th>BsmtFinType2</th>\n",
              "      <th>BsmtFinSF2</th>\n",
              "      <th>BsmtUnfSF</th>\n",
              "      <th>TotalBsmtSF</th>\n",
              "      <th>Heating</th>\n",
              "      <th>HeatingQC</th>\n",
              "      <th>CentralAir</th>\n",
              "      <th>Electrical</th>\n",
              "      <th>1stFlrSF</th>\n",
              "      <th>2ndFlrSF</th>\n",
              "      <th>LowQualFinSF</th>\n",
              "      <th>GrLivArea</th>\n",
              "      <th>BsmtFullBath</th>\n",
              "      <th>BsmtHalfBath</th>\n",
              "      <th>FullBath</th>\n",
              "      <th>HalfBath</th>\n",
              "      <th>BedroomAbvGr</th>\n",
              "      <th>KitchenAbvGr</th>\n",
              "      <th>KitchenQual</th>\n",
              "      <th>TotRmsAbvGrd</th>\n",
              "      <th>Functional</th>\n",
              "      <th>Fireplaces</th>\n",
              "      <th>FireplaceQu</th>\n",
              "      <th>GarageType</th>\n",
              "      <th>GarageYrBlt</th>\n",
              "      <th>GarageFinish</th>\n",
              "      <th>GarageCars</th>\n",
              "      <th>GarageArea</th>\n",
              "      <th>GarageQual</th>\n",
              "      <th>GarageCond</th>\n",
              "      <th>PavedDrive</th>\n",
              "      <th>WoodDeckSF</th>\n",
              "      <th>OpenPorchSF</th>\n",
              "      <th>EnclosedPorch</th>\n",
              "      <th>3SsnPorch</th>\n",
              "      <th>ScreenPorch</th>\n",
              "      <th>PoolArea</th>\n",
              "      <th>PoolQC</th>\n",
              "      <th>Fence</th>\n",
              "      <th>MiscFeature</th>\n",
              "      <th>MiscVal</th>\n",
              "      <th>MoSold</th>\n",
              "      <th>YrSold</th>\n",
              "      <th>SaleType</th>\n",
              "      <th>SaleCondition</th>\n",
              "      <th>SalePrice</th>\n",
              "    </tr>\n",
              "  </thead>\n",
              "  <tbody>\n",
              "    <tr>\n",
              "      <th>0</th>\n",
              "      <td>1</td>\n",
              "      <td>60</td>\n",
              "      <td>RL</td>\n",
              "      <td>65.0</td>\n",
              "      <td>8450</td>\n",
              "      <td>Pave</td>\n",
              "      <td>NaN</td>\n",
              "      <td>Reg</td>\n",
              "      <td>Lvl</td>\n",
              "      <td>AllPub</td>\n",
              "      <td>Inside</td>\n",
              "      <td>Gtl</td>\n",
              "      <td>CollgCr</td>\n",
              "      <td>Norm</td>\n",
              "      <td>Norm</td>\n",
              "      <td>1Fam</td>\n",
              "      <td>2Story</td>\n",
              "      <td>7</td>\n",
              "      <td>5</td>\n",
              "      <td>2003</td>\n",
              "      <td>2003</td>\n",
              "      <td>Gable</td>\n",
              "      <td>CompShg</td>\n",
              "      <td>VinylSd</td>\n",
              "      <td>VinylSd</td>\n",
              "      <td>BrkFace</td>\n",
              "      <td>196.0</td>\n",
              "      <td>Gd</td>\n",
              "      <td>TA</td>\n",
              "      <td>PConc</td>\n",
              "      <td>Gd</td>\n",
              "      <td>TA</td>\n",
              "      <td>No</td>\n",
              "      <td>GLQ</td>\n",
              "      <td>706</td>\n",
              "      <td>Unf</td>\n",
              "      <td>0</td>\n",
              "      <td>150</td>\n",
              "      <td>856</td>\n",
              "      <td>GasA</td>\n",
              "      <td>Ex</td>\n",
              "      <td>Y</td>\n",
              "      <td>SBrkr</td>\n",
              "      <td>856</td>\n",
              "      <td>854</td>\n",
              "      <td>0</td>\n",
              "      <td>1710</td>\n",
              "      <td>1</td>\n",
              "      <td>0</td>\n",
              "      <td>2</td>\n",
              "      <td>1</td>\n",
              "      <td>3</td>\n",
              "      <td>1</td>\n",
              "      <td>Gd</td>\n",
              "      <td>8</td>\n",
              "      <td>Typ</td>\n",
              "      <td>0</td>\n",
              "      <td>NaN</td>\n",
              "      <td>Attchd</td>\n",
              "      <td>2003.0</td>\n",
              "      <td>RFn</td>\n",
              "      <td>2</td>\n",
              "      <td>548</td>\n",
              "      <td>TA</td>\n",
              "      <td>TA</td>\n",
              "      <td>Y</td>\n",
              "      <td>0</td>\n",
              "      <td>61</td>\n",
              "      <td>0</td>\n",
              "      <td>0</td>\n",
              "      <td>0</td>\n",
              "      <td>0</td>\n",
              "      <td>NaN</td>\n",
              "      <td>NaN</td>\n",
              "      <td>NaN</td>\n",
              "      <td>0</td>\n",
              "      <td>2</td>\n",
              "      <td>2008</td>\n",
              "      <td>WD</td>\n",
              "      <td>Normal</td>\n",
              "      <td>208500</td>\n",
              "    </tr>\n",
              "    <tr>\n",
              "      <th>1</th>\n",
              "      <td>2</td>\n",
              "      <td>20</td>\n",
              "      <td>RL</td>\n",
              "      <td>80.0</td>\n",
              "      <td>9600</td>\n",
              "      <td>Pave</td>\n",
              "      <td>NaN</td>\n",
              "      <td>Reg</td>\n",
              "      <td>Lvl</td>\n",
              "      <td>AllPub</td>\n",
              "      <td>FR2</td>\n",
              "      <td>Gtl</td>\n",
              "      <td>Veenker</td>\n",
              "      <td>Feedr</td>\n",
              "      <td>Norm</td>\n",
              "      <td>1Fam</td>\n",
              "      <td>1Story</td>\n",
              "      <td>6</td>\n",
              "      <td>8</td>\n",
              "      <td>1976</td>\n",
              "      <td>1976</td>\n",
              "      <td>Gable</td>\n",
              "      <td>CompShg</td>\n",
              "      <td>MetalSd</td>\n",
              "      <td>MetalSd</td>\n",
              "      <td>None</td>\n",
              "      <td>0.0</td>\n",
              "      <td>TA</td>\n",
              "      <td>TA</td>\n",
              "      <td>CBlock</td>\n",
              "      <td>Gd</td>\n",
              "      <td>TA</td>\n",
              "      <td>Gd</td>\n",
              "      <td>ALQ</td>\n",
              "      <td>978</td>\n",
              "      <td>Unf</td>\n",
              "      <td>0</td>\n",
              "      <td>284</td>\n",
              "      <td>1262</td>\n",
              "      <td>GasA</td>\n",
              "      <td>Ex</td>\n",
              "      <td>Y</td>\n",
              "      <td>SBrkr</td>\n",
              "      <td>1262</td>\n",
              "      <td>0</td>\n",
              "      <td>0</td>\n",
              "      <td>1262</td>\n",
              "      <td>0</td>\n",
              "      <td>1</td>\n",
              "      <td>2</td>\n",
              "      <td>0</td>\n",
              "      <td>3</td>\n",
              "      <td>1</td>\n",
              "      <td>TA</td>\n",
              "      <td>6</td>\n",
              "      <td>Typ</td>\n",
              "      <td>1</td>\n",
              "      <td>TA</td>\n",
              "      <td>Attchd</td>\n",
              "      <td>1976.0</td>\n",
              "      <td>RFn</td>\n",
              "      <td>2</td>\n",
              "      <td>460</td>\n",
              "      <td>TA</td>\n",
              "      <td>TA</td>\n",
              "      <td>Y</td>\n",
              "      <td>298</td>\n",
              "      <td>0</td>\n",
              "      <td>0</td>\n",
              "      <td>0</td>\n",
              "      <td>0</td>\n",
              "      <td>0</td>\n",
              "      <td>NaN</td>\n",
              "      <td>NaN</td>\n",
              "      <td>NaN</td>\n",
              "      <td>0</td>\n",
              "      <td>5</td>\n",
              "      <td>2007</td>\n",
              "      <td>WD</td>\n",
              "      <td>Normal</td>\n",
              "      <td>181500</td>\n",
              "    </tr>\n",
              "    <tr>\n",
              "      <th>2</th>\n",
              "      <td>3</td>\n",
              "      <td>60</td>\n",
              "      <td>RL</td>\n",
              "      <td>68.0</td>\n",
              "      <td>11250</td>\n",
              "      <td>Pave</td>\n",
              "      <td>NaN</td>\n",
              "      <td>IR1</td>\n",
              "      <td>Lvl</td>\n",
              "      <td>AllPub</td>\n",
              "      <td>Inside</td>\n",
              "      <td>Gtl</td>\n",
              "      <td>CollgCr</td>\n",
              "      <td>Norm</td>\n",
              "      <td>Norm</td>\n",
              "      <td>1Fam</td>\n",
              "      <td>2Story</td>\n",
              "      <td>7</td>\n",
              "      <td>5</td>\n",
              "      <td>2001</td>\n",
              "      <td>2002</td>\n",
              "      <td>Gable</td>\n",
              "      <td>CompShg</td>\n",
              "      <td>VinylSd</td>\n",
              "      <td>VinylSd</td>\n",
              "      <td>BrkFace</td>\n",
              "      <td>162.0</td>\n",
              "      <td>Gd</td>\n",
              "      <td>TA</td>\n",
              "      <td>PConc</td>\n",
              "      <td>Gd</td>\n",
              "      <td>TA</td>\n",
              "      <td>Mn</td>\n",
              "      <td>GLQ</td>\n",
              "      <td>486</td>\n",
              "      <td>Unf</td>\n",
              "      <td>0</td>\n",
              "      <td>434</td>\n",
              "      <td>920</td>\n",
              "      <td>GasA</td>\n",
              "      <td>Ex</td>\n",
              "      <td>Y</td>\n",
              "      <td>SBrkr</td>\n",
              "      <td>920</td>\n",
              "      <td>866</td>\n",
              "      <td>0</td>\n",
              "      <td>1786</td>\n",
              "      <td>1</td>\n",
              "      <td>0</td>\n",
              "      <td>2</td>\n",
              "      <td>1</td>\n",
              "      <td>3</td>\n",
              "      <td>1</td>\n",
              "      <td>Gd</td>\n",
              "      <td>6</td>\n",
              "      <td>Typ</td>\n",
              "      <td>1</td>\n",
              "      <td>TA</td>\n",
              "      <td>Attchd</td>\n",
              "      <td>2001.0</td>\n",
              "      <td>RFn</td>\n",
              "      <td>2</td>\n",
              "      <td>608</td>\n",
              "      <td>TA</td>\n",
              "      <td>TA</td>\n",
              "      <td>Y</td>\n",
              "      <td>0</td>\n",
              "      <td>42</td>\n",
              "      <td>0</td>\n",
              "      <td>0</td>\n",
              "      <td>0</td>\n",
              "      <td>0</td>\n",
              "      <td>NaN</td>\n",
              "      <td>NaN</td>\n",
              "      <td>NaN</td>\n",
              "      <td>0</td>\n",
              "      <td>9</td>\n",
              "      <td>2008</td>\n",
              "      <td>WD</td>\n",
              "      <td>Normal</td>\n",
              "      <td>223500</td>\n",
              "    </tr>\n",
              "    <tr>\n",
              "      <th>3</th>\n",
              "      <td>4</td>\n",
              "      <td>70</td>\n",
              "      <td>RL</td>\n",
              "      <td>60.0</td>\n",
              "      <td>9550</td>\n",
              "      <td>Pave</td>\n",
              "      <td>NaN</td>\n",
              "      <td>IR1</td>\n",
              "      <td>Lvl</td>\n",
              "      <td>AllPub</td>\n",
              "      <td>Corner</td>\n",
              "      <td>Gtl</td>\n",
              "      <td>Crawfor</td>\n",
              "      <td>Norm</td>\n",
              "      <td>Norm</td>\n",
              "      <td>1Fam</td>\n",
              "      <td>2Story</td>\n",
              "      <td>7</td>\n",
              "      <td>5</td>\n",
              "      <td>1915</td>\n",
              "      <td>1970</td>\n",
              "      <td>Gable</td>\n",
              "      <td>CompShg</td>\n",
              "      <td>Wd Sdng</td>\n",
              "      <td>Wd Shng</td>\n",
              "      <td>None</td>\n",
              "      <td>0.0</td>\n",
              "      <td>TA</td>\n",
              "      <td>TA</td>\n",
              "      <td>BrkTil</td>\n",
              "      <td>TA</td>\n",
              "      <td>Gd</td>\n",
              "      <td>No</td>\n",
              "      <td>ALQ</td>\n",
              "      <td>216</td>\n",
              "      <td>Unf</td>\n",
              "      <td>0</td>\n",
              "      <td>540</td>\n",
              "      <td>756</td>\n",
              "      <td>GasA</td>\n",
              "      <td>Gd</td>\n",
              "      <td>Y</td>\n",
              "      <td>SBrkr</td>\n",
              "      <td>961</td>\n",
              "      <td>756</td>\n",
              "      <td>0</td>\n",
              "      <td>1717</td>\n",
              "      <td>1</td>\n",
              "      <td>0</td>\n",
              "      <td>1</td>\n",
              "      <td>0</td>\n",
              "      <td>3</td>\n",
              "      <td>1</td>\n",
              "      <td>Gd</td>\n",
              "      <td>7</td>\n",
              "      <td>Typ</td>\n",
              "      <td>1</td>\n",
              "      <td>Gd</td>\n",
              "      <td>Detchd</td>\n",
              "      <td>1998.0</td>\n",
              "      <td>Unf</td>\n",
              "      <td>3</td>\n",
              "      <td>642</td>\n",
              "      <td>TA</td>\n",
              "      <td>TA</td>\n",
              "      <td>Y</td>\n",
              "      <td>0</td>\n",
              "      <td>35</td>\n",
              "      <td>272</td>\n",
              "      <td>0</td>\n",
              "      <td>0</td>\n",
              "      <td>0</td>\n",
              "      <td>NaN</td>\n",
              "      <td>NaN</td>\n",
              "      <td>NaN</td>\n",
              "      <td>0</td>\n",
              "      <td>2</td>\n",
              "      <td>2006</td>\n",
              "      <td>WD</td>\n",
              "      <td>Abnorml</td>\n",
              "      <td>140000</td>\n",
              "    </tr>\n",
              "    <tr>\n",
              "      <th>4</th>\n",
              "      <td>5</td>\n",
              "      <td>60</td>\n",
              "      <td>RL</td>\n",
              "      <td>84.0</td>\n",
              "      <td>14260</td>\n",
              "      <td>Pave</td>\n",
              "      <td>NaN</td>\n",
              "      <td>IR1</td>\n",
              "      <td>Lvl</td>\n",
              "      <td>AllPub</td>\n",
              "      <td>FR2</td>\n",
              "      <td>Gtl</td>\n",
              "      <td>NoRidge</td>\n",
              "      <td>Norm</td>\n",
              "      <td>Norm</td>\n",
              "      <td>1Fam</td>\n",
              "      <td>2Story</td>\n",
              "      <td>8</td>\n",
              "      <td>5</td>\n",
              "      <td>2000</td>\n",
              "      <td>2000</td>\n",
              "      <td>Gable</td>\n",
              "      <td>CompShg</td>\n",
              "      <td>VinylSd</td>\n",
              "      <td>VinylSd</td>\n",
              "      <td>BrkFace</td>\n",
              "      <td>350.0</td>\n",
              "      <td>Gd</td>\n",
              "      <td>TA</td>\n",
              "      <td>PConc</td>\n",
              "      <td>Gd</td>\n",
              "      <td>TA</td>\n",
              "      <td>Av</td>\n",
              "      <td>GLQ</td>\n",
              "      <td>655</td>\n",
              "      <td>Unf</td>\n",
              "      <td>0</td>\n",
              "      <td>490</td>\n",
              "      <td>1145</td>\n",
              "      <td>GasA</td>\n",
              "      <td>Ex</td>\n",
              "      <td>Y</td>\n",
              "      <td>SBrkr</td>\n",
              "      <td>1145</td>\n",
              "      <td>1053</td>\n",
              "      <td>0</td>\n",
              "      <td>2198</td>\n",
              "      <td>1</td>\n",
              "      <td>0</td>\n",
              "      <td>2</td>\n",
              "      <td>1</td>\n",
              "      <td>4</td>\n",
              "      <td>1</td>\n",
              "      <td>Gd</td>\n",
              "      <td>9</td>\n",
              "      <td>Typ</td>\n",
              "      <td>1</td>\n",
              "      <td>TA</td>\n",
              "      <td>Attchd</td>\n",
              "      <td>2000.0</td>\n",
              "      <td>RFn</td>\n",
              "      <td>3</td>\n",
              "      <td>836</td>\n",
              "      <td>TA</td>\n",
              "      <td>TA</td>\n",
              "      <td>Y</td>\n",
              "      <td>192</td>\n",
              "      <td>84</td>\n",
              "      <td>0</td>\n",
              "      <td>0</td>\n",
              "      <td>0</td>\n",
              "      <td>0</td>\n",
              "      <td>NaN</td>\n",
              "      <td>NaN</td>\n",
              "      <td>NaN</td>\n",
              "      <td>0</td>\n",
              "      <td>12</td>\n",
              "      <td>2008</td>\n",
              "      <td>WD</td>\n",
              "      <td>Normal</td>\n",
              "      <td>250000</td>\n",
              "    </tr>\n",
              "  </tbody>\n",
              "</table>\n",
              "</div>"
            ],
            "text/plain": [
              "   Id  MSSubClass MSZoning  LotFrontage  LotArea Street Alley LotShape  \\\n",
              "0   1          60       RL         65.0     8450   Pave   NaN      Reg   \n",
              "1   2          20       RL         80.0     9600   Pave   NaN      Reg   \n",
              "2   3          60       RL         68.0    11250   Pave   NaN      IR1   \n",
              "3   4          70       RL         60.0     9550   Pave   NaN      IR1   \n",
              "4   5          60       RL         84.0    14260   Pave   NaN      IR1   \n",
              "\n",
              "  LandContour Utilities LotConfig LandSlope Neighborhood Condition1  \\\n",
              "0         Lvl    AllPub    Inside       Gtl      CollgCr       Norm   \n",
              "1         Lvl    AllPub       FR2       Gtl      Veenker      Feedr   \n",
              "2         Lvl    AllPub    Inside       Gtl      CollgCr       Norm   \n",
              "3         Lvl    AllPub    Corner       Gtl      Crawfor       Norm   \n",
              "4         Lvl    AllPub       FR2       Gtl      NoRidge       Norm   \n",
              "\n",
              "  Condition2 BldgType HouseStyle  OverallQual  OverallCond  YearBuilt  \\\n",
              "0       Norm     1Fam     2Story            7            5       2003   \n",
              "1       Norm     1Fam     1Story            6            8       1976   \n",
              "2       Norm     1Fam     2Story            7            5       2001   \n",
              "3       Norm     1Fam     2Story            7            5       1915   \n",
              "4       Norm     1Fam     2Story            8            5       2000   \n",
              "\n",
              "   YearRemodAdd RoofStyle RoofMatl Exterior1st Exterior2nd MasVnrType  \\\n",
              "0          2003     Gable  CompShg     VinylSd     VinylSd    BrkFace   \n",
              "1          1976     Gable  CompShg     MetalSd     MetalSd       None   \n",
              "2          2002     Gable  CompShg     VinylSd     VinylSd    BrkFace   \n",
              "3          1970     Gable  CompShg     Wd Sdng     Wd Shng       None   \n",
              "4          2000     Gable  CompShg     VinylSd     VinylSd    BrkFace   \n",
              "\n",
              "   MasVnrArea ExterQual ExterCond Foundation BsmtQual BsmtCond BsmtExposure  \\\n",
              "0       196.0        Gd        TA      PConc       Gd       TA           No   \n",
              "1         0.0        TA        TA     CBlock       Gd       TA           Gd   \n",
              "2       162.0        Gd        TA      PConc       Gd       TA           Mn   \n",
              "3         0.0        TA        TA     BrkTil       TA       Gd           No   \n",
              "4       350.0        Gd        TA      PConc       Gd       TA           Av   \n",
              "\n",
              "  BsmtFinType1  BsmtFinSF1 BsmtFinType2  BsmtFinSF2  BsmtUnfSF  TotalBsmtSF  \\\n",
              "0          GLQ         706          Unf           0        150          856   \n",
              "1          ALQ         978          Unf           0        284         1262   \n",
              "2          GLQ         486          Unf           0        434          920   \n",
              "3          ALQ         216          Unf           0        540          756   \n",
              "4          GLQ         655          Unf           0        490         1145   \n",
              "\n",
              "  Heating HeatingQC CentralAir Electrical  1stFlrSF  2ndFlrSF  LowQualFinSF  \\\n",
              "0    GasA        Ex          Y      SBrkr       856       854             0   \n",
              "1    GasA        Ex          Y      SBrkr      1262         0             0   \n",
              "2    GasA        Ex          Y      SBrkr       920       866             0   \n",
              "3    GasA        Gd          Y      SBrkr       961       756             0   \n",
              "4    GasA        Ex          Y      SBrkr      1145      1053             0   \n",
              "\n",
              "   GrLivArea  BsmtFullBath  BsmtHalfBath  FullBath  HalfBath  BedroomAbvGr  \\\n",
              "0       1710             1             0         2         1             3   \n",
              "1       1262             0             1         2         0             3   \n",
              "2       1786             1             0         2         1             3   \n",
              "3       1717             1             0         1         0             3   \n",
              "4       2198             1             0         2         1             4   \n",
              "\n",
              "   KitchenAbvGr KitchenQual  TotRmsAbvGrd Functional  Fireplaces FireplaceQu  \\\n",
              "0             1          Gd             8        Typ           0         NaN   \n",
              "1             1          TA             6        Typ           1          TA   \n",
              "2             1          Gd             6        Typ           1          TA   \n",
              "3             1          Gd             7        Typ           1          Gd   \n",
              "4             1          Gd             9        Typ           1          TA   \n",
              "\n",
              "  GarageType  GarageYrBlt GarageFinish  GarageCars  GarageArea GarageQual  \\\n",
              "0     Attchd       2003.0          RFn           2         548         TA   \n",
              "1     Attchd       1976.0          RFn           2         460         TA   \n",
              "2     Attchd       2001.0          RFn           2         608         TA   \n",
              "3     Detchd       1998.0          Unf           3         642         TA   \n",
              "4     Attchd       2000.0          RFn           3         836         TA   \n",
              "\n",
              "  GarageCond PavedDrive  WoodDeckSF  OpenPorchSF  EnclosedPorch  3SsnPorch  \\\n",
              "0         TA          Y           0           61              0          0   \n",
              "1         TA          Y         298            0              0          0   \n",
              "2         TA          Y           0           42              0          0   \n",
              "3         TA          Y           0           35            272          0   \n",
              "4         TA          Y         192           84              0          0   \n",
              "\n",
              "   ScreenPorch  PoolArea PoolQC Fence MiscFeature  MiscVal  MoSold  YrSold  \\\n",
              "0            0         0    NaN   NaN         NaN        0       2    2008   \n",
              "1            0         0    NaN   NaN         NaN        0       5    2007   \n",
              "2            0         0    NaN   NaN         NaN        0       9    2008   \n",
              "3            0         0    NaN   NaN         NaN        0       2    2006   \n",
              "4            0         0    NaN   NaN         NaN        0      12    2008   \n",
              "\n",
              "  SaleType SaleCondition  SalePrice  \n",
              "0       WD        Normal     208500  \n",
              "1       WD        Normal     181500  \n",
              "2       WD        Normal     223500  \n",
              "3       WD       Abnorml     140000  \n",
              "4       WD        Normal     250000  "
            ]
          },
          "metadata": {
            "tags": []
          },
          "execution_count": 301
        }
      ]
    },
    {
      "cell_type": "markdown",
      "metadata": {
        "id": "65YON32C-8B-"
      },
      "source": [
        "**Diccionario de la Base de Datos**\n",
        "\n",
        "Campos de información\n",
        "Aquí hay una versión breve de lo que encontrará en el archivo de descripción de datos.\n",
        "\n",
        "* SalePrice : el precio de venta de la propiedad en dólares. Esta es la variable objetivo que está tratando de predecir.\n",
        "* MSSubClass : la clase de construcción\n",
        "* MSZoning : la clasificación general de zonificación\n",
        "* LotFrontage : pies lineales de calle conectados a la propiedad\n",
        "* LotArea : Tamaño del lote en pies cuadrados\n",
        "* Calle : Tipo de acceso por carretera\n",
        "* Callejón : Tipo de acceso al callejón\n",
        "* LotShape : forma general de la propiedad\n",
        "* LandContour : Planitud de la propiedad\n",
        "* Utilidades : tipo de utilidades disponibles\n",
        "* LotConfig : configuración del lote\n",
        "* LandSlope : Pendiente de la propiedad\n",
        "* Vecindario : ubicaciones físicas dentro de los límites de la ciudad de Ames\n",
        "* Condition1 : Proximidad a la carretera principal o al ferrocarril\n",
        "* Condición 2 : Proximidad a la carretera principal o al ferrocarril (si hay un segundo)\n",
        "* BldgType : Tipo de vivienda\n",
        "* HouseStyle : estilo de vivienda\n",
        "* OverallQual : Material general y calidad de acabado.\n",
        "* OverallCond : Calificación de estado general\n",
        "* Año de construcción: fecha de construcción original\n",
        "* YearRemodAdd : fecha de remodelación\n",
        "* RoofStyle : Tipo de techo\n",
        "* RoofMatl : material del techo\n",
        "* Exterior1st : Revestimiento exterior de la casa\n",
        "* Exterior2nd : Revestimiento exterior de la casa (si hay más de un material)\n",
        "* MasVnrType : tipo de chapa de mampostería\n",
        "* MasVnrArea : Área de revestimiento de mampostería en pies cuadrados\n",
        "* ExterQual : Calidad del material exterior\n",
        "* ExterCond : Estado actual del material en el exterior\n",
        "* Fundación : Tipo de fundación\n",
        "* BsmtQual : Altura del sótano\n",
        "* BsmtCond : Estado general del sótano\n",
        "* BsmtExposure : Paredes de sótano a nivel de jardín o de salida\n",
        "* BsmtFinType1 : Calidad del área terminada del sótano\n",
        "* BsmtFinSF1 : pies cuadrados terminados tipo 1\n",
        "* BsmtFinType2 : Calidad de la segunda área terminada (si está presente)\n",
        "* BsmtFinSF2 : pies cuadrados con acabado tipo 2\n",
        "* BsmtUnfSF : pies cuadrados sin terminar de área del sótano\n",
        "* TotalBsmtSF : Total de pies cuadrados de área del sótano\n",
        "* Calefacción : Tipo de calefacción\n",
        "* Calefacción QC : calidad y estado de la calefacción\n",
        "* CentralAir : aire acondicionado central\n",
        "* Eléctrico : sistema eléctrico\n",
        "* 1stFlrSF : pies cuadrados del primer piso\n",
        "* 2ndFlrSF : pies cuadrados del segundo piso\n",
        "* LowQualFinSF : pies cuadrados con acabado de baja calidad (todos los pisos)\n",
        "* GrLivArea : pies cuadrados de área habitable sobre el nivel (suelo)\n",
        "* BsmtFullBath : Baños completos en el sótano\n",
        "* BsmtHalfBath : Medios baños del sótano\n",
        "* FullBath : baños completos sobre rasante\n",
        "* HalfBath : Medios baños sobre el nivel del suelo\n",
        "* Dormitorio : número de dormitorios sobre el nivel del sótano\n",
        "* Cocina : Número de cocinas\n",
        "* KitchenQual : calidad de la cocina\n",
        "* TotRmsAbvGrd : Total de habitaciones sobre rasante (no incluye baños)\n",
        "* Funcional : clasificación de funcionalidad del hogar\n",
        "* Chimeneas : Número de chimeneas\n",
        "* FireplaceQu : Calidad de chimenea\n",
        "* GarageType : Ubicación del garaje\n",
        "* GarageYrBlt : año en que se construyó el garaje\n",
        "* GarageFinish : Acabado interior del garaje\n",
        "* GarageCars : Tamaño del garaje en capacidad de automóvil\n",
        "* GarageArea : Tamaño del garaje en pies cuadrados\n",
        "* GarageQual : Calidad de garaje\n",
        "* GarageCond : Estado del garaje\n",
        "* PavedDrive : entrada pavimentada\n",
        "* WoodDeckSF : Área de la plataforma de madera en pies cuadrados\n",
        "* OpenPorchSF : Área de porche abierto en pies cuadrados\n",
        "* Porche cerrado : área de porche cerrado en pies cuadrados\n",
        "* 3SsnPorch : área de porche de tres estaciones en pies cuadrados\n",
        "* ScreenPorch : Área del porche de la pantalla en pies cuadrados\n",
        "* PoolArea : Área de la piscina en pies cuadrados\n",
        "* PoolQC : Calidad de la piscina\n",
        "* Valla : calidad de la valla\n",
        "* MiscFeature : característica miscelánea no cubierta en otras categorías\n",
        "* MiscVal : $ Valor de la función miscelánea\n",
        "* MoSold : Mes vendido\n",
        "* YrSold : año vendido\n",
        "* SaleType : Tipo de venta\n",
        "* SaleCondition : Condición de venta"
      ]
    },
    {
      "cell_type": "markdown",
      "metadata": {
        "id": "gykdRVygAmEK"
      },
      "source": [
        "# **3) Análisis Exploratorio y Descriptivo**"
      ]
    },
    {
      "cell_type": "markdown",
      "metadata": {
        "id": "obpRgLyeJ4fF"
      },
      "source": [
        "**Naturaleza de Variables**"
      ]
    },
    {
      "cell_type": "code",
      "metadata": {
        "colab": {
          "base_uri": "https://localhost:8080/"
        },
        "id": "eU7Si-Vl-1E4",
        "outputId": "0a074e31-0d5d-42bc-9954-91bd61b193a5"
      },
      "source": [
        "df.info()"
      ],
      "execution_count": 302,
      "outputs": [
        {
          "output_type": "stream",
          "text": [
            "<class 'pandas.core.frame.DataFrame'>\n",
            "RangeIndex: 1460 entries, 0 to 1459\n",
            "Data columns (total 81 columns):\n",
            " #   Column         Non-Null Count  Dtype  \n",
            "---  ------         --------------  -----  \n",
            " 0   Id             1460 non-null   int64  \n",
            " 1   MSSubClass     1460 non-null   int64  \n",
            " 2   MSZoning       1460 non-null   object \n",
            " 3   LotFrontage    1201 non-null   float64\n",
            " 4   LotArea        1460 non-null   int64  \n",
            " 5   Street         1460 non-null   object \n",
            " 6   Alley          91 non-null     object \n",
            " 7   LotShape       1460 non-null   object \n",
            " 8   LandContour    1460 non-null   object \n",
            " 9   Utilities      1460 non-null   object \n",
            " 10  LotConfig      1460 non-null   object \n",
            " 11  LandSlope      1460 non-null   object \n",
            " 12  Neighborhood   1460 non-null   object \n",
            " 13  Condition1     1460 non-null   object \n",
            " 14  Condition2     1460 non-null   object \n",
            " 15  BldgType       1460 non-null   object \n",
            " 16  HouseStyle     1460 non-null   object \n",
            " 17  OverallQual    1460 non-null   int64  \n",
            " 18  OverallCond    1460 non-null   int64  \n",
            " 19  YearBuilt      1460 non-null   int64  \n",
            " 20  YearRemodAdd   1460 non-null   int64  \n",
            " 21  RoofStyle      1460 non-null   object \n",
            " 22  RoofMatl       1460 non-null   object \n",
            " 23  Exterior1st    1460 non-null   object \n",
            " 24  Exterior2nd    1460 non-null   object \n",
            " 25  MasVnrType     1452 non-null   object \n",
            " 26  MasVnrArea     1452 non-null   float64\n",
            " 27  ExterQual      1460 non-null   object \n",
            " 28  ExterCond      1460 non-null   object \n",
            " 29  Foundation     1460 non-null   object \n",
            " 30  BsmtQual       1423 non-null   object \n",
            " 31  BsmtCond       1423 non-null   object \n",
            " 32  BsmtExposure   1422 non-null   object \n",
            " 33  BsmtFinType1   1423 non-null   object \n",
            " 34  BsmtFinSF1     1460 non-null   int64  \n",
            " 35  BsmtFinType2   1422 non-null   object \n",
            " 36  BsmtFinSF2     1460 non-null   int64  \n",
            " 37  BsmtUnfSF      1460 non-null   int64  \n",
            " 38  TotalBsmtSF    1460 non-null   int64  \n",
            " 39  Heating        1460 non-null   object \n",
            " 40  HeatingQC      1460 non-null   object \n",
            " 41  CentralAir     1460 non-null   object \n",
            " 42  Electrical     1459 non-null   object \n",
            " 43  1stFlrSF       1460 non-null   int64  \n",
            " 44  2ndFlrSF       1460 non-null   int64  \n",
            " 45  LowQualFinSF   1460 non-null   int64  \n",
            " 46  GrLivArea      1460 non-null   int64  \n",
            " 47  BsmtFullBath   1460 non-null   int64  \n",
            " 48  BsmtHalfBath   1460 non-null   int64  \n",
            " 49  FullBath       1460 non-null   int64  \n",
            " 50  HalfBath       1460 non-null   int64  \n",
            " 51  BedroomAbvGr   1460 non-null   int64  \n",
            " 52  KitchenAbvGr   1460 non-null   int64  \n",
            " 53  KitchenQual    1460 non-null   object \n",
            " 54  TotRmsAbvGrd   1460 non-null   int64  \n",
            " 55  Functional     1460 non-null   object \n",
            " 56  Fireplaces     1460 non-null   int64  \n",
            " 57  FireplaceQu    770 non-null    object \n",
            " 58  GarageType     1379 non-null   object \n",
            " 59  GarageYrBlt    1379 non-null   float64\n",
            " 60  GarageFinish   1379 non-null   object \n",
            " 61  GarageCars     1460 non-null   int64  \n",
            " 62  GarageArea     1460 non-null   int64  \n",
            " 63  GarageQual     1379 non-null   object \n",
            " 64  GarageCond     1379 non-null   object \n",
            " 65  PavedDrive     1460 non-null   object \n",
            " 66  WoodDeckSF     1460 non-null   int64  \n",
            " 67  OpenPorchSF    1460 non-null   int64  \n",
            " 68  EnclosedPorch  1460 non-null   int64  \n",
            " 69  3SsnPorch      1460 non-null   int64  \n",
            " 70  ScreenPorch    1460 non-null   int64  \n",
            " 71  PoolArea       1460 non-null   int64  \n",
            " 72  PoolQC         7 non-null      object \n",
            " 73  Fence          281 non-null    object \n",
            " 74  MiscFeature    54 non-null     object \n",
            " 75  MiscVal        1460 non-null   int64  \n",
            " 76  MoSold         1460 non-null   int64  \n",
            " 77  YrSold         1460 non-null   int64  \n",
            " 78  SaleType       1460 non-null   object \n",
            " 79  SaleCondition  1460 non-null   object \n",
            " 80  SalePrice      1460 non-null   int64  \n",
            "dtypes: float64(3), int64(35), object(43)\n",
            "memory usage: 924.0+ KB\n"
          ],
          "name": "stdout"
        }
      ]
    },
    {
      "cell_type": "code",
      "metadata": {
        "colab": {
          "base_uri": "https://localhost:8080/",
          "height": 131
        },
        "id": "qHia1cUQKzsX",
        "outputId": "f159e679-8379-4739-835d-0b6372ce5026"
      },
      "source": [
        "pd.options.display.max_columns = 100\n",
        "df.head(2)"
      ],
      "execution_count": 303,
      "outputs": [
        {
          "output_type": "execute_result",
          "data": {
            "text/html": [
              "<div>\n",
              "<style scoped>\n",
              "    .dataframe tbody tr th:only-of-type {\n",
              "        vertical-align: middle;\n",
              "    }\n",
              "\n",
              "    .dataframe tbody tr th {\n",
              "        vertical-align: top;\n",
              "    }\n",
              "\n",
              "    .dataframe thead th {\n",
              "        text-align: right;\n",
              "    }\n",
              "</style>\n",
              "<table border=\"1\" class=\"dataframe\">\n",
              "  <thead>\n",
              "    <tr style=\"text-align: right;\">\n",
              "      <th></th>\n",
              "      <th>Id</th>\n",
              "      <th>MSSubClass</th>\n",
              "      <th>MSZoning</th>\n",
              "      <th>LotFrontage</th>\n",
              "      <th>LotArea</th>\n",
              "      <th>Street</th>\n",
              "      <th>Alley</th>\n",
              "      <th>LotShape</th>\n",
              "      <th>LandContour</th>\n",
              "      <th>Utilities</th>\n",
              "      <th>LotConfig</th>\n",
              "      <th>LandSlope</th>\n",
              "      <th>Neighborhood</th>\n",
              "      <th>Condition1</th>\n",
              "      <th>Condition2</th>\n",
              "      <th>BldgType</th>\n",
              "      <th>HouseStyle</th>\n",
              "      <th>OverallQual</th>\n",
              "      <th>OverallCond</th>\n",
              "      <th>YearBuilt</th>\n",
              "      <th>YearRemodAdd</th>\n",
              "      <th>RoofStyle</th>\n",
              "      <th>RoofMatl</th>\n",
              "      <th>Exterior1st</th>\n",
              "      <th>Exterior2nd</th>\n",
              "      <th>MasVnrType</th>\n",
              "      <th>MasVnrArea</th>\n",
              "      <th>ExterQual</th>\n",
              "      <th>ExterCond</th>\n",
              "      <th>Foundation</th>\n",
              "      <th>BsmtQual</th>\n",
              "      <th>BsmtCond</th>\n",
              "      <th>BsmtExposure</th>\n",
              "      <th>BsmtFinType1</th>\n",
              "      <th>BsmtFinSF1</th>\n",
              "      <th>BsmtFinType2</th>\n",
              "      <th>BsmtFinSF2</th>\n",
              "      <th>BsmtUnfSF</th>\n",
              "      <th>TotalBsmtSF</th>\n",
              "      <th>Heating</th>\n",
              "      <th>HeatingQC</th>\n",
              "      <th>CentralAir</th>\n",
              "      <th>Electrical</th>\n",
              "      <th>1stFlrSF</th>\n",
              "      <th>2ndFlrSF</th>\n",
              "      <th>LowQualFinSF</th>\n",
              "      <th>GrLivArea</th>\n",
              "      <th>BsmtFullBath</th>\n",
              "      <th>BsmtHalfBath</th>\n",
              "      <th>FullBath</th>\n",
              "      <th>HalfBath</th>\n",
              "      <th>BedroomAbvGr</th>\n",
              "      <th>KitchenAbvGr</th>\n",
              "      <th>KitchenQual</th>\n",
              "      <th>TotRmsAbvGrd</th>\n",
              "      <th>Functional</th>\n",
              "      <th>Fireplaces</th>\n",
              "      <th>FireplaceQu</th>\n",
              "      <th>GarageType</th>\n",
              "      <th>GarageYrBlt</th>\n",
              "      <th>GarageFinish</th>\n",
              "      <th>GarageCars</th>\n",
              "      <th>GarageArea</th>\n",
              "      <th>GarageQual</th>\n",
              "      <th>GarageCond</th>\n",
              "      <th>PavedDrive</th>\n",
              "      <th>WoodDeckSF</th>\n",
              "      <th>OpenPorchSF</th>\n",
              "      <th>EnclosedPorch</th>\n",
              "      <th>3SsnPorch</th>\n",
              "      <th>ScreenPorch</th>\n",
              "      <th>PoolArea</th>\n",
              "      <th>PoolQC</th>\n",
              "      <th>Fence</th>\n",
              "      <th>MiscFeature</th>\n",
              "      <th>MiscVal</th>\n",
              "      <th>MoSold</th>\n",
              "      <th>YrSold</th>\n",
              "      <th>SaleType</th>\n",
              "      <th>SaleCondition</th>\n",
              "      <th>SalePrice</th>\n",
              "    </tr>\n",
              "  </thead>\n",
              "  <tbody>\n",
              "    <tr>\n",
              "      <th>0</th>\n",
              "      <td>1</td>\n",
              "      <td>60</td>\n",
              "      <td>RL</td>\n",
              "      <td>65.0</td>\n",
              "      <td>8450</td>\n",
              "      <td>Pave</td>\n",
              "      <td>NaN</td>\n",
              "      <td>Reg</td>\n",
              "      <td>Lvl</td>\n",
              "      <td>AllPub</td>\n",
              "      <td>Inside</td>\n",
              "      <td>Gtl</td>\n",
              "      <td>CollgCr</td>\n",
              "      <td>Norm</td>\n",
              "      <td>Norm</td>\n",
              "      <td>1Fam</td>\n",
              "      <td>2Story</td>\n",
              "      <td>7</td>\n",
              "      <td>5</td>\n",
              "      <td>2003</td>\n",
              "      <td>2003</td>\n",
              "      <td>Gable</td>\n",
              "      <td>CompShg</td>\n",
              "      <td>VinylSd</td>\n",
              "      <td>VinylSd</td>\n",
              "      <td>BrkFace</td>\n",
              "      <td>196.0</td>\n",
              "      <td>Gd</td>\n",
              "      <td>TA</td>\n",
              "      <td>PConc</td>\n",
              "      <td>Gd</td>\n",
              "      <td>TA</td>\n",
              "      <td>No</td>\n",
              "      <td>GLQ</td>\n",
              "      <td>706</td>\n",
              "      <td>Unf</td>\n",
              "      <td>0</td>\n",
              "      <td>150</td>\n",
              "      <td>856</td>\n",
              "      <td>GasA</td>\n",
              "      <td>Ex</td>\n",
              "      <td>Y</td>\n",
              "      <td>SBrkr</td>\n",
              "      <td>856</td>\n",
              "      <td>854</td>\n",
              "      <td>0</td>\n",
              "      <td>1710</td>\n",
              "      <td>1</td>\n",
              "      <td>0</td>\n",
              "      <td>2</td>\n",
              "      <td>1</td>\n",
              "      <td>3</td>\n",
              "      <td>1</td>\n",
              "      <td>Gd</td>\n",
              "      <td>8</td>\n",
              "      <td>Typ</td>\n",
              "      <td>0</td>\n",
              "      <td>NaN</td>\n",
              "      <td>Attchd</td>\n",
              "      <td>2003.0</td>\n",
              "      <td>RFn</td>\n",
              "      <td>2</td>\n",
              "      <td>548</td>\n",
              "      <td>TA</td>\n",
              "      <td>TA</td>\n",
              "      <td>Y</td>\n",
              "      <td>0</td>\n",
              "      <td>61</td>\n",
              "      <td>0</td>\n",
              "      <td>0</td>\n",
              "      <td>0</td>\n",
              "      <td>0</td>\n",
              "      <td>NaN</td>\n",
              "      <td>NaN</td>\n",
              "      <td>NaN</td>\n",
              "      <td>0</td>\n",
              "      <td>2</td>\n",
              "      <td>2008</td>\n",
              "      <td>WD</td>\n",
              "      <td>Normal</td>\n",
              "      <td>208500</td>\n",
              "    </tr>\n",
              "    <tr>\n",
              "      <th>1</th>\n",
              "      <td>2</td>\n",
              "      <td>20</td>\n",
              "      <td>RL</td>\n",
              "      <td>80.0</td>\n",
              "      <td>9600</td>\n",
              "      <td>Pave</td>\n",
              "      <td>NaN</td>\n",
              "      <td>Reg</td>\n",
              "      <td>Lvl</td>\n",
              "      <td>AllPub</td>\n",
              "      <td>FR2</td>\n",
              "      <td>Gtl</td>\n",
              "      <td>Veenker</td>\n",
              "      <td>Feedr</td>\n",
              "      <td>Norm</td>\n",
              "      <td>1Fam</td>\n",
              "      <td>1Story</td>\n",
              "      <td>6</td>\n",
              "      <td>8</td>\n",
              "      <td>1976</td>\n",
              "      <td>1976</td>\n",
              "      <td>Gable</td>\n",
              "      <td>CompShg</td>\n",
              "      <td>MetalSd</td>\n",
              "      <td>MetalSd</td>\n",
              "      <td>None</td>\n",
              "      <td>0.0</td>\n",
              "      <td>TA</td>\n",
              "      <td>TA</td>\n",
              "      <td>CBlock</td>\n",
              "      <td>Gd</td>\n",
              "      <td>TA</td>\n",
              "      <td>Gd</td>\n",
              "      <td>ALQ</td>\n",
              "      <td>978</td>\n",
              "      <td>Unf</td>\n",
              "      <td>0</td>\n",
              "      <td>284</td>\n",
              "      <td>1262</td>\n",
              "      <td>GasA</td>\n",
              "      <td>Ex</td>\n",
              "      <td>Y</td>\n",
              "      <td>SBrkr</td>\n",
              "      <td>1262</td>\n",
              "      <td>0</td>\n",
              "      <td>0</td>\n",
              "      <td>1262</td>\n",
              "      <td>0</td>\n",
              "      <td>1</td>\n",
              "      <td>2</td>\n",
              "      <td>0</td>\n",
              "      <td>3</td>\n",
              "      <td>1</td>\n",
              "      <td>TA</td>\n",
              "      <td>6</td>\n",
              "      <td>Typ</td>\n",
              "      <td>1</td>\n",
              "      <td>TA</td>\n",
              "      <td>Attchd</td>\n",
              "      <td>1976.0</td>\n",
              "      <td>RFn</td>\n",
              "      <td>2</td>\n",
              "      <td>460</td>\n",
              "      <td>TA</td>\n",
              "      <td>TA</td>\n",
              "      <td>Y</td>\n",
              "      <td>298</td>\n",
              "      <td>0</td>\n",
              "      <td>0</td>\n",
              "      <td>0</td>\n",
              "      <td>0</td>\n",
              "      <td>0</td>\n",
              "      <td>NaN</td>\n",
              "      <td>NaN</td>\n",
              "      <td>NaN</td>\n",
              "      <td>0</td>\n",
              "      <td>5</td>\n",
              "      <td>2007</td>\n",
              "      <td>WD</td>\n",
              "      <td>Normal</td>\n",
              "      <td>181500</td>\n",
              "    </tr>\n",
              "  </tbody>\n",
              "</table>\n",
              "</div>"
            ],
            "text/plain": [
              "   Id  MSSubClass MSZoning  LotFrontage  LotArea Street Alley LotShape  \\\n",
              "0   1          60       RL         65.0     8450   Pave   NaN      Reg   \n",
              "1   2          20       RL         80.0     9600   Pave   NaN      Reg   \n",
              "\n",
              "  LandContour Utilities LotConfig LandSlope Neighborhood Condition1  \\\n",
              "0         Lvl    AllPub    Inside       Gtl      CollgCr       Norm   \n",
              "1         Lvl    AllPub       FR2       Gtl      Veenker      Feedr   \n",
              "\n",
              "  Condition2 BldgType HouseStyle  OverallQual  OverallCond  YearBuilt  \\\n",
              "0       Norm     1Fam     2Story            7            5       2003   \n",
              "1       Norm     1Fam     1Story            6            8       1976   \n",
              "\n",
              "   YearRemodAdd RoofStyle RoofMatl Exterior1st Exterior2nd MasVnrType  \\\n",
              "0          2003     Gable  CompShg     VinylSd     VinylSd    BrkFace   \n",
              "1          1976     Gable  CompShg     MetalSd     MetalSd       None   \n",
              "\n",
              "   MasVnrArea ExterQual ExterCond Foundation BsmtQual BsmtCond BsmtExposure  \\\n",
              "0       196.0        Gd        TA      PConc       Gd       TA           No   \n",
              "1         0.0        TA        TA     CBlock       Gd       TA           Gd   \n",
              "\n",
              "  BsmtFinType1  BsmtFinSF1 BsmtFinType2  BsmtFinSF2  BsmtUnfSF  TotalBsmtSF  \\\n",
              "0          GLQ         706          Unf           0        150          856   \n",
              "1          ALQ         978          Unf           0        284         1262   \n",
              "\n",
              "  Heating HeatingQC CentralAir Electrical  1stFlrSF  2ndFlrSF  LowQualFinSF  \\\n",
              "0    GasA        Ex          Y      SBrkr       856       854             0   \n",
              "1    GasA        Ex          Y      SBrkr      1262         0             0   \n",
              "\n",
              "   GrLivArea  BsmtFullBath  BsmtHalfBath  FullBath  HalfBath  BedroomAbvGr  \\\n",
              "0       1710             1             0         2         1             3   \n",
              "1       1262             0             1         2         0             3   \n",
              "\n",
              "   KitchenAbvGr KitchenQual  TotRmsAbvGrd Functional  Fireplaces FireplaceQu  \\\n",
              "0             1          Gd             8        Typ           0         NaN   \n",
              "1             1          TA             6        Typ           1          TA   \n",
              "\n",
              "  GarageType  GarageYrBlt GarageFinish  GarageCars  GarageArea GarageQual  \\\n",
              "0     Attchd       2003.0          RFn           2         548         TA   \n",
              "1     Attchd       1976.0          RFn           2         460         TA   \n",
              "\n",
              "  GarageCond PavedDrive  WoodDeckSF  OpenPorchSF  EnclosedPorch  3SsnPorch  \\\n",
              "0         TA          Y           0           61              0          0   \n",
              "1         TA          Y         298            0              0          0   \n",
              "\n",
              "   ScreenPorch  PoolArea PoolQC Fence MiscFeature  MiscVal  MoSold  YrSold  \\\n",
              "0            0         0    NaN   NaN         NaN        0       2    2008   \n",
              "1            0         0    NaN   NaN         NaN        0       5    2007   \n",
              "\n",
              "  SaleType SaleCondition  SalePrice  \n",
              "0       WD        Normal     208500  \n",
              "1       WD        Normal     181500  "
            ]
          },
          "metadata": {
            "tags": []
          },
          "execution_count": 303
        }
      ]
    },
    {
      "cell_type": "markdown",
      "metadata": {
        "id": "RNROrSDDKDkY"
      },
      "source": [
        "**Recodificar**\n",
        "* Id debe ser texto\n",
        "\n",
        "**Recodificar a Categóricas:**\n",
        "* Recodificar a Categóricas:\n",
        "* MSSubClass: identifica el tipo de vivienda, debe ser categórica\n",
        "* MSZoning: Identifica la clasificación de zonificación general de la venta\n",
        "* Street: Tipo de acceso por carretera a la propiedad\n",
        "* Alley: Tipo de callejón de acceso a la propiedad\n",
        "* LotShape: Forma general de propiedad\n",
        "* LandContour: Planitud de la propiedad\n",
        "* Utilities: Tipo de utilidades disponibles\n",
        "* LotConfig: Configuración de lote\n",
        "* LandSlope: Pendiente de propiedad\n",
        "* Neighborhood: Ubicaciones físicas dentro de los límites de la ciudad de Ames\n",
        "* Condition1: Proximidad a diversas condiciones\n",
        "* Condition2: Proximidad a varias condiciones (si más de una está presente)\n",
        "* BldgType: Tipo de vivienda\n",
        "* HouseStyle: Tipo de vivienda\n",
        "* OverallQual:Califica el material general y el acabado de la casa\n",
        "* OverallCond: Valora el estado general de la casa.\n",
        "* YearBuilt: Fecha de construcción original\n",
        "* YearRemodAdd: Fecha de remodelación (igual que la fecha de construcción si no hay remodelaciones o adiciones)\n",
        "* RoofStyle: Tipo de techo\n",
        "* RoofMatl: material del techo\n",
        "* Exterior1st: Revestimiento exterior de la casa\n",
        "* Exterior2nd: Revestimiento exterior de la casa (si hay más de un material)\n",
        "* MasVnrType: tipo de chapa de mampostería\n",
        "* ExterQual: Evalúa la calidad del material en el exterior\n",
        "* ExterCond: Evalúa el estado actual del material en el exterior\n",
        "* fundación: Tipo de fundación\n",
        "* BsmtQual: Evalúa la altura del sótano\n",
        "* BsmtCond: Evalúa el estado general del sótano\n",
        "* BsmtExposure: se refiere a las paredes de huelga o al nivel del jardín.\n",
        "* BsmtFinType1: Clasificación del área terminada del sótano\n",
        "* BsmtFinType2: Calificación del área terminada del sótano (si hay varios tipos)\n",
        "* Heating: Tipo de calefacción\n",
        "* HeatingQC: calidad y estado de la calefacción\n",
        "* CentralAir: aire acondicionado central\n",
        "* Eléctrico: sistema eléctrico\n",
        "* KitchenQual: calidad de la cocina\n",
        "* Funcional: funcionalidad del hogar (suponga que es típico a menos que se justifiquen las deducciones)\n",
        "* FireplaceQu: Calidad de chimenea\n",
        "* GarageType: Ubicación del garaje\n",
        "* GarageYrBlt: año en que se construyó el garaje\n",
        "* GarageFinish: Acabado interior del garaje\n",
        "* GarageQual: Calidad de garaje\n",
        "* GarageCond: Estado del garaje\n",
        "* PavedDrive: entrada pavimentada\n",
        "* PoolQC: Calidad de la piscina\n",
        "* Fence: calidad de la valla\n",
        "* MiscFeature: característica miscelánea no cubierta en otras categorías\n",
        "* SaleType: Tipo de venta\n",
        "* SaleCondition: Condición de venta"
      ]
    },
    {
      "cell_type": "code",
      "metadata": {
        "id": "hmhBKacXK6n5"
      },
      "source": [
        "df[\"Id\"]=df[\"Id\"].astype(\"str\") # convertir en Texto\n",
        "# convertrmos las variables tipo categoricas a category\n",
        "df[[\"MSSubClass\",\"MSZoning\",\"Street\",\"Alley\",\"LotShape\",\"LandContour\",\"Utilities\",\"LotConfig\",\"LandSlope\",\n",
        "    \"Neighborhood\",\"Condition1\",\"Condition2\",\"BldgType\",\t\"HouseStyle\",\n",
        "    \"OverallQual\",\t\"OverallCond\",\"YearBuilt\",\"YearRemodAdd\",\n",
        "    \"RoofStyle\",\t\"RoofMatl\",\t\"Exterior1st\",\t\"Exterior2nd\",\t\"MasVnrType\",\n",
        "    'ExterQual', 'ExterCond', 'Foundation', 'BsmtQual',\n",
        "       'BsmtCond', 'BsmtExposure',\"BsmtFinType1\", 'BsmtFinType2','Heating',\n",
        "       'HeatingQC', 'CentralAir', 'Electrical','KitchenQual','Functional','FireplaceQu', 'GarageType',\n",
        "   'GarageYrBlt', 'GarageFinish','GarageQual',\n",
        "       'GarageCond', 'PavedDrive','PoolQC',\n",
        "       'Fence', 'MiscFeature','SaleType',\n",
        "       'SaleCondition']]=df[[\"MSSubClass\",\"MSZoning\",\"Street\",\"Alley\",\"LotShape\",\n",
        "                         \"LandContour\",\"Utilities\",\"LotConfig\",\"LandSlope\",\"Neighborhood\",\"Condition1\",\"Condition2\",\"BldgType\",\t\n",
        "                         \"HouseStyle\",\"OverallQual\",\t\"OverallCond\",\"YearBuilt\",\"YearRemodAdd\",\n",
        "                         \"RoofStyle\",\t\"RoofMatl\",\t\"Exterior1st\",\t\"Exterior2nd\",\t\"MasVnrType\",\n",
        "                         'ExterQual', 'ExterCond', 'Foundation', 'BsmtQual',\n",
        "       'BsmtCond', 'BsmtExposure',\"BsmtFinType1\", 'BsmtFinType2','Heating',\n",
        "       'HeatingQC', 'CentralAir', 'Electrical','KitchenQual','Functional','FireplaceQu', 'GarageType',\n",
        "                                       'GarageYrBlt', 'GarageFinish','GarageQual',\n",
        "       'GarageCond', 'PavedDrive','PoolQC',\n",
        "       'Fence', 'MiscFeature','SaleType',\n",
        "       'SaleCondition']].astype(\"category\") # convertir en categoria"
      ],
      "execution_count": 304,
      "outputs": []
    },
    {
      "cell_type": "markdown",
      "metadata": {
        "id": "1DqKHtNtM2oM"
      },
      "source": [
        "**Datos Perdidos o Nas**"
      ]
    },
    {
      "cell_type": "code",
      "metadata": {
        "colab": {
          "base_uri": "https://localhost:8080/"
        },
        "id": "1xvPn8MlMVuQ",
        "outputId": "16ae1257-116f-4e54-af34-e2e2aad16d49"
      },
      "source": [
        "pd.options.display.max_rows=81\n",
        "df.isnull().sum()"
      ],
      "execution_count": 305,
      "outputs": [
        {
          "output_type": "execute_result",
          "data": {
            "text/plain": [
              "Id                  0\n",
              "MSSubClass          0\n",
              "MSZoning            0\n",
              "LotFrontage       259\n",
              "LotArea             0\n",
              "Street              0\n",
              "Alley            1369\n",
              "LotShape            0\n",
              "LandContour         0\n",
              "Utilities           0\n",
              "LotConfig           0\n",
              "LandSlope           0\n",
              "Neighborhood        0\n",
              "Condition1          0\n",
              "Condition2          0\n",
              "BldgType            0\n",
              "HouseStyle          0\n",
              "OverallQual         0\n",
              "OverallCond         0\n",
              "YearBuilt           0\n",
              "YearRemodAdd        0\n",
              "RoofStyle           0\n",
              "RoofMatl            0\n",
              "Exterior1st         0\n",
              "Exterior2nd         0\n",
              "MasVnrType          8\n",
              "MasVnrArea          8\n",
              "ExterQual           0\n",
              "ExterCond           0\n",
              "Foundation          0\n",
              "BsmtQual           37\n",
              "BsmtCond           37\n",
              "BsmtExposure       38\n",
              "BsmtFinType1       37\n",
              "BsmtFinSF1          0\n",
              "BsmtFinType2       38\n",
              "BsmtFinSF2          0\n",
              "BsmtUnfSF           0\n",
              "TotalBsmtSF         0\n",
              "Heating             0\n",
              "HeatingQC           0\n",
              "CentralAir          0\n",
              "Electrical          1\n",
              "1stFlrSF            0\n",
              "2ndFlrSF            0\n",
              "LowQualFinSF        0\n",
              "GrLivArea           0\n",
              "BsmtFullBath        0\n",
              "BsmtHalfBath        0\n",
              "FullBath            0\n",
              "HalfBath            0\n",
              "BedroomAbvGr        0\n",
              "KitchenAbvGr        0\n",
              "KitchenQual         0\n",
              "TotRmsAbvGrd        0\n",
              "Functional          0\n",
              "Fireplaces          0\n",
              "FireplaceQu       690\n",
              "GarageType         81\n",
              "GarageYrBlt        81\n",
              "GarageFinish       81\n",
              "GarageCars          0\n",
              "GarageArea          0\n",
              "GarageQual         81\n",
              "GarageCond         81\n",
              "PavedDrive          0\n",
              "WoodDeckSF          0\n",
              "OpenPorchSF         0\n",
              "EnclosedPorch       0\n",
              "3SsnPorch           0\n",
              "ScreenPorch         0\n",
              "PoolArea            0\n",
              "PoolQC           1453\n",
              "Fence            1179\n",
              "MiscFeature      1406\n",
              "MiscVal             0\n",
              "MoSold              0\n",
              "YrSold              0\n",
              "SaleType            0\n",
              "SaleCondition       0\n",
              "SalePrice           0\n",
              "dtype: int64"
            ]
          },
          "metadata": {
            "tags": []
          },
          "execution_count": 305
        }
      ]
    },
    {
      "cell_type": "code",
      "metadata": {
        "colab": {
          "base_uri": "https://localhost:8080/"
        },
        "id": "oXUYcZdYNGa0",
        "outputId": "1fd8e836-b608-43f0-e7c0-a44a485c0b8e"
      },
      "source": [
        "df.isnull().sum()/len(df)"
      ],
      "execution_count": 306,
      "outputs": [
        {
          "output_type": "execute_result",
          "data": {
            "text/plain": [
              "Id               0.000000\n",
              "MSSubClass       0.000000\n",
              "MSZoning         0.000000\n",
              "LotFrontage      0.177397\n",
              "LotArea          0.000000\n",
              "Street           0.000000\n",
              "Alley            0.937671\n",
              "LotShape         0.000000\n",
              "LandContour      0.000000\n",
              "Utilities        0.000000\n",
              "LotConfig        0.000000\n",
              "LandSlope        0.000000\n",
              "Neighborhood     0.000000\n",
              "Condition1       0.000000\n",
              "Condition2       0.000000\n",
              "BldgType         0.000000\n",
              "HouseStyle       0.000000\n",
              "OverallQual      0.000000\n",
              "OverallCond      0.000000\n",
              "YearBuilt        0.000000\n",
              "YearRemodAdd     0.000000\n",
              "RoofStyle        0.000000\n",
              "RoofMatl         0.000000\n",
              "Exterior1st      0.000000\n",
              "Exterior2nd      0.000000\n",
              "MasVnrType       0.005479\n",
              "MasVnrArea       0.005479\n",
              "ExterQual        0.000000\n",
              "ExterCond        0.000000\n",
              "Foundation       0.000000\n",
              "BsmtQual         0.025342\n",
              "BsmtCond         0.025342\n",
              "BsmtExposure     0.026027\n",
              "BsmtFinType1     0.025342\n",
              "BsmtFinSF1       0.000000\n",
              "BsmtFinType2     0.026027\n",
              "BsmtFinSF2       0.000000\n",
              "BsmtUnfSF        0.000000\n",
              "TotalBsmtSF      0.000000\n",
              "Heating          0.000000\n",
              "HeatingQC        0.000000\n",
              "CentralAir       0.000000\n",
              "Electrical       0.000685\n",
              "1stFlrSF         0.000000\n",
              "2ndFlrSF         0.000000\n",
              "LowQualFinSF     0.000000\n",
              "GrLivArea        0.000000\n",
              "BsmtFullBath     0.000000\n",
              "BsmtHalfBath     0.000000\n",
              "FullBath         0.000000\n",
              "HalfBath         0.000000\n",
              "BedroomAbvGr     0.000000\n",
              "KitchenAbvGr     0.000000\n",
              "KitchenQual      0.000000\n",
              "TotRmsAbvGrd     0.000000\n",
              "Functional       0.000000\n",
              "Fireplaces       0.000000\n",
              "FireplaceQu      0.472603\n",
              "GarageType       0.055479\n",
              "GarageYrBlt      0.055479\n",
              "GarageFinish     0.055479\n",
              "GarageCars       0.000000\n",
              "GarageArea       0.000000\n",
              "GarageQual       0.055479\n",
              "GarageCond       0.055479\n",
              "PavedDrive       0.000000\n",
              "WoodDeckSF       0.000000\n",
              "OpenPorchSF      0.000000\n",
              "EnclosedPorch    0.000000\n",
              "3SsnPorch        0.000000\n",
              "ScreenPorch      0.000000\n",
              "PoolArea         0.000000\n",
              "PoolQC           0.995205\n",
              "Fence            0.807534\n",
              "MiscFeature      0.963014\n",
              "MiscVal          0.000000\n",
              "MoSold           0.000000\n",
              "YrSold           0.000000\n",
              "SaleType         0.000000\n",
              "SaleCondition    0.000000\n",
              "SalePrice        0.000000\n",
              "dtype: float64"
            ]
          },
          "metadata": {
            "tags": []
          },
          "execution_count": 306
        }
      ]
    },
    {
      "cell_type": "markdown",
      "metadata": {
        "id": "7lRtoKGwOIOb"
      },
      "source": [
        "* Podemos Elimiar las Variables que tengan Nas mayor al 50%\n",
        "* Para Proporciones Bajas, podemos eliminar la proporcion de la data o imputar los Nas de la Variable que presenta datos perdidos"
      ]
    },
    {
      "cell_type": "code",
      "metadata": {
        "id": "jkLos44kNmC0"
      },
      "source": [
        "df=df.drop([\"MiscFeature\",\"PoolQC\",\"Fence\",\"FireplaceQu\",\"Alley\"],axis=1)"
      ],
      "execution_count": 307,
      "outputs": []
    },
    {
      "cell_type": "code",
      "metadata": {
        "colab": {
          "base_uri": "https://localhost:8080/"
        },
        "id": "XepPfjpJQGm1",
        "outputId": "612de7e4-d65e-448d-97ef-fc5bd2ae077b"
      },
      "source": [
        "df.shape"
      ],
      "execution_count": 308,
      "outputs": [
        {
          "output_type": "execute_result",
          "data": {
            "text/plain": [
              "(1460, 76)"
            ]
          },
          "metadata": {
            "tags": []
          },
          "execution_count": 308
        }
      ]
    },
    {
      "cell_type": "code",
      "metadata": {
        "colab": {
          "base_uri": "https://localhost:8080/"
        },
        "id": "ER2bmCQc-9bn",
        "outputId": "1f69fef8-8356-4bc2-c835-3c033ec275f9"
      },
      "source": [
        "df.isnull().sum()/len(df)"
      ],
      "execution_count": 309,
      "outputs": [
        {
          "output_type": "execute_result",
          "data": {
            "text/plain": [
              "Id               0.000000\n",
              "MSSubClass       0.000000\n",
              "MSZoning         0.000000\n",
              "LotFrontage      0.177397\n",
              "LotArea          0.000000\n",
              "Street           0.000000\n",
              "LotShape         0.000000\n",
              "LandContour      0.000000\n",
              "Utilities        0.000000\n",
              "LotConfig        0.000000\n",
              "LandSlope        0.000000\n",
              "Neighborhood     0.000000\n",
              "Condition1       0.000000\n",
              "Condition2       0.000000\n",
              "BldgType         0.000000\n",
              "HouseStyle       0.000000\n",
              "OverallQual      0.000000\n",
              "OverallCond      0.000000\n",
              "YearBuilt        0.000000\n",
              "YearRemodAdd     0.000000\n",
              "RoofStyle        0.000000\n",
              "RoofMatl         0.000000\n",
              "Exterior1st      0.000000\n",
              "Exterior2nd      0.000000\n",
              "MasVnrType       0.005479\n",
              "MasVnrArea       0.005479\n",
              "ExterQual        0.000000\n",
              "ExterCond        0.000000\n",
              "Foundation       0.000000\n",
              "BsmtQual         0.025342\n",
              "BsmtCond         0.025342\n",
              "BsmtExposure     0.026027\n",
              "BsmtFinType1     0.025342\n",
              "BsmtFinSF1       0.000000\n",
              "BsmtFinType2     0.026027\n",
              "BsmtFinSF2       0.000000\n",
              "BsmtUnfSF        0.000000\n",
              "TotalBsmtSF      0.000000\n",
              "Heating          0.000000\n",
              "HeatingQC        0.000000\n",
              "CentralAir       0.000000\n",
              "Electrical       0.000685\n",
              "1stFlrSF         0.000000\n",
              "2ndFlrSF         0.000000\n",
              "LowQualFinSF     0.000000\n",
              "GrLivArea        0.000000\n",
              "BsmtFullBath     0.000000\n",
              "BsmtHalfBath     0.000000\n",
              "FullBath         0.000000\n",
              "HalfBath         0.000000\n",
              "BedroomAbvGr     0.000000\n",
              "KitchenAbvGr     0.000000\n",
              "KitchenQual      0.000000\n",
              "TotRmsAbvGrd     0.000000\n",
              "Functional       0.000000\n",
              "Fireplaces       0.000000\n",
              "GarageType       0.055479\n",
              "GarageYrBlt      0.055479\n",
              "GarageFinish     0.055479\n",
              "GarageCars       0.000000\n",
              "GarageArea       0.000000\n",
              "GarageQual       0.055479\n",
              "GarageCond       0.055479\n",
              "PavedDrive       0.000000\n",
              "WoodDeckSF       0.000000\n",
              "OpenPorchSF      0.000000\n",
              "EnclosedPorch    0.000000\n",
              "3SsnPorch        0.000000\n",
              "ScreenPorch      0.000000\n",
              "PoolArea         0.000000\n",
              "MiscVal          0.000000\n",
              "MoSold           0.000000\n",
              "YrSold           0.000000\n",
              "SaleType         0.000000\n",
              "SaleCondition    0.000000\n",
              "SalePrice        0.000000\n",
              "dtype: float64"
            ]
          },
          "metadata": {
            "tags": []
          },
          "execution_count": 309
        }
      ]
    },
    {
      "cell_type": "markdown",
      "metadata": {
        "id": "g1ttMQXb-3JA"
      },
      "source": [
        "## **Vamos a eliminar todos los Nas**"
      ]
    },
    {
      "cell_type": "code",
      "metadata": {
        "id": "ZZrROPFuCghM"
      },
      "source": [
        "df_Sin_na=df.dropna()"
      ],
      "execution_count": 310,
      "outputs": []
    },
    {
      "cell_type": "code",
      "metadata": {
        "id": "-sy4vuPWC5Zm"
      },
      "source": [
        "#df_Sin_na.isnull().sum()"
      ],
      "execution_count": 311,
      "outputs": []
    },
    {
      "cell_type": "code",
      "metadata": {
        "colab": {
          "base_uri": "https://localhost:8080/"
        },
        "id": "fTwTy5mgC5cc",
        "outputId": "09e5bade-f9d7-4c7c-bd54-8285e50a0e9a"
      },
      "source": [
        "((len(df)-len(df_Sin_na))/len(df))*100"
      ],
      "execution_count": 312,
      "outputs": [
        {
          "output_type": "execute_result",
          "data": {
            "text/plain": [
              "25.068493150684933"
            ]
          },
          "metadata": {
            "tags": []
          },
          "execution_count": 312
        }
      ]
    },
    {
      "cell_type": "code",
      "metadata": {
        "colab": {
          "base_uri": "https://localhost:8080/"
        },
        "id": "vaSsm2-YC5g5",
        "outputId": "923de754-b3b4-4d72-8c35-de63d8ba0e3b"
      },
      "source": [
        "len(df)"
      ],
      "execution_count": 313,
      "outputs": [
        {
          "output_type": "execute_result",
          "data": {
            "text/plain": [
              "1460"
            ]
          },
          "metadata": {
            "tags": []
          },
          "execution_count": 313
        }
      ]
    },
    {
      "cell_type": "code",
      "metadata": {
        "colab": {
          "base_uri": "https://localhost:8080/"
        },
        "id": "4NlHFvVQC5j-",
        "outputId": "4470e9ed-ea10-4c2c-aec6-b13aa6777e54"
      },
      "source": [
        "len(df_Sin_na)"
      ],
      "execution_count": 314,
      "outputs": [
        {
          "output_type": "execute_result",
          "data": {
            "text/plain": [
              "1094"
            ]
          },
          "metadata": {
            "tags": []
          },
          "execution_count": 314
        }
      ]
    },
    {
      "cell_type": "markdown",
      "metadata": {
        "id": "7RNmaApoD2jA"
      },
      "source": [
        "## **Imputar con Inferencia Estadistica**"
      ]
    },
    {
      "cell_type": "markdown",
      "metadata": {
        "id": "Nz65Wnz3EIxu"
      },
      "source": [
        "**Imputar Distancia a la Calle**"
      ]
    },
    {
      "cell_type": "code",
      "metadata": {
        "id": "qU-j1awWEIJ6"
      },
      "source": [
        "Distancia_Calle=df[\"LotFrontage\"]"
      ],
      "execution_count": 315,
      "outputs": []
    },
    {
      "cell_type": "code",
      "metadata": {
        "id": "758tAiggC5mX"
      },
      "source": [
        "Distancia_Calle=Distancia_Calle.dropna()"
      ],
      "execution_count": 316,
      "outputs": []
    },
    {
      "cell_type": "code",
      "metadata": {
        "colab": {
          "base_uri": "https://localhost:8080/"
        },
        "id": "60Rj5D7yC5oa",
        "outputId": "87645766-4127-436e-e3eb-89532805bada"
      },
      "source": [
        "len(Distancia_Calle)"
      ],
      "execution_count": 317,
      "outputs": [
        {
          "output_type": "execute_result",
          "data": {
            "text/plain": [
              "1201"
            ]
          },
          "metadata": {
            "tags": []
          },
          "execution_count": 317
        }
      ]
    },
    {
      "cell_type": "markdown",
      "metadata": {
        "id": "3zy4mEmQIOxB"
      },
      "source": [
        "**Distribuccion de los datos**"
      ]
    },
    {
      "cell_type": "markdown",
      "metadata": {
        "id": "1hwYshnIIaVY"
      },
      "source": [
        "**Histograma**\n",
        "\n",
        "Un histograma es la representación gráfica en forma de barras, que simboliza la distribución de un conjunto de datos. Sirven para obtener una \"primera vista\" general, o panorama, de la distribución de la población, o de la muestra, respecto a una característica, cuantitativa y continua."
      ]
    },
    {
      "cell_type": "code",
      "metadata": {
        "id": "8IkxnfWbC5q0"
      },
      "source": [
        "Promedio_Original_D=np.mean(Distancia_Calle)"
      ],
      "execution_count": 318,
      "outputs": []
    },
    {
      "cell_type": "code",
      "metadata": {
        "colab": {
          "base_uri": "https://localhost:8080/",
          "height": 334
        },
        "id": "eckbMAkmIOCK",
        "outputId": "106c82e9-ea85-41f9-90af-ce7feb3184c7"
      },
      "source": [
        "plt.figure(figsize=(10,5))\n",
        "plt.hist(Distancia_Calle,facecolor=\"darkred\")\n",
        "plt.xlabel(\"Distancia a la Calle\")\n",
        "plt.show()"
      ],
      "execution_count": 319,
      "outputs": [
        {
          "output_type": "display_data",
          "data": {
            "image/png": "[encoded data removed]",
            "text/plain": [
              "<Figure size 720x360 with 1 Axes>"
            ]
          },
          "metadata": {
            "tags": [],
            "needs_background": "light"
          }
        }
      ]
    },
    {
      "cell_type": "markdown",
      "metadata": {
        "id": "ZSxLDkJqJxZu"
      },
      "source": [
        "## **Identificar Valores Atipicos**"
      ]
    },
    {
      "cell_type": "markdown",
      "metadata": {
        "id": "Yy7P1TUoJzLo"
      },
      "source": [
        "**Manera Visual: Boxplot**\n",
        "\n",
        "Para dibujar el diagrama de caja necesitas conocer los valores de posición, llamados cuartiles 1 ,2 y 3. La longitud de la caja es el rango intercuartílico (q3-q1). Y la longitud de los «palos» (las líneas que salen de la caja) son los valores extremos. También necesitas saber cúales son los valores «raros» o outliers. Los dibujarás con un puntito o una crucecita."
      ]
    },
    {
      "cell_type": "code",
      "metadata": {
        "colab": {
          "base_uri": "https://localhost:8080/"
        },
        "id": "pW51BsCwIOE2",
        "outputId": "591f1a97-978f-44c5-dcaf-ee177765493a"
      },
      "source": [
        "Distancia_Calle.describe()"
      ],
      "execution_count": 320,
      "outputs": [
        {
          "output_type": "execute_result",
          "data": {
            "text/plain": [
              "count    1201.000000\n",
              "mean       70.049958\n",
              "std        24.284752\n",
              "min        21.000000\n",
              "25%        59.000000\n",
              "50%        69.000000\n",
              "75%        80.000000\n",
              "max       313.000000\n",
              "Name: LotFrontage, dtype: float64"
            ]
          },
          "metadata": {
            "tags": []
          },
          "execution_count": 320
        }
      ]
    },
    {
      "cell_type": "code",
      "metadata": {
        "colab": {
          "base_uri": "https://localhost:8080/",
          "height": 296
        },
        "id": "DquenMwaIOHc",
        "outputId": "60e7b1e5-64b5-4648-a60c-48e211153a4c"
      },
      "source": [
        "sns.boxplot(x=Distancia_Calle,color=\"darkblue\")"
      ],
      "execution_count": 321,
      "outputs": [
        {
          "output_type": "execute_result",
          "data": {
            "text/plain": [
              "<matplotlib.axes._subplots.AxesSubplot at 0x7f39f4300390>"
            ]
          },
          "metadata": {
            "tags": []
          },
          "execution_count": 321
        },
        {
          "output_type": "display_data",
          "data": {
            "image/png": "[encoded data removed]",
            "text/plain": [
              "<Figure size 432x288 with 1 Axes>"
            ]
          },
          "metadata": {
            "tags": [],
            "needs_background": "light"
          }
        }
      ]
    },
    {
      "cell_type": "markdown",
      "metadata": {
        "id": "YKJUUpPGMRkx"
      },
      "source": [
        "**Metodo del Rango Intercuantil**"
      ]
    },
    {
      "cell_type": "code",
      "metadata": {
        "colab": {
          "base_uri": "https://localhost:8080/"
        },
        "id": "740jDFpBIOK3",
        "outputId": "910f2b9f-cad9-45ef-b3f2-6170099605fa"
      },
      "source": [
        "q1,q3 = np.percentile(Distancia_Calle,[25,75])\n",
        "print(q1)\n",
        "print(q3)"
      ],
      "execution_count": 322,
      "outputs": [
        {
          "output_type": "stream",
          "text": [
            "59.0\n",
            "80.0\n"
          ],
          "name": "stdout"
        }
      ]
    },
    {
      "cell_type": "markdown",
      "metadata": {
        "id": "R2huzevoM68Z"
      },
      "source": [
        "**Limites**"
      ]
    },
    {
      "cell_type": "code",
      "metadata": {
        "colab": {
          "base_uri": "https://localhost:8080/"
        },
        "id": "6FiAJT0hM51w",
        "outputId": "8e1570a7-febf-4f91-f59f-cb69443bbce0"
      },
      "source": [
        "RIC=(q3-q1)\n",
        "print(RIC)"
      ],
      "execution_count": 323,
      "outputs": [
        {
          "output_type": "stream",
          "text": [
            "21.0\n"
          ],
          "name": "stdout"
        }
      ]
    },
    {
      "cell_type": "code",
      "metadata": {
        "colab": {
          "base_uri": "https://localhost:8080/"
        },
        "id": "2maiRAdvM58G",
        "outputId": "53be348c-9932-4ca8-ea3d-f111551d1942"
      },
      "source": [
        "Limite_Superior= q3+(1.5*RIC)\n",
        "print(Limite_Superior)"
      ],
      "execution_count": 324,
      "outputs": [
        {
          "output_type": "stream",
          "text": [
            "111.5\n"
          ],
          "name": "stdout"
        }
      ]
    },
    {
      "cell_type": "code",
      "metadata": {
        "colab": {
          "base_uri": "https://localhost:8080/"
        },
        "id": "pq6eqMOfM5-x",
        "outputId": "cf240898-09a3-463d-8426-0abc0a294f36"
      },
      "source": [
        "Limite_Inferior= q1-(1.5*RIC)\n",
        "print(Limite_Inferior)"
      ],
      "execution_count": 325,
      "outputs": [
        {
          "output_type": "stream",
          "text": [
            "27.5\n"
          ],
          "name": "stdout"
        }
      ]
    },
    {
      "cell_type": "markdown",
      "metadata": {
        "id": "Ch_rXASmNbVi"
      },
      "source": [
        "**Graficamos los puntos A**"
      ]
    },
    {
      "cell_type": "code",
      "metadata": {
        "colab": {
          "base_uri": "https://localhost:8080/",
          "height": 265
        },
        "id": "6m2G_h3-M6Bd",
        "outputId": "df281401-76a4-42eb-b122-03da0724874b"
      },
      "source": [
        "plt.plot(Distancia_Calle,\".\",color=\"darkgreen\")\n",
        "plt.axhline(y=Limite_Inferior,color=\"red\",linestyle=\"-\")\n",
        "plt.axhline(y=Limite_Superior,color=\"red\",linestyle=\"-\")\n",
        "plt.show()"
      ],
      "execution_count": 326,
      "outputs": [
        {
          "output_type": "display_data",
          "data": {
            "image/png": "[encoded data removed]",
            "text/plain": [
              "<Figure size 432x288 with 1 Axes>"
            ]
          },
          "metadata": {
            "tags": [],
            "needs_background": "light"
          }
        }
      ]
    },
    {
      "cell_type": "markdown",
      "metadata": {
        "id": "53iF_4lhO_KA"
      },
      "source": [
        "**Excluimos los datos Atipicos**"
      ]
    },
    {
      "cell_type": "code",
      "metadata": {
        "id": "jOnEgSg1NfFT"
      },
      "source": [
        "df_sin_Calle_Atipicas=df[(df[\"LotFrontage\"]<Limite_Superior) & (df[\"LotFrontage\"]>Limite_Inferior)]"
      ],
      "execution_count": 327,
      "outputs": []
    },
    {
      "cell_type": "code",
      "metadata": {
        "colab": {
          "base_uri": "https://localhost:8080/",
          "height": 224
        },
        "id": "Qkhxy4w8NfMO",
        "outputId": "f73782d5-b077-42ca-b089-4e9bc8470e38"
      },
      "source": [
        "df_sin_Calle_Atipicas.head(5)"
      ],
      "execution_count": 328,
      "outputs": [
        {
          "output_type": "execute_result",
          "data": {
            "text/html": [
              "<div>\n",
              "<style scoped>\n",
              "    .dataframe tbody tr th:only-of-type {\n",
              "        vertical-align: middle;\n",
              "    }\n",
              "\n",
              "    .dataframe tbody tr th {\n",
              "        vertical-align: top;\n",
              "    }\n",
              "\n",
              "    .dataframe thead th {\n",
              "        text-align: right;\n",
              "    }\n",
              "</style>\n",
              "<table border=\"1\" class=\"dataframe\">\n",
              "  <thead>\n",
              "    <tr style=\"text-align: right;\">\n",
              "      <th></th>\n",
              "      <th>Id</th>\n",
              "      <th>MSSubClass</th>\n",
              "      <th>MSZoning</th>\n",
              "      <th>LotFrontage</th>\n",
              "      <th>LotArea</th>\n",
              "      <th>Street</th>\n",
              "      <th>LotShape</th>\n",
              "      <th>LandContour</th>\n",
              "      <th>Utilities</th>\n",
              "      <th>LotConfig</th>\n",
              "      <th>LandSlope</th>\n",
              "      <th>Neighborhood</th>\n",
              "      <th>Condition1</th>\n",
              "      <th>Condition2</th>\n",
              "      <th>BldgType</th>\n",
              "      <th>HouseStyle</th>\n",
              "      <th>OverallQual</th>\n",
              "      <th>OverallCond</th>\n",
              "      <th>YearBuilt</th>\n",
              "      <th>YearRemodAdd</th>\n",
              "      <th>RoofStyle</th>\n",
              "      <th>RoofMatl</th>\n",
              "      <th>Exterior1st</th>\n",
              "      <th>Exterior2nd</th>\n",
              "      <th>MasVnrType</th>\n",
              "      <th>MasVnrArea</th>\n",
              "      <th>ExterQual</th>\n",
              "      <th>ExterCond</th>\n",
              "      <th>Foundation</th>\n",
              "      <th>BsmtQual</th>\n",
              "      <th>BsmtCond</th>\n",
              "      <th>BsmtExposure</th>\n",
              "      <th>BsmtFinType1</th>\n",
              "      <th>BsmtFinSF1</th>\n",
              "      <th>BsmtFinType2</th>\n",
              "      <th>BsmtFinSF2</th>\n",
              "      <th>BsmtUnfSF</th>\n",
              "      <th>TotalBsmtSF</th>\n",
              "      <th>Heating</th>\n",
              "      <th>HeatingQC</th>\n",
              "      <th>CentralAir</th>\n",
              "      <th>Electrical</th>\n",
              "      <th>1stFlrSF</th>\n",
              "      <th>2ndFlrSF</th>\n",
              "      <th>LowQualFinSF</th>\n",
              "      <th>GrLivArea</th>\n",
              "      <th>BsmtFullBath</th>\n",
              "      <th>BsmtHalfBath</th>\n",
              "      <th>FullBath</th>\n",
              "      <th>HalfBath</th>\n",
              "      <th>BedroomAbvGr</th>\n",
              "      <th>KitchenAbvGr</th>\n",
              "      <th>KitchenQual</th>\n",
              "      <th>TotRmsAbvGrd</th>\n",
              "      <th>Functional</th>\n",
              "      <th>Fireplaces</th>\n",
              "      <th>GarageType</th>\n",
              "      <th>GarageYrBlt</th>\n",
              "      <th>GarageFinish</th>\n",
              "      <th>GarageCars</th>\n",
              "      <th>GarageArea</th>\n",
              "      <th>GarageQual</th>\n",
              "      <th>GarageCond</th>\n",
              "      <th>PavedDrive</th>\n",
              "      <th>WoodDeckSF</th>\n",
              "      <th>OpenPorchSF</th>\n",
              "      <th>EnclosedPorch</th>\n",
              "      <th>3SsnPorch</th>\n",
              "      <th>ScreenPorch</th>\n",
              "      <th>PoolArea</th>\n",
              "      <th>MiscVal</th>\n",
              "      <th>MoSold</th>\n",
              "      <th>YrSold</th>\n",
              "      <th>SaleType</th>\n",
              "      <th>SaleCondition</th>\n",
              "      <th>SalePrice</th>\n",
              "    </tr>\n",
              "  </thead>\n",
              "  <tbody>\n",
              "    <tr>\n",
              "      <th>0</th>\n",
              "      <td>1</td>\n",
              "      <td>60</td>\n",
              "      <td>RL</td>\n",
              "      <td>65.0</td>\n",
              "      <td>8450</td>\n",
              "      <td>Pave</td>\n",
              "      <td>Reg</td>\n",
              "      <td>Lvl</td>\n",
              "      <td>AllPub</td>\n",
              "      <td>Inside</td>\n",
              "      <td>Gtl</td>\n",
              "      <td>CollgCr</td>\n",
              "      <td>Norm</td>\n",
              "      <td>Norm</td>\n",
              "      <td>1Fam</td>\n",
              "      <td>2Story</td>\n",
              "      <td>7</td>\n",
              "      <td>5</td>\n",
              "      <td>2003</td>\n",
              "      <td>2003</td>\n",
              "      <td>Gable</td>\n",
              "      <td>CompShg</td>\n",
              "      <td>VinylSd</td>\n",
              "      <td>VinylSd</td>\n",
              "      <td>BrkFace</td>\n",
              "      <td>196.0</td>\n",
              "      <td>Gd</td>\n",
              "      <td>TA</td>\n",
              "      <td>PConc</td>\n",
              "      <td>Gd</td>\n",
              "      <td>TA</td>\n",
              "      <td>No</td>\n",
              "      <td>GLQ</td>\n",
              "      <td>706</td>\n",
              "      <td>Unf</td>\n",
              "      <td>0</td>\n",
              "      <td>150</td>\n",
              "      <td>856</td>\n",
              "      <td>GasA</td>\n",
              "      <td>Ex</td>\n",
              "      <td>Y</td>\n",
              "      <td>SBrkr</td>\n",
              "      <td>856</td>\n",
              "      <td>854</td>\n",
              "      <td>0</td>\n",
              "      <td>1710</td>\n",
              "      <td>1</td>\n",
              "      <td>0</td>\n",
              "      <td>2</td>\n",
              "      <td>1</td>\n",
              "      <td>3</td>\n",
              "      <td>1</td>\n",
              "      <td>Gd</td>\n",
              "      <td>8</td>\n",
              "      <td>Typ</td>\n",
              "      <td>0</td>\n",
              "      <td>Attchd</td>\n",
              "      <td>2003.0</td>\n",
              "      <td>RFn</td>\n",
              "      <td>2</td>\n",
              "      <td>548</td>\n",
              "      <td>TA</td>\n",
              "      <td>TA</td>\n",
              "      <td>Y</td>\n",
              "      <td>0</td>\n",
              "      <td>61</td>\n",
              "      <td>0</td>\n",
              "      <td>0</td>\n",
              "      <td>0</td>\n",
              "      <td>0</td>\n",
              "      <td>0</td>\n",
              "      <td>2</td>\n",
              "      <td>2008</td>\n",
              "      <td>WD</td>\n",
              "      <td>Normal</td>\n",
              "      <td>208500</td>\n",
              "    </tr>\n",
              "    <tr>\n",
              "      <th>1</th>\n",
              "      <td>2</td>\n",
              "      <td>20</td>\n",
              "      <td>RL</td>\n",
              "      <td>80.0</td>\n",
              "      <td>9600</td>\n",
              "      <td>Pave</td>\n",
              "      <td>Reg</td>\n",
              "      <td>Lvl</td>\n",
              "      <td>AllPub</td>\n",
              "      <td>FR2</td>\n",
              "      <td>Gtl</td>\n",
              "      <td>Veenker</td>\n",
              "      <td>Feedr</td>\n",
              "      <td>Norm</td>\n",
              "      <td>1Fam</td>\n",
              "      <td>1Story</td>\n",
              "      <td>6</td>\n",
              "      <td>8</td>\n",
              "      <td>1976</td>\n",
              "      <td>1976</td>\n",
              "      <td>Gable</td>\n",
              "      <td>CompShg</td>\n",
              "      <td>MetalSd</td>\n",
              "      <td>MetalSd</td>\n",
              "      <td>None</td>\n",
              "      <td>0.0</td>\n",
              "      <td>TA</td>\n",
              "      <td>TA</td>\n",
              "      <td>CBlock</td>\n",
              "      <td>Gd</td>\n",
              "      <td>TA</td>\n",
              "      <td>Gd</td>\n",
              "      <td>ALQ</td>\n",
              "      <td>978</td>\n",
              "      <td>Unf</td>\n",
              "      <td>0</td>\n",
              "      <td>284</td>\n",
              "      <td>1262</td>\n",
              "      <td>GasA</td>\n",
              "      <td>Ex</td>\n",
              "      <td>Y</td>\n",
              "      <td>SBrkr</td>\n",
              "      <td>1262</td>\n",
              "      <td>0</td>\n",
              "      <td>0</td>\n",
              "      <td>1262</td>\n",
              "      <td>0</td>\n",
              "      <td>1</td>\n",
              "      <td>2</td>\n",
              "      <td>0</td>\n",
              "      <td>3</td>\n",
              "      <td>1</td>\n",
              "      <td>TA</td>\n",
              "      <td>6</td>\n",
              "      <td>Typ</td>\n",
              "      <td>1</td>\n",
              "      <td>Attchd</td>\n",
              "      <td>1976.0</td>\n",
              "      <td>RFn</td>\n",
              "      <td>2</td>\n",
              "      <td>460</td>\n",
              "      <td>TA</td>\n",
              "      <td>TA</td>\n",
              "      <td>Y</td>\n",
              "      <td>298</td>\n",
              "      <td>0</td>\n",
              "      <td>0</td>\n",
              "      <td>0</td>\n",
              "      <td>0</td>\n",
              "      <td>0</td>\n",
              "      <td>0</td>\n",
              "      <td>5</td>\n",
              "      <td>2007</td>\n",
              "      <td>WD</td>\n",
              "      <td>Normal</td>\n",
              "      <td>181500</td>\n",
              "    </tr>\n",
              "    <tr>\n",
              "      <th>2</th>\n",
              "      <td>3</td>\n",
              "      <td>60</td>\n",
              "      <td>RL</td>\n",
              "      <td>68.0</td>\n",
              "      <td>11250</td>\n",
              "      <td>Pave</td>\n",
              "      <td>IR1</td>\n",
              "      <td>Lvl</td>\n",
              "      <td>AllPub</td>\n",
              "      <td>Inside</td>\n",
              "      <td>Gtl</td>\n",
              "      <td>CollgCr</td>\n",
              "      <td>Norm</td>\n",
              "      <td>Norm</td>\n",
              "      <td>1Fam</td>\n",
              "      <td>2Story</td>\n",
              "      <td>7</td>\n",
              "      <td>5</td>\n",
              "      <td>2001</td>\n",
              "      <td>2002</td>\n",
              "      <td>Gable</td>\n",
              "      <td>CompShg</td>\n",
              "      <td>VinylSd</td>\n",
              "      <td>VinylSd</td>\n",
              "      <td>BrkFace</td>\n",
              "      <td>162.0</td>\n",
              "      <td>Gd</td>\n",
              "      <td>TA</td>\n",
              "      <td>PConc</td>\n",
              "      <td>Gd</td>\n",
              "      <td>TA</td>\n",
              "      <td>Mn</td>\n",
              "      <td>GLQ</td>\n",
              "      <td>486</td>\n",
              "      <td>Unf</td>\n",
              "      <td>0</td>\n",
              "      <td>434</td>\n",
              "      <td>920</td>\n",
              "      <td>GasA</td>\n",
              "      <td>Ex</td>\n",
              "      <td>Y</td>\n",
              "      <td>SBrkr</td>\n",
              "      <td>920</td>\n",
              "      <td>866</td>\n",
              "      <td>0</td>\n",
              "      <td>1786</td>\n",
              "      <td>1</td>\n",
              "      <td>0</td>\n",
              "      <td>2</td>\n",
              "      <td>1</td>\n",
              "      <td>3</td>\n",
              "      <td>1</td>\n",
              "      <td>Gd</td>\n",
              "      <td>6</td>\n",
              "      <td>Typ</td>\n",
              "      <td>1</td>\n",
              "      <td>Attchd</td>\n",
              "      <td>2001.0</td>\n",
              "      <td>RFn</td>\n",
              "      <td>2</td>\n",
              "      <td>608</td>\n",
              "      <td>TA</td>\n",
              "      <td>TA</td>\n",
              "      <td>Y</td>\n",
              "      <td>0</td>\n",
              "      <td>42</td>\n",
              "      <td>0</td>\n",
              "      <td>0</td>\n",
              "      <td>0</td>\n",
              "      <td>0</td>\n",
              "      <td>0</td>\n",
              "      <td>9</td>\n",
              "      <td>2008</td>\n",
              "      <td>WD</td>\n",
              "      <td>Normal</td>\n",
              "      <td>223500</td>\n",
              "    </tr>\n",
              "    <tr>\n",
              "      <th>3</th>\n",
              "      <td>4</td>\n",
              "      <td>70</td>\n",
              "      <td>RL</td>\n",
              "      <td>60.0</td>\n",
              "      <td>9550</td>\n",
              "      <td>Pave</td>\n",
              "      <td>IR1</td>\n",
              "      <td>Lvl</td>\n",
              "      <td>AllPub</td>\n",
              "      <td>Corner</td>\n",
              "      <td>Gtl</td>\n",
              "      <td>Crawfor</td>\n",
              "      <td>Norm</td>\n",
              "      <td>Norm</td>\n",
              "      <td>1Fam</td>\n",
              "      <td>2Story</td>\n",
              "      <td>7</td>\n",
              "      <td>5</td>\n",
              "      <td>1915</td>\n",
              "      <td>1970</td>\n",
              "      <td>Gable</td>\n",
              "      <td>CompShg</td>\n",
              "      <td>Wd Sdng</td>\n",
              "      <td>Wd Shng</td>\n",
              "      <td>None</td>\n",
              "      <td>0.0</td>\n",
              "      <td>TA</td>\n",
              "      <td>TA</td>\n",
              "      <td>BrkTil</td>\n",
              "      <td>TA</td>\n",
              "      <td>Gd</td>\n",
              "      <td>No</td>\n",
              "      <td>ALQ</td>\n",
              "      <td>216</td>\n",
              "      <td>Unf</td>\n",
              "      <td>0</td>\n",
              "      <td>540</td>\n",
              "      <td>756</td>\n",
              "      <td>GasA</td>\n",
              "      <td>Gd</td>\n",
              "      <td>Y</td>\n",
              "      <td>SBrkr</td>\n",
              "      <td>961</td>\n",
              "      <td>756</td>\n",
              "      <td>0</td>\n",
              "      <td>1717</td>\n",
              "      <td>1</td>\n",
              "      <td>0</td>\n",
              "      <td>1</td>\n",
              "      <td>0</td>\n",
              "      <td>3</td>\n",
              "      <td>1</td>\n",
              "      <td>Gd</td>\n",
              "      <td>7</td>\n",
              "      <td>Typ</td>\n",
              "      <td>1</td>\n",
              "      <td>Detchd</td>\n",
              "      <td>1998.0</td>\n",
              "      <td>Unf</td>\n",
              "      <td>3</td>\n",
              "      <td>642</td>\n",
              "      <td>TA</td>\n",
              "      <td>TA</td>\n",
              "      <td>Y</td>\n",
              "      <td>0</td>\n",
              "      <td>35</td>\n",
              "      <td>272</td>\n",
              "      <td>0</td>\n",
              "      <td>0</td>\n",
              "      <td>0</td>\n",
              "      <td>0</td>\n",
              "      <td>2</td>\n",
              "      <td>2006</td>\n",
              "      <td>WD</td>\n",
              "      <td>Abnorml</td>\n",
              "      <td>140000</td>\n",
              "    </tr>\n",
              "    <tr>\n",
              "      <th>4</th>\n",
              "      <td>5</td>\n",
              "      <td>60</td>\n",
              "      <td>RL</td>\n",
              "      <td>84.0</td>\n",
              "      <td>14260</td>\n",
              "      <td>Pave</td>\n",
              "      <td>IR1</td>\n",
              "      <td>Lvl</td>\n",
              "      <td>AllPub</td>\n",
              "      <td>FR2</td>\n",
              "      <td>Gtl</td>\n",
              "      <td>NoRidge</td>\n",
              "      <td>Norm</td>\n",
              "      <td>Norm</td>\n",
              "      <td>1Fam</td>\n",
              "      <td>2Story</td>\n",
              "      <td>8</td>\n",
              "      <td>5</td>\n",
              "      <td>2000</td>\n",
              "      <td>2000</td>\n",
              "      <td>Gable</td>\n",
              "      <td>CompShg</td>\n",
              "      <td>VinylSd</td>\n",
              "      <td>VinylSd</td>\n",
              "      <td>BrkFace</td>\n",
              "      <td>350.0</td>\n",
              "      <td>Gd</td>\n",
              "      <td>TA</td>\n",
              "      <td>PConc</td>\n",
              "      <td>Gd</td>\n",
              "      <td>TA</td>\n",
              "      <td>Av</td>\n",
              "      <td>GLQ</td>\n",
              "      <td>655</td>\n",
              "      <td>Unf</td>\n",
              "      <td>0</td>\n",
              "      <td>490</td>\n",
              "      <td>1145</td>\n",
              "      <td>GasA</td>\n",
              "      <td>Ex</td>\n",
              "      <td>Y</td>\n",
              "      <td>SBrkr</td>\n",
              "      <td>1145</td>\n",
              "      <td>1053</td>\n",
              "      <td>0</td>\n",
              "      <td>2198</td>\n",
              "      <td>1</td>\n",
              "      <td>0</td>\n",
              "      <td>2</td>\n",
              "      <td>1</td>\n",
              "      <td>4</td>\n",
              "      <td>1</td>\n",
              "      <td>Gd</td>\n",
              "      <td>9</td>\n",
              "      <td>Typ</td>\n",
              "      <td>1</td>\n",
              "      <td>Attchd</td>\n",
              "      <td>2000.0</td>\n",
              "      <td>RFn</td>\n",
              "      <td>3</td>\n",
              "      <td>836</td>\n",
              "      <td>TA</td>\n",
              "      <td>TA</td>\n",
              "      <td>Y</td>\n",
              "      <td>192</td>\n",
              "      <td>84</td>\n",
              "      <td>0</td>\n",
              "      <td>0</td>\n",
              "      <td>0</td>\n",
              "      <td>0</td>\n",
              "      <td>0</td>\n",
              "      <td>12</td>\n",
              "      <td>2008</td>\n",
              "      <td>WD</td>\n",
              "      <td>Normal</td>\n",
              "      <td>250000</td>\n",
              "    </tr>\n",
              "  </tbody>\n",
              "</table>\n",
              "</div>"
            ],
            "text/plain": [
              "  Id MSSubClass MSZoning  LotFrontage  LotArea Street LotShape LandContour  \\\n",
              "0  1         60       RL         65.0     8450   Pave      Reg         Lvl   \n",
              "1  2         20       RL         80.0     9600   Pave      Reg         Lvl   \n",
              "2  3         60       RL         68.0    11250   Pave      IR1         Lvl   \n",
              "3  4         70       RL         60.0     9550   Pave      IR1         Lvl   \n",
              "4  5         60       RL         84.0    14260   Pave      IR1         Lvl   \n",
              "\n",
              "  Utilities LotConfig LandSlope Neighborhood Condition1 Condition2 BldgType  \\\n",
              "0    AllPub    Inside       Gtl      CollgCr       Norm       Norm     1Fam   \n",
              "1    AllPub       FR2       Gtl      Veenker      Feedr       Norm     1Fam   \n",
              "2    AllPub    Inside       Gtl      CollgCr       Norm       Norm     1Fam   \n",
              "3    AllPub    Corner       Gtl      Crawfor       Norm       Norm     1Fam   \n",
              "4    AllPub       FR2       Gtl      NoRidge       Norm       Norm     1Fam   \n",
              "\n",
              "  HouseStyle OverallQual OverallCond YearBuilt YearRemodAdd RoofStyle  \\\n",
              "0     2Story           7           5      2003         2003     Gable   \n",
              "1     1Story           6           8      1976         1976     Gable   \n",
              "2     2Story           7           5      2001         2002     Gable   \n",
              "3     2Story           7           5      1915         1970     Gable   \n",
              "4     2Story           8           5      2000         2000     Gable   \n",
              "\n",
              "  RoofMatl Exterior1st Exterior2nd MasVnrType  MasVnrArea ExterQual ExterCond  \\\n",
              "0  CompShg     VinylSd     VinylSd    BrkFace       196.0        Gd        TA   \n",
              "1  CompShg     MetalSd     MetalSd       None         0.0        TA        TA   \n",
              "2  CompShg     VinylSd     VinylSd    BrkFace       162.0        Gd        TA   \n",
              "3  CompShg     Wd Sdng     Wd Shng       None         0.0        TA        TA   \n",
              "4  CompShg     VinylSd     VinylSd    BrkFace       350.0        Gd        TA   \n",
              "\n",
              "  Foundation BsmtQual BsmtCond BsmtExposure BsmtFinType1  BsmtFinSF1  \\\n",
              "0      PConc       Gd       TA           No          GLQ         706   \n",
              "1     CBlock       Gd       TA           Gd          ALQ         978   \n",
              "2      PConc       Gd       TA           Mn          GLQ         486   \n",
              "3     BrkTil       TA       Gd           No          ALQ         216   \n",
              "4      PConc       Gd       TA           Av          GLQ         655   \n",
              "\n",
              "  BsmtFinType2  BsmtFinSF2  BsmtUnfSF  TotalBsmtSF Heating HeatingQC  \\\n",
              "0          Unf           0        150          856    GasA        Ex   \n",
              "1          Unf           0        284         1262    GasA        Ex   \n",
              "2          Unf           0        434          920    GasA        Ex   \n",
              "3          Unf           0        540          756    GasA        Gd   \n",
              "4          Unf           0        490         1145    GasA        Ex   \n",
              "\n",
              "  CentralAir Electrical  1stFlrSF  2ndFlrSF  LowQualFinSF  GrLivArea  \\\n",
              "0          Y      SBrkr       856       854             0       1710   \n",
              "1          Y      SBrkr      1262         0             0       1262   \n",
              "2          Y      SBrkr       920       866             0       1786   \n",
              "3          Y      SBrkr       961       756             0       1717   \n",
              "4          Y      SBrkr      1145      1053             0       2198   \n",
              "\n",
              "   BsmtFullBath  BsmtHalfBath  FullBath  HalfBath  BedroomAbvGr  KitchenAbvGr  \\\n",
              "0             1             0         2         1             3             1   \n",
              "1             0             1         2         0             3             1   \n",
              "2             1             0         2         1             3             1   \n",
              "3             1             0         1         0             3             1   \n",
              "4             1             0         2         1             4             1   \n",
              "\n",
              "  KitchenQual  TotRmsAbvGrd Functional  Fireplaces GarageType GarageYrBlt  \\\n",
              "0          Gd             8        Typ           0     Attchd      2003.0   \n",
              "1          TA             6        Typ           1     Attchd      1976.0   \n",
              "2          Gd             6        Typ           1     Attchd      2001.0   \n",
              "3          Gd             7        Typ           1     Detchd      1998.0   \n",
              "4          Gd             9        Typ           1     Attchd      2000.0   \n",
              "\n",
              "  GarageFinish  GarageCars  GarageArea GarageQual GarageCond PavedDrive  \\\n",
              "0          RFn           2         548         TA         TA          Y   \n",
              "1          RFn           2         460         TA         TA          Y   \n",
              "2          RFn           2         608         TA         TA          Y   \n",
              "3          Unf           3         642         TA         TA          Y   \n",
              "4          RFn           3         836         TA         TA          Y   \n",
              "\n",
              "   WoodDeckSF  OpenPorchSF  EnclosedPorch  3SsnPorch  ScreenPorch  PoolArea  \\\n",
              "0           0           61              0          0            0         0   \n",
              "1         298            0              0          0            0         0   \n",
              "2           0           42              0          0            0         0   \n",
              "3           0           35            272          0            0         0   \n",
              "4         192           84              0          0            0         0   \n",
              "\n",
              "   MiscVal  MoSold  YrSold SaleType SaleCondition  SalePrice  \n",
              "0        0       2    2008       WD        Normal     208500  \n",
              "1        0       5    2007       WD        Normal     181500  \n",
              "2        0       9    2008       WD        Normal     223500  \n",
              "3        0       2    2006       WD       Abnorml     140000  \n",
              "4        0      12    2008       WD        Normal     250000  "
            ]
          },
          "metadata": {
            "tags": []
          },
          "execution_count": 328
        }
      ]
    },
    {
      "cell_type": "code",
      "metadata": {
        "id": "QSdpENnRQXQ8"
      },
      "source": [
        "Distancia_Calle_sin_Atipicos=df_sin_Calle_Atipicas[\"LotFrontage\"]"
      ],
      "execution_count": 329,
      "outputs": []
    },
    {
      "cell_type": "code",
      "metadata": {
        "id": "othyB7E0QR1n"
      },
      "source": [
        "Distancia_Calle_sin_Atipicos=Distancia_Calle_sin_Atipicos.dropna()"
      ],
      "execution_count": 330,
      "outputs": []
    },
    {
      "cell_type": "code",
      "metadata": {
        "colab": {
          "base_uri": "https://localhost:8080/"
        },
        "id": "jQXo8VQOQJW_",
        "outputId": "707f146d-e9d4-418c-de10-f9260cb96bc9"
      },
      "source": [
        "Distancia_Calle_sin_Atipicos.describe()"
      ],
      "execution_count": 331,
      "outputs": [
        {
          "output_type": "execute_result",
          "data": {
            "text/plain": [
              "count    1113.000000\n",
              "mean       68.955076\n",
              "std        16.656489\n",
              "min        30.000000\n",
              "25%        60.000000\n",
              "50%        69.000000\n",
              "75%        80.000000\n",
              "max       111.000000\n",
              "Name: LotFrontage, dtype: float64"
            ]
          },
          "metadata": {
            "tags": []
          },
          "execution_count": 331
        }
      ]
    },
    {
      "cell_type": "code",
      "metadata": {
        "colab": {
          "base_uri": "https://localhost:8080/"
        },
        "id": "gbD4yoDpQvX4",
        "outputId": "60e836b4-900e-4ec6-ebe9-15cfe4e650b4"
      },
      "source": [
        "Promedio_Original_D"
      ],
      "execution_count": 332,
      "outputs": [
        {
          "output_type": "execute_result",
          "data": {
            "text/plain": [
              "70.04995836802665"
            ]
          },
          "metadata": {
            "tags": []
          },
          "execution_count": 332
        }
      ]
    },
    {
      "cell_type": "code",
      "metadata": {
        "colab": {
          "base_uri": "https://localhost:8080/"
        },
        "id": "2_Xm5qUZRRzR",
        "outputId": "58d7e521-d938-4a14-c57a-093fb75f687d"
      },
      "source": [
        "Promedio_sin_Atipico=np.mean(Distancia_Calle_sin_Atipicos)\n",
        "Promedio_sin_Atipico"
      ],
      "execution_count": 333,
      "outputs": [
        {
          "output_type": "execute_result",
          "data": {
            "text/plain": [
              "68.95507637017072"
            ]
          },
          "metadata": {
            "tags": []
          },
          "execution_count": 333
        }
      ]
    },
    {
      "cell_type": "markdown",
      "metadata": {
        "id": "c20p2iy2QQiN"
      },
      "source": [
        "**Histograma Sin A**"
      ]
    },
    {
      "cell_type": "code",
      "metadata": {
        "colab": {
          "base_uri": "https://localhost:8080/",
          "height": 334
        },
        "id": "_XQNGguYQ5pT",
        "outputId": "73675fde-d907-4514-ca61-7cee258597f3"
      },
      "source": [
        "plt.figure(figsize=(10,5))\n",
        "plt.hist(Distancia_Calle_sin_Atipicos,facecolor=\"darkred\")\n",
        "plt.xlabel(\"Distancia a la Calle\")\n",
        "plt.show()"
      ],
      "execution_count": 334,
      "outputs": [
        {
          "output_type": "display_data",
          "data": {
            "image/png": "[encoded data removed]",
            "text/plain": [
              "<Figure size 720x360 with 1 Axes>"
            ]
          },
          "metadata": {
            "tags": [],
            "needs_background": "light"
          }
        }
      ]
    },
    {
      "cell_type": "code",
      "metadata": {
        "colab": {
          "base_uri": "https://localhost:8080/",
          "height": 296
        },
        "id": "LEad4A2GRezT",
        "outputId": "54883be8-8e7a-4698-cb20-52c46a12ac43"
      },
      "source": [
        "sns.boxplot(x=Distancia_Calle_sin_Atipicos,color=\"darkblue\")"
      ],
      "execution_count": 335,
      "outputs": [
        {
          "output_type": "execute_result",
          "data": {
            "text/plain": [
              "<matplotlib.axes._subplots.AxesSubplot at 0x7f39f46dd550>"
            ]
          },
          "metadata": {
            "tags": []
          },
          "execution_count": 335
        },
        {
          "output_type": "display_data",
          "data": {
            "image/png": "[encoded data removed]",
            "text/plain": [
              "<Figure size 432x288 with 1 Axes>"
            ]
          },
          "metadata": {
            "tags": [],
            "needs_background": "light"
          }
        }
      ]
    },
    {
      "cell_type": "code",
      "metadata": {
        "colab": {
          "base_uri": "https://localhost:8080/",
          "height": 265
        },
        "id": "BGMboVy1RkMb",
        "outputId": "330ccfa8-af70-49a2-e475-4aeb956d50e6"
      },
      "source": [
        "plt.plot(Distancia_Calle_sin_Atipicos,\".\",color=\"darkgreen\")\n",
        "plt.show()"
      ],
      "execution_count": 336,
      "outputs": [
        {
          "output_type": "display_data",
          "data": {
            "image/png": "[encoded data removed]",
            "text/plain": [
              "<Figure size 432x288 with 1 Axes>"
            ]
          },
          "metadata": {
            "tags": [],
            "needs_background": "light"
          }
        }
      ]
    },
    {
      "cell_type": "markdown",
      "metadata": {
        "id": "WBE5QLunRHZ-"
      },
      "source": [
        "## **Validar Normalidad**"
      ]
    },
    {
      "cell_type": "markdown",
      "metadata": {
        "id": "9Nv9rfOwSCi4"
      },
      "source": [
        "**Test de Normalidad Grafico: q-q plot**"
      ]
    },
    {
      "cell_type": "code",
      "metadata": {
        "id": "gtKOWsWhSIc7"
      },
      "source": [
        "from statsmodels.graphics.gofplots import qqplot"
      ],
      "execution_count": 337,
      "outputs": []
    },
    {
      "cell_type": "code",
      "metadata": {
        "colab": {
          "base_uri": "https://localhost:8080/",
          "height": 541
        },
        "id": "L0fdu6urSIn-",
        "outputId": "396f4f7d-d57e-4a5c-80b8-86b6ca154bc1"
      },
      "source": [
        "qqplot(Distancia_Calle_sin_Atipicos,line=\"s\")"
      ],
      "execution_count": 338,
      "outputs": [
        {
          "output_type": "execute_result",
          "data": {
            "image/png": "[encoded data removed]",
            "text/plain": [
              "<Figure size 432x288 with 1 Axes>"
            ]
          },
          "metadata": {
            "tags": []
          },
          "execution_count": 338
        },
        {
          "output_type": "display_data",
          "data": {
            "image/png": "[encoded data removed]",
            "text/plain": [
              "<Figure size 432x288 with 1 Axes>"
            ]
          },
          "metadata": {
            "tags": [],
            "needs_background": "light"
          }
        }
      ]
    },
    {
      "cell_type": "markdown",
      "metadata": {
        "id": "-Z1mOdWgTVkT"
      },
      "source": [
        "**Test de Normalidad Estadistica**"
      ]
    },
    {
      "cell_type": "markdown",
      "metadata": {
        "id": "4pUkrxpKZMS6"
      },
      "source": [
        "Test Estadistico Prueba Estadistica de Normalidad Probar Estadisticamente:\n",
        "\n",
        "* H0: La distribucion de la Distancia  es Normal\n",
        "* Ha: La distribucion de la Distancia no es Normal\n",
        "\n",
        "alpha=0.05\n",
        "\n",
        "* Si p valor < 0.05, Se Rechaza Normalidad\n",
        "* Si p valor > 0.05, Se Acepta Normalidad"
      ]
    },
    {
      "cell_type": "code",
      "metadata": {
        "colab": {
          "base_uri": "https://localhost:8080/",
          "height": 35
        },
        "id": "ojXa1YkASIvn",
        "outputId": "40337ee5-1c04-48f8-a66f-90291d51b261"
      },
      "source": [
        "stat, p= shapiro(Distancia_Calle_sin_Atipicos)\n",
        "'{:f}'.format(p)"
      ],
      "execution_count": 339,
      "outputs": [
        {
          "output_type": "execute_result",
          "data": {
            "application/vnd.google.colaboratory.intrinsic+json": {
              "type": "string"
            },
            "text/plain": [
              "'0.000003'"
            ]
          },
          "metadata": {
            "tags": []
          },
          "execution_count": 339
        }
      ]
    },
    {
      "cell_type": "code",
      "metadata": {
        "colab": {
          "base_uri": "https://localhost:8080/"
        },
        "id": "icq8pr9xa3ea",
        "outputId": "af59c3c8-12b3-4da4-e1b3-8b0eff14ce87"
      },
      "source": [
        "if (p <= 0.05):\n",
        "  print(\"la Variables No es Normal\")\n",
        "else:\n",
        "  print(\"La Variable  es Normal\")\n"
      ],
      "execution_count": 340,
      "outputs": [
        {
          "output_type": "stream",
          "text": [
            "la Variables No es Normal\n"
          ],
          "name": "stdout"
        }
      ]
    },
    {
      "cell_type": "markdown",
      "metadata": {
        "id": "sUamap1ca24L"
      },
      "source": [
        "**Consecuencias de la falta de normalidad**\n",
        "\n",
        "\n",
        "El hecho de no poder asumir la normalidad influye principalmente en los test de hipótesis paramétricos (t-test, anova,…) y en los modelos de regresión. Las principales consecuencias de la falta de normalidad son:\n",
        "\n",
        "Los estimadores mínimo-cuadráticos no son eficientes (de mínima varianza).\n",
        "\n",
        "Los intervalos de confianza de los parámetros del modelo y los contrastes de significancia son solamente aproximados y no exactos.\n",
        "\n",
        "Los test estadísticos expuestos requieren que la población de la que procede la muestra tenga una distribución normal, no la muestra en sí. Si la muestra se distribuye de forma normal, se puede aceptar que así lo hace la población de origen. En el caso de que la muestra no se distribuya de forma normal pero se tenga certeza de que la población de origen sí lo hace, entonces, puede estar justificado aceptar los resultados obtenidos por los contrastes paramétricos como válidos."
      ]
    },
    {
      "cell_type": "markdown",
      "metadata": {
        "id": "6m1oYSqsQQmD"
      },
      "source": [
        "**Test de Promedio**\n",
        "\n",
        "\n",
        "*  Ho= Promeido de Distancias = 70.04\n",
        "* Ha = Promedios es Diferente 70.04\n",
        "\n",
        " alfa = 0.05\n",
        "\n",
        " * Si p valor < 0.05, Re rechaza h0\n",
        " * Si P valor > 0.05, Se Acepta H0"
      ]
    },
    {
      "cell_type": "code",
      "metadata": {
        "colab": {
          "base_uri": "https://localhost:8080/"
        },
        "id": "QQ0Wh2puQJyp",
        "outputId": "c3f83faa-afcd-4447-9da1-6174d50805b7"
      },
      "source": [
        "from scipy.stats import ttest_1samp\n",
        "print(Promedio_sin_Atipico)"
      ],
      "execution_count": 341,
      "outputs": [
        {
          "output_type": "stream",
          "text": [
            "68.95507637017072\n"
          ],
          "name": "stdout"
        }
      ]
    },
    {
      "cell_type": "code",
      "metadata": {
        "id": "5rjGLa5Egc7L"
      },
      "source": [
        "test,pvalor= ttest_1samp(Distancia_Calle_sin_Atipicos,Promedio_sin_Atipico)"
      ],
      "execution_count": 342,
      "outputs": []
    },
    {
      "cell_type": "code",
      "metadata": {
        "colab": {
          "base_uri": "https://localhost:8080/"
        },
        "id": "3z5FMabTgc-Y",
        "outputId": "3009d16c-f4bd-4581-f09a-c2def8268ea7"
      },
      "source": [
        "pvalor"
      ],
      "execution_count": 343,
      "outputs": [
        {
          "output_type": "execute_result",
          "data": {
            "text/plain": [
              "1.0"
            ]
          },
          "metadata": {
            "tags": []
          },
          "execution_count": 343
        }
      ]
    },
    {
      "cell_type": "code",
      "metadata": {
        "colab": {
          "base_uri": "https://localhost:8080/"
        },
        "id": "XhW1H9MbgdAM",
        "outputId": "080b9c52-8efa-4b20-8e05-cc5669f38c35"
      },
      "source": [
        "if (pvalor <= 0.05):\n",
        "  print(\"el promedio no es el aproximado al real\")\n",
        "else:\n",
        "  print(\"el Promedio es el aproximado al real\")"
      ],
      "execution_count": 344,
      "outputs": [
        {
          "output_type": "stream",
          "text": [
            "el Promedio es el aproximado al real\n"
          ],
          "name": "stdout"
        }
      ]
    },
    {
      "cell_type": "markdown",
      "metadata": {
        "id": "cu3NiwAmhKas"
      },
      "source": [
        "## **Enfoque no Parametrico para calcular un parametro Poblacional**"
      ]
    },
    {
      "cell_type": "markdown",
      "metadata": {
        "id": "QfG7DEOEhTKt"
      },
      "source": [
        "**Enfoque No Parametrico** en python apenas se esta implementando, \n",
        "se hace mejor en R"
      ]
    },
    {
      "cell_type": "markdown",
      "metadata": {
        "id": "ZNrhBiuThaf9"
      },
      "source": [
        "**Remuestreo: Simuacion computacional**"
      ]
    },
    {
      "cell_type": "code",
      "metadata": {
        "colab": {
          "base_uri": "https://localhost:8080/"
        },
        "id": "ElYl8NRPxptv",
        "outputId": "2db6e806-f3af-4045-8e0e-6b79d2d2b4ed"
      },
      "source": [
        "Promedio_sin_Atipico"
      ],
      "execution_count": 345,
      "outputs": [
        {
          "output_type": "execute_result",
          "data": {
            "text/plain": [
              "68.95507637017072"
            ]
          },
          "metadata": {
            "tags": []
          },
          "execution_count": 345
        }
      ]
    },
    {
      "cell_type": "code",
      "metadata": {
        "id": "HxN4YMbKwx-O"
      },
      "source": [
        "from random import sample\n",
        "import math"
      ],
      "execution_count": 346,
      "outputs": []
    },
    {
      "cell_type": "markdown",
      "metadata": {
        "id": "BLdOUxGIxwbe"
      },
      "source": [
        "**Seleccionamos Muestra Aleatoria**"
      ]
    },
    {
      "cell_type": "code",
      "metadata": {
        "colab": {
          "base_uri": "https://localhost:8080/"
        },
        "id": "dsH7LO1KyLx7",
        "outputId": "f7f55f93-543a-48fd-db98-ea4e24dc1535"
      },
      "source": [
        "len( Distancia_Calle)"
      ],
      "execution_count": 347,
      "outputs": [
        {
          "output_type": "execute_result",
          "data": {
            "text/plain": [
              "1201"
            ]
          },
          "metadata": {
            "tags": []
          },
          "execution_count": 347
        }
      ]
    },
    {
      "cell_type": "code",
      "metadata": {
        "id": "f3s-N8YKwyCu"
      },
      "source": [
        "Muestra= Distancia_Calle.sample(n=1000,replace=False)"
      ],
      "execution_count": 348,
      "outputs": []
    },
    {
      "cell_type": "code",
      "metadata": {
        "colab": {
          "base_uri": "https://localhost:8080/"
        },
        "id": "_NbBh4wjwyFc",
        "outputId": "cb65bebb-8c0b-41a5-b2de-3b690e47d277"
      },
      "source": [
        "len(Muestra)"
      ],
      "execution_count": 349,
      "outputs": [
        {
          "output_type": "execute_result",
          "data": {
            "text/plain": [
              "1000"
            ]
          },
          "metadata": {
            "tags": []
          },
          "execution_count": 349
        }
      ]
    },
    {
      "cell_type": "code",
      "metadata": {
        "colab": {
          "base_uri": "https://localhost:8080/",
          "height": 265
        },
        "id": "doW2OUXlwyIU",
        "outputId": "8cb25347-6dcc-41b0-9c8a-5606800f776f"
      },
      "source": [
        "plt.hist(Muestra)\n",
        "plt.show()"
      ],
      "execution_count": 350,
      "outputs": [
        {
          "output_type": "display_data",
          "data": {
            "image/png": "[encoded data removed]",
            "text/plain": [
              "<Figure size 432x288 with 1 Axes>"
            ]
          },
          "metadata": {
            "tags": [],
            "needs_background": "light"
          }
        }
      ]
    },
    {
      "cell_type": "markdown",
      "metadata": {
        "id": "UPqH1A5izE9o"
      },
      "source": [
        "**Remuestreo**"
      ]
    },
    {
      "cell_type": "code",
      "metadata": {
        "id": "11_uzKsJwyK8"
      },
      "source": [
        "Muestra_Promedios=[]# Lista Vacia\n",
        "for i in range(100000):\n",
        "  Muestra_N= Muestra.sample(n=500,replace=True)\n",
        "  Muestra_Promedios.append(Muestra_N.mean())"
      ],
      "execution_count": 351,
      "outputs": []
    },
    {
      "cell_type": "markdown",
      "metadata": {
        "id": "khEyGq3C03BQ"
      },
      "source": [
        "**Medias de Medias Remuestradas**"
      ]
    },
    {
      "cell_type": "code",
      "metadata": {
        "colab": {
          "base_uri": "https://localhost:8080/",
          "height": 265
        },
        "id": "XGkkhWL11Wg7",
        "outputId": "5c56db86-67f9-4c4d-ba81-b5c49962eb17"
      },
      "source": [
        "plt.hist(Muestra_Promedios)\n",
        "plt.show()"
      ],
      "execution_count": 352,
      "outputs": [
        {
          "output_type": "display_data",
          "data": {
            "image/png": "[encoded data removed]",
            "text/plain": [
              "<Figure size 432x288 with 1 Axes>"
            ]
          },
          "metadata": {
            "tags": [],
            "needs_background": "light"
          }
        }
      ]
    },
    {
      "cell_type": "code",
      "metadata": {
        "id": "9F34YnNc1oTM"
      },
      "source": [
        "Muestra_Promedios1=pd.Series(Muestra_Promedios)"
      ],
      "execution_count": 353,
      "outputs": []
    },
    {
      "cell_type": "code",
      "metadata": {
        "colab": {
          "base_uri": "https://localhost:8080/",
          "height": 541
        },
        "id": "rLrz_Yre1g9I",
        "outputId": "da73d146-d85b-43dd-f4f0-409ba46b9966"
      },
      "source": [
        "qqplot(Muestra_Promedios1,line=\"s\")"
      ],
      "execution_count": 354,
      "outputs": [
        {
          "output_type": "execute_result",
          "data": {
            "image/png": "[encoded data removed]",
            "text/plain": [
              "<Figure size 432x288 with 1 Axes>"
            ]
          },
          "metadata": {
            "tags": []
          },
          "execution_count": 354
        },
        {
          "output_type": "display_data",
          "data": {
            "image/png": "[encoded data removed]",
            "text/plain": [
              "<Figure size 432x288 with 1 Axes>"
            ]
          },
          "metadata": {
            "tags": [],
            "needs_background": "light"
          }
        }
      ]
    },
    {
      "cell_type": "code",
      "metadata": {
        "colab": {
          "base_uri": "https://localhost:8080/"
        },
        "id": "ajikhlW2wyNf",
        "outputId": "f123cf83-b91a-4ff9-87d4-8df69c457b64"
      },
      "source": [
        "Promedio_Remuestreo= np.mean(Muestra_Promedios1)\n",
        "print(Promedio_Remuestreo)"
      ],
      "execution_count": 355,
      "outputs": [
        {
          "output_type": "stream",
          "text": [
            "70.02222953999966\n"
          ],
          "name": "stdout"
        }
      ]
    },
    {
      "cell_type": "code",
      "metadata": {
        "colab": {
          "base_uri": "https://localhost:8080/"
        },
        "id": "SCAX_Rg7wyQ3",
        "outputId": "6e6de2f8-cb6f-4049-fefd-0d31c4f598c4"
      },
      "source": [
        "Promedio_sin_Atipico"
      ],
      "execution_count": 356,
      "outputs": [
        {
          "output_type": "execute_result",
          "data": {
            "text/plain": [
              "68.95507637017072"
            ]
          },
          "metadata": {
            "tags": []
          },
          "execution_count": 356
        }
      ]
    },
    {
      "cell_type": "markdown",
      "metadata": {
        "id": "sz5qDbwv3DEk"
      },
      "source": [
        "## **Imputar Nas por Promedio**"
      ]
    },
    {
      "cell_type": "code",
      "metadata": {
        "id": "TGd414bCwyTn"
      },
      "source": [
        "df[\"LotFrontage\"]=df[\"LotFrontage\"].replace(np.nan,Promedio_Remuestreo)"
      ],
      "execution_count": 357,
      "outputs": []
    },
    {
      "cell_type": "code",
      "metadata": {
        "colab": {
          "base_uri": "https://localhost:8080/"
        },
        "id": "piNoEDDu5SaO",
        "outputId": "64439cc8-9eef-4575-c266-1be3d14c4c1f"
      },
      "source": [
        "df.isnull().sum()/len(df)*100"
      ],
      "execution_count": 358,
      "outputs": [
        {
          "output_type": "execute_result",
          "data": {
            "text/plain": [
              "Id               0.000000\n",
              "MSSubClass       0.000000\n",
              "MSZoning         0.000000\n",
              "LotFrontage      0.000000\n",
              "LotArea          0.000000\n",
              "Street           0.000000\n",
              "LotShape         0.000000\n",
              "LandContour      0.000000\n",
              "Utilities        0.000000\n",
              "LotConfig        0.000000\n",
              "LandSlope        0.000000\n",
              "Neighborhood     0.000000\n",
              "Condition1       0.000000\n",
              "Condition2       0.000000\n",
              "BldgType         0.000000\n",
              "HouseStyle       0.000000\n",
              "OverallQual      0.000000\n",
              "OverallCond      0.000000\n",
              "YearBuilt        0.000000\n",
              "YearRemodAdd     0.000000\n",
              "RoofStyle        0.000000\n",
              "RoofMatl         0.000000\n",
              "Exterior1st      0.000000\n",
              "Exterior2nd      0.000000\n",
              "MasVnrType       0.547945\n",
              "MasVnrArea       0.547945\n",
              "ExterQual        0.000000\n",
              "ExterCond        0.000000\n",
              "Foundation       0.000000\n",
              "BsmtQual         2.534247\n",
              "BsmtCond         2.534247\n",
              "BsmtExposure     2.602740\n",
              "BsmtFinType1     2.534247\n",
              "BsmtFinSF1       0.000000\n",
              "BsmtFinType2     2.602740\n",
              "BsmtFinSF2       0.000000\n",
              "BsmtUnfSF        0.000000\n",
              "TotalBsmtSF      0.000000\n",
              "Heating          0.000000\n",
              "HeatingQC        0.000000\n",
              "CentralAir       0.000000\n",
              "Electrical       0.068493\n",
              "1stFlrSF         0.000000\n",
              "2ndFlrSF         0.000000\n",
              "LowQualFinSF     0.000000\n",
              "GrLivArea        0.000000\n",
              "BsmtFullBath     0.000000\n",
              "BsmtHalfBath     0.000000\n",
              "FullBath         0.000000\n",
              "HalfBath         0.000000\n",
              "BedroomAbvGr     0.000000\n",
              "KitchenAbvGr     0.000000\n",
              "KitchenQual      0.000000\n",
              "TotRmsAbvGrd     0.000000\n",
              "Functional       0.000000\n",
              "Fireplaces       0.000000\n",
              "GarageType       5.547945\n",
              "GarageYrBlt      5.547945\n",
              "GarageFinish     5.547945\n",
              "GarageCars       0.000000\n",
              "GarageArea       0.000000\n",
              "GarageQual       5.547945\n",
              "GarageCond       5.547945\n",
              "PavedDrive       0.000000\n",
              "WoodDeckSF       0.000000\n",
              "OpenPorchSF      0.000000\n",
              "EnclosedPorch    0.000000\n",
              "3SsnPorch        0.000000\n",
              "ScreenPorch      0.000000\n",
              "PoolArea         0.000000\n",
              "MiscVal          0.000000\n",
              "MoSold           0.000000\n",
              "YrSold           0.000000\n",
              "SaleType         0.000000\n",
              "SaleCondition    0.000000\n",
              "SalePrice        0.000000\n",
              "dtype: float64"
            ]
          },
          "metadata": {
            "tags": []
          },
          "execution_count": 358
        }
      ]
    },
    {
      "cell_type": "markdown",
      "metadata": {
        "id": "LAJ1z3qc6LRy"
      },
      "source": [
        "## **Eliminamos Todos los Nas; ya que la proporcion que hay es pequeñas**"
      ]
    },
    {
      "cell_type": "code",
      "metadata": {
        "id": "uaSMFBWN6LRy"
      },
      "source": [
        "df1=df.dropna()"
      ],
      "execution_count": 359,
      "outputs": []
    },
    {
      "cell_type": "code",
      "metadata": {
        "colab": {
          "base_uri": "https://localhost:8080/"
        },
        "id": "eq33He1u6LRy",
        "outputId": "d99ec2e0-70f9-4d65-ef64-294bd9e74fe2"
      },
      "source": [
        "df1.isnull().sum()/len(df1)*100"
      ],
      "execution_count": 360,
      "outputs": [
        {
          "output_type": "execute_result",
          "data": {
            "text/plain": [
              "Id               0.0\n",
              "MSSubClass       0.0\n",
              "MSZoning         0.0\n",
              "LotFrontage      0.0\n",
              "LotArea          0.0\n",
              "Street           0.0\n",
              "LotShape         0.0\n",
              "LandContour      0.0\n",
              "Utilities        0.0\n",
              "LotConfig        0.0\n",
              "LandSlope        0.0\n",
              "Neighborhood     0.0\n",
              "Condition1       0.0\n",
              "Condition2       0.0\n",
              "BldgType         0.0\n",
              "HouseStyle       0.0\n",
              "OverallQual      0.0\n",
              "OverallCond      0.0\n",
              "YearBuilt        0.0\n",
              "YearRemodAdd     0.0\n",
              "RoofStyle        0.0\n",
              "RoofMatl         0.0\n",
              "Exterior1st      0.0\n",
              "Exterior2nd      0.0\n",
              "MasVnrType       0.0\n",
              "MasVnrArea       0.0\n",
              "ExterQual        0.0\n",
              "ExterCond        0.0\n",
              "Foundation       0.0\n",
              "BsmtQual         0.0\n",
              "BsmtCond         0.0\n",
              "BsmtExposure     0.0\n",
              "BsmtFinType1     0.0\n",
              "BsmtFinSF1       0.0\n",
              "BsmtFinType2     0.0\n",
              "BsmtFinSF2       0.0\n",
              "BsmtUnfSF        0.0\n",
              "TotalBsmtSF      0.0\n",
              "Heating          0.0\n",
              "HeatingQC        0.0\n",
              "CentralAir       0.0\n",
              "Electrical       0.0\n",
              "1stFlrSF         0.0\n",
              "2ndFlrSF         0.0\n",
              "LowQualFinSF     0.0\n",
              "GrLivArea        0.0\n",
              "BsmtFullBath     0.0\n",
              "BsmtHalfBath     0.0\n",
              "FullBath         0.0\n",
              "HalfBath         0.0\n",
              "BedroomAbvGr     0.0\n",
              "KitchenAbvGr     0.0\n",
              "KitchenQual      0.0\n",
              "TotRmsAbvGrd     0.0\n",
              "Functional       0.0\n",
              "Fireplaces       0.0\n",
              "GarageType       0.0\n",
              "GarageYrBlt      0.0\n",
              "GarageFinish     0.0\n",
              "GarageCars       0.0\n",
              "GarageArea       0.0\n",
              "GarageQual       0.0\n",
              "GarageCond       0.0\n",
              "PavedDrive       0.0\n",
              "WoodDeckSF       0.0\n",
              "OpenPorchSF      0.0\n",
              "EnclosedPorch    0.0\n",
              "3SsnPorch        0.0\n",
              "ScreenPorch      0.0\n",
              "PoolArea         0.0\n",
              "MiscVal          0.0\n",
              "MoSold           0.0\n",
              "YrSold           0.0\n",
              "SaleType         0.0\n",
              "SaleCondition    0.0\n",
              "SalePrice        0.0\n",
              "dtype: float64"
            ]
          },
          "metadata": {
            "tags": []
          },
          "execution_count": 360
        }
      ]
    },
    {
      "cell_type": "code",
      "metadata": {
        "id": "XSNH9PKy6LRy"
      },
      "source": [
        "1-len(df1)/len(df)\n",
        "df=df1"
      ],
      "execution_count": 361,
      "outputs": []
    },
    {
      "cell_type": "markdown",
      "metadata": {
        "id": "KgMy-DVU6LRz"
      },
      "source": [
        "* En este punto no tenemos datos perdidos, hemos perdido solo el 8 % de la data original"
      ]
    },
    {
      "cell_type": "markdown",
      "metadata": {
        "id": "0GRRAZLe6JsT"
      },
      "source": [
        "## **Analisis Variables Categoricas**"
      ]
    },
    {
      "cell_type": "markdown",
      "metadata": {
        "id": "SpoZEc3Z6LRz"
      },
      "source": [
        "**Detectamos las Variables Categoricas**"
      ]
    },
    {
      "cell_type": "markdown",
      "metadata": {
        "id": "RF_h4YBk61hB"
      },
      "source": [
        "**Variables MSZoning**\n",
        "\n",
        "\n",
        "  * A\tAgriculture\n",
        "  * C\tCommercial\n",
        "  * FV\tFloating Village Residential\n",
        "  * I\tIndustrial\n",
        "  * RH\tResidential High Density\n",
        "  * RL\tResidential Low Density\n",
        "  * RP\tResidential Low Density Park \n",
        "  * RM\tResidential Medium Density\n"
      ]
    },
    {
      "cell_type": "code",
      "metadata": {
        "colab": {
          "base_uri": "https://localhost:8080/"
        },
        "id": "ZDZIh3RG2k9z",
        "outputId": "e832f4a4-69bc-4372-fe66-62e00deba74e"
      },
      "source": [
        "pd.value_counts(df[\"MSZoning\"])"
      ],
      "execution_count": 362,
      "outputs": [
        {
          "output_type": "execute_result",
          "data": {
            "text/plain": [
              "RL         1066\n",
              "RM          191\n",
              "FV           62\n",
              "RH           11\n",
              "C (all)       8\n",
              "Name: MSZoning, dtype: int64"
            ]
          },
          "metadata": {
            "tags": []
          },
          "execution_count": 362
        }
      ]
    },
    {
      "cell_type": "markdown",
      "metadata": {
        "id": "NAaFG9-79Gat"
      },
      "source": [
        "**Distribuccion %**"
      ]
    },
    {
      "cell_type": "code",
      "metadata": {
        "colab": {
          "base_uri": "https://localhost:8080/"
        },
        "id": "wcuWStpQ5Rdj",
        "outputId": "5888dbbd-6b0c-44bd-af11-93a9c2df52c7"
      },
      "source": [
        "(pd.value_counts(df[\"MSZoning\"])/len(df))*100"
      ],
      "execution_count": 363,
      "outputs": [
        {
          "output_type": "execute_result",
          "data": {
            "text/plain": [
              "RL         79.671151\n",
              "RM         14.275037\n",
              "FV          4.633782\n",
              "RH          0.822123\n",
              "C (all)     0.597907\n",
              "Name: MSZoning, dtype: float64"
            ]
          },
          "metadata": {
            "tags": []
          },
          "execution_count": 363
        }
      ]
    },
    {
      "cell_type": "markdown",
      "metadata": {
        "id": "RxZqyH7X9TKB"
      },
      "source": [
        "**Grafico**"
      ]
    },
    {
      "cell_type": "code",
      "metadata": {
        "colab": {
          "base_uri": "https://localhost:8080/",
          "height": 264
        },
        "id": "YaoOppkW2lA0",
        "outputId": "5349a70f-3b55-4134-dbf9-94477340b3b0"
      },
      "source": [
        "plot= df[\"MSZoning\"].value_counts().plot(kind=\"pie\",autopct=\"%.2f\",title=\"Distribucion de Casas por Zona\")"
      ],
      "execution_count": 364,
      "outputs": [
        {
          "output_type": "display_data",
          "data": {
            "image/png": "[encoded data removed]",
            "text/plain": [
              "<Figure size 432x288 with 1 Axes>"
            ]
          },
          "metadata": {
            "tags": []
          }
        }
      ]
    },
    {
      "cell_type": "markdown",
      "metadata": {
        "id": "ZRCR0oCQ-bGA"
      },
      "source": [
        "**Variable Categorica Vs Categorica**"
      ]
    },
    {
      "cell_type": "markdown",
      "metadata": {
        "id": "fbsvv_T6_wbA"
      },
      "source": [
        "**BldgType**\n",
        "\n",
        "* 1Fam\tSingle-family Detached\t\n",
        "* 2FmCon\tTwo-family Conversion; originally built as one-family dwelling\n",
        "* Duplx\tDuplex\n",
        "* TwnhsE\tTownhouse End Unit\n",
        "* TwnhsI\tTownhouse Inside Unit\n"
      ]
    },
    {
      "cell_type": "code",
      "metadata": {
        "colab": {
          "base_uri": "https://localhost:8080/"
        },
        "id": "hRU4BXmq2lD-",
        "outputId": "e76a8bc2-15f2-4f56-8f75-1d04e3f6d992"
      },
      "source": [
        "pd.value_counts(df[\"BldgType\"])"
      ],
      "execution_count": 365,
      "outputs": [
        {
          "output_type": "execute_result",
          "data": {
            "text/plain": [
              "1Fam      1138\n",
              "TwnhsE     112\n",
              "Twnhs       38\n",
              "Duplex      28\n",
              "2fmCon      22\n",
              "Name: BldgType, dtype: int64"
            ]
          },
          "metadata": {
            "tags": []
          },
          "execution_count": 365
        }
      ]
    },
    {
      "cell_type": "markdown",
      "metadata": {
        "id": "rIVglv_s_v1Q"
      },
      "source": [
        "## **Analisis de Contingencia**"
      ]
    },
    {
      "cell_type": "markdown",
      "metadata": {
        "id": "Jf4pE6_8AzXR"
      },
      "source": [
        "**Tabla Cruzada**"
      ]
    },
    {
      "cell_type": "code",
      "metadata": {
        "colab": {
          "base_uri": "https://localhost:8080/",
          "height": 235
        },
        "id": "tIMYgSyigdCc",
        "outputId": "985b08b9-b1c4-48e4-b9f0-e6974c5085bf"
      },
      "source": [
        "pd.crosstab(df[\"BldgType\"],df[\"MSZoning\"])"
      ],
      "execution_count": 366,
      "outputs": [
        {
          "output_type": "execute_result",
          "data": {
            "text/html": [
              "<div>\n",
              "<style scoped>\n",
              "    .dataframe tbody tr th:only-of-type {\n",
              "        vertical-align: middle;\n",
              "    }\n",
              "\n",
              "    .dataframe tbody tr th {\n",
              "        vertical-align: top;\n",
              "    }\n",
              "\n",
              "    .dataframe thead th {\n",
              "        text-align: right;\n",
              "    }\n",
              "</style>\n",
              "<table border=\"1\" class=\"dataframe\">\n",
              "  <thead>\n",
              "    <tr style=\"text-align: right;\">\n",
              "      <th>MSZoning</th>\n",
              "      <th>C (all)</th>\n",
              "      <th>FV</th>\n",
              "      <th>RH</th>\n",
              "      <th>RL</th>\n",
              "      <th>RM</th>\n",
              "    </tr>\n",
              "    <tr>\n",
              "      <th>BldgType</th>\n",
              "      <th></th>\n",
              "      <th></th>\n",
              "      <th></th>\n",
              "      <th></th>\n",
              "      <th></th>\n",
              "    </tr>\n",
              "  </thead>\n",
              "  <tbody>\n",
              "    <tr>\n",
              "      <th>1Fam</th>\n",
              "      <td>7</td>\n",
              "      <td>36</td>\n",
              "      <td>7</td>\n",
              "      <td>966</td>\n",
              "      <td>122</td>\n",
              "    </tr>\n",
              "    <tr>\n",
              "      <th>2fmCon</th>\n",
              "      <td>1</td>\n",
              "      <td>0</td>\n",
              "      <td>0</td>\n",
              "      <td>12</td>\n",
              "      <td>9</td>\n",
              "    </tr>\n",
              "    <tr>\n",
              "      <th>Duplex</th>\n",
              "      <td>0</td>\n",
              "      <td>0</td>\n",
              "      <td>2</td>\n",
              "      <td>21</td>\n",
              "      <td>5</td>\n",
              "    </tr>\n",
              "    <tr>\n",
              "      <th>Twnhs</th>\n",
              "      <td>0</td>\n",
              "      <td>9</td>\n",
              "      <td>0</td>\n",
              "      <td>10</td>\n",
              "      <td>19</td>\n",
              "    </tr>\n",
              "    <tr>\n",
              "      <th>TwnhsE</th>\n",
              "      <td>0</td>\n",
              "      <td>17</td>\n",
              "      <td>2</td>\n",
              "      <td>57</td>\n",
              "      <td>36</td>\n",
              "    </tr>\n",
              "  </tbody>\n",
              "</table>\n",
              "</div>"
            ],
            "text/plain": [
              "MSZoning  C (all)  FV  RH   RL   RM\n",
              "BldgType                           \n",
              "1Fam            7  36   7  966  122\n",
              "2fmCon          1   0   0   12    9\n",
              "Duplex          0   0   2   21    5\n",
              "Twnhs           0   9   0   10   19\n",
              "TwnhsE          0  17   2   57   36"
            ]
          },
          "metadata": {
            "tags": []
          },
          "execution_count": 366
        }
      ]
    },
    {
      "cell_type": "markdown",
      "metadata": {
        "id": "mN6I4fARBI2D"
      },
      "source": [
        "**Subtotales**"
      ]
    },
    {
      "cell_type": "code",
      "metadata": {
        "colab": {
          "base_uri": "https://localhost:8080/",
          "height": 266
        },
        "id": "xLv74RmOgdEq",
        "outputId": "84a699a8-920b-4dce-a558-c276e904a039"
      },
      "source": [
        "pd.crosstab(df[\"BldgType\"],df[\"MSZoning\"],margins=True)"
      ],
      "execution_count": 367,
      "outputs": [
        {
          "output_type": "execute_result",
          "data": {
            "text/html": [
              "<div>\n",
              "<style scoped>\n",
              "    .dataframe tbody tr th:only-of-type {\n",
              "        vertical-align: middle;\n",
              "    }\n",
              "\n",
              "    .dataframe tbody tr th {\n",
              "        vertical-align: top;\n",
              "    }\n",
              "\n",
              "    .dataframe thead th {\n",
              "        text-align: right;\n",
              "    }\n",
              "</style>\n",
              "<table border=\"1\" class=\"dataframe\">\n",
              "  <thead>\n",
              "    <tr style=\"text-align: right;\">\n",
              "      <th>MSZoning</th>\n",
              "      <th>C (all)</th>\n",
              "      <th>FV</th>\n",
              "      <th>RH</th>\n",
              "      <th>RL</th>\n",
              "      <th>RM</th>\n",
              "      <th>All</th>\n",
              "    </tr>\n",
              "    <tr>\n",
              "      <th>BldgType</th>\n",
              "      <th></th>\n",
              "      <th></th>\n",
              "      <th></th>\n",
              "      <th></th>\n",
              "      <th></th>\n",
              "      <th></th>\n",
              "    </tr>\n",
              "  </thead>\n",
              "  <tbody>\n",
              "    <tr>\n",
              "      <th>1Fam</th>\n",
              "      <td>7</td>\n",
              "      <td>36</td>\n",
              "      <td>7</td>\n",
              "      <td>966</td>\n",
              "      <td>122</td>\n",
              "      <td>1138</td>\n",
              "    </tr>\n",
              "    <tr>\n",
              "      <th>2fmCon</th>\n",
              "      <td>1</td>\n",
              "      <td>0</td>\n",
              "      <td>0</td>\n",
              "      <td>12</td>\n",
              "      <td>9</td>\n",
              "      <td>22</td>\n",
              "    </tr>\n",
              "    <tr>\n",
              "      <th>Duplex</th>\n",
              "      <td>0</td>\n",
              "      <td>0</td>\n",
              "      <td>2</td>\n",
              "      <td>21</td>\n",
              "      <td>5</td>\n",
              "      <td>28</td>\n",
              "    </tr>\n",
              "    <tr>\n",
              "      <th>Twnhs</th>\n",
              "      <td>0</td>\n",
              "      <td>9</td>\n",
              "      <td>0</td>\n",
              "      <td>10</td>\n",
              "      <td>19</td>\n",
              "      <td>38</td>\n",
              "    </tr>\n",
              "    <tr>\n",
              "      <th>TwnhsE</th>\n",
              "      <td>0</td>\n",
              "      <td>17</td>\n",
              "      <td>2</td>\n",
              "      <td>57</td>\n",
              "      <td>36</td>\n",
              "      <td>112</td>\n",
              "    </tr>\n",
              "    <tr>\n",
              "      <th>All</th>\n",
              "      <td>8</td>\n",
              "      <td>62</td>\n",
              "      <td>11</td>\n",
              "      <td>1066</td>\n",
              "      <td>191</td>\n",
              "      <td>1338</td>\n",
              "    </tr>\n",
              "  </tbody>\n",
              "</table>\n",
              "</div>"
            ],
            "text/plain": [
              "MSZoning  C (all)  FV  RH    RL   RM   All\n",
              "BldgType                                  \n",
              "1Fam            7  36   7   966  122  1138\n",
              "2fmCon          1   0   0    12    9    22\n",
              "Duplex          0   0   2    21    5    28\n",
              "Twnhs           0   9   0    10   19    38\n",
              "TwnhsE          0  17   2    57   36   112\n",
              "All             8  62  11  1066  191  1338"
            ]
          },
          "metadata": {
            "tags": []
          },
          "execution_count": 367
        }
      ]
    },
    {
      "cell_type": "markdown",
      "metadata": {
        "id": "S7iyylhLBXOx"
      },
      "source": [
        "**Test de Indepedencia**\n",
        "\n",
        "* H0: Las Variables Tipo de casa y Zona son Independientes\n",
        "* Ha: Las Variables Tipo de casa y Zona son Dependientes\n",
        "\n",
        "* Si p valor < 0.05; se rechaza H0, Las variables Son Dependientes\n",
        "\n"
      ]
    },
    {
      "cell_type": "markdown",
      "metadata": {
        "id": "T9d7wrTpB-x2"
      },
      "source": [
        "**Test chi2**"
      ]
    },
    {
      "cell_type": "code",
      "metadata": {
        "id": "g850rFUBgdGf"
      },
      "source": [
        "tc= pd.crosstab(index=df[\"BldgType\"],columns=df[\"MSZoning\"])"
      ],
      "execution_count": 368,
      "outputs": []
    },
    {
      "cell_type": "code",
      "metadata": {
        "id": "Fvpv7YlogdIn"
      },
      "source": [
        "c,p,pchi, test=chi2_contingency(tc)"
      ],
      "execution_count": 369,
      "outputs": []
    },
    {
      "cell_type": "code",
      "metadata": {
        "colab": {
          "base_uri": "https://localhost:8080/",
          "height": 35
        },
        "id": "Dq5bD2YSgdKo",
        "outputId": "d65478af-63a0-4075-8cbf-0e72a4b42417"
      },
      "source": [
        "'{:f}'.format(p)"
      ],
      "execution_count": 370,
      "outputs": [
        {
          "output_type": "execute_result",
          "data": {
            "application/vnd.google.colaboratory.intrinsic+json": {
              "type": "string"
            },
            "text/plain": [
              "'0.000000'"
            ]
          },
          "metadata": {
            "tags": []
          },
          "execution_count": 370
        }
      ]
    },
    {
      "cell_type": "markdown",
      "metadata": {
        "id": "F70aXIPGC9Mv"
      },
      "source": [
        "**Las Variables estan relacionadas estadisticamente, por lo tanto para un posible modelo, deben incluirse**"
      ]
    },
    {
      "cell_type": "markdown",
      "metadata": {
        "id": "2luRbZ6LDUuP"
      },
      "source": [
        "## **Variables Categoricas con Numericas**"
      ]
    },
    {
      "cell_type": "markdown",
      "metadata": {
        "id": "jBtSAn_aHc-N"
      },
      "source": [
        "**ANOVA**\n",
        "El Análisis de varianza (ANOVA) es un método estadístico utilizado para evaluar si existen diferencias significativas entre las medias de dos o más grupos. ANOVA devuelve dos parámetro\n"
      ]
    },
    {
      "cell_type": "markdown",
      "metadata": {
        "id": "rT3fnC64HuPL"
      },
      "source": [
        "**Visualmente**"
      ]
    },
    {
      "cell_type": "code",
      "metadata": {
        "colab": {
          "base_uri": "https://localhost:8080/"
        },
        "id": "VYOEU8oQIA_5",
        "outputId": "8b3de19d-d392-4224-91e0-5d30031c2f96"
      },
      "source": [
        "df.columns"
      ],
      "execution_count": 371,
      "outputs": [
        {
          "output_type": "execute_result",
          "data": {
            "text/plain": [
              "Index(['Id', 'MSSubClass', 'MSZoning', 'LotFrontage', 'LotArea', 'Street',\n",
              "       'LotShape', 'LandContour', 'Utilities', 'LotConfig', 'LandSlope',\n",
              "       'Neighborhood', 'Condition1', 'Condition2', 'BldgType', 'HouseStyle',\n",
              "       'OverallQual', 'OverallCond', 'YearBuilt', 'YearRemodAdd', 'RoofStyle',\n",
              "       'RoofMatl', 'Exterior1st', 'Exterior2nd', 'MasVnrType', 'MasVnrArea',\n",
              "       'ExterQual', 'ExterCond', 'Foundation', 'BsmtQual', 'BsmtCond',\n",
              "       'BsmtExposure', 'BsmtFinType1', 'BsmtFinSF1', 'BsmtFinType2',\n",
              "       'BsmtFinSF2', 'BsmtUnfSF', 'TotalBsmtSF', 'Heating', 'HeatingQC',\n",
              "       'CentralAir', 'Electrical', '1stFlrSF', '2ndFlrSF', 'LowQualFinSF',\n",
              "       'GrLivArea', 'BsmtFullBath', 'BsmtHalfBath', 'FullBath', 'HalfBath',\n",
              "       'BedroomAbvGr', 'KitchenAbvGr', 'KitchenQual', 'TotRmsAbvGrd',\n",
              "       'Functional', 'Fireplaces', 'GarageType', 'GarageYrBlt', 'GarageFinish',\n",
              "       'GarageCars', 'GarageArea', 'GarageQual', 'GarageCond', 'PavedDrive',\n",
              "       'WoodDeckSF', 'OpenPorchSF', 'EnclosedPorch', '3SsnPorch',\n",
              "       'ScreenPorch', 'PoolArea', 'MiscVal', 'MoSold', 'YrSold', 'SaleType',\n",
              "       'SaleCondition', 'SalePrice'],\n",
              "      dtype='object')"
            ]
          },
          "metadata": {
            "tags": []
          },
          "execution_count": 371
        }
      ]
    },
    {
      "cell_type": "code",
      "metadata": {
        "colab": {
          "base_uri": "https://localhost:8080/",
          "height": 296
        },
        "id": "3Ts_Wwo9C0yx",
        "outputId": "92125fc9-7d4e-455a-e1b9-d8633bb9a636"
      },
      "source": [
        "sns.boxplot(x=df[\"MSZoning\"],y=df[\"SalePrice\"],data=df,color=\"darkblue\")"
      ],
      "execution_count": 372,
      "outputs": [
        {
          "output_type": "execute_result",
          "data": {
            "text/plain": [
              "<matplotlib.axes._subplots.AxesSubplot at 0x7f39f3d8cb50>"
            ]
          },
          "metadata": {
            "tags": []
          },
          "execution_count": 372
        },
        {
          "output_type": "display_data",
          "data": {
            "image/png": "[encoded data removed]",
            "text/plain": [
              "<Figure size 432x288 with 1 Axes>"
            ]
          },
          "metadata": {
            "tags": [],
            "needs_background": "light"
          }
        }
      ]
    },
    {
      "cell_type": "code",
      "metadata": {
        "id": "y2-PRf0jC01t"
      },
      "source": [
        "from  scipy import stats"
      ],
      "execution_count": 373,
      "outputs": []
    },
    {
      "cell_type": "code",
      "metadata": {
        "colab": {
          "base_uri": "https://localhost:8080/",
          "height": 824
        },
        "id": "AqNXIhdKC04w",
        "outputId": "deb3f31a-a009-4e85-a188-9a3c3175f0ec"
      },
      "source": [
        "grupo= df[[\"MSZoning\",\"SalePrice\"]].groupby(\"MSZoning\")\n",
        "grupo.head(5)"
      ],
      "execution_count": 374,
      "outputs": [
        {
          "output_type": "execute_result",
          "data": {
            "text/html": [
              "<div>\n",
              "<style scoped>\n",
              "    .dataframe tbody tr th:only-of-type {\n",
              "        vertical-align: middle;\n",
              "    }\n",
              "\n",
              "    .dataframe tbody tr th {\n",
              "        vertical-align: top;\n",
              "    }\n",
              "\n",
              "    .dataframe thead th {\n",
              "        text-align: right;\n",
              "    }\n",
              "</style>\n",
              "<table border=\"1\" class=\"dataframe\">\n",
              "  <thead>\n",
              "    <tr style=\"text-align: right;\">\n",
              "      <th></th>\n",
              "      <th>MSZoning</th>\n",
              "      <th>SalePrice</th>\n",
              "    </tr>\n",
              "  </thead>\n",
              "  <tbody>\n",
              "    <tr>\n",
              "      <th>0</th>\n",
              "      <td>RL</td>\n",
              "      <td>208500</td>\n",
              "    </tr>\n",
              "    <tr>\n",
              "      <th>1</th>\n",
              "      <td>RL</td>\n",
              "      <td>181500</td>\n",
              "    </tr>\n",
              "    <tr>\n",
              "      <th>2</th>\n",
              "      <td>RL</td>\n",
              "      <td>223500</td>\n",
              "    </tr>\n",
              "    <tr>\n",
              "      <th>3</th>\n",
              "      <td>RL</td>\n",
              "      <td>140000</td>\n",
              "    </tr>\n",
              "    <tr>\n",
              "      <th>4</th>\n",
              "      <td>RL</td>\n",
              "      <td>250000</td>\n",
              "    </tr>\n",
              "    <tr>\n",
              "      <th>8</th>\n",
              "      <td>RM</td>\n",
              "      <td>129900</td>\n",
              "    </tr>\n",
              "    <tr>\n",
              "      <th>15</th>\n",
              "      <td>RM</td>\n",
              "      <td>132000</td>\n",
              "    </tr>\n",
              "    <tr>\n",
              "      <th>21</th>\n",
              "      <td>RM</td>\n",
              "      <td>139400</td>\n",
              "    </tr>\n",
              "    <tr>\n",
              "      <th>23</th>\n",
              "      <td>RM</td>\n",
              "      <td>129900</td>\n",
              "    </tr>\n",
              "    <tr>\n",
              "      <th>29</th>\n",
              "      <td>RM</td>\n",
              "      <td>68500</td>\n",
              "    </tr>\n",
              "    <tr>\n",
              "      <th>30</th>\n",
              "      <td>C (all)</td>\n",
              "      <td>40000</td>\n",
              "    </tr>\n",
              "    <tr>\n",
              "      <th>47</th>\n",
              "      <td>FV</td>\n",
              "      <td>249700</td>\n",
              "    </tr>\n",
              "    <tr>\n",
              "      <th>56</th>\n",
              "      <td>FV</td>\n",
              "      <td>172500</td>\n",
              "    </tr>\n",
              "    <tr>\n",
              "      <th>87</th>\n",
              "      <td>FV</td>\n",
              "      <td>164500</td>\n",
              "    </tr>\n",
              "    <tr>\n",
              "      <th>93</th>\n",
              "      <td>C (all)</td>\n",
              "      <td>133900</td>\n",
              "    </tr>\n",
              "    <tr>\n",
              "      <th>105</th>\n",
              "      <td>FV</td>\n",
              "      <td>250000</td>\n",
              "    </tr>\n",
              "    <tr>\n",
              "      <th>115</th>\n",
              "      <td>FV</td>\n",
              "      <td>176000</td>\n",
              "    </tr>\n",
              "    <tr>\n",
              "      <th>341</th>\n",
              "      <td>RH</td>\n",
              "      <td>82000</td>\n",
              "    </tr>\n",
              "    <tr>\n",
              "      <th>383</th>\n",
              "      <td>RH</td>\n",
              "      <td>76000</td>\n",
              "    </tr>\n",
              "    <tr>\n",
              "      <th>543</th>\n",
              "      <td>RH</td>\n",
              "      <td>133000</td>\n",
              "    </tr>\n",
              "    <tr>\n",
              "      <th>557</th>\n",
              "      <td>C (all)</td>\n",
              "      <td>108000</td>\n",
              "    </tr>\n",
              "    <tr>\n",
              "      <th>671</th>\n",
              "      <td>RH</td>\n",
              "      <td>103600</td>\n",
              "    </tr>\n",
              "    <tr>\n",
              "      <th>681</th>\n",
              "      <td>RH</td>\n",
              "      <td>159434</td>\n",
              "    </tr>\n",
              "    <tr>\n",
              "      <th>711</th>\n",
              "      <td>C (all)</td>\n",
              "      <td>102776</td>\n",
              "    </tr>\n",
              "    <tr>\n",
              "      <th>812</th>\n",
              "      <td>C (all)</td>\n",
              "      <td>55993</td>\n",
              "    </tr>\n",
              "  </tbody>\n",
              "</table>\n",
              "</div>"
            ],
            "text/plain": [
              "    MSZoning  SalePrice\n",
              "0         RL     208500\n",
              "1         RL     181500\n",
              "2         RL     223500\n",
              "3         RL     140000\n",
              "4         RL     250000\n",
              "8         RM     129900\n",
              "15        RM     132000\n",
              "21        RM     139400\n",
              "23        RM     129900\n",
              "29        RM      68500\n",
              "30   C (all)      40000\n",
              "47        FV     249700\n",
              "56        FV     172500\n",
              "87        FV     164500\n",
              "93   C (all)     133900\n",
              "105       FV     250000\n",
              "115       FV     176000\n",
              "341       RH      82000\n",
              "383       RH      76000\n",
              "543       RH     133000\n",
              "557  C (all)     108000\n",
              "671       RH     103600\n",
              "681       RH     159434\n",
              "711  C (all)     102776\n",
              "812  C (all)      55993"
            ]
          },
          "metadata": {
            "tags": []
          },
          "execution_count": 374
        }
      ]
    },
    {
      "cell_type": "markdown",
      "metadata": {
        "id": "zX7huyVAJbdF"
      },
      "source": [
        "**Test Estadistico**"
      ]
    },
    {
      "cell_type": "code",
      "metadata": {
        "id": "mlI4IfwBC07u"
      },
      "source": [
        "f_val,p_val= stats.f_oneway(grupo.get_group(\"RL\")[\"SalePrice\"],grupo.get_group(\"RM\")[\"SalePrice\"],\n",
        "                           grupo.get_group(\"FV\")[\"SalePrice\"],grupo.get_group(\"RH\")[\"SalePrice\"],\n",
        "                           grupo.get_group(\"C (all)\")[\"SalePrice\"])"
      ],
      "execution_count": 375,
      "outputs": []
    },
    {
      "cell_type": "code",
      "metadata": {
        "colab": {
          "base_uri": "https://localhost:8080/",
          "height": 35
        },
        "id": "VfsToDn5C0-p",
        "outputId": "c7868eb6-bc34-463e-ce19-55562661a7af"
      },
      "source": [
        "\n",
        "'{:f}'.format(p_val)"
      ],
      "execution_count": 376,
      "outputs": [
        {
          "output_type": "execute_result",
          "data": {
            "application/vnd.google.colaboratory.intrinsic+json": {
              "type": "string"
            },
            "text/plain": [
              "'0.000000'"
            ]
          },
          "metadata": {
            "tags": []
          },
          "execution_count": 376
        }
      ]
    },
    {
      "cell_type": "markdown",
      "metadata": {
        "id": "PfAhUTHiKiKY"
      },
      "source": [
        "* **Los grupos estan relacionados con el precio de venta**"
      ]
    },
    {
      "cell_type": "markdown",
      "metadata": {
        "id": "BUHJSvetK_Nz"
      },
      "source": [
        "## **Numericas y Numericas**"
      ]
    },
    {
      "cell_type": "markdown",
      "metadata": {
        "id": "S3JsHJHHMX2p"
      },
      "source": [
        "**Correlación de Pearson**\n",
        "\n",
        "La correlación de Pearson mide la dependencia lineal entre dos variables X e Y.\n",
        "\n",
        "El coeficiente resultante es un valor entre -1 y 1 inclusive, donde:\n",
        "\n",
        "* 1: correlación lineal positiva total.\n",
        "* 0: Sin correlación lineal, las dos variables probablemente no se afectan entre sí.\n",
        "* -1: correlación lineal negativa total"
      ]
    },
    {
      "cell_type": "code",
      "metadata": {
        "colab": {
          "base_uri": "https://localhost:8080/",
          "height": 1000
        },
        "id": "ih9SSb_6C0N3",
        "outputId": "14900b45-94ef-48fb-bce8-b2200f1d09db"
      },
      "source": [
        "df.corr()"
      ],
      "execution_count": 377,
      "outputs": [
        {
          "output_type": "execute_result",
          "data": {
            "text/html": [
              "<div>\n",
              "<style scoped>\n",
              "    .dataframe tbody tr th:only-of-type {\n",
              "        vertical-align: middle;\n",
              "    }\n",
              "\n",
              "    .dataframe tbody tr th {\n",
              "        vertical-align: top;\n",
              "    }\n",
              "\n",
              "    .dataframe thead th {\n",
              "        text-align: right;\n",
              "    }\n",
              "</style>\n",
              "<table border=\"1\" class=\"dataframe\">\n",
              "  <thead>\n",
              "    <tr style=\"text-align: right;\">\n",
              "      <th></th>\n",
              "      <th>LotFrontage</th>\n",
              "      <th>LotArea</th>\n",
              "      <th>MasVnrArea</th>\n",
              "      <th>BsmtFinSF1</th>\n",
              "      <th>BsmtFinSF2</th>\n",
              "      <th>BsmtUnfSF</th>\n",
              "      <th>TotalBsmtSF</th>\n",
              "      <th>1stFlrSF</th>\n",
              "      <th>2ndFlrSF</th>\n",
              "      <th>LowQualFinSF</th>\n",
              "      <th>GrLivArea</th>\n",
              "      <th>BsmtFullBath</th>\n",
              "      <th>BsmtHalfBath</th>\n",
              "      <th>FullBath</th>\n",
              "      <th>HalfBath</th>\n",
              "      <th>BedroomAbvGr</th>\n",
              "      <th>KitchenAbvGr</th>\n",
              "      <th>TotRmsAbvGrd</th>\n",
              "      <th>Fireplaces</th>\n",
              "      <th>GarageCars</th>\n",
              "      <th>GarageArea</th>\n",
              "      <th>WoodDeckSF</th>\n",
              "      <th>OpenPorchSF</th>\n",
              "      <th>EnclosedPorch</th>\n",
              "      <th>3SsnPorch</th>\n",
              "      <th>ScreenPorch</th>\n",
              "      <th>PoolArea</th>\n",
              "      <th>MiscVal</th>\n",
              "      <th>MoSold</th>\n",
              "      <th>YrSold</th>\n",
              "      <th>SalePrice</th>\n",
              "    </tr>\n",
              "  </thead>\n",
              "  <tbody>\n",
              "    <tr>\n",
              "      <th>LotFrontage</th>\n",
              "      <td>1.000000</td>\n",
              "      <td>0.299959</td>\n",
              "      <td>0.176172</td>\n",
              "      <td>0.220481</td>\n",
              "      <td>0.039959</td>\n",
              "      <td>0.103494</td>\n",
              "      <td>0.378071</td>\n",
              "      <td>0.410505</td>\n",
              "      <td>0.067563</td>\n",
              "      <td>0.010355</td>\n",
              "      <td>0.362847</td>\n",
              "      <td>0.103010</td>\n",
              "      <td>-0.000868</td>\n",
              "      <td>0.172437</td>\n",
              "      <td>0.038260</td>\n",
              "      <td>0.246402</td>\n",
              "      <td>0.007739</td>\n",
              "      <td>0.320922</td>\n",
              "      <td>0.229243</td>\n",
              "      <td>0.268579</td>\n",
              "      <td>0.332627</td>\n",
              "      <td>0.069627</td>\n",
              "      <td>0.143877</td>\n",
              "      <td>0.015044</td>\n",
              "      <td>0.064472</td>\n",
              "      <td>0.031836</td>\n",
              "      <td>0.185926</td>\n",
              "      <td>-0.000804</td>\n",
              "      <td>0.013529</td>\n",
              "      <td>0.011716</td>\n",
              "      <td>0.327832</td>\n",
              "    </tr>\n",
              "    <tr>\n",
              "      <th>LotArea</th>\n",
              "      <td>0.299959</td>\n",
              "      <td>1.000000</td>\n",
              "      <td>0.096727</td>\n",
              "      <td>0.210148</td>\n",
              "      <td>0.110493</td>\n",
              "      <td>-0.014589</td>\n",
              "      <td>0.267188</td>\n",
              "      <td>0.288502</td>\n",
              "      <td>0.047773</td>\n",
              "      <td>0.009729</td>\n",
              "      <td>0.255445</td>\n",
              "      <td>0.160687</td>\n",
              "      <td>0.046420</td>\n",
              "      <td>0.115727</td>\n",
              "      <td>0.006052</td>\n",
              "      <td>0.120369</td>\n",
              "      <td>-0.012611</td>\n",
              "      <td>0.185654</td>\n",
              "      <td>0.263061</td>\n",
              "      <td>0.138228</td>\n",
              "      <td>0.168630</td>\n",
              "      <td>0.167822</td>\n",
              "      <td>0.084942</td>\n",
              "      <td>-0.017968</td>\n",
              "      <td>0.019326</td>\n",
              "      <td>0.038489</td>\n",
              "      <td>0.077050</td>\n",
              "      <td>0.040824</td>\n",
              "      <td>0.000118</td>\n",
              "      <td>-0.012066</td>\n",
              "      <td>0.254757</td>\n",
              "    </tr>\n",
              "    <tr>\n",
              "      <th>MasVnrArea</th>\n",
              "      <td>0.176172</td>\n",
              "      <td>0.096727</td>\n",
              "      <td>1.000000</td>\n",
              "      <td>0.253015</td>\n",
              "      <td>-0.083303</td>\n",
              "      <td>0.104662</td>\n",
              "      <td>0.365629</td>\n",
              "      <td>0.341001</td>\n",
              "      <td>0.169730</td>\n",
              "      <td>-0.061707</td>\n",
              "      <td>0.392006</td>\n",
              "      <td>0.078875</td>\n",
              "      <td>0.015804</td>\n",
              "      <td>0.272271</td>\n",
              "      <td>0.193268</td>\n",
              "      <td>0.108829</td>\n",
              "      <td>-0.007299</td>\n",
              "      <td>0.289758</td>\n",
              "      <td>0.229365</td>\n",
              "      <td>0.363916</td>\n",
              "      <td>0.367237</td>\n",
              "      <td>0.149182</td>\n",
              "      <td>0.129015</td>\n",
              "      <td>-0.112225</td>\n",
              "      <td>0.015221</td>\n",
              "      <td>0.052474</td>\n",
              "      <td>0.009334</td>\n",
              "      <td>-0.028975</td>\n",
              "      <td>-0.013461</td>\n",
              "      <td>-0.001521</td>\n",
              "      <td>0.465811</td>\n",
              "    </tr>\n",
              "    <tr>\n",
              "      <th>BsmtFinSF1</th>\n",
              "      <td>0.220481</td>\n",
              "      <td>0.210148</td>\n",
              "      <td>0.253015</td>\n",
              "      <td>1.000000</td>\n",
              "      <td>-0.064855</td>\n",
              "      <td>-0.552809</td>\n",
              "      <td>0.505000</td>\n",
              "      <td>0.450366</td>\n",
              "      <td>-0.151876</td>\n",
              "      <td>-0.051909</td>\n",
              "      <td>0.201974</td>\n",
              "      <td>0.638094</td>\n",
              "      <td>0.057227</td>\n",
              "      <td>0.045094</td>\n",
              "      <td>-0.025251</td>\n",
              "      <td>-0.119100</td>\n",
              "      <td>-0.035623</td>\n",
              "      <td>0.046284</td>\n",
              "      <td>0.245323</td>\n",
              "      <td>0.197559</td>\n",
              "      <td>0.284095</td>\n",
              "      <td>0.187178</td>\n",
              "      <td>0.107561</td>\n",
              "      <td>-0.105669</td>\n",
              "      <td>0.026811</td>\n",
              "      <td>0.051906</td>\n",
              "      <td>0.142708</td>\n",
              "      <td>0.007869</td>\n",
              "      <td>-0.021242</td>\n",
              "      <td>0.023958</td>\n",
              "      <td>0.359677</td>\n",
              "    </tr>\n",
              "    <tr>\n",
              "      <th>BsmtFinSF2</th>\n",
              "      <td>0.039959</td>\n",
              "      <td>0.110493</td>\n",
              "      <td>-0.083303</td>\n",
              "      <td>-0.064855</td>\n",
              "      <td>1.000000</td>\n",
              "      <td>-0.233449</td>\n",
              "      <td>0.083184</td>\n",
              "      <td>0.094065</td>\n",
              "      <td>-0.109254</td>\n",
              "      <td>0.007072</td>\n",
              "      <td>-0.021993</td>\n",
              "      <td>0.154980</td>\n",
              "      <td>0.072813</td>\n",
              "      <td>-0.090448</td>\n",
              "      <td>-0.038494</td>\n",
              "      <td>-0.008179</td>\n",
              "      <td>-0.028278</td>\n",
              "      <td>-0.042207</td>\n",
              "      <td>0.035643</td>\n",
              "      <td>-0.080264</td>\n",
              "      <td>-0.053411</td>\n",
              "      <td>0.061206</td>\n",
              "      <td>0.004211</td>\n",
              "      <td>0.045668</td>\n",
              "      <td>-0.031475</td>\n",
              "      <td>0.085865</td>\n",
              "      <td>0.041148</td>\n",
              "      <td>0.006246</td>\n",
              "      <td>-0.022039</td>\n",
              "      <td>0.032855</td>\n",
              "      <td>-0.031226</td>\n",
              "    </tr>\n",
              "    <tr>\n",
              "      <th>BsmtUnfSF</th>\n",
              "      <td>0.103494</td>\n",
              "      <td>-0.014589</td>\n",
              "      <td>0.104662</td>\n",
              "      <td>-0.552809</td>\n",
              "      <td>-0.233449</td>\n",
              "      <td>1.000000</td>\n",
              "      <td>0.363767</td>\n",
              "      <td>0.318097</td>\n",
              "      <td>-0.016117</td>\n",
              "      <td>-0.002384</td>\n",
              "      <td>0.222438</td>\n",
              "      <td>-0.463986</td>\n",
              "      <td>-0.105359</td>\n",
              "      <td>0.305802</td>\n",
              "      <td>-0.074157</td>\n",
              "      <td>0.154935</td>\n",
              "      <td>0.081795</td>\n",
              "      <td>0.242020</td>\n",
              "      <td>0.033157</td>\n",
              "      <td>0.242278</td>\n",
              "      <td>0.195401</td>\n",
              "      <td>-0.020711</td>\n",
              "      <td>0.122171</td>\n",
              "      <td>-0.003372</td>\n",
              "      <td>0.023701</td>\n",
              "      <td>-0.023065</td>\n",
              "      <td>-0.039315</td>\n",
              "      <td>-0.018566</td>\n",
              "      <td>0.031202</td>\n",
              "      <td>-0.039076</td>\n",
              "      <td>0.191689</td>\n",
              "    </tr>\n",
              "    <tr>\n",
              "      <th>TotalBsmtSF</th>\n",
              "      <td>0.378071</td>\n",
              "      <td>0.267188</td>\n",
              "      <td>0.365629</td>\n",
              "      <td>0.505000</td>\n",
              "      <td>0.083184</td>\n",
              "      <td>0.363767</td>\n",
              "      <td>1.000000</td>\n",
              "      <td>0.893110</td>\n",
              "      <td>-0.234070</td>\n",
              "      <td>-0.058411</td>\n",
              "      <td>0.460778</td>\n",
              "      <td>0.282031</td>\n",
              "      <td>-0.019716</td>\n",
              "      <td>0.345685</td>\n",
              "      <td>-0.124788</td>\n",
              "      <td>0.029989</td>\n",
              "      <td>0.036844</td>\n",
              "      <td>0.297609</td>\n",
              "      <td>0.328103</td>\n",
              "      <td>0.453427</td>\n",
              "      <td>0.511475</td>\n",
              "      <td>0.214364</td>\n",
              "      <td>0.255939</td>\n",
              "      <td>-0.104484</td>\n",
              "      <td>0.043142</td>\n",
              "      <td>0.068886</td>\n",
              "      <td>0.135654</td>\n",
              "      <td>-0.008679</td>\n",
              "      <td>0.000787</td>\n",
              "      <td>-0.001823</td>\n",
              "      <td>0.602042</td>\n",
              "    </tr>\n",
              "    <tr>\n",
              "      <th>1stFlrSF</th>\n",
              "      <td>0.410505</td>\n",
              "      <td>0.288502</td>\n",
              "      <td>0.341001</td>\n",
              "      <td>0.450366</td>\n",
              "      <td>0.094065</td>\n",
              "      <td>0.318097</td>\n",
              "      <td>0.893110</td>\n",
              "      <td>1.000000</td>\n",
              "      <td>-0.220279</td>\n",
              "      <td>-0.019860</td>\n",
              "      <td>0.554846</td>\n",
              "      <td>0.251597</td>\n",
              "      <td>-0.000064</td>\n",
              "      <td>0.367498</td>\n",
              "      <td>-0.146494</td>\n",
              "      <td>0.100643</td>\n",
              "      <td>0.059242</td>\n",
              "      <td>0.393786</td>\n",
              "      <td>0.401929</td>\n",
              "      <td>0.440237</td>\n",
              "      <td>0.500071</td>\n",
              "      <td>0.233200</td>\n",
              "      <td>0.226615</td>\n",
              "      <td>-0.056003</td>\n",
              "      <td>0.053159</td>\n",
              "      <td>0.083054</td>\n",
              "      <td>0.134879</td>\n",
              "      <td>-0.014226</td>\n",
              "      <td>0.024109</td>\n",
              "      <td>-0.011258</td>\n",
              "      <td>0.604714</td>\n",
              "    </tr>\n",
              "    <tr>\n",
              "      <th>2ndFlrSF</th>\n",
              "      <td>0.067563</td>\n",
              "      <td>0.047773</td>\n",
              "      <td>0.169730</td>\n",
              "      <td>-0.151876</td>\n",
              "      <td>-0.109254</td>\n",
              "      <td>-0.016117</td>\n",
              "      <td>-0.234070</td>\n",
              "      <td>-0.220279</td>\n",
              "      <td>1.000000</td>\n",
              "      <td>0.044504</td>\n",
              "      <td>0.685710</td>\n",
              "      <td>-0.184112</td>\n",
              "      <td>-0.023955</td>\n",
              "      <td>0.419523</td>\n",
              "      <td>0.619450</td>\n",
              "      <td>0.509216</td>\n",
              "      <td>0.068464</td>\n",
              "      <td>0.619275</td>\n",
              "      <td>0.188514</td>\n",
              "      <td>0.187208</td>\n",
              "      <td>0.124564</td>\n",
              "      <td>0.081291</td>\n",
              "      <td>0.202791</td>\n",
              "      <td>0.059654</td>\n",
              "      <td>-0.024786</td>\n",
              "      <td>0.035664</td>\n",
              "      <td>0.082753</td>\n",
              "      <td>0.013755</td>\n",
              "      <td>0.042201</td>\n",
              "      <td>-0.034826</td>\n",
              "      <td>0.311354</td>\n",
              "    </tr>\n",
              "    <tr>\n",
              "      <th>LowQualFinSF</th>\n",
              "      <td>0.010355</td>\n",
              "      <td>0.009729</td>\n",
              "      <td>-0.061707</td>\n",
              "      <td>-0.051909</td>\n",
              "      <td>0.007072</td>\n",
              "      <td>-0.002384</td>\n",
              "      <td>-0.058411</td>\n",
              "      <td>-0.019860</td>\n",
              "      <td>0.044504</td>\n",
              "      <td>1.000000</td>\n",
              "      <td>0.101100</td>\n",
              "      <td>-0.029155</td>\n",
              "      <td>0.003802</td>\n",
              "      <td>-0.023550</td>\n",
              "      <td>0.000924</td>\n",
              "      <td>0.059138</td>\n",
              "      <td>-0.017759</td>\n",
              "      <td>0.092241</td>\n",
              "      <td>0.001746</td>\n",
              "      <td>-0.017605</td>\n",
              "      <td>0.013996</td>\n",
              "      <td>-0.008740</td>\n",
              "      <td>0.018326</td>\n",
              "      <td>0.050081</td>\n",
              "      <td>-0.000059</td>\n",
              "      <td>0.044837</td>\n",
              "      <td>0.080425</td>\n",
              "      <td>-0.000178</td>\n",
              "      <td>-0.027212</td>\n",
              "      <td>-0.020533</td>\n",
              "      <td>-0.009992</td>\n",
              "    </tr>\n",
              "    <tr>\n",
              "      <th>GrLivArea</th>\n",
              "      <td>0.362847</td>\n",
              "      <td>0.255445</td>\n",
              "      <td>0.392006</td>\n",
              "      <td>0.201974</td>\n",
              "      <td>-0.021993</td>\n",
              "      <td>0.222438</td>\n",
              "      <td>0.460778</td>\n",
              "      <td>0.554846</td>\n",
              "      <td>0.685710</td>\n",
              "      <td>0.101100</td>\n",
              "      <td>1.000000</td>\n",
              "      <td>0.028857</td>\n",
              "      <td>-0.020012</td>\n",
              "      <td>0.625953</td>\n",
              "      <td>0.415221</td>\n",
              "      <td>0.510088</td>\n",
              "      <td>0.100521</td>\n",
              "      <td>0.823491</td>\n",
              "      <td>0.458109</td>\n",
              "      <td>0.483943</td>\n",
              "      <td>0.477868</td>\n",
              "      <td>0.241277</td>\n",
              "      <td>0.341273</td>\n",
              "      <td>0.012779</td>\n",
              "      <td>0.018512</td>\n",
              "      <td>0.095358</td>\n",
              "      <td>0.176463</td>\n",
              "      <td>0.001054</td>\n",
              "      <td>0.051474</td>\n",
              "      <td>-0.039424</td>\n",
              "      <td>0.711706</td>\n",
              "    </tr>\n",
              "    <tr>\n",
              "      <th>BsmtFullBath</th>\n",
              "      <td>0.103010</td>\n",
              "      <td>0.160687</td>\n",
              "      <td>0.078875</td>\n",
              "      <td>0.638094</td>\n",
              "      <td>0.154980</td>\n",
              "      <td>-0.463986</td>\n",
              "      <td>0.282031</td>\n",
              "      <td>0.251597</td>\n",
              "      <td>-0.184112</td>\n",
              "      <td>-0.029155</td>\n",
              "      <td>0.028857</td>\n",
              "      <td>1.000000</td>\n",
              "      <td>-0.159263</td>\n",
              "      <td>-0.084267</td>\n",
              "      <td>-0.058884</td>\n",
              "      <td>-0.161723</td>\n",
              "      <td>-0.012858</td>\n",
              "      <td>-0.052065</td>\n",
              "      <td>0.133045</td>\n",
              "      <td>0.131403</td>\n",
              "      <td>0.186558</td>\n",
              "      <td>0.161982</td>\n",
              "      <td>0.072805</td>\n",
              "      <td>-0.046772</td>\n",
              "      <td>0.000482</td>\n",
              "      <td>0.017069</td>\n",
              "      <td>0.069236</td>\n",
              "      <td>-0.020704</td>\n",
              "      <td>-0.022993</td>\n",
              "      <td>0.072016</td>\n",
              "      <td>0.209695</td>\n",
              "    </tr>\n",
              "    <tr>\n",
              "      <th>BsmtHalfBath</th>\n",
              "      <td>-0.000868</td>\n",
              "      <td>0.046420</td>\n",
              "      <td>0.015804</td>\n",
              "      <td>0.057227</td>\n",
              "      <td>0.072813</td>\n",
              "      <td>-0.105359</td>\n",
              "      <td>-0.019716</td>\n",
              "      <td>-0.000064</td>\n",
              "      <td>-0.023955</td>\n",
              "      <td>0.003802</td>\n",
              "      <td>-0.020012</td>\n",
              "      <td>-0.159263</td>\n",
              "      <td>1.000000</td>\n",
              "      <td>-0.065641</td>\n",
              "      <td>-0.016143</td>\n",
              "      <td>0.047645</td>\n",
              "      <td>0.010247</td>\n",
              "      <td>-0.016705</td>\n",
              "      <td>0.026147</td>\n",
              "      <td>-0.041899</td>\n",
              "      <td>-0.044979</td>\n",
              "      <td>0.039305</td>\n",
              "      <td>-0.034818</td>\n",
              "      <td>-0.003071</td>\n",
              "      <td>0.036301</td>\n",
              "      <td>0.029737</td>\n",
              "      <td>0.019777</td>\n",
              "      <td>-0.006685</td>\n",
              "      <td>0.026507</td>\n",
              "      <td>-0.042466</td>\n",
              "      <td>-0.030175</td>\n",
              "    </tr>\n",
              "    <tr>\n",
              "      <th>FullBath</th>\n",
              "      <td>0.172437</td>\n",
              "      <td>0.115727</td>\n",
              "      <td>0.272271</td>\n",
              "      <td>0.045094</td>\n",
              "      <td>-0.090448</td>\n",
              "      <td>0.305802</td>\n",
              "      <td>0.345685</td>\n",
              "      <td>0.367498</td>\n",
              "      <td>0.419523</td>\n",
              "      <td>-0.023550</td>\n",
              "      <td>0.625953</td>\n",
              "      <td>-0.084267</td>\n",
              "      <td>-0.065641</td>\n",
              "      <td>1.000000</td>\n",
              "      <td>0.134953</td>\n",
              "      <td>0.355542</td>\n",
              "      <td>0.078037</td>\n",
              "      <td>0.547592</td>\n",
              "      <td>0.238053</td>\n",
              "      <td>0.512502</td>\n",
              "      <td>0.424693</td>\n",
              "      <td>0.189532</td>\n",
              "      <td>0.284951</td>\n",
              "      <td>-0.130885</td>\n",
              "      <td>0.039987</td>\n",
              "      <td>-0.013938</td>\n",
              "      <td>0.050780</td>\n",
              "      <td>-0.018492</td>\n",
              "      <td>0.058436</td>\n",
              "      <td>-0.025019</td>\n",
              "      <td>0.569313</td>\n",
              "    </tr>\n",
              "    <tr>\n",
              "      <th>HalfBath</th>\n",
              "      <td>0.038260</td>\n",
              "      <td>0.006052</td>\n",
              "      <td>0.193268</td>\n",
              "      <td>-0.025251</td>\n",
              "      <td>-0.038494</td>\n",
              "      <td>-0.074157</td>\n",
              "      <td>-0.124788</td>\n",
              "      <td>-0.146494</td>\n",
              "      <td>0.619450</td>\n",
              "      <td>0.000924</td>\n",
              "      <td>0.415221</td>\n",
              "      <td>-0.058884</td>\n",
              "      <td>-0.016143</td>\n",
              "      <td>0.134953</td>\n",
              "      <td>1.000000</td>\n",
              "      <td>0.248138</td>\n",
              "      <td>-0.060406</td>\n",
              "      <td>0.357991</td>\n",
              "      <td>0.191549</td>\n",
              "      <td>0.197136</td>\n",
              "      <td>0.126283</td>\n",
              "      <td>0.084871</td>\n",
              "      <td>0.202363</td>\n",
              "      <td>-0.087242</td>\n",
              "      <td>-0.006568</td>\n",
              "      <td>0.064498</td>\n",
              "      <td>0.020482</td>\n",
              "      <td>0.003618</td>\n",
              "      <td>-0.010915</td>\n",
              "      <td>-0.011440</td>\n",
              "      <td>0.258175</td>\n",
              "    </tr>\n",
              "    <tr>\n",
              "      <th>BedroomAbvGr</th>\n",
              "      <td>0.246402</td>\n",
              "      <td>0.120369</td>\n",
              "      <td>0.108829</td>\n",
              "      <td>-0.119100</td>\n",
              "      <td>-0.008179</td>\n",
              "      <td>0.154935</td>\n",
              "      <td>0.029989</td>\n",
              "      <td>0.100643</td>\n",
              "      <td>0.509216</td>\n",
              "      <td>0.059138</td>\n",
              "      <td>0.510088</td>\n",
              "      <td>-0.161723</td>\n",
              "      <td>0.047645</td>\n",
              "      <td>0.355542</td>\n",
              "      <td>0.248138</td>\n",
              "      <td>1.000000</td>\n",
              "      <td>0.173151</td>\n",
              "      <td>0.658923</td>\n",
              "      <td>0.117012</td>\n",
              "      <td>0.119537</td>\n",
              "      <td>0.089036</td>\n",
              "      <td>0.049546</td>\n",
              "      <td>0.093330</td>\n",
              "      <td>0.043569</td>\n",
              "      <td>-0.027718</td>\n",
              "      <td>0.049395</td>\n",
              "      <td>0.077751</td>\n",
              "      <td>0.008296</td>\n",
              "      <td>0.049966</td>\n",
              "      <td>-0.046440</td>\n",
              "      <td>0.169266</td>\n",
              "    </tr>\n",
              "    <tr>\n",
              "      <th>KitchenAbvGr</th>\n",
              "      <td>0.007739</td>\n",
              "      <td>-0.012611</td>\n",
              "      <td>-0.007299</td>\n",
              "      <td>-0.035623</td>\n",
              "      <td>-0.028278</td>\n",
              "      <td>0.081795</td>\n",
              "      <td>0.036844</td>\n",
              "      <td>0.059242</td>\n",
              "      <td>0.068464</td>\n",
              "      <td>-0.017759</td>\n",
              "      <td>0.100521</td>\n",
              "      <td>-0.012858</td>\n",
              "      <td>0.010247</td>\n",
              "      <td>0.078037</td>\n",
              "      <td>-0.060406</td>\n",
              "      <td>0.173151</td>\n",
              "      <td>1.000000</td>\n",
              "      <td>0.234984</td>\n",
              "      <td>-0.092535</td>\n",
              "      <td>0.048208</td>\n",
              "      <td>0.035487</td>\n",
              "      <td>-0.073631</td>\n",
              "      <td>-0.037356</td>\n",
              "      <td>0.037537</td>\n",
              "      <td>-0.020318</td>\n",
              "      <td>-0.041180</td>\n",
              "      <td>-0.012286</td>\n",
              "      <td>0.060528</td>\n",
              "      <td>0.036045</td>\n",
              "      <td>0.005704</td>\n",
              "      <td>-0.111408</td>\n",
              "    </tr>\n",
              "    <tr>\n",
              "      <th>TotRmsAbvGrd</th>\n",
              "      <td>0.320922</td>\n",
              "      <td>0.185654</td>\n",
              "      <td>0.289758</td>\n",
              "      <td>0.046284</td>\n",
              "      <td>-0.042207</td>\n",
              "      <td>0.242020</td>\n",
              "      <td>0.297609</td>\n",
              "      <td>0.393786</td>\n",
              "      <td>0.619275</td>\n",
              "      <td>0.092241</td>\n",
              "      <td>0.823491</td>\n",
              "      <td>-0.052065</td>\n",
              "      <td>-0.016705</td>\n",
              "      <td>0.547592</td>\n",
              "      <td>0.357991</td>\n",
              "      <td>0.658923</td>\n",
              "      <td>0.234984</td>\n",
              "      <td>1.000000</td>\n",
              "      <td>0.332325</td>\n",
              "      <td>0.404416</td>\n",
              "      <td>0.368435</td>\n",
              "      <td>0.166052</td>\n",
              "      <td>0.249396</td>\n",
              "      <td>-0.003321</td>\n",
              "      <td>-0.011026</td>\n",
              "      <td>0.058056</td>\n",
              "      <td>0.088279</td>\n",
              "      <td>0.026111</td>\n",
              "      <td>0.041562</td>\n",
              "      <td>-0.046446</td>\n",
              "      <td>0.551821</td>\n",
              "    </tr>\n",
              "    <tr>\n",
              "      <th>Fireplaces</th>\n",
              "      <td>0.229243</td>\n",
              "      <td>0.263061</td>\n",
              "      <td>0.229365</td>\n",
              "      <td>0.245323</td>\n",
              "      <td>0.035643</td>\n",
              "      <td>0.033157</td>\n",
              "      <td>0.328103</td>\n",
              "      <td>0.401929</td>\n",
              "      <td>0.188514</td>\n",
              "      <td>0.001746</td>\n",
              "      <td>0.458109</td>\n",
              "      <td>0.133045</td>\n",
              "      <td>0.026147</td>\n",
              "      <td>0.238053</td>\n",
              "      <td>0.191549</td>\n",
              "      <td>0.117012</td>\n",
              "      <td>-0.092535</td>\n",
              "      <td>0.332325</td>\n",
              "      <td>1.000000</td>\n",
              "      <td>0.245895</td>\n",
              "      <td>0.203763</td>\n",
              "      <td>0.183778</td>\n",
              "      <td>0.171643</td>\n",
              "      <td>-0.021637</td>\n",
              "      <td>0.002661</td>\n",
              "      <td>0.177515</td>\n",
              "      <td>0.095253</td>\n",
              "      <td>0.005279</td>\n",
              "      <td>0.055795</td>\n",
              "      <td>-0.018577</td>\n",
              "      <td>0.445434</td>\n",
              "    </tr>\n",
              "    <tr>\n",
              "      <th>GarageCars</th>\n",
              "      <td>0.268579</td>\n",
              "      <td>0.138228</td>\n",
              "      <td>0.363916</td>\n",
              "      <td>0.197559</td>\n",
              "      <td>-0.080264</td>\n",
              "      <td>0.242278</td>\n",
              "      <td>0.453427</td>\n",
              "      <td>0.440237</td>\n",
              "      <td>0.187208</td>\n",
              "      <td>-0.017605</td>\n",
              "      <td>0.483943</td>\n",
              "      <td>0.131403</td>\n",
              "      <td>-0.041899</td>\n",
              "      <td>0.512502</td>\n",
              "      <td>0.197136</td>\n",
              "      <td>0.119537</td>\n",
              "      <td>0.048208</td>\n",
              "      <td>0.404416</td>\n",
              "      <td>0.245895</td>\n",
              "      <td>1.000000</td>\n",
              "      <td>0.832166</td>\n",
              "      <td>0.208674</td>\n",
              "      <td>0.242805</td>\n",
              "      <td>-0.147945</td>\n",
              "      <td>0.030462</td>\n",
              "      <td>0.015757</td>\n",
              "      <td>0.013961</td>\n",
              "      <td>-0.048290</td>\n",
              "      <td>0.032796</td>\n",
              "      <td>-0.037593</td>\n",
              "      <td>0.640154</td>\n",
              "    </tr>\n",
              "    <tr>\n",
              "      <th>GarageArea</th>\n",
              "      <td>0.332627</td>\n",
              "      <td>0.168630</td>\n",
              "      <td>0.367237</td>\n",
              "      <td>0.284095</td>\n",
              "      <td>-0.053411</td>\n",
              "      <td>0.195401</td>\n",
              "      <td>0.511475</td>\n",
              "      <td>0.500071</td>\n",
              "      <td>0.124564</td>\n",
              "      <td>0.013996</td>\n",
              "      <td>0.477868</td>\n",
              "      <td>0.186558</td>\n",
              "      <td>-0.044979</td>\n",
              "      <td>0.424693</td>\n",
              "      <td>0.126283</td>\n",
              "      <td>0.089036</td>\n",
              "      <td>0.035487</td>\n",
              "      <td>0.368435</td>\n",
              "      <td>0.203763</td>\n",
              "      <td>0.832166</td>\n",
              "      <td>1.000000</td>\n",
              "      <td>0.204033</td>\n",
              "      <td>0.269498</td>\n",
              "      <td>-0.111119</td>\n",
              "      <td>0.029688</td>\n",
              "      <td>0.018501</td>\n",
              "      <td>0.062077</td>\n",
              "      <td>-0.028575</td>\n",
              "      <td>0.016794</td>\n",
              "      <td>-0.022030</td>\n",
              "      <td>0.607535</td>\n",
              "    </tr>\n",
              "    <tr>\n",
              "      <th>WoodDeckSF</th>\n",
              "      <td>0.069627</td>\n",
              "      <td>0.167822</td>\n",
              "      <td>0.149182</td>\n",
              "      <td>0.187178</td>\n",
              "      <td>0.061206</td>\n",
              "      <td>-0.020711</td>\n",
              "      <td>0.214364</td>\n",
              "      <td>0.233200</td>\n",
              "      <td>0.081291</td>\n",
              "      <td>-0.008740</td>\n",
              "      <td>0.241277</td>\n",
              "      <td>0.161982</td>\n",
              "      <td>0.039305</td>\n",
              "      <td>0.189532</td>\n",
              "      <td>0.084871</td>\n",
              "      <td>0.049546</td>\n",
              "      <td>-0.073631</td>\n",
              "      <td>0.166052</td>\n",
              "      <td>0.183778</td>\n",
              "      <td>0.208674</td>\n",
              "      <td>0.204033</td>\n",
              "      <td>1.000000</td>\n",
              "      <td>0.058267</td>\n",
              "      <td>-0.131101</td>\n",
              "      <td>-0.039635</td>\n",
              "      <td>-0.087830</td>\n",
              "      <td>0.072454</td>\n",
              "      <td>-0.009821</td>\n",
              "      <td>0.031197</td>\n",
              "      <td>0.021833</td>\n",
              "      <td>0.305983</td>\n",
              "    </tr>\n",
              "    <tr>\n",
              "      <th>OpenPorchSF</th>\n",
              "      <td>0.143877</td>\n",
              "      <td>0.084942</td>\n",
              "      <td>0.129015</td>\n",
              "      <td>0.107561</td>\n",
              "      <td>0.004211</td>\n",
              "      <td>0.122171</td>\n",
              "      <td>0.255939</td>\n",
              "      <td>0.226615</td>\n",
              "      <td>0.202791</td>\n",
              "      <td>0.018326</td>\n",
              "      <td>0.341273</td>\n",
              "      <td>0.072805</td>\n",
              "      <td>-0.034818</td>\n",
              "      <td>0.284951</td>\n",
              "      <td>0.202363</td>\n",
              "      <td>0.093330</td>\n",
              "      <td>-0.037356</td>\n",
              "      <td>0.249396</td>\n",
              "      <td>0.171643</td>\n",
              "      <td>0.242805</td>\n",
              "      <td>0.269498</td>\n",
              "      <td>0.058267</td>\n",
              "      <td>1.000000</td>\n",
              "      <td>-0.103769</td>\n",
              "      <td>-0.005128</td>\n",
              "      <td>0.074080</td>\n",
              "      <td>0.063123</td>\n",
              "      <td>-0.015168</td>\n",
              "      <td>0.060913</td>\n",
              "      <td>-0.062848</td>\n",
              "      <td>0.322786</td>\n",
              "    </tr>\n",
              "    <tr>\n",
              "      <th>EnclosedPorch</th>\n",
              "      <td>0.015044</td>\n",
              "      <td>-0.017968</td>\n",
              "      <td>-0.112225</td>\n",
              "      <td>-0.105669</td>\n",
              "      <td>0.045668</td>\n",
              "      <td>-0.003372</td>\n",
              "      <td>-0.104484</td>\n",
              "      <td>-0.056003</td>\n",
              "      <td>0.059654</td>\n",
              "      <td>0.050081</td>\n",
              "      <td>0.012779</td>\n",
              "      <td>-0.046772</td>\n",
              "      <td>-0.003071</td>\n",
              "      <td>-0.130885</td>\n",
              "      <td>-0.087242</td>\n",
              "      <td>0.043569</td>\n",
              "      <td>0.037537</td>\n",
              "      <td>-0.003321</td>\n",
              "      <td>-0.021637</td>\n",
              "      <td>-0.147945</td>\n",
              "      <td>-0.111119</td>\n",
              "      <td>-0.131101</td>\n",
              "      <td>-0.103769</td>\n",
              "      <td>1.000000</td>\n",
              "      <td>-0.036712</td>\n",
              "      <td>-0.084031</td>\n",
              "      <td>0.057704</td>\n",
              "      <td>0.023827</td>\n",
              "      <td>-0.022169</td>\n",
              "      <td>-0.006165</td>\n",
              "      <td>-0.127385</td>\n",
              "    </tr>\n",
              "    <tr>\n",
              "      <th>3SsnPorch</th>\n",
              "      <td>0.064472</td>\n",
              "      <td>0.019326</td>\n",
              "      <td>0.015221</td>\n",
              "      <td>0.026811</td>\n",
              "      <td>-0.031475</td>\n",
              "      <td>0.023701</td>\n",
              "      <td>0.043142</td>\n",
              "      <td>0.053159</td>\n",
              "      <td>-0.024786</td>\n",
              "      <td>-0.000059</td>\n",
              "      <td>0.018512</td>\n",
              "      <td>0.000482</td>\n",
              "      <td>0.036301</td>\n",
              "      <td>0.039987</td>\n",
              "      <td>-0.006568</td>\n",
              "      <td>-0.027718</td>\n",
              "      <td>-0.020318</td>\n",
              "      <td>-0.011026</td>\n",
              "      <td>0.002661</td>\n",
              "      <td>0.030462</td>\n",
              "      <td>0.029688</td>\n",
              "      <td>-0.039635</td>\n",
              "      <td>-0.005128</td>\n",
              "      <td>-0.036712</td>\n",
              "      <td>1.000000</td>\n",
              "      <td>-0.033613</td>\n",
              "      <td>-0.008518</td>\n",
              "      <td>0.000877</td>\n",
              "      <td>0.031341</td>\n",
              "      <td>0.023326</td>\n",
              "      <td>0.042159</td>\n",
              "    </tr>\n",
              "    <tr>\n",
              "      <th>ScreenPorch</th>\n",
              "      <td>0.031836</td>\n",
              "      <td>0.038489</td>\n",
              "      <td>0.052474</td>\n",
              "      <td>0.051906</td>\n",
              "      <td>0.085865</td>\n",
              "      <td>-0.023065</td>\n",
              "      <td>0.068886</td>\n",
              "      <td>0.083054</td>\n",
              "      <td>0.035664</td>\n",
              "      <td>0.044837</td>\n",
              "      <td>0.095358</td>\n",
              "      <td>0.017069</td>\n",
              "      <td>0.029737</td>\n",
              "      <td>-0.013938</td>\n",
              "      <td>0.064498</td>\n",
              "      <td>0.049395</td>\n",
              "      <td>-0.041180</td>\n",
              "      <td>0.058056</td>\n",
              "      <td>0.177515</td>\n",
              "      <td>0.015757</td>\n",
              "      <td>0.018501</td>\n",
              "      <td>-0.087830</td>\n",
              "      <td>0.074080</td>\n",
              "      <td>-0.084031</td>\n",
              "      <td>-0.033613</td>\n",
              "      <td>1.000000</td>\n",
              "      <td>0.049792</td>\n",
              "      <td>0.033007</td>\n",
              "      <td>0.023331</td>\n",
              "      <td>0.013332</td>\n",
              "      <td>0.096624</td>\n",
              "    </tr>\n",
              "    <tr>\n",
              "      <th>PoolArea</th>\n",
              "      <td>0.185926</td>\n",
              "      <td>0.077050</td>\n",
              "      <td>0.009334</td>\n",
              "      <td>0.142708</td>\n",
              "      <td>0.041148</td>\n",
              "      <td>-0.039315</td>\n",
              "      <td>0.135654</td>\n",
              "      <td>0.134879</td>\n",
              "      <td>0.082753</td>\n",
              "      <td>0.080425</td>\n",
              "      <td>0.176463</td>\n",
              "      <td>0.069236</td>\n",
              "      <td>0.019777</td>\n",
              "      <td>0.050780</td>\n",
              "      <td>0.020482</td>\n",
              "      <td>0.077751</td>\n",
              "      <td>-0.012286</td>\n",
              "      <td>0.088279</td>\n",
              "      <td>0.095253</td>\n",
              "      <td>0.013961</td>\n",
              "      <td>0.062077</td>\n",
              "      <td>0.072454</td>\n",
              "      <td>0.063123</td>\n",
              "      <td>0.057704</td>\n",
              "      <td>-0.008518</td>\n",
              "      <td>0.049792</td>\n",
              "      <td>1.000000</td>\n",
              "      <td>0.030350</td>\n",
              "      <td>-0.035568</td>\n",
              "      <td>-0.061701</td>\n",
              "      <td>0.091881</td>\n",
              "    </tr>\n",
              "    <tr>\n",
              "      <th>MiscVal</th>\n",
              "      <td>-0.000804</td>\n",
              "      <td>0.040824</td>\n",
              "      <td>-0.028975</td>\n",
              "      <td>0.007869</td>\n",
              "      <td>0.006246</td>\n",
              "      <td>-0.018566</td>\n",
              "      <td>-0.008679</td>\n",
              "      <td>-0.014226</td>\n",
              "      <td>0.013755</td>\n",
              "      <td>-0.000178</td>\n",
              "      <td>0.001054</td>\n",
              "      <td>-0.020704</td>\n",
              "      <td>-0.006685</td>\n",
              "      <td>-0.018492</td>\n",
              "      <td>0.003618</td>\n",
              "      <td>0.008296</td>\n",
              "      <td>0.060528</td>\n",
              "      <td>0.026111</td>\n",
              "      <td>0.005279</td>\n",
              "      <td>-0.048290</td>\n",
              "      <td>-0.028575</td>\n",
              "      <td>-0.009821</td>\n",
              "      <td>-0.015168</td>\n",
              "      <td>0.023827</td>\n",
              "      <td>0.000877</td>\n",
              "      <td>0.033007</td>\n",
              "      <td>0.030350</td>\n",
              "      <td>1.000000</td>\n",
              "      <td>-0.008498</td>\n",
              "      <td>-0.002566</td>\n",
              "      <td>-0.016990</td>\n",
              "    </tr>\n",
              "    <tr>\n",
              "      <th>MoSold</th>\n",
              "      <td>0.013529</td>\n",
              "      <td>0.000118</td>\n",
              "      <td>-0.013461</td>\n",
              "      <td>-0.021242</td>\n",
              "      <td>-0.022039</td>\n",
              "      <td>0.031202</td>\n",
              "      <td>0.000787</td>\n",
              "      <td>0.024109</td>\n",
              "      <td>0.042201</td>\n",
              "      <td>-0.027212</td>\n",
              "      <td>0.051474</td>\n",
              "      <td>-0.022993</td>\n",
              "      <td>0.026507</td>\n",
              "      <td>0.058436</td>\n",
              "      <td>-0.010915</td>\n",
              "      <td>0.049966</td>\n",
              "      <td>0.036045</td>\n",
              "      <td>0.041562</td>\n",
              "      <td>0.055795</td>\n",
              "      <td>0.032796</td>\n",
              "      <td>0.016794</td>\n",
              "      <td>0.031197</td>\n",
              "      <td>0.060913</td>\n",
              "      <td>-0.022169</td>\n",
              "      <td>0.031341</td>\n",
              "      <td>0.023331</td>\n",
              "      <td>-0.035568</td>\n",
              "      <td>-0.008498</td>\n",
              "      <td>1.000000</td>\n",
              "      <td>-0.144862</td>\n",
              "      <td>0.041310</td>\n",
              "    </tr>\n",
              "    <tr>\n",
              "      <th>YrSold</th>\n",
              "      <td>0.011716</td>\n",
              "      <td>-0.012066</td>\n",
              "      <td>-0.001521</td>\n",
              "      <td>0.023958</td>\n",
              "      <td>0.032855</td>\n",
              "      <td>-0.039076</td>\n",
              "      <td>-0.001823</td>\n",
              "      <td>-0.011258</td>\n",
              "      <td>-0.034826</td>\n",
              "      <td>-0.020533</td>\n",
              "      <td>-0.039424</td>\n",
              "      <td>0.072016</td>\n",
              "      <td>-0.042466</td>\n",
              "      <td>-0.025019</td>\n",
              "      <td>-0.011440</td>\n",
              "      <td>-0.046440</td>\n",
              "      <td>0.005704</td>\n",
              "      <td>-0.046446</td>\n",
              "      <td>-0.018577</td>\n",
              "      <td>-0.037593</td>\n",
              "      <td>-0.022030</td>\n",
              "      <td>0.021833</td>\n",
              "      <td>-0.062848</td>\n",
              "      <td>-0.006165</td>\n",
              "      <td>0.023326</td>\n",
              "      <td>0.013332</td>\n",
              "      <td>-0.061701</td>\n",
              "      <td>-0.002566</td>\n",
              "      <td>-0.144862</td>\n",
              "      <td>1.000000</td>\n",
              "      <td>-0.020451</td>\n",
              "    </tr>\n",
              "    <tr>\n",
              "      <th>SalePrice</th>\n",
              "      <td>0.327832</td>\n",
              "      <td>0.254757</td>\n",
              "      <td>0.465811</td>\n",
              "      <td>0.359677</td>\n",
              "      <td>-0.031226</td>\n",
              "      <td>0.191689</td>\n",
              "      <td>0.602042</td>\n",
              "      <td>0.604714</td>\n",
              "      <td>0.311354</td>\n",
              "      <td>-0.009992</td>\n",
              "      <td>0.711706</td>\n",
              "      <td>0.209695</td>\n",
              "      <td>-0.030175</td>\n",
              "      <td>0.569313</td>\n",
              "      <td>0.258175</td>\n",
              "      <td>0.169266</td>\n",
              "      <td>-0.111408</td>\n",
              "      <td>0.551821</td>\n",
              "      <td>0.445434</td>\n",
              "      <td>0.640154</td>\n",
              "      <td>0.607535</td>\n",
              "      <td>0.305983</td>\n",
              "      <td>0.322786</td>\n",
              "      <td>-0.127385</td>\n",
              "      <td>0.042159</td>\n",
              "      <td>0.096624</td>\n",
              "      <td>0.091881</td>\n",
              "      <td>-0.016990</td>\n",
              "      <td>0.041310</td>\n",
              "      <td>-0.020451</td>\n",
              "      <td>1.000000</td>\n",
              "    </tr>\n",
              "  </tbody>\n",
              "</table>\n",
              "</div>"
            ],
            "text/plain": [
              "               LotFrontage   LotArea  MasVnrArea  BsmtFinSF1  BsmtFinSF2  \\\n",
              "LotFrontage       1.000000  0.299959    0.176172    0.220481    0.039959   \n",
              "LotArea           0.299959  1.000000    0.096727    0.210148    0.110493   \n",
              "MasVnrArea        0.176172  0.096727    1.000000    0.253015   -0.083303   \n",
              "BsmtFinSF1        0.220481  0.210148    0.253015    1.000000   -0.064855   \n",
              "BsmtFinSF2        0.039959  0.110493   -0.083303   -0.064855    1.000000   \n",
              "BsmtUnfSF         0.103494 -0.014589    0.104662   -0.552809   -0.233449   \n",
              "TotalBsmtSF       0.378071  0.267188    0.365629    0.505000    0.083184   \n",
              "1stFlrSF          0.410505  0.288502    0.341001    0.450366    0.094065   \n",
              "2ndFlrSF          0.067563  0.047773    0.169730   -0.151876   -0.109254   \n",
              "LowQualFinSF      0.010355  0.009729   -0.061707   -0.051909    0.007072   \n",
              "GrLivArea         0.362847  0.255445    0.392006    0.201974   -0.021993   \n",
              "BsmtFullBath      0.103010  0.160687    0.078875    0.638094    0.154980   \n",
              "BsmtHalfBath     -0.000868  0.046420    0.015804    0.057227    0.072813   \n",
              "FullBath          0.172437  0.115727    0.272271    0.045094   -0.090448   \n",
              "HalfBath          0.038260  0.006052    0.193268   -0.025251   -0.038494   \n",
              "BedroomAbvGr      0.246402  0.120369    0.108829   -0.119100   -0.008179   \n",
              "KitchenAbvGr      0.007739 -0.012611   -0.007299   -0.035623   -0.028278   \n",
              "TotRmsAbvGrd      0.320922  0.185654    0.289758    0.046284   -0.042207   \n",
              "Fireplaces        0.229243  0.263061    0.229365    0.245323    0.035643   \n",
              "GarageCars        0.268579  0.138228    0.363916    0.197559   -0.080264   \n",
              "GarageArea        0.332627  0.168630    0.367237    0.284095   -0.053411   \n",
              "WoodDeckSF        0.069627  0.167822    0.149182    0.187178    0.061206   \n",
              "OpenPorchSF       0.143877  0.084942    0.129015    0.107561    0.004211   \n",
              "EnclosedPorch     0.015044 -0.017968   -0.112225   -0.105669    0.045668   \n",
              "3SsnPorch         0.064472  0.019326    0.015221    0.026811   -0.031475   \n",
              "ScreenPorch       0.031836  0.038489    0.052474    0.051906    0.085865   \n",
              "PoolArea          0.185926  0.077050    0.009334    0.142708    0.041148   \n",
              "MiscVal          -0.000804  0.040824   -0.028975    0.007869    0.006246   \n",
              "MoSold            0.013529  0.000118   -0.013461   -0.021242   -0.022039   \n",
              "YrSold            0.011716 -0.012066   -0.001521    0.023958    0.032855   \n",
              "SalePrice         0.327832  0.254757    0.465811    0.359677   -0.031226   \n",
              "\n",
              "               BsmtUnfSF  TotalBsmtSF  1stFlrSF  2ndFlrSF  LowQualFinSF  \\\n",
              "LotFrontage     0.103494     0.378071  0.410505  0.067563      0.010355   \n",
              "LotArea        -0.014589     0.267188  0.288502  0.047773      0.009729   \n",
              "MasVnrArea      0.104662     0.365629  0.341001  0.169730     -0.061707   \n",
              "BsmtFinSF1     -0.552809     0.505000  0.450366 -0.151876     -0.051909   \n",
              "BsmtFinSF2     -0.233449     0.083184  0.094065 -0.109254      0.007072   \n",
              "BsmtUnfSF       1.000000     0.363767  0.318097 -0.016117     -0.002384   \n",
              "TotalBsmtSF     0.363767     1.000000  0.893110 -0.234070     -0.058411   \n",
              "1stFlrSF        0.318097     0.893110  1.000000 -0.220279     -0.019860   \n",
              "2ndFlrSF       -0.016117    -0.234070 -0.220279  1.000000      0.044504   \n",
              "LowQualFinSF   -0.002384    -0.058411 -0.019860  0.044504      1.000000   \n",
              "GrLivArea       0.222438     0.460778  0.554846  0.685710      0.101100   \n",
              "BsmtFullBath   -0.463986     0.282031  0.251597 -0.184112     -0.029155   \n",
              "BsmtHalfBath   -0.105359    -0.019716 -0.000064 -0.023955      0.003802   \n",
              "FullBath        0.305802     0.345685  0.367498  0.419523     -0.023550   \n",
              "HalfBath       -0.074157    -0.124788 -0.146494  0.619450      0.000924   \n",
              "BedroomAbvGr    0.154935     0.029989  0.100643  0.509216      0.059138   \n",
              "KitchenAbvGr    0.081795     0.036844  0.059242  0.068464     -0.017759   \n",
              "TotRmsAbvGrd    0.242020     0.297609  0.393786  0.619275      0.092241   \n",
              "Fireplaces      0.033157     0.328103  0.401929  0.188514      0.001746   \n",
              "GarageCars      0.242278     0.453427  0.440237  0.187208     -0.017605   \n",
              "GarageArea      0.195401     0.511475  0.500071  0.124564      0.013996   \n",
              "WoodDeckSF     -0.020711     0.214364  0.233200  0.081291     -0.008740   \n",
              "OpenPorchSF     0.122171     0.255939  0.226615  0.202791      0.018326   \n",
              "EnclosedPorch  -0.003372    -0.104484 -0.056003  0.059654      0.050081   \n",
              "3SsnPorch       0.023701     0.043142  0.053159 -0.024786     -0.000059   \n",
              "ScreenPorch    -0.023065     0.068886  0.083054  0.035664      0.044837   \n",
              "PoolArea       -0.039315     0.135654  0.134879  0.082753      0.080425   \n",
              "MiscVal        -0.018566    -0.008679 -0.014226  0.013755     -0.000178   \n",
              "MoSold          0.031202     0.000787  0.024109  0.042201     -0.027212   \n",
              "YrSold         -0.039076    -0.001823 -0.011258 -0.034826     -0.020533   \n",
              "SalePrice       0.191689     0.602042  0.604714  0.311354     -0.009992   \n",
              "\n",
              "               GrLivArea  BsmtFullBath  BsmtHalfBath  FullBath  HalfBath  \\\n",
              "LotFrontage     0.362847      0.103010     -0.000868  0.172437  0.038260   \n",
              "LotArea         0.255445      0.160687      0.046420  0.115727  0.006052   \n",
              "MasVnrArea      0.392006      0.078875      0.015804  0.272271  0.193268   \n",
              "BsmtFinSF1      0.201974      0.638094      0.057227  0.045094 -0.025251   \n",
              "BsmtFinSF2     -0.021993      0.154980      0.072813 -0.090448 -0.038494   \n",
              "BsmtUnfSF       0.222438     -0.463986     -0.105359  0.305802 -0.074157   \n",
              "TotalBsmtSF     0.460778      0.282031     -0.019716  0.345685 -0.124788   \n",
              "1stFlrSF        0.554846      0.251597     -0.000064  0.367498 -0.146494   \n",
              "2ndFlrSF        0.685710     -0.184112     -0.023955  0.419523  0.619450   \n",
              "LowQualFinSF    0.101100     -0.029155      0.003802 -0.023550  0.000924   \n",
              "GrLivArea       1.000000      0.028857     -0.020012  0.625953  0.415221   \n",
              "BsmtFullBath    0.028857      1.000000     -0.159263 -0.084267 -0.058884   \n",
              "BsmtHalfBath   -0.020012     -0.159263      1.000000 -0.065641 -0.016143   \n",
              "FullBath        0.625953     -0.084267     -0.065641  1.000000  0.134953   \n",
              "HalfBath        0.415221     -0.058884     -0.016143  0.134953  1.000000   \n",
              "BedroomAbvGr    0.510088     -0.161723      0.047645  0.355542  0.248138   \n",
              "KitchenAbvGr    0.100521     -0.012858      0.010247  0.078037 -0.060406   \n",
              "TotRmsAbvGrd    0.823491     -0.052065     -0.016705  0.547592  0.357991   \n",
              "Fireplaces      0.458109      0.133045      0.026147  0.238053  0.191549   \n",
              "GarageCars      0.483943      0.131403     -0.041899  0.512502  0.197136   \n",
              "GarageArea      0.477868      0.186558     -0.044979  0.424693  0.126283   \n",
              "WoodDeckSF      0.241277      0.161982      0.039305  0.189532  0.084871   \n",
              "OpenPorchSF     0.341273      0.072805     -0.034818  0.284951  0.202363   \n",
              "EnclosedPorch   0.012779     -0.046772     -0.003071 -0.130885 -0.087242   \n",
              "3SsnPorch       0.018512      0.000482      0.036301  0.039987 -0.006568   \n",
              "ScreenPorch     0.095358      0.017069      0.029737 -0.013938  0.064498   \n",
              "PoolArea        0.176463      0.069236      0.019777  0.050780  0.020482   \n",
              "MiscVal         0.001054     -0.020704     -0.006685 -0.018492  0.003618   \n",
              "MoSold          0.051474     -0.022993      0.026507  0.058436 -0.010915   \n",
              "YrSold         -0.039424      0.072016     -0.042466 -0.025019 -0.011440   \n",
              "SalePrice       0.711706      0.209695     -0.030175  0.569313  0.258175   \n",
              "\n",
              "               BedroomAbvGr  KitchenAbvGr  TotRmsAbvGrd  Fireplaces  \\\n",
              "LotFrontage        0.246402      0.007739      0.320922    0.229243   \n",
              "LotArea            0.120369     -0.012611      0.185654    0.263061   \n",
              "MasVnrArea         0.108829     -0.007299      0.289758    0.229365   \n",
              "BsmtFinSF1        -0.119100     -0.035623      0.046284    0.245323   \n",
              "BsmtFinSF2        -0.008179     -0.028278     -0.042207    0.035643   \n",
              "BsmtUnfSF          0.154935      0.081795      0.242020    0.033157   \n",
              "TotalBsmtSF        0.029989      0.036844      0.297609    0.328103   \n",
              "1stFlrSF           0.100643      0.059242      0.393786    0.401929   \n",
              "2ndFlrSF           0.509216      0.068464      0.619275    0.188514   \n",
              "LowQualFinSF       0.059138     -0.017759      0.092241    0.001746   \n",
              "GrLivArea          0.510088      0.100521      0.823491    0.458109   \n",
              "BsmtFullBath      -0.161723     -0.012858     -0.052065    0.133045   \n",
              "BsmtHalfBath       0.047645      0.010247     -0.016705    0.026147   \n",
              "FullBath           0.355542      0.078037      0.547592    0.238053   \n",
              "HalfBath           0.248138     -0.060406      0.357991    0.191549   \n",
              "BedroomAbvGr       1.000000      0.173151      0.658923    0.117012   \n",
              "KitchenAbvGr       0.173151      1.000000      0.234984   -0.092535   \n",
              "TotRmsAbvGrd       0.658923      0.234984      1.000000    0.332325   \n",
              "Fireplaces         0.117012     -0.092535      0.332325    1.000000   \n",
              "GarageCars         0.119537      0.048208      0.404416    0.245895   \n",
              "GarageArea         0.089036      0.035487      0.368435    0.203763   \n",
              "WoodDeckSF         0.049546     -0.073631      0.166052    0.183778   \n",
              "OpenPorchSF        0.093330     -0.037356      0.249396    0.171643   \n",
              "EnclosedPorch      0.043569      0.037537     -0.003321   -0.021637   \n",
              "3SsnPorch         -0.027718     -0.020318     -0.011026    0.002661   \n",
              "ScreenPorch        0.049395     -0.041180      0.058056    0.177515   \n",
              "PoolArea           0.077751     -0.012286      0.088279    0.095253   \n",
              "MiscVal            0.008296      0.060528      0.026111    0.005279   \n",
              "MoSold             0.049966      0.036045      0.041562    0.055795   \n",
              "YrSold            -0.046440      0.005704     -0.046446   -0.018577   \n",
              "SalePrice          0.169266     -0.111408      0.551821    0.445434   \n",
              "\n",
              "               GarageCars  GarageArea  WoodDeckSF  OpenPorchSF  EnclosedPorch  \\\n",
              "LotFrontage      0.268579    0.332627    0.069627     0.143877       0.015044   \n",
              "LotArea          0.138228    0.168630    0.167822     0.084942      -0.017968   \n",
              "MasVnrArea       0.363916    0.367237    0.149182     0.129015      -0.112225   \n",
              "BsmtFinSF1       0.197559    0.284095    0.187178     0.107561      -0.105669   \n",
              "BsmtFinSF2      -0.080264   -0.053411    0.061206     0.004211       0.045668   \n",
              "BsmtUnfSF        0.242278    0.195401   -0.020711     0.122171      -0.003372   \n",
              "TotalBsmtSF      0.453427    0.511475    0.214364     0.255939      -0.104484   \n",
              "1stFlrSF         0.440237    0.500071    0.233200     0.226615      -0.056003   \n",
              "2ndFlrSF         0.187208    0.124564    0.081291     0.202791       0.059654   \n",
              "LowQualFinSF    -0.017605    0.013996   -0.008740     0.018326       0.050081   \n",
              "GrLivArea        0.483943    0.477868    0.241277     0.341273       0.012779   \n",
              "BsmtFullBath     0.131403    0.186558    0.161982     0.072805      -0.046772   \n",
              "BsmtHalfBath    -0.041899   -0.044979    0.039305    -0.034818      -0.003071   \n",
              "FullBath         0.512502    0.424693    0.189532     0.284951      -0.130885   \n",
              "HalfBath         0.197136    0.126283    0.084871     0.202363      -0.087242   \n",
              "BedroomAbvGr     0.119537    0.089036    0.049546     0.093330       0.043569   \n",
              "KitchenAbvGr     0.048208    0.035487   -0.073631    -0.037356       0.037537   \n",
              "TotRmsAbvGrd     0.404416    0.368435    0.166052     0.249396      -0.003321   \n",
              "Fireplaces       0.245895    0.203763    0.183778     0.171643      -0.021637   \n",
              "GarageCars       1.000000    0.832166    0.208674     0.242805      -0.147945   \n",
              "GarageArea       0.832166    1.000000    0.204033     0.269498      -0.111119   \n",
              "WoodDeckSF       0.208674    0.204033    1.000000     0.058267      -0.131101   \n",
              "OpenPorchSF      0.242805    0.269498    0.058267     1.000000      -0.103769   \n",
              "EnclosedPorch   -0.147945   -0.111119   -0.131101    -0.103769       1.000000   \n",
              "3SsnPorch        0.030462    0.029688   -0.039635    -0.005128      -0.036712   \n",
              "ScreenPorch      0.015757    0.018501   -0.087830     0.074080      -0.084031   \n",
              "PoolArea         0.013961    0.062077    0.072454     0.063123       0.057704   \n",
              "MiscVal         -0.048290   -0.028575   -0.009821    -0.015168       0.023827   \n",
              "MoSold           0.032796    0.016794    0.031197     0.060913      -0.022169   \n",
              "YrSold          -0.037593   -0.022030    0.021833    -0.062848      -0.006165   \n",
              "SalePrice        0.640154    0.607535    0.305983     0.322786      -0.127385   \n",
              "\n",
              "               3SsnPorch  ScreenPorch  PoolArea   MiscVal    MoSold    YrSold  \\\n",
              "LotFrontage     0.064472     0.031836  0.185926 -0.000804  0.013529  0.011716   \n",
              "LotArea         0.019326     0.038489  0.077050  0.040824  0.000118 -0.012066   \n",
              "MasVnrArea      0.015221     0.052474  0.009334 -0.028975 -0.013461 -0.001521   \n",
              "BsmtFinSF1      0.026811     0.051906  0.142708  0.007869 -0.021242  0.023958   \n",
              "BsmtFinSF2     -0.031475     0.085865  0.041148  0.006246 -0.022039  0.032855   \n",
              "BsmtUnfSF       0.023701    -0.023065 -0.039315 -0.018566  0.031202 -0.039076   \n",
              "TotalBsmtSF     0.043142     0.068886  0.135654 -0.008679  0.000787 -0.001823   \n",
              "1stFlrSF        0.053159     0.083054  0.134879 -0.014226  0.024109 -0.011258   \n",
              "2ndFlrSF       -0.024786     0.035664  0.082753  0.013755  0.042201 -0.034826   \n",
              "LowQualFinSF   -0.000059     0.044837  0.080425 -0.000178 -0.027212 -0.020533   \n",
              "GrLivArea       0.018512     0.095358  0.176463  0.001054  0.051474 -0.039424   \n",
              "BsmtFullBath    0.000482     0.017069  0.069236 -0.020704 -0.022993  0.072016   \n",
              "BsmtHalfBath    0.036301     0.029737  0.019777 -0.006685  0.026507 -0.042466   \n",
              "FullBath        0.039987    -0.013938  0.050780 -0.018492  0.058436 -0.025019   \n",
              "HalfBath       -0.006568     0.064498  0.020482  0.003618 -0.010915 -0.011440   \n",
              "BedroomAbvGr   -0.027718     0.049395  0.077751  0.008296  0.049966 -0.046440   \n",
              "KitchenAbvGr   -0.020318    -0.041180 -0.012286  0.060528  0.036045  0.005704   \n",
              "TotRmsAbvGrd   -0.011026     0.058056  0.088279  0.026111  0.041562 -0.046446   \n",
              "Fireplaces      0.002661     0.177515  0.095253  0.005279  0.055795 -0.018577   \n",
              "GarageCars      0.030462     0.015757  0.013961 -0.048290  0.032796 -0.037593   \n",
              "GarageArea      0.029688     0.018501  0.062077 -0.028575  0.016794 -0.022030   \n",
              "WoodDeckSF     -0.039635    -0.087830  0.072454 -0.009821  0.031197  0.021833   \n",
              "OpenPorchSF    -0.005128     0.074080  0.063123 -0.015168  0.060913 -0.062848   \n",
              "EnclosedPorch  -0.036712    -0.084031  0.057704  0.023827 -0.022169 -0.006165   \n",
              "3SsnPorch       1.000000    -0.033613 -0.008518  0.000877  0.031341  0.023326   \n",
              "ScreenPorch    -0.033613     1.000000  0.049792  0.033007  0.023331  0.013332   \n",
              "PoolArea       -0.008518     0.049792  1.000000  0.030350 -0.035568 -0.061701   \n",
              "MiscVal         0.000877     0.033007  0.030350  1.000000 -0.008498 -0.002566   \n",
              "MoSold          0.031341     0.023331 -0.035568 -0.008498  1.000000 -0.144862   \n",
              "YrSold          0.023326     0.013332 -0.061701 -0.002566 -0.144862  1.000000   \n",
              "SalePrice       0.042159     0.096624  0.091881 -0.016990  0.041310 -0.020451   \n",
              "\n",
              "               SalePrice  \n",
              "LotFrontage     0.327832  \n",
              "LotArea         0.254757  \n",
              "MasVnrArea      0.465811  \n",
              "BsmtFinSF1      0.359677  \n",
              "BsmtFinSF2     -0.031226  \n",
              "BsmtUnfSF       0.191689  \n",
              "TotalBsmtSF     0.602042  \n",
              "1stFlrSF        0.604714  \n",
              "2ndFlrSF        0.311354  \n",
              "LowQualFinSF   -0.009992  \n",
              "GrLivArea       0.711706  \n",
              "BsmtFullBath    0.209695  \n",
              "BsmtHalfBath   -0.030175  \n",
              "FullBath        0.569313  \n",
              "HalfBath        0.258175  \n",
              "BedroomAbvGr    0.169266  \n",
              "KitchenAbvGr   -0.111408  \n",
              "TotRmsAbvGrd    0.551821  \n",
              "Fireplaces      0.445434  \n",
              "GarageCars      0.640154  \n",
              "GarageArea      0.607535  \n",
              "WoodDeckSF      0.305983  \n",
              "OpenPorchSF     0.322786  \n",
              "EnclosedPorch  -0.127385  \n",
              "3SsnPorch       0.042159  \n",
              "ScreenPorch     0.096624  \n",
              "PoolArea        0.091881  \n",
              "MiscVal        -0.016990  \n",
              "MoSold          0.041310  \n",
              "YrSold         -0.020451  \n",
              "SalePrice       1.000000  "
            ]
          },
          "metadata": {
            "tags": []
          },
          "execution_count": 377
        }
      ]
    },
    {
      "cell_type": "markdown",
      "metadata": {
        "id": "FcOh3GCjNcOr"
      },
      "source": [
        "**Grado de Significancia Estadisticancia**"
      ]
    },
    {
      "cell_type": "code",
      "metadata": {
        "id": "oJCxLr0YC0RV"
      },
      "source": [
        "pearson_coef,p_value=stats.pearsonr(df[\"GarageArea\"],df[\"SalePrice\"])"
      ],
      "execution_count": 378,
      "outputs": []
    },
    {
      "cell_type": "code",
      "metadata": {
        "colab": {
          "base_uri": "https://localhost:8080/",
          "height": 35
        },
        "id": "l1DhH0YlC0T1",
        "outputId": "dbf5fade-4863-4e6d-fdbe-1527113a62f1"
      },
      "source": [
        "'{:f}'.format(p_value)"
      ],
      "execution_count": 379,
      "outputs": [
        {
          "output_type": "execute_result",
          "data": {
            "application/vnd.google.colaboratory.intrinsic+json": {
              "type": "string"
            },
            "text/plain": [
              "'0.000000'"
            ]
          },
          "metadata": {
            "tags": []
          },
          "execution_count": 379
        }
      ]
    },
    {
      "cell_type": "code",
      "metadata": {
        "colab": {
          "base_uri": "https://localhost:8080/"
        },
        "id": "XOFe4ywpC0W5",
        "outputId": "f15fdf67-3547-42a4-eed9-1b4084d42b04"
      },
      "source": [
        "pearson_coef"
      ],
      "execution_count": 380,
      "outputs": [
        {
          "output_type": "execute_result",
          "data": {
            "text/plain": [
              "0.6075353838509896"
            ]
          },
          "metadata": {
            "tags": []
          },
          "execution_count": 380
        }
      ]
    },
    {
      "cell_type": "markdown",
      "metadata": {
        "id": "d5eXHFx-OjpL"
      },
      "source": [
        "**La correlacion entre el precio de venta y el area del garage, es estadisticamente Significativa**"
      ]
    },
    {
      "cell_type": "code",
      "metadata": {
        "colab": {
          "base_uri": "https://localhost:8080/",
          "height": 265
        },
        "id": "IawREoXROanH",
        "outputId": "d92d4abb-4d40-4edb-cf42-3f59baece370"
      },
      "source": [
        "plt.scatter(df[\"GarageArea\"],df[\"SalePrice\"])\n",
        "plt.show()"
      ],
      "execution_count": 381,
      "outputs": [
        {
          "output_type": "display_data",
          "data": {
            "image/png": "[encoded data removed]",
            "text/plain": [
              "<Figure size 432x288 with 1 Axes>"
            ]
          },
          "metadata": {
            "tags": [],
            "needs_background": "light"
          }
        }
      ]
    },
    {
      "cell_type": "markdown",
      "metadata": {
        "id": "UZI8IpVTPVFY"
      },
      "source": [
        "**BsmtHalfBath vs Prices**"
      ]
    },
    {
      "cell_type": "code",
      "metadata": {
        "colab": {
          "base_uri": "https://localhost:8080/"
        },
        "id": "q37phQfVPB_A",
        "outputId": "d3a40a5a-a64e-4d63-c284-869edc9e323b"
      },
      "source": [
        "pearson_coef,p_value=stats.pearsonr(df[\"BsmtHalfBath\"],df[\"SalePrice\"])\n",
        "p_value"
      ],
      "execution_count": 382,
      "outputs": [
        {
          "output_type": "execute_result",
          "data": {
            "text/plain": [
              "0.270035286659553"
            ]
          },
          "metadata": {
            "tags": []
          },
          "execution_count": 382
        }
      ]
    },
    {
      "cell_type": "markdown",
      "metadata": {
        "id": "fGe2q-oIPjH_"
      },
      "source": [
        "* No hay correlacion entre price BsmtHalfBath "
      ]
    },
    {
      "cell_type": "markdown",
      "metadata": {
        "id": "i52GzoBgP38J"
      },
      "source": [
        "## **Seleccion de Variables Importantes**"
      ]
    },
    {
      "cell_type": "markdown",
      "metadata": {
        "id": "eYbt-hhyEdhm"
      },
      "source": [
        "## **Metodo de Correlacion**"
      ]
    },
    {
      "cell_type": "markdown",
      "metadata": {
        "id": "T4penbImAaYm"
      },
      "source": [
        "**Seleccionamos Variables Numericas**"
      ]
    },
    {
      "cell_type": "code",
      "metadata": {
        "colab": {
          "base_uri": "https://localhost:8080/"
        },
        "id": "FajzkyS86yst",
        "outputId": "1e612d2f-7479-4c2b-9523-406ed9e7cae5"
      },
      "source": [
        "df.info()"
      ],
      "execution_count": 383,
      "outputs": [
        {
          "output_type": "stream",
          "text": [
            "<class 'pandas.core.frame.DataFrame'>\n",
            "Int64Index: 1338 entries, 0 to 1459\n",
            "Data columns (total 76 columns):\n",
            " #   Column         Non-Null Count  Dtype   \n",
            "---  ------         --------------  -----   \n",
            " 0   Id             1338 non-null   object  \n",
            " 1   MSSubClass     1338 non-null   category\n",
            " 2   MSZoning       1338 non-null   category\n",
            " 3   LotFrontage    1338 non-null   float64 \n",
            " 4   LotArea        1338 non-null   int64   \n",
            " 5   Street         1338 non-null   category\n",
            " 6   LotShape       1338 non-null   category\n",
            " 7   LandContour    1338 non-null   category\n",
            " 8   Utilities      1338 non-null   category\n",
            " 9   LotConfig      1338 non-null   category\n",
            " 10  LandSlope      1338 non-null   category\n",
            " 11  Neighborhood   1338 non-null   category\n",
            " 12  Condition1     1338 non-null   category\n",
            " 13  Condition2     1338 non-null   category\n",
            " 14  BldgType       1338 non-null   category\n",
            " 15  HouseStyle     1338 non-null   category\n",
            " 16  OverallQual    1338 non-null   category\n",
            " 17  OverallCond    1338 non-null   category\n",
            " 18  YearBuilt      1338 non-null   category\n",
            " 19  YearRemodAdd   1338 non-null   category\n",
            " 20  RoofStyle      1338 non-null   category\n",
            " 21  RoofMatl       1338 non-null   category\n",
            " 22  Exterior1st    1338 non-null   category\n",
            " 23  Exterior2nd    1338 non-null   category\n",
            " 24  MasVnrType     1338 non-null   category\n",
            " 25  MasVnrArea     1338 non-null   float64 \n",
            " 26  ExterQual      1338 non-null   category\n",
            " 27  ExterCond      1338 non-null   category\n",
            " 28  Foundation     1338 non-null   category\n",
            " 29  BsmtQual       1338 non-null   category\n",
            " 30  BsmtCond       1338 non-null   category\n",
            " 31  BsmtExposure   1338 non-null   category\n",
            " 32  BsmtFinType1   1338 non-null   category\n",
            " 33  BsmtFinSF1     1338 non-null   int64   \n",
            " 34  BsmtFinType2   1338 non-null   category\n",
            " 35  BsmtFinSF2     1338 non-null   int64   \n",
            " 36  BsmtUnfSF      1338 non-null   int64   \n",
            " 37  TotalBsmtSF    1338 non-null   int64   \n",
            " 38  Heating        1338 non-null   category\n",
            " 39  HeatingQC      1338 non-null   category\n",
            " 40  CentralAir     1338 non-null   category\n",
            " 41  Electrical     1338 non-null   category\n",
            " 42  1stFlrSF       1338 non-null   int64   \n",
            " 43  2ndFlrSF       1338 non-null   int64   \n",
            " 44  LowQualFinSF   1338 non-null   int64   \n",
            " 45  GrLivArea      1338 non-null   int64   \n",
            " 46  BsmtFullBath   1338 non-null   int64   \n",
            " 47  BsmtHalfBath   1338 non-null   int64   \n",
            " 48  FullBath       1338 non-null   int64   \n",
            " 49  HalfBath       1338 non-null   int64   \n",
            " 50  BedroomAbvGr   1338 non-null   int64   \n",
            " 51  KitchenAbvGr   1338 non-null   int64   \n",
            " 52  KitchenQual    1338 non-null   category\n",
            " 53  TotRmsAbvGrd   1338 non-null   int64   \n",
            " 54  Functional     1338 non-null   category\n",
            " 55  Fireplaces     1338 non-null   int64   \n",
            " 56  GarageType     1338 non-null   category\n",
            " 57  GarageYrBlt    1338 non-null   category\n",
            " 58  GarageFinish   1338 non-null   category\n",
            " 59  GarageCars     1338 non-null   int64   \n",
            " 60  GarageArea     1338 non-null   int64   \n",
            " 61  GarageQual     1338 non-null   category\n",
            " 62  GarageCond     1338 non-null   category\n",
            " 63  PavedDrive     1338 non-null   category\n",
            " 64  WoodDeckSF     1338 non-null   int64   \n",
            " 65  OpenPorchSF    1338 non-null   int64   \n",
            " 66  EnclosedPorch  1338 non-null   int64   \n",
            " 67  3SsnPorch      1338 non-null   int64   \n",
            " 68  ScreenPorch    1338 non-null   int64   \n",
            " 69  PoolArea       1338 non-null   int64   \n",
            " 70  MiscVal        1338 non-null   int64   \n",
            " 71  MoSold         1338 non-null   int64   \n",
            " 72  YrSold         1338 non-null   int64   \n",
            " 73  SaleType       1338 non-null   category\n",
            " 74  SaleCondition  1338 non-null   category\n",
            " 75  SalePrice      1338 non-null   int64   \n",
            "dtypes: category(44), float64(2), int64(29), object(1)\n",
            "memory usage: 465.7+ KB\n"
          ],
          "name": "stdout"
        }
      ]
    },
    {
      "cell_type": "markdown",
      "metadata": {
        "id": "OayXcF5KAwNf"
      },
      "source": [
        "**Eliminar Id**"
      ]
    },
    {
      "cell_type": "code",
      "metadata": {
        "id": "y2BgXZNEAqss"
      },
      "source": [
        "df1=df.drop([\"Id\"],axis=1)"
      ],
      "execution_count": 384,
      "outputs": []
    },
    {
      "cell_type": "code",
      "metadata": {
        "colab": {
          "base_uri": "https://localhost:8080/",
          "height": 131
        },
        "id": "-iMZftxEBPM7",
        "outputId": "de5b3c51-c891-477e-9669-e79c1889af29"
      },
      "source": [
        "df1.head(2)\n"
      ],
      "execution_count": 387,
      "outputs": [
        {
          "output_type": "execute_result",
          "data": {
            "text/html": [
              "<div>\n",
              "<style scoped>\n",
              "    .dataframe tbody tr th:only-of-type {\n",
              "        vertical-align: middle;\n",
              "    }\n",
              "\n",
              "    .dataframe tbody tr th {\n",
              "        vertical-align: top;\n",
              "    }\n",
              "\n",
              "    .dataframe thead th {\n",
              "        text-align: right;\n",
              "    }\n",
              "</style>\n",
              "<table border=\"1\" class=\"dataframe\">\n",
              "  <thead>\n",
              "    <tr style=\"text-align: right;\">\n",
              "      <th></th>\n",
              "      <th>MSSubClass</th>\n",
              "      <th>MSZoning</th>\n",
              "      <th>LotFrontage</th>\n",
              "      <th>LotArea</th>\n",
              "      <th>Street</th>\n",
              "      <th>LotShape</th>\n",
              "      <th>LandContour</th>\n",
              "      <th>Utilities</th>\n",
              "      <th>LotConfig</th>\n",
              "      <th>LandSlope</th>\n",
              "      <th>Neighborhood</th>\n",
              "      <th>Condition1</th>\n",
              "      <th>Condition2</th>\n",
              "      <th>BldgType</th>\n",
              "      <th>HouseStyle</th>\n",
              "      <th>OverallQual</th>\n",
              "      <th>OverallCond</th>\n",
              "      <th>YearBuilt</th>\n",
              "      <th>YearRemodAdd</th>\n",
              "      <th>RoofStyle</th>\n",
              "      <th>RoofMatl</th>\n",
              "      <th>Exterior1st</th>\n",
              "      <th>Exterior2nd</th>\n",
              "      <th>MasVnrType</th>\n",
              "      <th>MasVnrArea</th>\n",
              "      <th>ExterQual</th>\n",
              "      <th>ExterCond</th>\n",
              "      <th>Foundation</th>\n",
              "      <th>BsmtQual</th>\n",
              "      <th>BsmtCond</th>\n",
              "      <th>BsmtExposure</th>\n",
              "      <th>BsmtFinType1</th>\n",
              "      <th>BsmtFinSF1</th>\n",
              "      <th>BsmtFinType2</th>\n",
              "      <th>BsmtFinSF2</th>\n",
              "      <th>BsmtUnfSF</th>\n",
              "      <th>TotalBsmtSF</th>\n",
              "      <th>Heating</th>\n",
              "      <th>HeatingQC</th>\n",
              "      <th>CentralAir</th>\n",
              "      <th>Electrical</th>\n",
              "      <th>1stFlrSF</th>\n",
              "      <th>2ndFlrSF</th>\n",
              "      <th>LowQualFinSF</th>\n",
              "      <th>GrLivArea</th>\n",
              "      <th>BsmtFullBath</th>\n",
              "      <th>BsmtHalfBath</th>\n",
              "      <th>FullBath</th>\n",
              "      <th>HalfBath</th>\n",
              "      <th>BedroomAbvGr</th>\n",
              "      <th>KitchenAbvGr</th>\n",
              "      <th>KitchenQual</th>\n",
              "      <th>TotRmsAbvGrd</th>\n",
              "      <th>Functional</th>\n",
              "      <th>Fireplaces</th>\n",
              "      <th>GarageType</th>\n",
              "      <th>GarageYrBlt</th>\n",
              "      <th>GarageFinish</th>\n",
              "      <th>GarageCars</th>\n",
              "      <th>GarageArea</th>\n",
              "      <th>GarageQual</th>\n",
              "      <th>GarageCond</th>\n",
              "      <th>PavedDrive</th>\n",
              "      <th>WoodDeckSF</th>\n",
              "      <th>OpenPorchSF</th>\n",
              "      <th>EnclosedPorch</th>\n",
              "      <th>3SsnPorch</th>\n",
              "      <th>ScreenPorch</th>\n",
              "      <th>PoolArea</th>\n",
              "      <th>MiscVal</th>\n",
              "      <th>MoSold</th>\n",
              "      <th>YrSold</th>\n",
              "      <th>SaleType</th>\n",
              "      <th>SaleCondition</th>\n",
              "      <th>SalePrice</th>\n",
              "    </tr>\n",
              "  </thead>\n",
              "  <tbody>\n",
              "    <tr>\n",
              "      <th>0</th>\n",
              "      <td>60</td>\n",
              "      <td>RL</td>\n",
              "      <td>65.0</td>\n",
              "      <td>8450</td>\n",
              "      <td>Pave</td>\n",
              "      <td>Reg</td>\n",
              "      <td>Lvl</td>\n",
              "      <td>AllPub</td>\n",
              "      <td>Inside</td>\n",
              "      <td>Gtl</td>\n",
              "      <td>CollgCr</td>\n",
              "      <td>Norm</td>\n",
              "      <td>Norm</td>\n",
              "      <td>1Fam</td>\n",
              "      <td>2Story</td>\n",
              "      <td>7</td>\n",
              "      <td>5</td>\n",
              "      <td>2003</td>\n",
              "      <td>2003</td>\n",
              "      <td>Gable</td>\n",
              "      <td>CompShg</td>\n",
              "      <td>VinylSd</td>\n",
              "      <td>VinylSd</td>\n",
              "      <td>BrkFace</td>\n",
              "      <td>196.0</td>\n",
              "      <td>Gd</td>\n",
              "      <td>TA</td>\n",
              "      <td>PConc</td>\n",
              "      <td>Gd</td>\n",
              "      <td>TA</td>\n",
              "      <td>No</td>\n",
              "      <td>GLQ</td>\n",
              "      <td>706</td>\n",
              "      <td>Unf</td>\n",
              "      <td>0</td>\n",
              "      <td>150</td>\n",
              "      <td>856</td>\n",
              "      <td>GasA</td>\n",
              "      <td>Ex</td>\n",
              "      <td>Y</td>\n",
              "      <td>SBrkr</td>\n",
              "      <td>856</td>\n",
              "      <td>854</td>\n",
              "      <td>0</td>\n",
              "      <td>1710</td>\n",
              "      <td>1</td>\n",
              "      <td>0</td>\n",
              "      <td>2</td>\n",
              "      <td>1</td>\n",
              "      <td>3</td>\n",
              "      <td>1</td>\n",
              "      <td>Gd</td>\n",
              "      <td>8</td>\n",
              "      <td>Typ</td>\n",
              "      <td>0</td>\n",
              "      <td>Attchd</td>\n",
              "      <td>2003.0</td>\n",
              "      <td>RFn</td>\n",
              "      <td>2</td>\n",
              "      <td>548</td>\n",
              "      <td>TA</td>\n",
              "      <td>TA</td>\n",
              "      <td>Y</td>\n",
              "      <td>0</td>\n",
              "      <td>61</td>\n",
              "      <td>0</td>\n",
              "      <td>0</td>\n",
              "      <td>0</td>\n",
              "      <td>0</td>\n",
              "      <td>0</td>\n",
              "      <td>2</td>\n",
              "      <td>2008</td>\n",
              "      <td>WD</td>\n",
              "      <td>Normal</td>\n",
              "      <td>208500</td>\n",
              "    </tr>\n",
              "    <tr>\n",
              "      <th>1</th>\n",
              "      <td>20</td>\n",
              "      <td>RL</td>\n",
              "      <td>80.0</td>\n",
              "      <td>9600</td>\n",
              "      <td>Pave</td>\n",
              "      <td>Reg</td>\n",
              "      <td>Lvl</td>\n",
              "      <td>AllPub</td>\n",
              "      <td>FR2</td>\n",
              "      <td>Gtl</td>\n",
              "      <td>Veenker</td>\n",
              "      <td>Feedr</td>\n",
              "      <td>Norm</td>\n",
              "      <td>1Fam</td>\n",
              "      <td>1Story</td>\n",
              "      <td>6</td>\n",
              "      <td>8</td>\n",
              "      <td>1976</td>\n",
              "      <td>1976</td>\n",
              "      <td>Gable</td>\n",
              "      <td>CompShg</td>\n",
              "      <td>MetalSd</td>\n",
              "      <td>MetalSd</td>\n",
              "      <td>None</td>\n",
              "      <td>0.0</td>\n",
              "      <td>TA</td>\n",
              "      <td>TA</td>\n",
              "      <td>CBlock</td>\n",
              "      <td>Gd</td>\n",
              "      <td>TA</td>\n",
              "      <td>Gd</td>\n",
              "      <td>ALQ</td>\n",
              "      <td>978</td>\n",
              "      <td>Unf</td>\n",
              "      <td>0</td>\n",
              "      <td>284</td>\n",
              "      <td>1262</td>\n",
              "      <td>GasA</td>\n",
              "      <td>Ex</td>\n",
              "      <td>Y</td>\n",
              "      <td>SBrkr</td>\n",
              "      <td>1262</td>\n",
              "      <td>0</td>\n",
              "      <td>0</td>\n",
              "      <td>1262</td>\n",
              "      <td>0</td>\n",
              "      <td>1</td>\n",
              "      <td>2</td>\n",
              "      <td>0</td>\n",
              "      <td>3</td>\n",
              "      <td>1</td>\n",
              "      <td>TA</td>\n",
              "      <td>6</td>\n",
              "      <td>Typ</td>\n",
              "      <td>1</td>\n",
              "      <td>Attchd</td>\n",
              "      <td>1976.0</td>\n",
              "      <td>RFn</td>\n",
              "      <td>2</td>\n",
              "      <td>460</td>\n",
              "      <td>TA</td>\n",
              "      <td>TA</td>\n",
              "      <td>Y</td>\n",
              "      <td>298</td>\n",
              "      <td>0</td>\n",
              "      <td>0</td>\n",
              "      <td>0</td>\n",
              "      <td>0</td>\n",
              "      <td>0</td>\n",
              "      <td>0</td>\n",
              "      <td>5</td>\n",
              "      <td>2007</td>\n",
              "      <td>WD</td>\n",
              "      <td>Normal</td>\n",
              "      <td>181500</td>\n",
              "    </tr>\n",
              "  </tbody>\n",
              "</table>\n",
              "</div>"
            ],
            "text/plain": [
              "  MSSubClass MSZoning  LotFrontage  LotArea Street LotShape LandContour  \\\n",
              "0         60       RL         65.0     8450   Pave      Reg         Lvl   \n",
              "1         20       RL         80.0     9600   Pave      Reg         Lvl   \n",
              "\n",
              "  Utilities LotConfig LandSlope Neighborhood Condition1 Condition2 BldgType  \\\n",
              "0    AllPub    Inside       Gtl      CollgCr       Norm       Norm     1Fam   \n",
              "1    AllPub       FR2       Gtl      Veenker      Feedr       Norm     1Fam   \n",
              "\n",
              "  HouseStyle OverallQual OverallCond YearBuilt YearRemodAdd RoofStyle  \\\n",
              "0     2Story           7           5      2003         2003     Gable   \n",
              "1     1Story           6           8      1976         1976     Gable   \n",
              "\n",
              "  RoofMatl Exterior1st Exterior2nd MasVnrType  MasVnrArea ExterQual ExterCond  \\\n",
              "0  CompShg     VinylSd     VinylSd    BrkFace       196.0        Gd        TA   \n",
              "1  CompShg     MetalSd     MetalSd       None         0.0        TA        TA   \n",
              "\n",
              "  Foundation BsmtQual BsmtCond BsmtExposure BsmtFinType1  BsmtFinSF1  \\\n",
              "0      PConc       Gd       TA           No          GLQ         706   \n",
              "1     CBlock       Gd       TA           Gd          ALQ         978   \n",
              "\n",
              "  BsmtFinType2  BsmtFinSF2  BsmtUnfSF  TotalBsmtSF Heating HeatingQC  \\\n",
              "0          Unf           0        150          856    GasA        Ex   \n",
              "1          Unf           0        284         1262    GasA        Ex   \n",
              "\n",
              "  CentralAir Electrical  1stFlrSF  2ndFlrSF  LowQualFinSF  GrLivArea  \\\n",
              "0          Y      SBrkr       856       854             0       1710   \n",
              "1          Y      SBrkr      1262         0             0       1262   \n",
              "\n",
              "   BsmtFullBath  BsmtHalfBath  FullBath  HalfBath  BedroomAbvGr  KitchenAbvGr  \\\n",
              "0             1             0         2         1             3             1   \n",
              "1             0             1         2         0             3             1   \n",
              "\n",
              "  KitchenQual  TotRmsAbvGrd Functional  Fireplaces GarageType GarageYrBlt  \\\n",
              "0          Gd             8        Typ           0     Attchd      2003.0   \n",
              "1          TA             6        Typ           1     Attchd      1976.0   \n",
              "\n",
              "  GarageFinish  GarageCars  GarageArea GarageQual GarageCond PavedDrive  \\\n",
              "0          RFn           2         548         TA         TA          Y   \n",
              "1          RFn           2         460         TA         TA          Y   \n",
              "\n",
              "   WoodDeckSF  OpenPorchSF  EnclosedPorch  3SsnPorch  ScreenPorch  PoolArea  \\\n",
              "0           0           61              0          0            0         0   \n",
              "1         298            0              0          0            0         0   \n",
              "\n",
              "   MiscVal  MoSold  YrSold SaleType SaleCondition  SalePrice  \n",
              "0        0       2    2008       WD        Normal     208500  \n",
              "1        0       5    2007       WD        Normal     181500  "
            ]
          },
          "metadata": {
            "tags": []
          },
          "execution_count": 387
        }
      ]
    },
    {
      "cell_type": "markdown",
      "metadata": {
        "id": "R3kAWznkCQ6j"
      },
      "source": [
        "**Automatica de V numericas**"
      ]
    },
    {
      "cell_type": "code",
      "metadata": {
        "id": "gQDQmugwB1NT"
      },
      "source": [
        "Variables_Numericas=df1._get_numeric_data().columns"
      ],
      "execution_count": 389,
      "outputs": []
    },
    {
      "cell_type": "code",
      "metadata": {
        "colab": {
          "base_uri": "https://localhost:8080/"
        },
        "id": "MU0rNSaFGBPx",
        "outputId": "2c15d024-2c20-4235-a453-bced281494af"
      },
      "source": [
        "df1[\"MSSubClass\"].count()"
      ],
      "execution_count": 398,
      "outputs": [
        {
          "output_type": "execute_result",
          "data": {
            "text/plain": [
              "1338"
            ]
          },
          "metadata": {
            "tags": []
          },
          "execution_count": 398
        }
      ]
    },
    {
      "cell_type": "markdown",
      "metadata": {
        "id": "xiQwIsfuEt1U"
      },
      "source": [
        "**Funcion**"
      ]
    },
    {
      "cell_type": "code",
      "metadata": {
        "id": "DNdh5KqfERH5"
      },
      "source": [
        "def Seleccion_Numerica(df,pred=None):\n",
        "  obs=df.shape[0]\n",
        "  types=df.dtypes\n",
        "  counts=df.apply(lambda x: x.counts())\n",
        "  uniques\n",
        "\n"
      ],
      "execution_count": null,
      "outputs": []
    }
  ]
}