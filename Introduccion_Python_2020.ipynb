{
  "nbformat": 4,
  "nbformat_minor": 0,
  "metadata": {
    "colab": {
      "name": "Introduccion_Python_2020.ipynb",
      "provenance": [],
      "collapsed_sections": [],
      "authorship_tag": "ABX9TyPRCOHoCHkrBIPI1G27fuWg",
      "include_colab_link": true
    },
    "kernelspec": {
      "name": "python3",
      "display_name": "Python 3"
    }
  },
  "cells": [
    {
      "cell_type": "markdown",
      "metadata": {
        "id": "view-in-github",
        "colab_type": "text"
      },
      "source": [
        "<a href=\"https://colab.research.google.com/github/Oscar19922017/Ciencia-de-Datos/blob/master/Introduccion_Python_2020.ipynb\" target=\"_parent\"><img src=\"https://colab.research.google.com/assets/colab-badge.svg\" alt=\"Open In Colab\"/></a>"
      ]
    },
    {
      "cell_type": "markdown",
      "metadata": {
        "id": "3e78joADomMN",
        "colab_type": "text"
      },
      "source": [
        "# **Python**\n",
        "\n",
        "\"Se trata de un lenguaje de programación de alto nivel multiparadigma, ya que soporta orientación a objetos, programación imperativa y, en menor medida, programación funcional. Es un lenguaje interpretado, dinámico y multiplataforma\"\n",
        "\n",
        "Este lenguaje fue creado a principios de los noventa por Guido van Rossum en los Países Bajos.\n",
        "\n",
        "El nombre del lenguaje proviene de la afición de su creador por los humoristas británicos Monty Python.\n",
        "\n",
        "Es administrado por la Python Software Foundation. Posee una licencia de código abierto, denominada Python Software Foundation License,3​ que es compatible con la Licencia pública general de GNU a partir de la versión 2.1.1\n",
        "\n",
        "**Python para Ciencia de Datos**\n",
        "\n",
        "Según lo revelado por los resultados de una encuesta realizada por Kaggle una plataforna de científicos de datos, Python  es el más usado en cuanto a lenguaje de programación, seguido de SQL y R para el tema de ciencia de Datos\n"
      ]
    },
    {
      "cell_type": "markdown",
      "metadata": {
        "id": "w2-KocxfuS84",
        "colab_type": "text"
      },
      "source": [
        "# **Librerias para Ciencia de Datos**\n",
        "\n",
        "* **Numpy** :NumPy es una biblioteca de Python muy popular para el procesamiento de matrices y matrices multidimensionales de gran tamaño\n",
        "* **Scipy** : SciPy es una biblioteca muy popular entre los entusiastas del aprendizaje automático, ya que contiene diferentes módulos para optimización, álgebra lineal, integración y estadísticas.\n",
        "* **Scikit-learn** : Skikit-learn es una de las bibliotecas ML más populares para algoritmos ML clásicos. Está construido sobre dos bibliotecas básicas de Python, a saber, NumPy y SciPy. Scikit-learn admite la mayoría de los algoritmos de aprendizaje supervisados ​​y no supervisados.\n",
        "* **Theano** Todos sabemos que Machine Learning es básicamente matemática y estadística. Theano es una popular biblioteca de Python que se utiliza para definir, evaluar y optimizar expresiones matemáticas que involucran matrices multidimensionales de manera eficiente. Se logra optimizando la utilización de la CPU y la GPU. Se usa ampliamente para pruebas unitarias y autoverificaciones para detectar y diagnosticar diferentes tipos de errores.\n",
        "* **TensorFlow** : TensorFlow es una biblioteca de código abierto muy popular para el cómputo numérico de alto rendimiento desarrollado por el equipo de Google Brain en Google. Como su nombre lo indica, Tensorflow es un marco que implica definir y ejecutar cálculos que involucran tensores. Puede entrenar y ejecutar redes neuronales profundas que pueden usarse para desarrollar varias aplicaciones de IA\n",
        "* **Keras** : Keras es una biblioteca de Machine Learning muy popular para Python. Es una API de redes neuronales de alto nivel capaz de ejecutarse sobre TensorFlow, CNTK o Theano. Se puede ejecutar sin problemas tanto en la CPU como en la GPU. Keras hace que sea realmente para principiantes de ML construir y diseñar una red neuronal.\n",
        "* **PyTorch** : PyTorch es una biblioteca de aprendizaje automático de código abierto popular para Python basada en Torch, que es una biblioteca de aprendizaje automático de código abierto que se implementa en C con un contenedor en Lua. Tiene una amplia selección de herramientas y bibliotecas que admite la visión por computadora, el procesamiento del lenguaje natural (PNL) y muchos más programas de ML. Permite a los desarrolladores realizar cálculos en tensores con aceleración de GPU y también ayuda a crear gráficos computacionales.\n",
        "* **Pandas** : Pandas es una biblioteca de Python popular para el análisis de datos. No está directamente relacionado con el aprendizaje automático. Como sabemos, el conjunto de datos debe estar preparado antes del entrenamiento. \n",
        "* **Matplotlib** : Matpoltlib es una biblioteca Python muy popular para la visualización de datos. Al igual que Pandas, no está directamente relacionado con el aprendizaje automático. Es particularmente útil cuando un programador quiere visualizar los patrones en los datos\n"
      ]
    },
    {
      "cell_type": "markdown",
      "metadata": {
        "id": "gEnPG_8Qv7rm",
        "colab_type": "text"
      },
      "source": [
        "**Instalar Librerias**\n",
        "\n",
        "conda y pip son herramientas para manejar y desplegar aplicaciones, ambientes y paquetes.\n",
        "\n"
      ]
    },
    {
      "cell_type": "markdown",
      "metadata": {
        "id": "uov1RIttxR2A",
        "colab_type": "text"
      },
      "source": [
        "**Instalacion en el ambiente Anaconda**"
      ]
    },
    {
      "cell_type": "code",
      "metadata": {
        "id": "2sXDLqyhxt7V",
        "colab_type": "code",
        "colab": {}
      },
      "source": [
        "#Con comdando conda\n",
        "#conda install numpy\n",
        "#con comando pip\n",
        "#pip install numpy\n",
        "#Para forzar la instalacion\n",
        "#conda install -c conda-forge numpy"
      ],
      "execution_count": 0,
      "outputs": []
    },
    {
      "cell_type": "markdown",
      "metadata": {
        "id": "ulb-BxHByDJF",
        "colab_type": "text"
      },
      "source": [
        "**Instalacion en el ambiente Google Colab**"
      ]
    },
    {
      "cell_type": "code",
      "metadata": {
        "id": "dVBkHOGFyFso",
        "colab_type": "code",
        "colab": {}
      },
      "source": [
        "#!pip install -q keras "
      ],
      "execution_count": 0,
      "outputs": []
    },
    {
      "cell_type": "code",
      "metadata": {
        "id": "zTzMSlFryNnh",
        "colab_type": "code",
        "colab": {}
      },
      "source": [
        "#import keras"
      ],
      "execution_count": 0,
      "outputs": []
    },
    {
      "cell_type": "code",
      "metadata": {
        "id": "YCKpYsW_yPGw",
        "colab_type": "code",
        "colab": {}
      },
      "source": [
        ""
      ],
      "execution_count": 0,
      "outputs": []
    }
  ]
}