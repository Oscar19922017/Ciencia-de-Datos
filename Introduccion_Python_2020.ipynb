{
  "nbformat": 4,
  "nbformat_minor": 0,
  "metadata": {
    "colab": {
      "name": "Introduccion_Python_2020.ipynb",
      "provenance": [],
      "collapsed_sections": [],
      "toc_visible": true,
      "mount_file_id": "https://github.com/Oscar19922017/Ciencia-de-Datos/blob/master/Introduccion_Python_2020.ipynb",
      "authorship_tag": "ABX9TyNVgfu/SWy3bZMxgaI2qaFb",
      "include_colab_link": true
    },
    "kernelspec": {
      "name": "python3",
      "display_name": "Python 3"
    }
  },
  "cells": [
    {
      "cell_type": "markdown",
      "metadata": {
        "id": "view-in-github",
        "colab_type": "text"
      },
      "source": [
        "<a href=\"https://colab.research.google.com/github/Oscar19922017/Ciencia-de-Datos/blob/master/Introduccion_Python_2020.ipynb\" target=\"_parent\"><img src=\"https://colab.research.google.com/assets/colab-badge.svg\" alt=\"Open In Colab\"/></a>"
      ]
    },
    {
      "cell_type": "markdown",
      "metadata": {
        "id": "3e78joADomMN",
        "colab_type": "text"
      },
      "source": [
        "# **Introduccion a Python**\n",
        "**Oscar Gaspar - Maestría en Métodos Cuantitativos**\n",
        "\n",
        "\"Se trata de un lenguaje de programación de alto nivel multiparadigma, ya que soporta orientación a objetos, programación imperativa y, en menor medida, programación funcional. Es un lenguaje interpretado, dinámico y multiplataforma\"\n",
        "\n",
        "Este lenguaje fue creado a principios de los noventa por Guido van Rossum en los Países Bajos.\n",
        "\n",
        "El nombre del lenguaje proviene de la afición de su creador por los humoristas británicos Monty Python.\n",
        "\n",
        "Es administrado por la Python Software Foundation. Posee una licencia de código abierto, denominada Python Software Foundation License,3​ que es compatible con la Licencia pública general de GNU a partir de la versión 2.1.1\n",
        "\n",
        "**Python para Ciencia de Datos**\n",
        "\n",
        "Según lo revelado por los resultados de una encuesta realizada por Kaggle una plataforna de científicos de datos, Python  es el más usado en cuanto a lenguaje de programación, seguido de SQL y R para el tema de ciencia de Datos\n"
      ]
    },
    {
      "cell_type": "markdown",
      "metadata": {
        "id": "UJ-M01e53uPw",
        "colab_type": "text"
      },
      "source": [
        "# **Información básica**\n",
        "Un algoritmo es una lista de instrucciones que serán desarrolladas en un orden específico con el objetivo de resolver un problema o realizar una operación. Por ejemplo, un algoritmo para encender el carro puede ser:\n",
        "\n",
        "Abrir la puerta.\n",
        "Entrar al carro y tomar asiento.\n",
        "Insertar la llave en el switch.\n",
        "Girar la llave en sentido horario y mantenerla hasta que el carro encienda.\n",
        "Los pasos anteriormente descritos tienen un orden lógico en el que son ejecutados, y para este algoritmo en particular, si intentamos realizar alguno de ellos en desorden no obtendríamos el resultado que queremos. Antes de girar la llave debemos haberla insertado. No podemos entrar al carro sin haber abierto la puerta.\n",
        "\n",
        "Generalmente, el buen diseño de un algoritmo se basa en responder las siguientes preguntas:\n",
        "\n",
        "¿Cuál es mi objetivo?\n",
        "¿Con qué información cuento para alcanzarlo? (datos de entrada)\n",
        "¿Que información voy a obtener al alcanzar mi objetivo? (datos de salida)\n",
        "¿Qué cálculos o procesos debo realizar?\n",
        "Variables\n",
        "Un lenguaje de programación, sea cual sea, necesita poder tener acceso a y tener la capacidad de modificar información. Esto se logra por medio del uso de variables. Para utilizar una variable dentro de un programa, es necesario declararla primero.\n",
        "\n",
        "Declaración de Variables\n",
        "Para declarar una variable, primero debemos darle un nombre cualquiera a la variable utilizando letras y números sin espacios, teniendo en cuenta que las mayúsculas importan. Luego de darle un nombre a la variable, se le asigna un valor por medio del operador “=”. De esta forma, el programa puede separar un bloque de memoria para la variable y guardar en dicho bloque el valor de esta. A diferencia de otros lenguajes de programación, en Python 3 no se puede declarar una variable sin asignarle un valor.\n",
        "\n",
        "Existen varios tipos de variables, según el tipo de información con la que se desee trabajar dentro de un programa.\n",
        "\n",
        "**Explicación tomada del curso fundamentos de programación de la Universidad Nacional sede Medellín** "
      ]
    },
    {
      "cell_type": "markdown",
      "metadata": {
        "id": "w2-KocxfuS84",
        "colab_type": "text"
      },
      "source": [
        "# **Librerias para Ciencia de Datos**\n",
        "\n",
        "* **Numpy** :NumPy es una biblioteca de Python muy popular para el procesamiento de matrices y matrices multidimensionales de gran tamaño\n",
        "* **Scipy** : SciPy es una biblioteca muy popular entre los entusiastas del aprendizaje automático, ya que contiene diferentes módulos para optimización, álgebra lineal, integración y estadísticas.\n",
        "* **Scikit-learn** : Skikit-learn es una de las bibliotecas ML más populares para algoritmos ML clásicos. Está construido sobre dos bibliotecas básicas de Python, a saber, NumPy y SciPy. Scikit-learn admite la mayoría de los algoritmos de aprendizaje supervisados ​​y no supervisados.\n",
        "* **Theano** Todos sabemos que Machine Learning es básicamente matemática y estadística. Theano es una popular biblioteca de Python que se utiliza para definir, evaluar y optimizar expresiones matemáticas que involucran matrices multidimensionales de manera eficiente. Se logra optimizando la utilización de la CPU y la GPU. Se usa ampliamente para pruebas unitarias y autoverificaciones para detectar y diagnosticar diferentes tipos de errores.\n",
        "* **TensorFlow** : TensorFlow es una biblioteca de código abierto muy popular para el cómputo numérico de alto rendimiento desarrollado por el equipo de Google Brain en Google. Como su nombre lo indica, Tensorflow es un marco que implica definir y ejecutar cálculos que involucran tensores. Puede entrenar y ejecutar redes neuronales profundas que pueden usarse para desarrollar varias aplicaciones de IA\n",
        "* **Keras** : Keras es una biblioteca de Machine Learning muy popular para Python. Es una API de redes neuronales de alto nivel capaz de ejecutarse sobre TensorFlow, CNTK o Theano. Se puede ejecutar sin problemas tanto en la CPU como en la GPU. Keras hace que sea realmente para principiantes de ML construir y diseñar una red neuronal.\n",
        "* **PyTorch** : PyTorch es una biblioteca de aprendizaje automático de código abierto popular para Python basada en Torch, que es una biblioteca de aprendizaje automático de código abierto que se implementa en C con un contenedor en Lua. Tiene una amplia selección de herramientas y bibliotecas que admite la visión por computadora, el procesamiento del lenguaje natural (PNL) y muchos más programas de ML. Permite a los desarrolladores realizar cálculos en tensores con aceleración de GPU y también ayuda a crear gráficos computacionales.\n",
        "* **Pandas** : Pandas es una biblioteca de Python popular para el análisis de datos. No está directamente relacionado con el aprendizaje automático. Como sabemos, el conjunto de datos debe estar preparado antes del entrenamiento. \n",
        "* **Matplotlib** : Matpoltlib es una biblioteca Python muy popular para la visualización de datos. Al igual que Pandas, no está directamente relacionado con el aprendizaje automático. Es particularmente útil cuando un programador quiere visualizar los patrones en los datos\n"
      ]
    },
    {
      "cell_type": "markdown",
      "metadata": {
        "id": "gEnPG_8Qv7rm",
        "colab_type": "text"
      },
      "source": [
        "**Instalar Librerias**\n",
        "\n",
        "conda y pip son herramientas para manejar y desplegar aplicaciones, ambientes y paquetes.\n",
        "\n"
      ]
    },
    {
      "cell_type": "markdown",
      "metadata": {
        "id": "uov1RIttxR2A",
        "colab_type": "text"
      },
      "source": [
        "**Instalacion en el ambiente Anaconda**"
      ]
    },
    {
      "cell_type": "code",
      "metadata": {
        "id": "2sXDLqyhxt7V",
        "colab_type": "code",
        "colab": {}
      },
      "source": [
        "#Con comdando conda\n",
        "#conda install numpy\n",
        "#con comando pip\n",
        "#pip install numpy\n",
        "#Para forzar la instalacion\n",
        "#conda install -c conda-forge numpy"
      ],
      "execution_count": 0,
      "outputs": []
    },
    {
      "cell_type": "markdown",
      "metadata": {
        "id": "ulb-BxHByDJF",
        "colab_type": "text"
      },
      "source": [
        "**Instalacion en el ambiente Google Colab**"
      ]
    },
    {
      "cell_type": "code",
      "metadata": {
        "id": "dVBkHOGFyFso",
        "colab_type": "code",
        "colab": {}
      },
      "source": [
        "#!pip install -q keras "
      ],
      "execution_count": 0,
      "outputs": []
    },
    {
      "cell_type": "markdown",
      "metadata": {
        "id": "bHAhPq5-ys5y",
        "colab_type": "text"
      },
      "source": [
        "**Importar Librerias**"
      ]
    },
    {
      "cell_type": "markdown",
      "metadata": {
        "id": "9EqC8v5ky0ci",
        "colab_type": "text"
      },
      "source": [
        "**Forma Directa**"
      ]
    },
    {
      "cell_type": "code",
      "metadata": {
        "id": "XCGhbExgy2eW",
        "colab_type": "code",
        "colab": {}
      },
      "source": [
        "import sys\n",
        "import os\n",
        "import numpy\n",
        "import pandas"
      ],
      "execution_count": 0,
      "outputs": []
    },
    {
      "cell_type": "markdown",
      "metadata": {
        "id": "33OQhM1NzC1W",
        "colab_type": "text"
      },
      "source": [
        "**Dando un alias y es mas util**"
      ]
    },
    {
      "cell_type": "code",
      "metadata": {
        "id": "AZ64ikJmzF9h",
        "colab_type": "code",
        "colab": {}
      },
      "source": [
        "import numpy as np\n",
        "import pandas as pd"
      ],
      "execution_count": 0,
      "outputs": []
    },
    {
      "cell_type": "markdown",
      "metadata": {
        "id": "gzXNikcrzWg4",
        "colab_type": "text"
      },
      "source": [
        "**Importando un submodulo en vez de la Libreria**"
      ]
    },
    {
      "cell_type": "code",
      "metadata": {
        "id": "QaSzAb29zJro",
        "colab_type": "code",
        "colab": {}
      },
      "source": [
        "import matplotlib.pyplot as plt"
      ],
      "execution_count": 0,
      "outputs": []
    },
    {
      "cell_type": "markdown",
      "metadata": {
        "id": "stGvvYrPzgly",
        "colab_type": "text"
      },
      "source": [
        "**Importando Funciones de la libreria**"
      ]
    },
    {
      "cell_type": "code",
      "metadata": {
        "id": "H_XVo5T-zdIS",
        "colab_type": "code",
        "colab": {}
      },
      "source": [
        "from random import  random, uniform,gauss"
      ],
      "execution_count": 0,
      "outputs": []
    },
    {
      "cell_type": "markdown",
      "metadata": {
        "id": "ZeIDSkHt09_I",
        "colab_type": "text"
      },
      "source": [
        "# **Primeros Pasos con Python**"
      ]
    },
    {
      "cell_type": "markdown",
      "metadata": {
        "id": "EM6oE9n2pmxC",
        "colab_type": "text"
      },
      "source": [
        "**Atajos**\n",
        "\n",
        "* Nueva celda debajo : “Esc+b”\n",
        "* Nueva celda por encima : “Esc+a”\n",
        "* Borrar Celda: “Esc+D+D”\n",
        "* Comentar Region:”Crtl+/” or “Ctrl+}”\n",
        "* SHIFT + M = Combina múltiples celdas seleccionadas en una celda..\n",
        "* CTRL + SHIFT + – = Divide la celda actual en dos celdas desde donde está el cursor.\n"
      ]
    },
    {
      "cell_type": "markdown",
      "metadata": {
        "id": "lamF_EU51gUg",
        "colab_type": "text"
      },
      "source": [
        "**Calculadora**"
      ]
    },
    {
      "cell_type": "code",
      "metadata": {
        "id": "el09VLDd1EvO",
        "colab_type": "code",
        "outputId": "06302e3f-8b8d-410f-fa14-1d2419e6a334",
        "colab": {
          "base_uri": "https://localhost:8080/",
          "height": 34
        }
      },
      "source": [
        "6+4 # Suma"
      ],
      "execution_count": 0,
      "outputs": [
        {
          "output_type": "execute_result",
          "data": {
            "text/plain": [
              "10"
            ]
          },
          "metadata": {
            "tags": []
          },
          "execution_count": 35
        }
      ]
    },
    {
      "cell_type": "code",
      "metadata": {
        "id": "5HlQYPFU1jyH",
        "colab_type": "code",
        "outputId": "a59c49b4-9bbd-451b-ed8d-cd3da21443f9",
        "colab": {
          "base_uri": "https://localhost:8080/",
          "height": 34
        }
      },
      "source": [
        "9-2 # Resta"
      ],
      "execution_count": 0,
      "outputs": [
        {
          "output_type": "execute_result",
          "data": {
            "text/plain": [
              "7"
            ]
          },
          "metadata": {
            "tags": []
          },
          "execution_count": 36
        }
      ]
    },
    {
      "cell_type": "code",
      "metadata": {
        "id": "Rb0FQStC1kuv",
        "colab_type": "code",
        "outputId": "c6d78d59-6877-46d2-990c-2d311ea09b6b",
        "colab": {
          "base_uri": "https://localhost:8080/",
          "height": 34
        }
      },
      "source": [
        "8**4 # Potencia"
      ],
      "execution_count": 0,
      "outputs": [
        {
          "output_type": "execute_result",
          "data": {
            "text/plain": [
              "4096"
            ]
          },
          "metadata": {
            "tags": []
          },
          "execution_count": 37
        }
      ]
    },
    {
      "cell_type": "code",
      "metadata": {
        "id": "xKMllOY91mJ_",
        "colab_type": "code",
        "outputId": "43840383-d089-4875-a3ff-42da41827349",
        "colab": {
          "base_uri": "https://localhost:8080/",
          "height": 34
        }
      },
      "source": [
        "8/4 # Division"
      ],
      "execution_count": 0,
      "outputs": [
        {
          "output_type": "execute_result",
          "data": {
            "text/plain": [
              "2.0"
            ]
          },
          "metadata": {
            "tags": []
          },
          "execution_count": 38
        }
      ]
    },
    {
      "cell_type": "code",
      "metadata": {
        "id": "UUMlHPsZ11df",
        "colab_type": "code",
        "outputId": "2498d7f2-7283-459a-ddb2-3d06325c61fd",
        "colab": {
          "base_uri": "https://localhost:8080/",
          "height": 34
        }
      },
      "source": [
        "9*8 # Multiplicacion"
      ],
      "execution_count": 0,
      "outputs": [
        {
          "output_type": "execute_result",
          "data": {
            "text/plain": [
              "72"
            ]
          },
          "metadata": {
            "tags": []
          },
          "execution_count": 39
        }
      ]
    },
    {
      "cell_type": "code",
      "metadata": {
        "id": "MjX1LPi215cO",
        "colab_type": "code",
        "outputId": "541bf8db-dab3-468e-a53e-3db692338518",
        "colab": {
          "base_uri": "https://localhost:8080/",
          "height": 34
        }
      },
      "source": [
        "78%5 # Modulo"
      ],
      "execution_count": 0,
      "outputs": [
        {
          "output_type": "execute_result",
          "data": {
            "text/plain": [
              "3"
            ]
          },
          "metadata": {
            "tags": []
          },
          "execution_count": 40
        }
      ]
    },
    {
      "cell_type": "markdown",
      "metadata": {
        "id": "Ikdw80KFmwyj",
        "colab_type": "text"
      },
      "source": [
        "# **Variables en Pyhon**\n",
        "\n",
        "### ¿Que es una Variable?\n",
        "\n",
        "**\"En programación, una variable está formada por un espacio en el sistema de almacenaje (memoria principal de un ordenador) y un nombre simbólico (un identificador) que está asociado a dicho espacio. Ese espacio contiene una cantidad de información conocida o desconocida, es decir un valor. El nombre de la variable es la forma usual de referirse al valor almacenad\"**\n",
        "\n",
        "Tipos de Variables: Enteros, flotantes, cadenas de caracteres, boleanos, bytes, complejos\n",
        "\n",
        "**Para Asignar un valor a una Variable usamos =**"
      ]
    },
    {
      "cell_type": "markdown",
      "metadata": {
        "id": "bdpxf6BMrIpy",
        "colab_type": "text"
      },
      "source": [
        "**Enteros y Flotantes**"
      ]
    },
    {
      "cell_type": "code",
      "metadata": {
        "id": "zUHVenMirWEx",
        "colab_type": "code",
        "outputId": "e3bb25f1-691e-4088-894b-c14ad260b9e7",
        "colab": {
          "base_uri": "https://localhost:8080/",
          "height": 70
        }
      },
      "source": [
        "## Para guardar informacion Numerica Tipo Entero, en Python int\n",
        "a=1 \n",
        "b=3\n",
        "a+b \n",
        "# para mostrar el contenido de una variable usamos print\n",
        "print(a)\n",
        "print(b)\n",
        "print(a+b)"
      ],
      "execution_count": 0,
      "outputs": [
        {
          "output_type": "stream",
          "text": [
            "1\n",
            "3\n",
            "4\n"
          ],
          "name": "stdout"
        }
      ]
    },
    {
      "cell_type": "code",
      "metadata": {
        "id": "rLcT_EeswMSR",
        "colab_type": "code",
        "colab": {}
      },
      "source": [
        "## Para Formato decimal o float en python\n",
        "d= 1.145455"
      ],
      "execution_count": 0,
      "outputs": []
    },
    {
      "cell_type": "code",
      "metadata": {
        "id": "GBRSAxemw-0E",
        "colab_type": "code",
        "outputId": "47257198-e6e4-48d2-9939-93483a0aca67",
        "colab": {
          "base_uri": "https://localhost:8080/",
          "height": 52
        }
      },
      "source": [
        "## Para conocer el tipo de Variable, usamos comando type\n",
        "print(type(a))\n",
        "print(type(d))"
      ],
      "execution_count": 0,
      "outputs": [
        {
          "output_type": "stream",
          "text": [
            "<class 'int'>\n",
            "<class 'float'>\n"
          ],
          "name": "stdout"
        }
      ]
    },
    {
      "cell_type": "code",
      "metadata": {
        "id": "MBg-ycV0xVM-",
        "colab_type": "code",
        "outputId": "e6f63261-8c08-4fb8-9256-837c8890f3b6",
        "colab": {
          "base_uri": "https://localhost:8080/",
          "height": 34
        }
      },
      "source": [
        "# Para transformar un entero a flotante ( int a float)\n",
        "int(5.25)"
      ],
      "execution_count": 0,
      "outputs": [
        {
          "output_type": "execute_result",
          "data": {
            "text/plain": [
              "5"
            ]
          },
          "metadata": {
            "tags": []
          },
          "execution_count": 10
        }
      ]
    },
    {
      "cell_type": "code",
      "metadata": {
        "id": "NLSJytdJxcky",
        "colab_type": "code",
        "outputId": "cf7395f1-8c3b-4cfd-af85-153e97e21c67",
        "colab": {
          "base_uri": "https://localhost:8080/",
          "height": 34
        }
      },
      "source": [
        "# Para Transformar un float a int\n",
        "float(5)"
      ],
      "execution_count": 0,
      "outputs": [
        {
          "output_type": "execute_result",
          "data": {
            "text/plain": [
              "5.0"
            ]
          },
          "metadata": {
            "tags": []
          },
          "execution_count": 11
        }
      ]
    },
    {
      "cell_type": "markdown",
      "metadata": {
        "id": "ZH_U8kZRxqVA",
        "colab_type": "text"
      },
      "source": [
        "**Cadenas de Caracteres o strings** "
      ]
    },
    {
      "cell_type": "code",
      "metadata": {
        "id": "buYdPozvxmbS",
        "colab_type": "code",
        "outputId": "395d23de-3173-4355-c0fa-f4017e55a3c4",
        "colab": {
          "base_uri": "https://localhost:8080/",
          "height": 34
        }
      },
      "source": [
        "\"Juan\"+\"Perez\""
      ],
      "execution_count": 0,
      "outputs": [
        {
          "output_type": "execute_result",
          "data": {
            "text/plain": [
              "'JuanPerez'"
            ]
          },
          "metadata": {
            "tags": []
          },
          "execution_count": 12
        }
      ]
    },
    {
      "cell_type": "code",
      "metadata": {
        "id": "aUUkNX-Ex14q",
        "colab_type": "code",
        "outputId": "46db34b0-7b3b-452d-942b-6920626ad885",
        "colab": {
          "base_uri": "https://localhost:8080/",
          "height": 34
        }
      },
      "source": [
        "## Asignar a una Variable\n",
        "nombre = \"Juan\"+\" \"+\"Perez\"\n",
        "print(nombre)"
      ],
      "execution_count": 0,
      "outputs": [
        {
          "output_type": "stream",
          "text": [
            "Juan Perez\n"
          ],
          "name": "stdout"
        }
      ]
    },
    {
      "cell_type": "code",
      "metadata": {
        "id": "Q1KQiGiMx8qq",
        "colab_type": "code",
        "outputId": "28103434-2976-4c0e-e01b-e0d5f89617ea",
        "colab": {
          "base_uri": "https://localhost:8080/",
          "height": 34
        }
      },
      "source": [
        "## Repetir\n",
        "nombre*3"
      ],
      "execution_count": 0,
      "outputs": [
        {
          "output_type": "execute_result",
          "data": {
            "text/plain": [
              "'Juan PerezJuan PerezJuan Perez'"
            ]
          },
          "metadata": {
            "tags": []
          },
          "execution_count": 16
        }
      ]
    },
    {
      "cell_type": "code",
      "metadata": {
        "id": "yAioqMDDyH5Z",
        "colab_type": "code",
        "outputId": "354c0db9-cbc3-4b42-a92a-3c44e7e5c348",
        "colab": {
          "base_uri": "https://localhost:8080/",
          "height": 34
        }
      },
      "source": [
        "# Separar la cadena\n",
        "nombre.split(\" \")# separa por espacios"
      ],
      "execution_count": 0,
      "outputs": [
        {
          "output_type": "execute_result",
          "data": {
            "text/plain": [
              "['Juan', 'Perez']"
            ]
          },
          "metadata": {
            "tags": []
          },
          "execution_count": 18
        }
      ]
    },
    {
      "cell_type": "code",
      "metadata": {
        "id": "iR8BnYUTyWO5",
        "colab_type": "code",
        "outputId": "dfbb123e-2045-4d4b-fe7d-da2107a37f6c",
        "colab": {
          "base_uri": "https://localhost:8080/",
          "height": 34
        }
      },
      "source": [
        "# Longitud de la cadena\n",
        "len(nombre)"
      ],
      "execution_count": 0,
      "outputs": [
        {
          "output_type": "execute_result",
          "data": {
            "text/plain": [
              "10"
            ]
          },
          "metadata": {
            "tags": []
          },
          "execution_count": 19
        }
      ]
    },
    {
      "cell_type": "code",
      "metadata": {
        "id": "GSisoTinydD5",
        "colab_type": "code",
        "outputId": "974a97e2-ed58-469d-f54e-a0102ba4b3ae",
        "colab": {
          "base_uri": "https://localhost:8080/",
          "height": 34
        }
      },
      "source": [
        "# Tipo\n",
        "type(nombre)"
      ],
      "execution_count": 0,
      "outputs": [
        {
          "output_type": "execute_result",
          "data": {
            "text/plain": [
              "str"
            ]
          },
          "metadata": {
            "tags": []
          },
          "execution_count": 20
        }
      ]
    },
    {
      "cell_type": "markdown",
      "metadata": {
        "id": "rFLOeYfNzacV",
        "colab_type": "text"
      },
      "source": [
        "**Expresiones y valores booleanos**"
      ]
    },
    {
      "cell_type": "code",
      "metadata": {
        "id": "gV_XYrF1yfpB",
        "colab_type": "code",
        "outputId": "8cfcbf1d-c397-40ce-f58c-660b2895c936",
        "colab": {
          "base_uri": "https://localhost:8080/",
          "height": 34
        }
      },
      "source": [
        "type(True)\n",
        "\n"
      ],
      "execution_count": 0,
      "outputs": [
        {
          "output_type": "execute_result",
          "data": {
            "text/plain": [
              "bool"
            ]
          },
          "metadata": {
            "tags": []
          },
          "execution_count": 21
        }
      ]
    },
    {
      "cell_type": "code",
      "metadata": {
        "id": "xUEjzzA-zd2I",
        "colab_type": "code",
        "outputId": "2b359ce1-72e4-4f4c-d1b7-68dd960e04a9",
        "colab": {
          "base_uri": "https://localhost:8080/",
          "height": 34
        }
      },
      "source": [
        "5 == 5"
      ],
      "execution_count": 0,
      "outputs": [
        {
          "output_type": "execute_result",
          "data": {
            "text/plain": [
              "True"
            ]
          },
          "metadata": {
            "tags": []
          },
          "execution_count": 22
        }
      ]
    },
    {
      "cell_type": "markdown",
      "metadata": {
        "id": "SCy94q0Gzj6n",
        "colab_type": "text"
      },
      "source": [
        "El operador == es uno de los operadores de comparación; los otros son:\n",
        "* x != y    : x no es igual a y\n",
        "* x > y     : x es mayor que y\n",
        "* x < y     : x es menor que y\n",
        "* x >= y    : x es mayor o igual que y\n",
        "* x <= y    : x es menor o igual que y"
      ]
    },
    {
      "cell_type": "markdown",
      "metadata": {
        "id": "X_PBXEFFz4oH",
        "colab_type": "text"
      },
      "source": [
        "**Operadores lógicos**\n",
        "\n",
        "Existen tres operadores lógicos: and, or, y not. La semántica (significado) de estos operadores es similar a sus significados en inglés (en español “y”, “o” y “no”). Por ejemplo, x > 0 and x < 10 es verdadero sólo si x es mayor que 0 y menor que 10.\n",
        "\n",
        "n % 2 == 0 or n % 3 == 0 es verdadero si cualquiera de las condiciones es verdadera, o sea, si el número es divisible por 2 o por 3.\n",
        "\n",
        "Finalmente, el operador not niega una expresión booleana, de forma que not(x > y) es verdadero si (x > y) es falso, o sea, si x es menor o igual que y.\n"
      ]
    },
    {
      "cell_type": "markdown",
      "metadata": {
        "id": "ho8VLYHr0Hpw",
        "colab_type": "text"
      },
      "source": [
        "# **Extructuras de Control o Condicionales**\n",
        "Para escribir programas útiles, casi siempre necesitamos la capacidad de comprobar ciertas condiciones y cambiar el comportamiento del programa como corresponda. Las sentencias condicionales nos dan esta capacidad. La forma más sencilla es la sentencia if, fue la base para la programacion logica, el primer enfoque de dar instrucciones a las Maquinas"
      ]
    },
    {
      "cell_type": "markdown",
      "metadata": {
        "id": "OlBS-Umy0nBi",
        "colab_type": "text"
      },
      "source": [
        "**If else**"
      ]
    },
    {
      "cell_type": "code",
      "metadata": {
        "id": "vbTrDHHr0agJ",
        "colab_type": "code",
        "outputId": "b8d3b6db-2e51-46ad-d625-a11f6e2299bf",
        "colab": {
          "base_uri": "https://localhost:8080/",
          "height": 34
        }
      },
      "source": [
        "a = 10\n",
        "\n",
        "if(a <= 5):\n",
        "\tprint(\"a es menor o igual que 5\")\n",
        "else:\n",
        "\tprint(\"a es mayor que 5\")"
      ],
      "execution_count": 0,
      "outputs": [
        {
          "output_type": "stream",
          "text": [
            "a es mayor que 5\n"
          ],
          "name": "stdout"
        }
      ]
    },
    {
      "cell_type": "markdown",
      "metadata": {
        "id": "vztcmNIk0zIn",
        "colab_type": "text"
      },
      "source": [
        "**También podemos anidar if como en otros lenguajes pero recuerda la indentación**"
      ]
    },
    {
      "cell_type": "code",
      "metadata": {
        "id": "VTETFJg10qjo",
        "colab_type": "code",
        "outputId": "6e871132-3ee4-4372-a680-da3af2d8a6e0",
        "colab": {
          "base_uri": "https://localhost:8080/",
          "height": 34
        }
      },
      "source": [
        "a = 4\n",
        "\n",
        "if(a <= 5):\n",
        "\tif(a == 5):\n",
        "\t\tprint(\"a es igual que 5\")\n",
        "\telse:\n",
        "\t\tprint(\"a es menor que 5\")\n",
        "else:\n",
        "\tprint(\"a es mayor que 5\")"
      ],
      "execution_count": 0,
      "outputs": [
        {
          "output_type": "stream",
          "text": [
            "a es menor que 5\n"
          ],
          "name": "stdout"
        }
      ]
    },
    {
      "cell_type": "markdown",
      "metadata": {
        "id": "-20XPmv31Dwo",
        "colab_type": "text"
      },
      "source": [
        "**En python no existen switches, como en Java**"
      ]
    },
    {
      "cell_type": "code",
      "metadata": {
        "id": "7ANVywnm04HA",
        "colab_type": "code",
        "outputId": "bcd036d4-c6d3-41dc-df51-8e1cabb84fe6",
        "colab": {
          "base_uri": "https://localhost:8080/",
          "height": 34
        }
      },
      "source": [
        "dia=\"Sabado\"\n",
        "\n",
        "if(dia == \"Lunes\"):\n",
        "\tprint(\"Lunes otra vez no!!\")\n",
        "elif(dia == \"Martes\"):\n",
        "\tprint(\"Los martes son pesados\")\n",
        "elif(dia == \"Miercoles\"):\n",
        "\tprint(\"Casi mitad de semana\")\n",
        "elif(dia == \"Jueves\"):\n",
        "\tprint(\"Jueves como me gustas\")\n",
        "elif(dia == \"Viernes\"):\n",
        "\tprint(\"Por fin Viernes :)\")\n",
        "elif(dia == \"Sabado\"):\n",
        "\tprint(\"Sabadoooo\")\n",
        "elif(dia == \"Domingo\"):\n",
        "\tprint(\"Mañana sera LUNESSS\")\n",
        "else:\n",
        "\tprint(\"Eso no es un dia\")"
      ],
      "execution_count": 0,
      "outputs": [
        {
          "output_type": "stream",
          "text": [
            "Sabadoooo\n"
          ],
          "name": "stdout"
        }
      ]
    },
    {
      "cell_type": "markdown",
      "metadata": {
        "id": "IOqc2o1O5Q_s",
        "colab_type": "text"
      },
      "source": [
        "# **Funciones**\n",
        "Una función es una porción o bloque de código reutilizable que se encarga de realizar una determinada tarea.\" Python es un lenguaje que nos da mucha flexibilidad al momento de crear funciones, en esté tutorial se darán cuenta porque."
      ]
    },
    {
      "cell_type": "code",
      "metadata": {
        "id": "-gkj9nu01H8o",
        "colab_type": "code",
        "colab": {
          "base_uri": "https://localhost:8080/",
          "height": 34
        },
        "outputId": "1ac0d8ff-d9d5-4600-ecd3-fc48e78f9cf3"
      },
      "source": [
        "# Se crean con el comando def\n",
        "def Suma_dos_Numeros(x, y): # parametros x y Y\n",
        "    return x + y\n",
        "\n",
        "Suma_dos_Numeros(1, 2)"
      ],
      "execution_count": 32,
      "outputs": [
        {
          "output_type": "execute_result",
          "data": {
            "text/plain": [
              "3"
            ]
          },
          "metadata": {
            "tags": []
          },
          "execution_count": 32
        }
      ]
    },
    {
      "cell_type": "markdown",
      "metadata": {
        "id": "N5oJGYhd53I6",
        "colab_type": "text"
      },
      "source": [
        "**Tomar un tercer parámetro opcional. El uso printpermite la impresión de múltiples expresiones dentro de una sola celda.**\n",
        "\n"
      ]
    },
    {
      "cell_type": "code",
      "metadata": {
        "id": "FDKqTN6m5iHp",
        "colab_type": "code",
        "colab": {
          "base_uri": "https://localhost:8080/",
          "height": 52
        },
        "outputId": "ea8a96f2-09b3-4fff-8c72-1f464cd07564"
      },
      "source": [
        "def Suma_dos_Numeros(x,y,z=None):\n",
        "    if (z==None):\n",
        "        return x+y\n",
        "    else:\n",
        "        return x+y+z\n",
        "\n",
        "print(Suma_dos_Numeros(1, 2)) ## tomo dos parametros\n",
        "print(Suma_dos_Numeros(1, 2, 3)) ### Tomo tres Parametros"
      ],
      "execution_count": 33,
      "outputs": [
        {
          "output_type": "stream",
          "text": [
            "3\n",
            "6\n"
          ],
          "name": "stdout"
        }
      ]
    },
    {
      "cell_type": "markdown",
      "metadata": {
        "id": "LfN4YwFk58MJ",
        "colab_type": "text"
      },
      "source": [
        "**Asignar Una función a una variable A**"
      ]
    },
    {
      "cell_type": "code",
      "metadata": {
        "id": "K9v_hW-o556O",
        "colab_type": "code",
        "colab": {
          "base_uri": "https://localhost:8080/",
          "height": 34
        },
        "outputId": "22d03dcd-abe4-4761-fd11-2b13129d412a"
      },
      "source": [
        "def Suma_dos_Numeros(x,y):\n",
        "    return x+y\n",
        "\n",
        "a = Suma_dos_Numeros\n",
        "a(1,2)"
      ],
      "execution_count": 34,
      "outputs": [
        {
          "output_type": "execute_result",
          "data": {
            "text/plain": [
              "3"
            ]
          },
          "metadata": {
            "tags": []
          },
          "execution_count": 34
        }
      ]
    },
    {
      "cell_type": "markdown",
      "metadata": {
        "id": "lz7Bu4386MJ2",
        "colab_type": "text"
      },
      "source": [
        "# **Extructura de Datos**"
      ]
    },
    {
      "cell_type": "markdown",
      "metadata": {
        "id": "JgFViIYQ6Rse",
        "colab_type": "text"
      },
      "source": [
        "**Listas**\n",
        "\n",
        "Una lista es una estructura de datos y un tipo de dato en python con características especiales. Lo especial de las listas en Python es que nos permiten almacenar cualquier tipo de valor como enteros, cadenas y hasta otras funciones; por ejemplo:"
      ]
    },
    {
      "cell_type": "code",
      "metadata": {
        "id": "bq1lz1kX6PgS",
        "colab_type": "code",
        "colab": {}
      },
      "source": [
        "# se crean con [] y se pueden modificar\n",
        "lista = [1, 2.5, 'DevCode', [5,6] ,4]"
      ],
      "execution_count": 0,
      "outputs": []
    },
    {
      "cell_type": "code",
      "metadata": {
        "id": "2a_mtPfH6dzW",
        "colab_type": "code",
        "colab": {
          "base_uri": "https://localhost:8080/",
          "height": 34
        },
        "outputId": "73d1b438-f629-4ba7-b093-fe3c50eaefa4"
      },
      "source": [
        "## Acceder al contenido\n",
        "lista[0] ## Empieza en la posicion cero"
      ],
      "execution_count": 37,
      "outputs": [
        {
          "output_type": "execute_result",
          "data": {
            "text/plain": [
              "1"
            ]
          },
          "metadata": {
            "tags": []
          },
          "execution_count": 37
        }
      ]
    },
    {
      "cell_type": "code",
      "metadata": {
        "id": "p4aI45cD6iAl",
        "colab_type": "code",
        "colab": {
          "base_uri": "https://localhost:8080/",
          "height": 34
        },
        "outputId": "273e31cd-dfbe-414d-e1e4-c11ce468d6d4"
      },
      "source": [
        "lista[1]"
      ],
      "execution_count": 38,
      "outputs": [
        {
          "output_type": "execute_result",
          "data": {
            "text/plain": [
              "2.5"
            ]
          },
          "metadata": {
            "tags": []
          },
          "execution_count": 38
        }
      ]
    },
    {
      "cell_type": "code",
      "metadata": {
        "id": "wCsXUR2j6z6t",
        "colab_type": "code",
        "colab": {
          "base_uri": "https://localhost:8080/",
          "height": 34
        },
        "outputId": "b53fcc5e-32a9-41de-90ee-6d5dcf33fca8"
      },
      "source": [
        "lista[-1] ## conocer el ultimo dato"
      ],
      "execution_count": 39,
      "outputs": [
        {
          "output_type": "execute_result",
          "data": {
            "text/plain": [
              "4"
            ]
          },
          "metadata": {
            "tags": []
          },
          "execution_count": 39
        }
      ]
    },
    {
      "cell_type": "code",
      "metadata": {
        "id": "k1oqpc2A61UW",
        "colab_type": "code",
        "colab": {
          "base_uri": "https://localhost:8080/",
          "height": 34
        },
        "outputId": "caac6927-fb76-4c49-b855-73a883d7eec3"
      },
      "source": [
        "#Agregar Nuevos Datos a la Lista\n",
        "lista.append(10) \n",
        "lista.append([2,5]) \n",
        "lista"
      ],
      "execution_count": 40,
      "outputs": [
        {
          "output_type": "execute_result",
          "data": {
            "text/plain": [
              "[1, 2.5, 'DevCode', [5, 6], 4, 10, [2, 5]]"
            ]
          },
          "metadata": {
            "tags": []
          },
          "execution_count": 40
        }
      ]
    },
    {
      "cell_type": "markdown",
      "metadata": {
        "id": "XptiSKw466Jo",
        "colab_type": "text"
      },
      "source": [
        "Extend también nos permite agregar elementos dentro de una lista, pero a diferencia de append al momento de agregar una lista, cada elemento de esta lista se agrega como un elemento más dentro de la otra lista."
      ]
    },
    {
      "cell_type": "code",
      "metadata": {
        "id": "uEuGzAGy64gt",
        "colab_type": "code",
        "colab": {
          "base_uri": "https://localhost:8080/",
          "height": 34
        },
        "outputId": "f65ad04e-f30c-44ce-be26-7b2098712ae8"
      },
      "source": [
        "lista.extend([2,5])\n",
        "lista"
      ],
      "execution_count": 41,
      "outputs": [
        {
          "output_type": "execute_result",
          "data": {
            "text/plain": [
              "[1, 2.5, 'DevCode', [5, 6], 4, 10, [2, 5], 2, 5]"
            ]
          },
          "metadata": {
            "tags": []
          },
          "execution_count": 41
        }
      ]
    },
    {
      "cell_type": "markdown",
      "metadata": {
        "id": "rhY6dz8f698J",
        "colab_type": "text"
      },
      "source": [
        "**Tuplas**\n",
        "\n",
        "En Python, una tupla es un conjunto ordenado e inmutable de elementos del mismo o diferente tipo.\n",
        "\n",
        "Las tuplas se representan escribiendo los elementos entre paréntesis y separados por comas y no se pueden modificar"
      ]
    },
    {
      "cell_type": "code",
      "metadata": {
        "id": "xJ-Z6w3j68C1",
        "colab_type": "code",
        "colab": {
          "base_uri": "https://localhost:8080/",
          "height": 34
        },
        "outputId": "43c62a63-db19-4044-a446-9feee39c14e6"
      },
      "source": [
        "x = (1, 'a', 2, 'b')\n",
        "type(x) ## las Tuplas no se pueden Cambiar el contenido"
      ],
      "execution_count": 42,
      "outputs": [
        {
          "output_type": "execute_result",
          "data": {
            "text/plain": [
              "tuple"
            ]
          },
          "metadata": {
            "tags": []
          },
          "execution_count": 42
        }
      ]
    },
    {
      "cell_type": "markdown",
      "metadata": {
        "id": "zbiSJYoh7HAo",
        "colab_type": "text"
      },
      "source": [
        "**Diccionarios**\n",
        "\n",
        "Un Diccionario es una estructura de datos y un tipo de dato en Python con características especiales que nos permite almacenar cualquier tipo de valor como enteros, cadenas, listas e incluso otras funciones. Estos diccionarios nos permiten además identificar cada elemento por una clave (Key).\n",
        "\n",
        "Para definir un diccionario, se encierra el listado de valores entre llaves. Las parejas de clave y valor se separan con comas, y la clave y el valor se separan con dos puntos."
      ]
    },
    {
      "cell_type": "code",
      "metadata": {
        "id": "X9t1BjBh7FH9",
        "colab_type": "code",
        "colab": {
          "base_uri": "https://localhost:8080/",
          "height": 34
        },
        "outputId": "79a3dbdf-e3e0-4eaf-9f2d-4b3aebdccd73"
      },
      "source": [
        "diccionario = {'nombre' : 'Carlos', 'edad' : 22, 'cursos': ['Python','Django','JavaScript'] }\n",
        "print(diccionario)\n"
      ],
      "execution_count": 43,
      "outputs": [
        {
          "output_type": "stream",
          "text": [
            "{'nombre': 'Carlos', 'edad': 22, 'cursos': ['Python', 'Django', 'JavaScript']}\n"
          ],
          "name": "stdout"
        }
      ]
    },
    {
      "cell_type": "markdown",
      "metadata": {
        "id": "IKerN0xS7Mrw",
        "colab_type": "text"
      },
      "source": [
        "Podemos acceder al elemento de un Diccionario mediante la clave de este elemento, como veremos a continuación:"
      ]
    },
    {
      "cell_type": "code",
      "metadata": {
        "id": "HKGt6-ep7Knd",
        "colab_type": "code",
        "colab": {
          "base_uri": "https://localhost:8080/",
          "height": 70
        },
        "outputId": "2c7193bb-7bae-4a5f-839d-5e03fe61bd2a"
      },
      "source": [
        "print (diccionario['nombre'] )#Carlos\n",
        "print(diccionario['edad']) #22\n",
        "print (diccionario['cursos']) #['Python','Django','JavaScript']"
      ],
      "execution_count": 44,
      "outputs": [
        {
          "output_type": "stream",
          "text": [
            "Carlos\n",
            "22\n",
            "['Python', 'Django', 'JavaScript']\n"
          ],
          "name": "stdout"
        }
      ]
    },
    {
      "cell_type": "markdown",
      "metadata": {
        "id": "UupFCyz77qwU",
        "colab_type": "text"
      },
      "source": [
        "**Arrays**\n",
        "\n",
        "NumPy proporciona un tipo de matriz N-dimensional, el ndarray, que describe una colección de \"elementos\" del mismo tipo. Los elementos se pueden indexar utilizando, por ejemplo, N enteros.\n",
        "\n",
        "Todos los ndarrays son homogéneos: cada elemento ocupa el mismo tamaño de bloque de memoria, y todos los bloques se interpretan exactamente de la misma manera. La forma de interpretar cada elemento de la matriz se especifica mediante un objeto de tipo de datos separado, uno de los cuales está asociado con cada matriz. Además de los tipos básicos (enteros, flotantes, etc.), los objetos de tipo de datos también pueden representar estructuras de datos.\n",
        "\n",
        "Un elemento extraído de una matriz, por ejemplo, mediante indexación, está representado por un objeto Python cuyo tipo es uno de los tipos escalares de matriz creados en NumPy. Los escalares de matriz permiten una fácil manipulación de arreglos de datos también más complicados"
      ]
    },
    {
      "cell_type": "code",
      "metadata": {
        "id": "zdippb8r7PE1",
        "colab_type": "code",
        "colab": {}
      },
      "source": [
        "import numpy as np"
      ],
      "execution_count": 0,
      "outputs": []
    },
    {
      "cell_type": "code",
      "metadata": {
        "id": "uxk5q-8476Tt",
        "colab_type": "code",
        "colab": {
          "base_uri": "https://localhost:8080/",
          "height": 34
        },
        "outputId": "3666f297-52e6-4721-db7c-0128e102e3df"
      },
      "source": [
        "#Creando Arrays\n",
        "#Desde una lista a una lista\n",
        "\n",
        "mylist = [1, 2, 3] ## \n",
        "x = np.array(mylist)\n",
        "x"
      ],
      "execution_count": 47,
      "outputs": [
        {
          "output_type": "execute_result",
          "data": {
            "text/plain": [
              "array([1, 2, 3])"
            ]
          },
          "metadata": {
            "tags": []
          },
          "execution_count": 47
        }
      ]
    },
    {
      "cell_type": "code",
      "metadata": {
        "id": "sABUfzLq79TN",
        "colab_type": "code",
        "colab": {
          "base_uri": "https://localhost:8080/",
          "height": 34
        },
        "outputId": "89a6bfb7-07a5-4f2a-f91d-e58abfe1f380"
      },
      "source": [
        "#Directemente\n",
        "y = np.array([4, 5, 6])\n",
        "y"
      ],
      "execution_count": 48,
      "outputs": [
        {
          "output_type": "execute_result",
          "data": {
            "text/plain": [
              "array([4, 5, 6])"
            ]
          },
          "metadata": {
            "tags": []
          },
          "execution_count": 48
        }
      ]
    },
    {
      "cell_type": "code",
      "metadata": {
        "id": "7aUkhq9M8E29",
        "colab_type": "code",
        "colab": {
          "base_uri": "https://localhost:8080/",
          "height": 52
        },
        "outputId": "a14d08c3-aea1-477a-adbd-71bc7eb4f46d"
      },
      "source": [
        "#Multidimensional\n",
        "m = np.array([[7, 8, 9], [10, 11, 12]])\n",
        "m"
      ],
      "execution_count": 49,
      "outputs": [
        {
          "output_type": "execute_result",
          "data": {
            "text/plain": [
              "array([[ 7,  8,  9],\n",
              "       [10, 11, 12]])"
            ]
          },
          "metadata": {
            "tags": []
          },
          "execution_count": 49
        }
      ]
    },
    {
      "cell_type": "code",
      "metadata": {
        "id": "LfbYmrpl8Ht9",
        "colab_type": "code",
        "colab": {
          "base_uri": "https://localhost:8080/",
          "height": 34
        },
        "outputId": "44091629-3a27-40d2-8c1e-0efb98b832a6"
      },
      "source": [
        "# Conocer la Dimension\n",
        "m.shape"
      ],
      "execution_count": 50,
      "outputs": [
        {
          "output_type": "execute_result",
          "data": {
            "text/plain": [
              "(2, 3)"
            ]
          },
          "metadata": {
            "tags": []
          },
          "execution_count": 50
        }
      ]
    },
    {
      "cell_type": "code",
      "metadata": {
        "id": "5sqjPTKT8MHc",
        "colab_type": "code",
        "colab": {
          "base_uri": "https://localhost:8080/",
          "height": 122
        },
        "outputId": "16bc1169-d6e0-403e-bfbf-b740337fa04b"
      },
      "source": [
        "# Operaciones Básicas\n",
        "x=np.array([[1,2,3],[5,6,7],[8,9,10]])\n",
        "print(x)\n",
        "y = np.arange(0,9).reshape((3,3))\n",
        "print(y)"
      ],
      "execution_count": 54,
      "outputs": [
        {
          "output_type": "stream",
          "text": [
            "[[ 1  2  3]\n",
            " [ 5  6  7]\n",
            " [ 8  9 10]]\n",
            "[[0 1 2]\n",
            " [3 4 5]\n",
            " [6 7 8]]\n"
          ],
          "name": "stdout"
        }
      ]
    },
    {
      "cell_type": "code",
      "metadata": {
        "id": "D-X0QVwC8X4F",
        "colab_type": "code",
        "colab": {
          "base_uri": "https://localhost:8080/",
          "height": 70
        },
        "outputId": "9a41107d-538c-463b-c04d-4fa036364cfa"
      },
      "source": [
        "## Operaciones\n",
        "x+y"
      ],
      "execution_count": 55,
      "outputs": [
        {
          "output_type": "execute_result",
          "data": {
            "text/plain": [
              "array([[ 1,  3,  5],\n",
              "       [ 8, 10, 12],\n",
              "       [14, 16, 18]])"
            ]
          },
          "metadata": {
            "tags": []
          },
          "execution_count": 55
        }
      ]
    },
    {
      "cell_type": "code",
      "metadata": {
        "id": "10HOgsRw8loV",
        "colab_type": "code",
        "colab": {
          "base_uri": "https://localhost:8080/",
          "height": 70
        },
        "outputId": "a012e05c-df65-4f62-bef9-d6b9f93d7733"
      },
      "source": [
        "y/x"
      ],
      "execution_count": 56,
      "outputs": [
        {
          "output_type": "execute_result",
          "data": {
            "text/plain": [
              "array([[0.        , 0.5       , 0.66666667],\n",
              "       [0.6       , 0.66666667, 0.71428571],\n",
              "       [0.75      , 0.77777778, 0.8       ]])"
            ]
          },
          "metadata": {
            "tags": []
          },
          "execution_count": 56
        }
      ]
    },
    {
      "cell_type": "code",
      "metadata": {
        "id": "WN-QafqN8oEF",
        "colab_type": "code",
        "colab": {
          "base_uri": "https://localhost:8080/",
          "height": 70
        },
        "outputId": "2a544fc4-22a7-4edc-cacb-ec52c9b14b9b"
      },
      "source": [
        "np.matmul(x,y)"
      ],
      "execution_count": 57,
      "outputs": [
        {
          "output_type": "execute_result",
          "data": {
            "text/plain": [
              "array([[ 24,  30,  36],\n",
              "       [ 60,  78,  96],\n",
              "       [ 87, 114, 141]])"
            ]
          },
          "metadata": {
            "tags": []
          },
          "execution_count": 57
        }
      ]
    },
    {
      "cell_type": "markdown",
      "metadata": {
        "id": "h5XBykFp80Yi",
        "colab_type": "text"
      },
      "source": [
        "**SERIES**\n",
        "\n",
        "Series es la estructura de datos para una sola columna de una DataFrame, no solo conceptualmente, sino que literalmente, es decir, los datos de una DataFrame se almacenan en la memoria como una colección de Series."
      ]
    },
    {
      "cell_type": "code",
      "metadata": {
        "id": "YzYppT7N8uRs",
        "colab_type": "code",
        "colab": {}
      },
      "source": [
        "import pandas as pd"
      ],
      "execution_count": 0,
      "outputs": []
    },
    {
      "cell_type": "code",
      "metadata": {
        "id": "ifIN0MNz9EKU",
        "colab_type": "code",
        "colab": {
          "base_uri": "https://localhost:8080/",
          "height": 87
        },
        "outputId": "0fbbb4ae-b26e-41cc-a2c4-a2a9155d2d6f"
      },
      "source": [
        "Variables = ['Nombre', 'Direccion', 'Cargo']\n",
        "pd.Series(Variables)"
      ],
      "execution_count": 60,
      "outputs": [
        {
          "output_type": "execute_result",
          "data": {
            "text/plain": [
              "0       Nombre\n",
              "1    Direccion\n",
              "2        Cargo\n",
              "dtype: object"
            ]
          },
          "metadata": {
            "tags": []
          },
          "execution_count": 60
        }
      ]
    },
    {
      "cell_type": "code",
      "metadata": {
        "id": "CjAitXKL9HB8",
        "colab_type": "code",
        "colab": {
          "base_uri": "https://localhost:8080/",
          "height": 87
        },
        "outputId": "0edc6317-5e3a-4151-9229-740dc1c1906a"
      },
      "source": [
        "Numeros = [1, 2, 3]\n",
        "pd.Series(Numeros )"
      ],
      "execution_count": 61,
      "outputs": [
        {
          "output_type": "execute_result",
          "data": {
            "text/plain": [
              "0    1\n",
              "1    2\n",
              "2    3\n",
              "dtype: int64"
            ]
          },
          "metadata": {
            "tags": []
          },
          "execution_count": 61
        }
      ]
    },
    {
      "cell_type": "code",
      "metadata": {
        "id": "rvcQzE9c9IKs",
        "colab_type": "code",
        "colab": {
          "base_uri": "https://localhost:8080/",
          "height": 105
        },
        "outputId": "d08fa849-13c6-4799-b11f-921aaafc485d"
      },
      "source": [
        "sports = {'Archery': 'Bhutan',\n",
        "          'Golf': 'Scotland',\n",
        "          'Sumo': 'Japan',\n",
        "          'Taekwondo': 'South Korea'}\n",
        "## Convertimos diccionario en una Serie\n",
        "s = pd.Series(sports)\n",
        "s"
      ],
      "execution_count": 62,
      "outputs": [
        {
          "output_type": "execute_result",
          "data": {
            "text/plain": [
              "Archery           Bhutan\n",
              "Golf            Scotland\n",
              "Sumo               Japan\n",
              "Taekwondo    South Korea\n",
              "dtype: object"
            ]
          },
          "metadata": {
            "tags": []
          },
          "execution_count": 62
        }
      ]
    },
    {
      "cell_type": "code",
      "metadata": {
        "id": "cu8x-Jmx9Jf0",
        "colab_type": "code",
        "colab": {
          "base_uri": "https://localhost:8080/",
          "height": 34
        },
        "outputId": "81b86d37-2a2f-4b81-f97c-1288ecea5ff7"
      },
      "source": [
        "s.iloc[3] ## Acceder"
      ],
      "execution_count": 63,
      "outputs": [
        {
          "output_type": "execute_result",
          "data": {
            "text/plain": [
              "'South Korea'"
            ]
          },
          "metadata": {
            "tags": []
          },
          "execution_count": 63
        }
      ]
    },
    {
      "cell_type": "code",
      "metadata": {
        "id": "p1H0nDom9K2M",
        "colab_type": "code",
        "colab": {
          "base_uri": "https://localhost:8080/",
          "height": 34
        },
        "outputId": "ee0436c6-ae57-4152-f5e4-7cc6bdc2aa16"
      },
      "source": [
        "s.loc['Golf']"
      ],
      "execution_count": 64,
      "outputs": [
        {
          "output_type": "execute_result",
          "data": {
            "text/plain": [
              "'Scotland'"
            ]
          },
          "metadata": {
            "tags": []
          },
          "execution_count": 64
        }
      ]
    },
    {
      "cell_type": "code",
      "metadata": {
        "id": "3iiBAiH_9L5U",
        "colab_type": "code",
        "colab": {
          "base_uri": "https://localhost:8080/",
          "height": 34
        },
        "outputId": "7f95626f-8cdb-4b0c-cde8-a637520ae66d"
      },
      "source": [
        "s[3]"
      ],
      "execution_count": 65,
      "outputs": [
        {
          "output_type": "execute_result",
          "data": {
            "text/plain": [
              "'South Korea'"
            ]
          },
          "metadata": {
            "tags": []
          },
          "execution_count": 65
        }
      ]
    },
    {
      "cell_type": "code",
      "metadata": {
        "id": "fAvRYxEZ9M41",
        "colab_type": "code",
        "colab": {
          "base_uri": "https://localhost:8080/",
          "height": 34
        },
        "outputId": "8563bfe3-78bd-43ed-fbf1-4023eebac221"
      },
      "source": [
        "s['Golf']"
      ],
      "execution_count": 66,
      "outputs": [
        {
          "output_type": "execute_result",
          "data": {
            "text/plain": [
              "'Scotland'"
            ]
          },
          "metadata": {
            "tags": []
          },
          "execution_count": 66
        }
      ]
    },
    {
      "cell_type": "code",
      "metadata": {
        "id": "D6818U4X9N7E",
        "colab_type": "code",
        "colab": {}
      },
      "source": [
        "sports = {99: 'Bhutan',\n",
        "          100: 'Scotland',\n",
        "          101: 'Japan',\n",
        "          102: 'South Korea'}\n",
        "s = pd.Series(sports)"
      ],
      "execution_count": 0,
      "outputs": []
    },
    {
      "cell_type": "code",
      "metadata": {
        "id": "n1gBs2IT9P_0",
        "colab_type": "code",
        "colab": {
          "base_uri": "https://localhost:8080/",
          "height": 34
        },
        "outputId": "74804a98-4923-4b70-e712-fd28f65ddea1"
      },
      "source": [
        "s.iloc[0]"
      ],
      "execution_count": 68,
      "outputs": [
        {
          "output_type": "execute_result",
          "data": {
            "text/plain": [
              "'Bhutan'"
            ]
          },
          "metadata": {
            "tags": []
          },
          "execution_count": 68
        }
      ]
    },
    {
      "cell_type": "code",
      "metadata": {
        "id": "Nd_hn3fG9RI0",
        "colab_type": "code",
        "colab": {
          "base_uri": "https://localhost:8080/",
          "height": 105
        },
        "outputId": "9dcbbc5c-c9cb-4e9c-90fc-431a3b89494f"
      },
      "source": [
        "s = pd.Series([100.00, 120.00, 101.00, 3.00])\n",
        "s"
      ],
      "execution_count": 69,
      "outputs": [
        {
          "output_type": "execute_result",
          "data": {
            "text/plain": [
              "0    100.0\n",
              "1    120.0\n",
              "2    101.0\n",
              "3      3.0\n",
              "dtype: float64"
            ]
          },
          "metadata": {
            "tags": []
          },
          "execution_count": 69
        }
      ]
    },
    {
      "cell_type": "markdown",
      "metadata": {
        "id": "fBHczb2g9XEu",
        "colab_type": "text"
      },
      "source": [
        "**DataFrame**\n",
        "\n",
        "El DataFrame es una estructura de 2 dimensiones etiquetada donde podemos almacenar datos de diferentes tipos. DataFrame es similar a una tabla SQL o una hoja de cálculo de Excel."
      ]
    },
    {
      "cell_type": "code",
      "metadata": {
        "id": "ReOdn9ot9S4c",
        "colab_type": "code",
        "colab": {
          "base_uri": "https://localhost:8080/",
          "height": 136
        },
        "outputId": "96d60bb6-0b7f-486b-8043-9e604e7fd53d"
      },
      "source": [
        "import pandas as pd\n",
        "purchase_1 = pd.Series({'Name': 'Chris',\n",
        "                        'Item Purchased': 'Dog Food',\n",
        "                        'Cost': 22.50})\n",
        "purchase_2 = pd.Series({'Name': 'Kevyn',\n",
        "                        'Item Purchased': 'Kitty Litter',\n",
        "                        'Cost': 2.50})\n",
        "purchase_3 = pd.Series({'Name': 'Vinod',\n",
        "                        'Item Purchased': 'Bird Seed',\n",
        "                        'Cost': 5.00})\n",
        "df = pd.DataFrame([purchase_1, purchase_2, purchase_3], index=['Store 1', 'Store 1', 'Store 2'])\n",
        "df.head()"
      ],
      "execution_count": 70,
      "outputs": [
        {
          "output_type": "execute_result",
          "data": {
            "text/html": [
              "<div>\n",
              "<style scoped>\n",
              "    .dataframe tbody tr th:only-of-type {\n",
              "        vertical-align: middle;\n",
              "    }\n",
              "\n",
              "    .dataframe tbody tr th {\n",
              "        vertical-align: top;\n",
              "    }\n",
              "\n",
              "    .dataframe thead th {\n",
              "        text-align: right;\n",
              "    }\n",
              "</style>\n",
              "<table border=\"1\" class=\"dataframe\">\n",
              "  <thead>\n",
              "    <tr style=\"text-align: right;\">\n",
              "      <th></th>\n",
              "      <th>Name</th>\n",
              "      <th>Item Purchased</th>\n",
              "      <th>Cost</th>\n",
              "    </tr>\n",
              "  </thead>\n",
              "  <tbody>\n",
              "    <tr>\n",
              "      <th>Store 1</th>\n",
              "      <td>Chris</td>\n",
              "      <td>Dog Food</td>\n",
              "      <td>22.5</td>\n",
              "    </tr>\n",
              "    <tr>\n",
              "      <th>Store 1</th>\n",
              "      <td>Kevyn</td>\n",
              "      <td>Kitty Litter</td>\n",
              "      <td>2.5</td>\n",
              "    </tr>\n",
              "    <tr>\n",
              "      <th>Store 2</th>\n",
              "      <td>Vinod</td>\n",
              "      <td>Bird Seed</td>\n",
              "      <td>5.0</td>\n",
              "    </tr>\n",
              "  </tbody>\n",
              "</table>\n",
              "</div>"
            ],
            "text/plain": [
              "          Name Item Purchased  Cost\n",
              "Store 1  Chris       Dog Food  22.5\n",
              "Store 1  Kevyn   Kitty Litter   2.5\n",
              "Store 2  Vinod      Bird Seed   5.0"
            ]
          },
          "metadata": {
            "tags": []
          },
          "execution_count": 70
        }
      ]
    },
    {
      "cell_type": "code",
      "metadata": {
        "id": "agXq-gvq9rj8",
        "colab_type": "code",
        "colab": {
          "base_uri": "https://localhost:8080/",
          "height": 87
        },
        "outputId": "e6daa29a-e277-4032-8dec-704871396e00"
      },
      "source": [
        "## Consultando contenido\n",
        "df.loc['Store 2']"
      ],
      "execution_count": 71,
      "outputs": [
        {
          "output_type": "execute_result",
          "data": {
            "text/plain": [
              "Name                  Vinod\n",
              "Item Purchased    Bird Seed\n",
              "Cost                      5\n",
              "Name: Store 2, dtype: object"
            ]
          },
          "metadata": {
            "tags": []
          },
          "execution_count": 71
        }
      ]
    },
    {
      "cell_type": "code",
      "metadata": {
        "id": "jI0U0eRR9vS7",
        "colab_type": "code",
        "colab": {
          "base_uri": "https://localhost:8080/",
          "height": 106
        },
        "outputId": "c3e01567-e704-4afb-fcb8-f36d51113197"
      },
      "source": [
        "df.loc['Store 1']"
      ],
      "execution_count": 72,
      "outputs": [
        {
          "output_type": "execute_result",
          "data": {
            "text/html": [
              "<div>\n",
              "<style scoped>\n",
              "    .dataframe tbody tr th:only-of-type {\n",
              "        vertical-align: middle;\n",
              "    }\n",
              "\n",
              "    .dataframe tbody tr th {\n",
              "        vertical-align: top;\n",
              "    }\n",
              "\n",
              "    .dataframe thead th {\n",
              "        text-align: right;\n",
              "    }\n",
              "</style>\n",
              "<table border=\"1\" class=\"dataframe\">\n",
              "  <thead>\n",
              "    <tr style=\"text-align: right;\">\n",
              "      <th></th>\n",
              "      <th>Name</th>\n",
              "      <th>Item Purchased</th>\n",
              "      <th>Cost</th>\n",
              "    </tr>\n",
              "  </thead>\n",
              "  <tbody>\n",
              "    <tr>\n",
              "      <th>Store 1</th>\n",
              "      <td>Chris</td>\n",
              "      <td>Dog Food</td>\n",
              "      <td>22.5</td>\n",
              "    </tr>\n",
              "    <tr>\n",
              "      <th>Store 1</th>\n",
              "      <td>Kevyn</td>\n",
              "      <td>Kitty Litter</td>\n",
              "      <td>2.5</td>\n",
              "    </tr>\n",
              "  </tbody>\n",
              "</table>\n",
              "</div>"
            ],
            "text/plain": [
              "          Name Item Purchased  Cost\n",
              "Store 1  Chris       Dog Food  22.5\n",
              "Store 1  Kevyn   Kitty Litter   2.5"
            ]
          },
          "metadata": {
            "tags": []
          },
          "execution_count": 72
        }
      ]
    },
    {
      "cell_type": "code",
      "metadata": {
        "id": "LVHY-Z8M9yZk",
        "colab_type": "code",
        "colab": {
          "base_uri": "https://localhost:8080/",
          "height": 70
        },
        "outputId": "2363b57d-e421-49ca-8cf1-9f08fd3c2e84"
      },
      "source": [
        "df.loc['Store 1', 'Cost']"
      ],
      "execution_count": 73,
      "outputs": [
        {
          "output_type": "execute_result",
          "data": {
            "text/plain": [
              "Store 1    22.5\n",
              "Store 1     2.5\n",
              "Name: Cost, dtype: float64"
            ]
          },
          "metadata": {
            "tags": []
          },
          "execution_count": 73
        }
      ]
    },
    {
      "cell_type": "code",
      "metadata": {
        "id": "ALsBDpFt91Xs",
        "colab_type": "code",
        "colab": {
          "base_uri": "https://localhost:8080/",
          "height": 136
        },
        "outputId": "e1ea1826-b26a-430f-e5c4-b6d6de0e5fb1"
      },
      "source": [
        "## Trasponer\n",
        "df.T"
      ],
      "execution_count": 75,
      "outputs": [
        {
          "output_type": "execute_result",
          "data": {
            "text/html": [
              "<div>\n",
              "<style scoped>\n",
              "    .dataframe tbody tr th:only-of-type {\n",
              "        vertical-align: middle;\n",
              "    }\n",
              "\n",
              "    .dataframe tbody tr th {\n",
              "        vertical-align: top;\n",
              "    }\n",
              "\n",
              "    .dataframe thead th {\n",
              "        text-align: right;\n",
              "    }\n",
              "</style>\n",
              "<table border=\"1\" class=\"dataframe\">\n",
              "  <thead>\n",
              "    <tr style=\"text-align: right;\">\n",
              "      <th></th>\n",
              "      <th>Store 1</th>\n",
              "      <th>Store 1</th>\n",
              "      <th>Store 2</th>\n",
              "    </tr>\n",
              "  </thead>\n",
              "  <tbody>\n",
              "    <tr>\n",
              "      <th>Name</th>\n",
              "      <td>Chris</td>\n",
              "      <td>Kevyn</td>\n",
              "      <td>Vinod</td>\n",
              "    </tr>\n",
              "    <tr>\n",
              "      <th>Item Purchased</th>\n",
              "      <td>Dog Food</td>\n",
              "      <td>Kitty Litter</td>\n",
              "      <td>Bird Seed</td>\n",
              "    </tr>\n",
              "    <tr>\n",
              "      <th>Cost</th>\n",
              "      <td>22.5</td>\n",
              "      <td>2.5</td>\n",
              "      <td>5</td>\n",
              "    </tr>\n",
              "  </tbody>\n",
              "</table>\n",
              "</div>"
            ],
            "text/plain": [
              "                 Store 1       Store 1    Store 2\n",
              "Name               Chris         Kevyn      Vinod\n",
              "Item Purchased  Dog Food  Kitty Litter  Bird Seed\n",
              "Cost                22.5           2.5          5"
            ]
          },
          "metadata": {
            "tags": []
          },
          "execution_count": 75
        }
      ]
    },
    {
      "cell_type": "code",
      "metadata": {
        "id": "ugagHnjv93Xk",
        "colab_type": "code",
        "colab": {
          "base_uri": "https://localhost:8080/",
          "height": 87
        },
        "outputId": "4d2e2ddf-9de4-4973-a3d0-e8245963b82a"
      },
      "source": [
        "df.T.loc['Cost']"
      ],
      "execution_count": 76,
      "outputs": [
        {
          "output_type": "execute_result",
          "data": {
            "text/plain": [
              "Store 1    22.5\n",
              "Store 1     2.5\n",
              "Store 2       5\n",
              "Name: Cost, dtype: object"
            ]
          },
          "metadata": {
            "tags": []
          },
          "execution_count": 76
        }
      ]
    },
    {
      "cell_type": "code",
      "metadata": {
        "id": "x2CxPFLv96Wk",
        "colab_type": "code",
        "colab": {
          "base_uri": "https://localhost:8080/",
          "height": 77
        },
        "outputId": "94ac8e08-ee74-471d-b63c-c3962cd25bfd"
      },
      "source": [
        "## CREAR COPIA\n",
        "copy_df = df.copy()\n",
        "copy_df = copy_df.drop('Store 1')\n",
        "copy_df"
      ],
      "execution_count": 78,
      "outputs": [
        {
          "output_type": "execute_result",
          "data": {
            "text/html": [
              "<div>\n",
              "<style scoped>\n",
              "    .dataframe tbody tr th:only-of-type {\n",
              "        vertical-align: middle;\n",
              "    }\n",
              "\n",
              "    .dataframe tbody tr th {\n",
              "        vertical-align: top;\n",
              "    }\n",
              "\n",
              "    .dataframe thead th {\n",
              "        text-align: right;\n",
              "    }\n",
              "</style>\n",
              "<table border=\"1\" class=\"dataframe\">\n",
              "  <thead>\n",
              "    <tr style=\"text-align: right;\">\n",
              "      <th></th>\n",
              "      <th>Name</th>\n",
              "      <th>Item Purchased</th>\n",
              "      <th>Cost</th>\n",
              "    </tr>\n",
              "  </thead>\n",
              "  <tbody>\n",
              "    <tr>\n",
              "      <th>Store 2</th>\n",
              "      <td>Vinod</td>\n",
              "      <td>Bird Seed</td>\n",
              "      <td>5.0</td>\n",
              "    </tr>\n",
              "  </tbody>\n",
              "</table>\n",
              "</div>"
            ],
            "text/plain": [
              "          Name Item Purchased  Cost\n",
              "Store 2  Vinod      Bird Seed   5.0"
            ]
          },
          "metadata": {
            "tags": []
          },
          "execution_count": 78
        }
      ]
    },
    {
      "cell_type": "markdown",
      "metadata": {
        "id": "qxa0Dj5N-Ekv",
        "colab_type": "text"
      },
      "source": [
        "**BORRAR VARIABLE**"
      ]
    },
    {
      "cell_type": "code",
      "metadata": {
        "id": "g4LzVL9E99BU",
        "colab_type": "code",
        "colab": {
          "base_uri": "https://localhost:8080/",
          "height": 77
        },
        "outputId": "fa18f3df-c8b0-41c1-9cd8-40712e1104de"
      },
      "source": [
        "del copy_df['Name']\n",
        "copy_df"
      ],
      "execution_count": 79,
      "outputs": [
        {
          "output_type": "execute_result",
          "data": {
            "text/html": [
              "<div>\n",
              "<style scoped>\n",
              "    .dataframe tbody tr th:only-of-type {\n",
              "        vertical-align: middle;\n",
              "    }\n",
              "\n",
              "    .dataframe tbody tr th {\n",
              "        vertical-align: top;\n",
              "    }\n",
              "\n",
              "    .dataframe thead th {\n",
              "        text-align: right;\n",
              "    }\n",
              "</style>\n",
              "<table border=\"1\" class=\"dataframe\">\n",
              "  <thead>\n",
              "    <tr style=\"text-align: right;\">\n",
              "      <th></th>\n",
              "      <th>Item Purchased</th>\n",
              "      <th>Cost</th>\n",
              "    </tr>\n",
              "  </thead>\n",
              "  <tbody>\n",
              "    <tr>\n",
              "      <th>Store 2</th>\n",
              "      <td>Bird Seed</td>\n",
              "      <td>5.0</td>\n",
              "    </tr>\n",
              "  </tbody>\n",
              "</table>\n",
              "</div>"
            ],
            "text/plain": [
              "        Item Purchased  Cost\n",
              "Store 2      Bird Seed   5.0"
            ]
          },
          "metadata": {
            "tags": []
          },
          "execution_count": 79
        }
      ]
    },
    {
      "cell_type": "code",
      "metadata": {
        "id": "v7w5pfx--Hpr",
        "colab_type": "code",
        "colab": {
          "base_uri": "https://localhost:8080/",
          "height": 34
        },
        "outputId": "1bc367f4-f77c-4b22-943b-e34acb18b66a"
      },
      "source": [
        "#Crear Variable\n",
        "df['Location'] = None\n",
        "d"
      ],
      "execution_count": 80,
      "outputs": [
        {
          "output_type": "execute_result",
          "data": {
            "text/plain": [
              "1.145455"
            ]
          },
          "metadata": {
            "tags": []
          },
          "execution_count": 80
        }
      ]
    },
    {
      "cell_type": "markdown",
      "metadata": {
        "id": "Mv9tunTM-SSC",
        "colab_type": "text"
      },
      "source": [
        "# **Importar Archivos**"
      ]
    },
    {
      "cell_type": "code",
      "metadata": {
        "id": "v2oqEb0i-VOZ",
        "colab_type": "code",
        "colab": {
          "base_uri": "https://localhost:8080/",
          "height": 195
        },
        "outputId": "e9164921-112f-48b5-a635-74f2456d9571"
      },
      "source": [
        "#Importar csv\n",
        "df = pd.read_csv(r'olympics.csv')\n",
        "df.head()"
      ],
      "execution_count": 82,
      "outputs": [
        {
          "output_type": "execute_result",
          "data": {
            "text/html": [
              "<div>\n",
              "<style scoped>\n",
              "    .dataframe tbody tr th:only-of-type {\n",
              "        vertical-align: middle;\n",
              "    }\n",
              "\n",
              "    .dataframe tbody tr th {\n",
              "        vertical-align: top;\n",
              "    }\n",
              "\n",
              "    .dataframe thead th {\n",
              "        text-align: right;\n",
              "    }\n",
              "</style>\n",
              "<table border=\"1\" class=\"dataframe\">\n",
              "  <thead>\n",
              "    <tr style=\"text-align: right;\">\n",
              "      <th></th>\n",
              "      <th>0</th>\n",
              "      <th>1</th>\n",
              "      <th>2</th>\n",
              "      <th>3</th>\n",
              "      <th>4</th>\n",
              "      <th>5</th>\n",
              "      <th>6</th>\n",
              "      <th>7</th>\n",
              "      <th>8</th>\n",
              "      <th>9</th>\n",
              "      <th>10</th>\n",
              "      <th>11</th>\n",
              "      <th>12</th>\n",
              "      <th>13</th>\n",
              "      <th>14</th>\n",
              "      <th>15</th>\n",
              "    </tr>\n",
              "  </thead>\n",
              "  <tbody>\n",
              "    <tr>\n",
              "      <th>0</th>\n",
              "      <td>NaN</td>\n",
              "      <td>№ Summer</td>\n",
              "      <td>01 !</td>\n",
              "      <td>02 !</td>\n",
              "      <td>03 !</td>\n",
              "      <td>Total</td>\n",
              "      <td>№ Winter</td>\n",
              "      <td>01 !</td>\n",
              "      <td>02 !</td>\n",
              "      <td>03 !</td>\n",
              "      <td>Total</td>\n",
              "      <td>№ Games</td>\n",
              "      <td>01 !</td>\n",
              "      <td>02 !</td>\n",
              "      <td>03 !</td>\n",
              "      <td>Combined total</td>\n",
              "    </tr>\n",
              "    <tr>\n",
              "      <th>1</th>\n",
              "      <td>Afghanistan (AFG)</td>\n",
              "      <td>13</td>\n",
              "      <td>0</td>\n",
              "      <td>0</td>\n",
              "      <td>2</td>\n",
              "      <td>2</td>\n",
              "      <td>0</td>\n",
              "      <td>0</td>\n",
              "      <td>0</td>\n",
              "      <td>0</td>\n",
              "      <td>0</td>\n",
              "      <td>13</td>\n",
              "      <td>0</td>\n",
              "      <td>0</td>\n",
              "      <td>2</td>\n",
              "      <td>2</td>\n",
              "    </tr>\n",
              "    <tr>\n",
              "      <th>2</th>\n",
              "      <td>Algeria (ALG)</td>\n",
              "      <td>12</td>\n",
              "      <td>5</td>\n",
              "      <td>2</td>\n",
              "      <td>8</td>\n",
              "      <td>15</td>\n",
              "      <td>3</td>\n",
              "      <td>0</td>\n",
              "      <td>0</td>\n",
              "      <td>0</td>\n",
              "      <td>0</td>\n",
              "      <td>15</td>\n",
              "      <td>5</td>\n",
              "      <td>2</td>\n",
              "      <td>8</td>\n",
              "      <td>15</td>\n",
              "    </tr>\n",
              "    <tr>\n",
              "      <th>3</th>\n",
              "      <td>Argentina (ARG)</td>\n",
              "      <td>23</td>\n",
              "      <td>18</td>\n",
              "      <td>24</td>\n",
              "      <td>28</td>\n",
              "      <td>70</td>\n",
              "      <td>18</td>\n",
              "      <td>0</td>\n",
              "      <td>0</td>\n",
              "      <td>0</td>\n",
              "      <td>0</td>\n",
              "      <td>41</td>\n",
              "      <td>18</td>\n",
              "      <td>24</td>\n",
              "      <td>28</td>\n",
              "      <td>70</td>\n",
              "    </tr>\n",
              "    <tr>\n",
              "      <th>4</th>\n",
              "      <td>Armenia (ARM)</td>\n",
              "      <td>5</td>\n",
              "      <td>1</td>\n",
              "      <td>2</td>\n",
              "      <td>9</td>\n",
              "      <td>12</td>\n",
              "      <td>6</td>\n",
              "      <td>0</td>\n",
              "      <td>0</td>\n",
              "      <td>0</td>\n",
              "      <td>0</td>\n",
              "      <td>11</td>\n",
              "      <td>1</td>\n",
              "      <td>2</td>\n",
              "      <td>9</td>\n",
              "      <td>12</td>\n",
              "    </tr>\n",
              "  </tbody>\n",
              "</table>\n",
              "</div>"
            ],
            "text/plain": [
              "                   0         1     2     3  ...    12    13    14              15\n",
              "0                NaN  № Summer  01 !  02 !  ...  01 !  02 !  03 !  Combined total\n",
              "1  Afghanistan (AFG)        13     0     0  ...     0     0     2               2\n",
              "2      Algeria (ALG)        12     5     2  ...     5     2     8              15\n",
              "3    Argentina (ARG)        23    18    24  ...    18    24    28              70\n",
              "4      Armenia (ARM)         5     1     2  ...     1     2     9              12\n",
              "\n",
              "[5 rows x 16 columns]"
            ]
          },
          "metadata": {
            "tags": []
          },
          "execution_count": 82
        }
      ]
    },
    {
      "cell_type": "code",
      "metadata": {
        "id": "9TTNc1Rl-da0",
        "colab_type": "code",
        "colab": {
          "base_uri": "https://localhost:8080/",
          "height": 195
        },
        "outputId": "8b53d899-7f1f-4aa8-d4aa-9f17fd8f0d66"
      },
      "source": [
        "# Importar Excle xlsx\n",
        "df = pd.read_excel(r'example.xlsx', sheet_name='example')\n",
        "df.head(5)"
      ],
      "execution_count": 83,
      "outputs": [
        {
          "output_type": "execute_result",
          "data": {
            "text/html": [
              "<div>\n",
              "<style scoped>\n",
              "    .dataframe tbody tr th:only-of-type {\n",
              "        vertical-align: middle;\n",
              "    }\n",
              "\n",
              "    .dataframe tbody tr th {\n",
              "        vertical-align: top;\n",
              "    }\n",
              "\n",
              "    .dataframe thead th {\n",
              "        text-align: right;\n",
              "    }\n",
              "</style>\n",
              "<table border=\"1\" class=\"dataframe\">\n",
              "  <thead>\n",
              "    <tr style=\"text-align: right;\">\n",
              "      <th></th>\n",
              "      <th>Unnamed: 0</th>\n",
              "      <th>first_name</th>\n",
              "      <th>last_name</th>\n",
              "      <th>age</th>\n",
              "      <th>amount_1</th>\n",
              "      <th>amount_2</th>\n",
              "    </tr>\n",
              "  </thead>\n",
              "  <tbody>\n",
              "    <tr>\n",
              "      <th>0</th>\n",
              "      <td>0</td>\n",
              "      <td>Sigrid</td>\n",
              "      <td>Mannock</td>\n",
              "      <td>27</td>\n",
              "      <td>7.17</td>\n",
              "      <td>8.06</td>\n",
              "    </tr>\n",
              "    <tr>\n",
              "      <th>1</th>\n",
              "      <td>1</td>\n",
              "      <td>Joe</td>\n",
              "      <td>Hinners</td>\n",
              "      <td>31</td>\n",
              "      <td>1.90</td>\n",
              "      <td>?</td>\n",
              "    </tr>\n",
              "    <tr>\n",
              "      <th>2</th>\n",
              "      <td>2</td>\n",
              "      <td>Theodoric</td>\n",
              "      <td>Rivers</td>\n",
              "      <td>36</td>\n",
              "      <td>1.11</td>\n",
              "      <td>5.9</td>\n",
              "    </tr>\n",
              "    <tr>\n",
              "      <th>3</th>\n",
              "      <td>3</td>\n",
              "      <td>Kennedy</td>\n",
              "      <td>Donnell</td>\n",
              "      <td>53</td>\n",
              "      <td>1.41</td>\n",
              "      <td>?</td>\n",
              "    </tr>\n",
              "    <tr>\n",
              "      <th>4</th>\n",
              "      <td>4</td>\n",
              "      <td>Beatrix</td>\n",
              "      <td>Parlett</td>\n",
              "      <td>48</td>\n",
              "      <td>6.69</td>\n",
              "      <td>?</td>\n",
              "    </tr>\n",
              "  </tbody>\n",
              "</table>\n",
              "</div>"
            ],
            "text/plain": [
              "   Unnamed: 0 first_name last_name  age  amount_1 amount_2\n",
              "0           0     Sigrid   Mannock   27      7.17     8.06\n",
              "1           1        Joe   Hinners   31      1.90        ?\n",
              "2           2  Theodoric    Rivers   36      1.11      5.9\n",
              "3           3    Kennedy   Donnell   53      1.41        ?\n",
              "4           4    Beatrix   Parlett   48      6.69        ?"
            ]
          },
          "metadata": {
            "tags": []
          },
          "execution_count": 83
        }
      ]
    },
    {
      "cell_type": "code",
      "metadata": {
        "id": "a_-IlYzP-_BF",
        "colab_type": "code",
        "colab": {}
      },
      "source": [
        ""
      ],
      "execution_count": 0,
      "outputs": []
    }
  ]
}